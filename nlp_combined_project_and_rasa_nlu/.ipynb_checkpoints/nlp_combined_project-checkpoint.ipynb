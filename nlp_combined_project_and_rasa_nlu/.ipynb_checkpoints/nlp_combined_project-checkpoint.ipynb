{
 "cells": [
  {
   "cell_type": "code",
   "execution_count": 1,
   "metadata": {},
   "outputs": [],
   "source": [
    "%matplotlib inline\n",
    "\n",
    "import logging, io, json, warnings\n",
    "logging.basicConfig(level=\"INFO\")\n",
    "warnings.filterwarnings('ignore')\n",
    "\n",
    "def pprint(o):\n",
    "    # small helper to make dict dumps a bit prettier\n",
    "    print(json.dumps(o, indent=2))"
   ]
  },
  {
   "cell_type": "code",
   "execution_count": 2,
   "metadata": {},
   "outputs": [
    {
     "name": "stdout",
     "output_type": "stream",
     "text": [
      "Requirement already satisfied: en_core_web_md==2.0.0 from https://github.com/explosion/spacy-models/releases/download/en_core_web_md-2.0.0/en_core_web_md-2.0.0.tar.gz#egg=en_core_web_md==2.0.0 in c:\\users\\home\\anaconda2\\envs\\tensorflow\\lib\\site-packages (2.0.0)\n",
      "symbolic link created for C:\\Users\\Home\\Anaconda2\\envs\\tensorflow\\lib\\site-packages\\spacy\\data\\en_core_web_md <<===>> C:\\Users\\Home\\Anaconda2\\envs\\tensorflow\\lib\\site-packages\\en_core_web_md\n",
      "\n",
      "    Linking successful\n",
      "    C:\\Users\\Home\\Anaconda2\\envs\\tensorflow\\lib\\site-packages\\en_core_web_md\n",
      "    -->\n",
      "    C:\\Users\\Home\\Anaconda2\\envs\\tensorflow\\lib\\site-packages\\spacy\\data\\en_core_web_md\n",
      "\n",
      "    You can now load the model via spacy.load('en_core_web_md')\n",
      "\n"
     ]
    },
    {
     "name": "stderr",
     "output_type": "stream",
     "text": [
      "usage: spacy link [-h] [-f] origin link_name [model_path]\n",
      "spacy link: error: unrecognized arguments: --force;\n"
     ]
    }
   ],
   "source": [
    "import sys\n",
    "python = sys.executable\n",
    "\n",
    "# as well as install a language model:\n",
    "!{python} -m spacy download en_core_web_md\n",
    "!{python} -m spacy link en_core_web_md en --force;"
   ]
  },
  {
   "cell_type": "code",
   "execution_count": 3,
   "metadata": {
    "scrolled": true
   },
   "outputs": [
    {
     "name": "stdout",
     "output_type": "stream",
     "text": [
      "rasa_nlu: 0.11.5 rasa_core: 0.10.3\n",
      "Loading spaCy language model...\n",
      "Hello world!\n"
     ]
    }
   ],
   "source": [
    "import rasa_nlu\n",
    "import rasa_core\n",
    "import spacy\n",
    "\n",
    "print(\"rasa_nlu: {} rasa_core: {}\".format(rasa_nlu.__version__, rasa_core.__version__))\n",
    "print(\"Loading spaCy language model...\")\n",
    "print(spacy.load(\"en\")(\"Hello world!\"))"
   ]
  },
  {
   "cell_type": "code",
   "execution_count": 4,
   "metadata": {},
   "outputs": [
    {
     "name": "stdout",
     "output_type": "stream",
     "text": [
      "Writing 'nlu_md' (str) to file 'nlu.md'.\n"
     ]
    }
   ],
   "source": [
    "nlu_md = \"\"\"\n",
    "## intent:greet\n",
    "- hey\n",
    "- hello there\n",
    "- hi\n",
    "- hello there\n",
    "- good morning\n",
    "- good evening\n",
    "- moin\n",
    "- hey there\n",
    "- let's go\n",
    "- hey dude\n",
    "- goodmorning\n",
    "- goodevening\n",
    "- good afternoon\n",
    "\n",
    "## intent:goodbye\n",
    "- cu\n",
    "- good by\n",
    "- cee you later\n",
    "- good night\n",
    "- good afternoon\n",
    "- bye\n",
    "- goodbye\n",
    "- have a nice day\n",
    "- see you around\n",
    "- bye bye\n",
    "- see you later\n",
    "\n",
    "## intent:mood_affirm\n",
    "- yes\n",
    "- indeed\n",
    "- of course\n",
    "- that sounds good\n",
    "- correct\n",
    "\n",
    "## intent:mood_deny\n",
    "- no\n",
    "- never\n",
    "- I don't think so\n",
    "- don't like that\n",
    "- no way\n",
    "- not really\n",
    "\n",
    "## intent:mood_great\n",
    "- perfect\n",
    "- very good\n",
    "- great\n",
    "- amazing\n",
    "- feeling like a king\n",
    "- wonderful\n",
    "- I am feeling very good\n",
    "- I am great\n",
    "- I am amazing\n",
    "- I am going to save the world\n",
    "- super\n",
    "- extremely good\n",
    "- so so perfect\n",
    "- so good\n",
    "- so perfect\n",
    "\n",
    "## intent:mood_unhappy\n",
    "- my day was horrible\n",
    "- I am sad\n",
    "- I don't feel very well\n",
    "- I am disappointed\n",
    "- super sad\n",
    "- I'm so sad\n",
    "- sad\n",
    "- very sad\n",
    "- unhappy\n",
    "- bad\n",
    "- very bad\n",
    "- awful\n",
    "- terrible\n",
    "- not so good\n",
    "- not very good\n",
    "- extremly sad\n",
    "- so saad\n",
    "- Quite bad - can I get a cute picture of a [bird](group:birds), please?\n",
    "- Really bad and only [doggo](group:shibes) pics and change that.\n",
    "- Not good. The only thing that could make me fell better is a picture of a cute [kitten](group:cats).\n",
    "- so sad. Only the picture of a [puppy](group:shibes) could make it better.\n",
    "- I am very sad. I need a [cat](group:cats) picture.\n",
    "- Extremely sad. Only the cute [doggo](group:shibes) pics can make me feel better.\n",
    "- Bad. Please show me a [bird](group:birds) pic!\n",
    "- Pretty bad to be honest. Can you show me a [puppy](group:shibes) picture to make me fell better?\n",
    "\n",
    "## intent: inform\n",
    "- A [dog](group:shibes)\n",
    "- [dog](group:shibes)\n",
    "- [bird](group:birds)\n",
    "- a [cat](group:cats)\n",
    "- [cat](group:cats)\n",
    "- a [bird](group:birds)\n",
    "- of a [dog](group:shibes)\n",
    "- of a [cat](group:cats)\n",
    "- a [bird](group:birds), please\n",
    "- a [dog](group:shibes), please\n",
    "\"\"\"\n",
    "\n",
    "%store nlu_md > nlu.md"
   ]
  },
  {
   "cell_type": "code",
   "execution_count": 5,
   "metadata": {},
   "outputs": [],
   "source": [
    "import yaml\n"
   ]
  },
  {
   "cell_type": "code",
   "execution_count": 6,
   "metadata": {},
   "outputs": [
    {
     "name": "stdout",
     "output_type": "stream",
     "text": [
      "Writing 'config' (str) to file 'config.json'.\n"
     ]
    }
   ],
   "source": [
    "config = \"\"\"\n",
    "{\n",
    "\"language\": \"en\", \n",
    "\"pipeline\": \"spacy_sklearn\"\n",
    "}\n",
    "\"\"\"\n",
    "\n",
    "%store config > config.json"
   ]
  },
  {
   "cell_type": "code",
   "execution_count": 7,
   "metadata": {},
   "outputs": [
    {
     "name": "stderr",
     "output_type": "stream",
     "text": [
      "INFO:rasa_nlu.converters:Training data format at nlu.md is md\n",
      "INFO:rasa_nlu.training_data:Training data stats: \n",
      "\t- intent examples: 85 (7 distinct intents)\n",
      "\t- found intents: 'goodbye', 'greet', 'inform', 'mood_affirm', 'mood_deny', 'mood_great', 'mood_unhappy'\n",
      "\t- entity examples: 18 (1 distinct entities)\n",
      "\t- found entities: 'group'\n",
      "\n",
      "INFO:rasa_nlu.utils.spacy_utils:Trying to load spacy model with name 'en'\n",
      "INFO:rasa_nlu.components:Added 'nlp_spacy' to component cache. Key 'nlp_spacy-en'.\n",
      "INFO:rasa_nlu.model:Starting to train component nlp_spacy\n",
      "INFO:rasa_nlu.model:Finished training component.\n",
      "INFO:rasa_nlu.model:Starting to train component tokenizer_spacy\n",
      "INFO:rasa_nlu.model:Finished training component.\n",
      "INFO:rasa_nlu.model:Starting to train component intent_featurizer_spacy\n",
      "INFO:rasa_nlu.model:Finished training component.\n",
      "INFO:rasa_nlu.model:Starting to train component intent_entity_featurizer_regex\n",
      "INFO:rasa_nlu.model:Finished training component.\n",
      "INFO:rasa_nlu.model:Starting to train component ner_crf\n",
      "INFO:rasa_nlu.model:Finished training component.\n",
      "INFO:rasa_nlu.model:Starting to train component ner_synonyms\n",
      "INFO:rasa_nlu.model:Finished training component.\n",
      "INFO:rasa_nlu.model:Starting to train component intent_classifier_sklearn\n"
     ]
    },
    {
     "name": "stdout",
     "output_type": "stream",
     "text": [
      "Fitting 2 folds for each of 6 candidates, totalling 12 fits\n"
     ]
    },
    {
     "name": "stderr",
     "output_type": "stream",
     "text": [
      "[Parallel(n_jobs=1)]: Done  12 out of  12 | elapsed:    0.1s finished\n",
      "INFO:rasa_nlu.model:Finished training component.\n",
      "INFO:rasa_nlu.model:Successfully saved model into 'C:\\Users\\Home\\nlp_combined_project\\models\\nlu\\default\\current'\n"
     ]
    }
   ],
   "source": [
    "from rasa_nlu.converters import load_data\n",
    "from rasa_nlu.config import RasaNLUConfig\n",
    "from rasa_nlu.model import Trainer\n",
    "from rasa_nlu.model import Metadata, Interpreter\n",
    "\n",
    "# loading the nlu training samples\n",
    "training_data = load_data('nlu.md')\n",
    "\n",
    "# trainer to educate our pipeline\n",
    "trainer = Trainer(RasaNLUConfig('config.json'))\n",
    "\n",
    "# train the model!\n",
    "interpreter = trainer.train(training_data)\n",
    "\n",
    "# store it for future use\n",
    "model_directory = trainer.persist(\"./models/nlu\", fixed_model_name=\"current\")"
   ]
  },
  {
   "cell_type": "code",
   "execution_count": 8,
   "metadata": {},
   "outputs": [
    {
     "name": "stderr",
     "output_type": "stream",
     "text": [
      "C:\\Users\\Home\\Anaconda2\\envs\\tensorflow\\lib\\site-packages\\sklearn\\preprocessing\\label.py:151: DeprecationWarning: The truth value of an empty array is ambiguous. Returning False, but in future this will result in an error. Use `array.size > 0` to check that an array is not empty.\n",
      "  if diff:\n"
     ]
    },
    {
     "name": "stdout",
     "output_type": "stream",
     "text": [
      "{'intent': {'name': 'mood_unhappy', 'confidence': 0.4920102315915817}, 'entities': [{'start': 40, 'end': 43, 'value': 'shibes', 'entity': 'group', 'extractor': 'ner_crf', 'processors': ['ner_synonyms']}], 'intent_ranking': [{'name': 'mood_unhappy', 'confidence': 0.4920102315915817}, {'name': 'goodbye', 'confidence': 0.15873745561378058}, {'name': 'mood_great', 'confidence': 0.10669776342992669}, {'name': 'inform', 'confidence': 0.09362963032213877}, {'name': 'greet', 'confidence': 0.08047219337239792}, {'name': 'mood_affirm', 'confidence': 0.048244695375581265}, {'name': 'mood_deny', 'confidence': 0.02020803029459333}], 'text': 'I am sad, plased send me a picture of a dog'}\n"
     ]
    }
   ],
   "source": [
    "print(interpreter.parse(\"I am sad, plased send me a picture of a dog\"))"
   ]
  },
  {
   "cell_type": "code",
   "execution_count": 9,
   "metadata": {},
   "outputs": [
    {
     "data": {
      "text/plain": [
       "'0.11.5'"
      ]
     },
     "execution_count": 9,
     "metadata": {},
     "output_type": "execute_result"
    }
   ],
   "source": [
    "rasa_nlu.__version__"
   ]
  },
  {
   "cell_type": "code",
   "execution_count": 10,
   "metadata": {},
   "outputs": [
    {
     "data": {
      "text/plain": [
       "'0.10.3'"
      ]
     },
     "execution_count": 10,
     "metadata": {},
     "output_type": "execute_result"
    }
   ],
   "source": [
    "rasa_core.__version__"
   ]
  },
  {
   "cell_type": "code",
   "execution_count": 12,
   "metadata": {},
   "outputs": [
    {
     "name": "stdout",
     "output_type": "stream",
     "text": [
      "Your bot is ready to talk! Type your messages here or send 'stop'\n",
      "-----------------------------------------------------------------\n",
      "\n",
      "\n",
      "\n",
      "\n",
      " user: \n",
      "hi\n",
      "\n",
      "\n",
      " chatbot agent: \n",
      "hello\n",
      "\n",
      "\n",
      " user: \n",
      "stop\n"
     ]
    }
   ],
   "source": [
    "print(\"Your bot is ready to talk! Type your messages here or send 'stop'\")\n",
    "print(\"-----------------------------------------------------------------\\n\\n\")\n",
    "while True:\n",
    "    \n",
    "    print(\"\\n\\n user: \") \n",
    "    a = input()\n",
    "    if a == 'stop':\n",
    "        break\n",
    "        \n",
    "    print(\"\\n\\n chatbot agent: \") \n",
    "    responses = input()\n",
    "    "
   ]
  },
  {
   "cell_type": "code",
   "execution_count": 13,
   "metadata": {},
   "outputs": [],
   "source": [
    "import os\n",
    "\n",
    "os.environ[\"KERAS_BACKEND\"] = \"tensorflow\""
   ]
  },
  {
   "cell_type": "code",
   "execution_count": 14,
   "metadata": {},
   "outputs": [
    {
     "name": "stderr",
     "output_type": "stream",
     "text": [
      "2019-03-06 06:46:27.947 DEBUG in 'urllib3.connectionpool'['connectionpool'] at line 208: Starting new HTTP connection (1): files.deeppavlov.ai\n",
      "2019-03-06 06:46:29.104 DEBUG in 'urllib3.connectionpool'['connectionpool'] at line 396: http://files.deeppavlov.ai:80 \"GET /datasets/snips_intents/train.csv.md5 HTTP/1.1\" 200 44\n",
      "2019-03-06 06:46:29.151 INFO in 'deeppavlov.download'['download'] at line 115: Skipped http://files.deeppavlov.ai/datasets/snips_intents/train.csv download because of matching hashes\n",
      "2019-03-06 06:46:29.166 DEBUG in 'urllib3.connectionpool'['connectionpool'] at line 208: Starting new HTTP connection (1): files.deeppavlov.ai\n",
      "2019-03-06 06:46:29.557 DEBUG in 'urllib3.connectionpool'['connectionpool'] at line 396: http://files.deeppavlov.ai:80 \"GET /deeppavlov_data/embeddings/dstc2_fastText_model.bin.md5 HTTP/1.1\" 200 59\n",
      "2019-03-06 06:46:29.573 DEBUG in 'urllib3.connectionpool'['connectionpool'] at line 208: Starting new HTTP connection (1): files.deeppavlov.ai\n",
      "2019-03-06 06:46:30.21 DEBUG in 'urllib3.connectionpool'['connectionpool'] at line 396: http://files.deeppavlov.ai:80 \"GET /deeppavlov_data/embeddings/dstc2_fastText_model.bin HTTP/1.1\" 200 800203996\n",
      "2019-03-06 06:46:30.36 INFO in 'deeppavlov.core.data.utils'['utils'] at line 64: Downloading from http://files.deeppavlov.ai/deeppavlov_data/embeddings/dstc2_fastText_model.bin to C:\\Users\\Home\\.deeppavlov\\downloads\\embeddings\\dstc2_fastText_model.bin\n",
      "100%|███████████████████████████████████████| 800M/800M [02:47<00:00, 4.78MB/s]\n",
      "2019-03-06 06:49:17.514 DEBUG in 'urllib3.connectionpool'['connectionpool'] at line 208: Starting new HTTP connection (1): files.deeppavlov.ai\n",
      "2019-03-06 06:49:17.920 DEBUG in 'urllib3.connectionpool'['connectionpool'] at line 396: http://files.deeppavlov.ai:80 \"GET /deeppavlov_data/classifiers/intents_snips_v9.tar.gz.md5 HTTP/1.1\" 200 190\n",
      "2019-03-06 06:49:18.30 INFO in 'deeppavlov.download'['download'] at line 115: Skipped http://files.deeppavlov.ai/deeppavlov_data/classifiers/intents_snips_v9.tar.gz download because of matching hashes\n",
      "2019-03-06 06:49:18.45 INFO in 'deeppavlov.core.data.simple_vocab'['simple_vocab'] at line 103: [loading vocabulary from C:\\Users\\Home\\.deeppavlov\\models\\classifiers\\intents_snips_v9\\classes.dict]\n",
      "[nltk_data] Downloading package punkt to\n",
      "[nltk_data]     C:\\Users\\Home\\AppData\\Roaming\\nltk_data...\n",
      "[nltk_data]   Package punkt is already up-to-date!\n",
      "[nltk_data] Downloading package stopwords to\n",
      "[nltk_data]     C:\\Users\\Home\\AppData\\Roaming\\nltk_data...\n",
      "[nltk_data]   Package stopwords is already up-to-date!\n",
      "[nltk_data] Downloading package perluniprops to\n",
      "[nltk_data]     C:\\Users\\Home\\AppData\\Roaming\\nltk_data...\n",
      "[nltk_data]   Package perluniprops is already up-to-date!\n",
      "[nltk_data] Downloading package nonbreaking_prefixes to\n",
      "[nltk_data]     C:\\Users\\Home\\AppData\\Roaming\\nltk_data...\n",
      "[nltk_data]   Package nonbreaking_prefixes is already up-to-date!\n",
      "2019-03-06 06:49:50.15 INFO in 'deeppavlov.models.embedders.fasttext_embedder'['fasttext_embedder'] at line 52: [loading fastText embeddings from `C:\\Users\\Home\\.deeppavlov\\downloads\\embeddings\\dstc2_fastText_model.bin`]\n",
      "Using TensorFlow backend.\n",
      "2019-03-06 06:50:57.100 INFO in 'deeppavlov.models.classifiers.keras_classification_model'['keras_classification_model'] at line 303: [initializing `KerasClassificationModel` from saved]\n",
      "2019-03-06 06:50:57.959 INFO in 'deeppavlov.models.classifiers.keras_classification_model'['keras_classification_model'] at line 313: [loading weights from model.h5]\n",
      "2019-03-06 06:50:59.600 INFO in 'deeppavlov.models.classifiers.keras_classification_model'['keras_classification_model'] at line 137: Model was successfully initialized!\n",
      "Model summary:\n",
      "__________________________________________________________________________________________________\n",
      "Layer (type)                    Output Shape         Param #     Connected to                     \n",
      "==================================================================================================\n",
      "input_1 (InputLayer)            (None, None, 100)    0                                            \n",
      "__________________________________________________________________________________________________\n",
      "conv1d_1 (Conv1D)               (None, None, 256)    25856       input_1[0][0]                    \n",
      "__________________________________________________________________________________________________\n",
      "conv1d_2 (Conv1D)               (None, None, 256)    51456       input_1[0][0]                    \n",
      "__________________________________________________________________________________________________\n",
      "conv1d_3 (Conv1D)               (None, None, 256)    77056       input_1[0][0]                    \n",
      "__________________________________________________________________________________________________\n",
      "batch_normalization_1 (BatchNor (None, None, 256)    1024        conv1d_1[0][0]                   \n",
      "__________________________________________________________________________________________________\n",
      "batch_normalization_2 (BatchNor (None, None, 256)    1024        conv1d_2[0][0]                   \n",
      "__________________________________________________________________________________________________\n",
      "batch_normalization_3 (BatchNor (None, None, 256)    1024        conv1d_3[0][0]                   \n",
      "__________________________________________________________________________________________________\n",
      "activation_1 (Activation)       (None, None, 256)    0           batch_normalization_1[0][0]      \n",
      "__________________________________________________________________________________________________\n",
      "activation_2 (Activation)       (None, None, 256)    0           batch_normalization_2[0][0]      \n",
      "__________________________________________________________________________________________________\n",
      "activation_3 (Activation)       (None, None, 256)    0           batch_normalization_3[0][0]      \n",
      "__________________________________________________________________________________________________\n",
      "global_max_pooling1d_1 (GlobalM (None, 256)          0           activation_1[0][0]               \n",
      "__________________________________________________________________________________________________\n",
      "global_max_pooling1d_2 (GlobalM (None, 256)          0           activation_2[0][0]               \n",
      "__________________________________________________________________________________________________\n",
      "global_max_pooling1d_3 (GlobalM (None, 256)          0           activation_3[0][0]               \n",
      "__________________________________________________________________________________________________\n",
      "concatenate_1 (Concatenate)     (None, 768)          0           global_max_pooling1d_1[0][0]     \n",
      "                                                                 global_max_pooling1d_2[0][0]     \n",
      "                                                                 global_max_pooling1d_3[0][0]     \n",
      "__________________________________________________________________________________________________\n",
      "dropout_1 (Dropout)             (None, 768)          0           concatenate_1[0][0]              \n",
      "__________________________________________________________________________________________________\n",
      "dense_1 (Dense)                 (None, 100)          76900       dropout_1[0][0]                  \n",
      "__________________________________________________________________________________________________\n",
      "batch_normalization_4 (BatchNor (None, 100)          400         dense_1[0][0]                    \n",
      "__________________________________________________________________________________________________\n",
      "activation_4 (Activation)       (None, 100)          0           batch_normalization_4[0][0]      \n",
      "__________________________________________________________________________________________________\n",
      "dropout_2 (Dropout)             (None, 100)          0           activation_4[0][0]               \n",
      "__________________________________________________________________________________________________\n",
      "dense_2 (Dense)                 (None, 7)            707         dropout_2[0][0]                  \n",
      "__________________________________________________________________________________________________\n",
      "batch_normalization_5 (BatchNor (None, 7)            28          dense_2[0][0]                    \n",
      "__________________________________________________________________________________________________\n",
      "activation_5 (Activation)       (None, 7)            0           batch_normalization_5[0][0]      \n",
      "==================================================================================================\n",
      "Total params: 235,475\n",
      "Trainable params: 233,725\n",
      "Non-trainable params: 1,750\n"
     ]
    },
    {
     "name": "stderr",
     "output_type": "stream",
     "text": [
      "__________________________________________________________________________________________________\n"
     ]
    },
    {
     "name": "stdout",
     "output_type": "stream",
     "text": [
      "[['GetWeather']]\n"
     ]
    }
   ],
   "source": [
    "# Classification models in DeepPavlov\n",
    "\n",
    "from deeppavlov import build_model, configs\n",
    "\n",
    "CONFIG_PATH = configs.classifiers.intents_snips\n",
    "\n",
    "model = build_model(CONFIG_PATH, download=True)\n",
    "\n",
    "print(model([\"What is the weather in Boston today?\"]))"
   ]
  },
  {
   "cell_type": "code",
   "execution_count": 15,
   "metadata": {},
   "outputs": [],
   "source": [
    "import tensorflow\n",
    "tensorflow.Session().close()\n",
    "\n",
    "tensorflow.reset_default_graph()"
   ]
  },
  {
   "cell_type": "code",
   "execution_count": 16,
   "metadata": {},
   "outputs": [
    {
     "data": {
      "text/plain": [
       "5880"
      ]
     },
     "execution_count": 16,
     "metadata": {},
     "output_type": "execute_result"
    }
   ],
   "source": [
    "import gc\n",
    "gc.collect()"
   ]
  },
  {
   "cell_type": "code",
   "execution_count": 17,
   "metadata": {},
   "outputs": [
    {
     "name": "stderr",
     "output_type": "stream",
     "text": [
      "2019-03-06 06:51:22.969 INFO in 'deeppavlov.core.data.simple_vocab'['simple_vocab'] at line 103: [loading vocabulary from C:\\Users\\Home\\.deeppavlov\\models\\classifiers\\intents_snips_v9\\classes.dict]\n",
      "2019-03-06 06:51:22.984 INFO in 'deeppavlov.models.embedders.fasttext_embedder'['fasttext_embedder'] at line 52: [loading fastText embeddings from `C:\\Users\\Home\\.deeppavlov\\downloads\\embeddings\\dstc2_fastText_model.bin`]\n",
      "2019-03-06 06:52:39.819 INFO in 'deeppavlov.models.classifiers.keras_classification_model'['keras_classification_model'] at line 303: [initializing `KerasClassificationModel` from saved]\n",
      "2019-03-06 06:52:41.695 INFO in 'deeppavlov.models.classifiers.keras_classification_model'['keras_classification_model'] at line 313: [loading weights from model.h5]\n",
      "2019-03-06 06:52:47.804 INFO in 'deeppavlov.models.classifiers.keras_classification_model'['keras_classification_model'] at line 137: Model was successfully initialized!\n",
      "Model summary:\n",
      "__________________________________________________________________________________________________\n",
      "Layer (type)                    Output Shape         Param #     Connected to                     \n",
      "==================================================================================================\n",
      "input_1 (InputLayer)            (None, None, 100)    0                                            \n",
      "__________________________________________________________________________________________________\n",
      "conv1d_1 (Conv1D)               (None, None, 256)    25856       input_1[0][0]                    \n",
      "__________________________________________________________________________________________________\n",
      "conv1d_2 (Conv1D)               (None, None, 256)    51456       input_1[0][0]                    \n",
      "__________________________________________________________________________________________________\n",
      "conv1d_3 (Conv1D)               (None, None, 256)    77056       input_1[0][0]                    \n",
      "__________________________________________________________________________________________________\n",
      "batch_normalization_1 (BatchNor (None, None, 256)    1024        conv1d_1[0][0]                   \n",
      "__________________________________________________________________________________________________\n",
      "batch_normalization_2 (BatchNor (None, None, 256)    1024        conv1d_2[0][0]                   \n",
      "__________________________________________________________________________________________________\n",
      "batch_normalization_3 (BatchNor (None, None, 256)    1024        conv1d_3[0][0]                   \n",
      "__________________________________________________________________________________________________\n",
      "activation_1 (Activation)       (None, None, 256)    0           batch_normalization_1[0][0]      \n",
      "__________________________________________________________________________________________________\n",
      "activation_2 (Activation)       (None, None, 256)    0           batch_normalization_2[0][0]      \n",
      "__________________________________________________________________________________________________\n",
      "activation_3 (Activation)       (None, None, 256)    0           batch_normalization_3[0][0]      \n",
      "__________________________________________________________________________________________________\n",
      "global_max_pooling1d_1 (GlobalM (None, 256)          0           activation_1[0][0]               \n",
      "__________________________________________________________________________________________________\n",
      "global_max_pooling1d_2 (GlobalM (None, 256)          0           activation_2[0][0]               \n",
      "__________________________________________________________________________________________________\n",
      "global_max_pooling1d_3 (GlobalM (None, 256)          0           activation_3[0][0]               \n",
      "__________________________________________________________________________________________________\n",
      "concatenate_1 (Concatenate)     (None, 768)          0           global_max_pooling1d_1[0][0]     \n",
      "                                                                 global_max_pooling1d_2[0][0]     \n",
      "                                                                 global_max_pooling1d_3[0][0]     \n",
      "__________________________________________________________________________________________________\n",
      "dropout_1 (Dropout)             (None, 768)          0           concatenate_1[0][0]              \n",
      "__________________________________________________________________________________________________\n",
      "dense_1 (Dense)                 (None, 100)          76900       dropout_1[0][0]                  \n",
      "__________________________________________________________________________________________________\n",
      "batch_normalization_4 (BatchNor (None, 100)          400         dense_1[0][0]                    \n",
      "__________________________________________________________________________________________________\n",
      "activation_4 (Activation)       (None, 100)          0           batch_normalization_4[0][0]      \n",
      "__________________________________________________________________________________________________\n",
      "dropout_2 (Dropout)             (None, 100)          0           activation_4[0][0]               \n",
      "__________________________________________________________________________________________________\n",
      "dense_2 (Dense)                 (None, 7)            707         dropout_2[0][0]                  \n",
      "__________________________________________________________________________________________________\n",
      "batch_normalization_5 (BatchNor (None, 7)            28          dense_2[0][0]                    \n",
      "__________________________________________________________________________________________________\n",
      "activation_5 (Activation)       (None, 7)            0           batch_normalization_5[0][0]      \n",
      "==================================================================================================\n",
      "Total params: 235,475\n",
      "Trainable params: 233,725\n",
      "Non-trainable params: 1,750\n",
      "__________________________________________________________________________________________________\n"
     ]
    },
    {
     "name": "stdout",
     "output_type": "stream",
     "text": [
      "[['GetWeather']]\n"
     ]
    }
   ],
   "source": [
    "# Classification models in DeepPavlov\n",
    "\n",
    "from deeppavlov import build_model, configs\n",
    "\n",
    "#CONFIG_PATH = configs.classifiers.intents_snips\n",
    "\n",
    "\n",
    "gc.collect()\n",
    "model = build_model(\"intents_snips.json\")\n",
    "\n",
    "print(model([\"What is the weather in Boston today?\"]))\n",
    "\n",
    "\n",
    "\n"
   ]
  },
  {
   "cell_type": "code",
   "execution_count": 18,
   "metadata": {},
   "outputs": [],
   "source": [
    "from deeppavlov.skills.pattern_matching_skill import PatternMatchingSkill\n",
    "from deeppavlov.agents.default_agent.default_agent import DefaultAgent\n",
    "from deeppavlov.agents.processors.highest_confidence_selector import HighestConfidenceSelector"
   ]
  },
  {
   "cell_type": "code",
   "execution_count": 19,
   "metadata": {},
   "outputs": [],
   "source": [
    "hello = PatternMatchingSkill(responses=['Hello world!'], patterns=[\"hi\", \"hello\", \"good day\"])\n",
    "bye = PatternMatchingSkill(['Goodbye world!', 'See you around'],\n",
    "                           patterns=[\"bye\", \"chao\", \"see you\"])\n",
    "fallback = PatternMatchingSkill([\"I don't understand, sorry\", 'I can say \"Hello world!\"'])"
   ]
  },
  {
   "cell_type": "code",
   "execution_count": 20,
   "metadata": {},
   "outputs": [],
   "source": [
    "agent = DefaultAgent([hello, bye, fallback], skills_selector=HighestConfidenceSelector())"
   ]
  },
  {
   "cell_type": "code",
   "execution_count": 21,
   "metadata": {},
   "outputs": [
    {
     "data": {
      "text/plain": [
       "['Hello world!', 'See you around', 'Hello world!']"
      ]
     },
     "execution_count": 21,
     "metadata": {},
     "output_type": "execute_result"
    }
   ],
   "source": [
    "agent(['Hello', 'Bye', 'I can say \"Hello world!\"'])"
   ]
  },
  {
   "cell_type": "code",
   "execution_count": 22,
   "metadata": {},
   "outputs": [
    {
     "data": {
      "text/plain": [
       "['Hello world!', 'See you around', 'I can say \"Hello world!\"']"
      ]
     },
     "execution_count": 22,
     "metadata": {},
     "output_type": "execute_result"
    }
   ],
   "source": [
    "agent(['Hello', 'Bye', 'Or not'])"
   ]
  },
  {
   "cell_type": "code",
   "execution_count": 23,
   "metadata": {},
   "outputs": [
    {
     "name": "stderr",
     "output_type": "stream",
     "text": [
      "2019-03-06 06:55:48.785 INFO in 'deeppavlov.core.data.vocab'['vocab'] at line 175: [loading vocabulary from C:\\Users\\Home\\.deeppavlov\\models\\morpho_tagger\\UD2.0\\en\\tag.dict]\n",
      "2019-03-06 06:55:48.847 INFO in 'deeppavlov.core.data.vocab'['vocab'] at line 175: [loading vocabulary from C:\\Users\\Home\\.deeppavlov\\models\\morpho_tagger\\UD2.0\\en\\char.dict]\n",
      "2019-03-06 06:55:48.941 INFO in 'deeppavlov.models.morpho_tagger.network'['network'] at line 126: 82 symbols, 119 tags in CharacterTagger\n",
      "2019-03-06 06:55:50.144 INFO in 'deeppavlov.models.morpho_tagger.network'['layer_utils'] at line 106: __________________________________________________________________________________________________\n",
      "2019-03-06 06:55:50.160 INFO in 'deeppavlov.models.morpho_tagger.network'['layer_utils'] at line 104: Layer (type)                    Output Shape         Param #     Connected to                     \n",
      "2019-03-06 06:55:50.176 INFO in 'deeppavlov.models.morpho_tagger.network'['layer_utils'] at line 108: ==================================================================================================\n",
      "2019-03-06 06:55:50.191 INFO in 'deeppavlov.models.morpho_tagger.network'['layer_utils'] at line 104: input_1 (InputLayer)            (None, None, 32)     0                                            \n",
      "2019-03-06 06:55:50.191 INFO in 'deeppavlov.models.morpho_tagger.network'['layer_utils'] at line 170: __________________________________________________________________________________________________\n",
      "2019-03-06 06:55:50.207 INFO in 'deeppavlov.models.morpho_tagger.network'['layer_utils'] at line 104: lambda_1 (Lambda)               (None, None, 32, 82) 0           input_1[0][0]                    \n",
      "2019-03-06 06:55:50.222 INFO in 'deeppavlov.models.morpho_tagger.network'['layer_utils'] at line 170: __________________________________________________________________________________________________\n",
      "2019-03-06 06:55:50.222 INFO in 'deeppavlov.models.morpho_tagger.network'['layer_utils'] at line 104: dense_1 (Dense)                 (None, None, 32, 32) 2624        lambda_1[0][0]                   \n",
      "2019-03-06 06:55:50.238 INFO in 'deeppavlov.models.morpho_tagger.network'['layer_utils'] at line 170: __________________________________________________________________________________________________\n",
      "2019-03-06 06:55:50.238 INFO in 'deeppavlov.models.morpho_tagger.network'['layer_utils'] at line 104: conv2d_1 (Conv2D)               (None, None, 32, 50) 1650        dense_1[0][0]                    \n",
      "2019-03-06 06:55:50.238 INFO in 'deeppavlov.models.morpho_tagger.network'['layer_utils'] at line 170: __________________________________________________________________________________________________\n",
      "2019-03-06 06:55:50.254 INFO in 'deeppavlov.models.morpho_tagger.network'['layer_utils'] at line 104: conv2d_2 (Conv2D)               (None, None, 32, 100 6500        dense_1[0][0]                    \n",
      "2019-03-06 06:55:50.254 INFO in 'deeppavlov.models.morpho_tagger.network'['layer_utils'] at line 170: __________________________________________________________________________________________________\n",
      "2019-03-06 06:55:50.254 INFO in 'deeppavlov.models.morpho_tagger.network'['layer_utils'] at line 104: conv2d_3 (Conv2D)               (None, None, 32, 150 14550       dense_1[0][0]                    \n",
      "2019-03-06 06:55:50.269 INFO in 'deeppavlov.models.morpho_tagger.network'['layer_utils'] at line 170: __________________________________________________________________________________________________\n",
      "2019-03-06 06:55:50.285 INFO in 'deeppavlov.models.morpho_tagger.network'['layer_utils'] at line 104: conv2d_4 (Conv2D)               (None, None, 32, 200 25800       dense_1[0][0]                    \n",
      "2019-03-06 06:55:50.285 INFO in 'deeppavlov.models.morpho_tagger.network'['layer_utils'] at line 170: __________________________________________________________________________________________________\n",
      "2019-03-06 06:55:50.316 INFO in 'deeppavlov.models.morpho_tagger.network'['layer_utils'] at line 104: conv2d_5 (Conv2D)               (None, None, 32, 200 32200       dense_1[0][0]                    \n",
      "2019-03-06 06:55:50.316 INFO in 'deeppavlov.models.morpho_tagger.network'['layer_utils'] at line 170: __________________________________________________________________________________________________\n",
      "2019-03-06 06:55:50.332 INFO in 'deeppavlov.models.morpho_tagger.network'['layer_utils'] at line 104: conv2d_6 (Conv2D)               (None, None, 32, 200 38600       dense_1[0][0]                    \n",
      "2019-03-06 06:55:50.332 INFO in 'deeppavlov.models.morpho_tagger.network'['layer_utils'] at line 170: __________________________________________________________________________________________________\n",
      "2019-03-06 06:55:50.347 INFO in 'deeppavlov.models.morpho_tagger.network'['layer_utils'] at line 104: conv2d_7 (Conv2D)               (None, None, 32, 200 45000       dense_1[0][0]                    \n",
      "2019-03-06 06:55:50.363 INFO in 'deeppavlov.models.morpho_tagger.network'['layer_utils'] at line 170: __________________________________________________________________________________________________\n",
      "2019-03-06 06:55:50.363 INFO in 'deeppavlov.models.morpho_tagger.network'['layer_utils'] at line 104: concatenate_1 (Concatenate)     (None, None, 32, 110 0           conv2d_1[0][0]                   \n",
      "2019-03-06 06:55:50.379 INFO in 'deeppavlov.models.morpho_tagger.network'['layer_utils'] at line 104:                                                                  conv2d_2[0][0]                   \n",
      "2019-03-06 06:55:50.379 INFO in 'deeppavlov.models.morpho_tagger.network'['layer_utils'] at line 104:                                                                  conv2d_3[0][0]                   \n",
      "2019-03-06 06:55:50.379 INFO in 'deeppavlov.models.morpho_tagger.network'['layer_utils'] at line 104:                                                                  conv2d_4[0][0]                   \n",
      "2019-03-06 06:55:50.379 INFO in 'deeppavlov.models.morpho_tagger.network'['layer_utils'] at line 104:                                                                  conv2d_5[0][0]                   \n",
      "2019-03-06 06:55:50.394 INFO in 'deeppavlov.models.morpho_tagger.network'['layer_utils'] at line 104:                                                                  conv2d_6[0][0]                   \n",
      "2019-03-06 06:55:50.394 INFO in 'deeppavlov.models.morpho_tagger.network'['layer_utils'] at line 104:                                                                  conv2d_7[0][0]                   \n",
      "2019-03-06 06:55:50.410 INFO in 'deeppavlov.models.morpho_tagger.network'['layer_utils'] at line 170: __________________________________________________________________________________________________\n",
      "2019-03-06 06:55:50.410 INFO in 'deeppavlov.models.morpho_tagger.network'['layer_utils'] at line 104: lambda_2 (Lambda)               (None, None, 1100)   0           concatenate_1[0][0]              \n",
      "2019-03-06 06:55:50.410 INFO in 'deeppavlov.models.morpho_tagger.network'['layer_utils'] at line 170: __________________________________________________________________________________________________\n",
      "2019-03-06 06:55:50.426 INFO in 'deeppavlov.models.morpho_tagger.network'['layer_utils'] at line 104: highway_1 (Highway)             (None, None, 1100)   2422200     lambda_2[0][0]                   \n",
      "2019-03-06 06:55:50.426 INFO in 'deeppavlov.models.morpho_tagger.network'['layer_utils'] at line 170: __________________________________________________________________________________________________\n",
      "2019-03-06 06:55:50.426 INFO in 'deeppavlov.models.morpho_tagger.network'['layer_utils'] at line 104: dropout_1 (Dropout)             (None, None, 1100)   0           highway_1[0][0]                  \n",
      "2019-03-06 06:55:50.426 INFO in 'deeppavlov.models.morpho_tagger.network'['layer_utils'] at line 170: __________________________________________________________________________________________________\n",
      "2019-03-06 06:55:50.426 INFO in 'deeppavlov.models.morpho_tagger.network'['layer_utils'] at line 104: bidirectional_1 (Bidirectional) (None, None, 256)    1258496     dropout_1[0][0]                  \n",
      "2019-03-06 06:55:50.441 INFO in 'deeppavlov.models.morpho_tagger.network'['layer_utils'] at line 170: __________________________________________________________________________________________________\n",
      "2019-03-06 06:55:50.441 INFO in 'deeppavlov.models.morpho_tagger.network'['layer_utils'] at line 104: p (TimeDistributed)             (None, None, 119)    30583       bidirectional_1[0][0]            \n",
      "2019-03-06 06:55:50.441 INFO in 'deeppavlov.models.morpho_tagger.network'['layer_utils'] at line 168: ==================================================================================================\n",
      "2019-03-06 06:55:50.472 INFO in 'deeppavlov.models.morpho_tagger.network'['layer_utils'] at line 181: Total params: 3,878,203\n",
      "2019-03-06 06:55:50.472 INFO in 'deeppavlov.models.morpho_tagger.network'['layer_utils'] at line 182: Trainable params: 3,878,203\n",
      "2019-03-06 06:55:50.472 INFO in 'deeppavlov.models.morpho_tagger.network'['layer_utils'] at line 183: Non-trainable params: 0\n",
      "2019-03-06 06:55:50.472 INFO in 'deeppavlov.models.morpho_tagger.network'['layer_utils'] at line 184: __________________________________________________________________________________________________\n",
      "2019-03-06 06:55:50.488 INFO in 'deeppavlov.core.models.keras_model'['keras_model'] at line 144: [loading model from C:\\Users\\Home\\.deeppavlov\\models\\morpho_tagger\\UD2.0\\en\\model.hdf5]\n"
     ]
    }
   ],
   "source": [
    "gc.collect()\n",
    "\n",
    "from deeppavlov import build_model, configs\n",
    "model = build_model(\"morpho_en.json\")"
   ]
  },
  {
   "cell_type": "code",
   "execution_count": 24,
   "metadata": {},
   "outputs": [
    {
     "name": "stdout",
     "output_type": "stream",
     "text": [
      "1\tI\tPRON\tCase=Nom|Number=Sing|Person=1|PronType=Prs\n",
      "2\twas\tAUX\tMood=Ind|Number=Sing|Person=1|Tense=Past|VerbForm=Fin\n",
      "3\twalking\tVERB\tTense=Pres|VerbForm=Part\n",
      "4\thome\tADV\t_\n",
      "5\ton\tADP\t_\n",
      "6\tan\tDET\tDefinite=Ind|PronType=Art\n",
      "7\tunfamiliar\tADJ\tDegree=Pos\n",
      "8\tstreet\tNOUN\tNumber=Sing\n",
      "9\t.\tPUNCT\t_\n",
      "\n",
      "1\tThe\tDET\tDefinite=Def|PronType=Art\n",
      "2\tgirl\tNOUN\tNumber=Sing\n",
      "3\tsang\tNOUN\tNumber=Sing\n",
      "4\tin\tADP\t_\n",
      "5\tthe\tDET\tDefinite=Def|PronType=Art\n",
      "6\tchurch\tNOUN\tNumber=Sing\n",
      "7\tchoir\tNOUN\tNumber=Sing\n",
      "8\tabout\tADP\t_\n",
      "9\tall\tADV\t_\n",
      "10\ttired\tADJ\tDegree=Pos\n",
      "11\tin\tADP\t_\n",
      "12\ta\tDET\tDefinite=Ind|PronType=Art\n",
      "13\tstrange\tADJ\tDegree=Pos\n",
      "14\tland\tNOUN\tNumber=Sing\n",
      "15\t.\tPUNCT\t_\n",
      "\n"
     ]
    }
   ],
   "source": [
    "sentences = [\"I was walking home on an unfamiliar street.\", \"The girl sang in the church choir about all tired in a strange land.\"]\n",
    "for parse in model(sentences):\n",
    "    print(parse)"
   ]
  },
  {
   "cell_type": "code",
   "execution_count": 25,
   "metadata": {},
   "outputs": [
    {
     "name": "stdout",
     "output_type": "stream",
     "text": [
      "1\tI\tPRON\tCase=Nom|Number=Sing|Person=1|PronType=Prs\n",
      "2\twas\tAUX\tMood=Ind|Number=Sing|Person=1|Tense=Past|VerbForm=Fin\n",
      "3\twalking\tVERB\tTense=Pres|VerbForm=Part\n",
      "4\thome\tADV\t_\n",
      "5\ton\tADP\t_\n",
      "6\tan\tDET\tDefinite=Ind|PronType=Art\n",
      "7\tunfamiliar\tADJ\tDegree=Pos\n",
      "8\tstreet\tNOUN\tNumber=Sing\n",
      "9\t.\tPUNCT\t_\n",
      "\n"
     ]
    }
   ],
   "source": [
    "sentences = [[\"I\", \"was\", \"walking\", \"home\", \"on\", \"an\", \"unfamiliar\", \"street\", \".\"]]\n",
    "for parse in model(sentences):\n",
    "    print(parse)"
   ]
  },
  {
   "cell_type": "code",
   "execution_count": 26,
   "metadata": {},
   "outputs": [
    {
     "name": "stdout",
     "output_type": "stream",
     "text": [
      "~/.deeppavlov/downloads/ontonotes\n"
     ]
    }
   ],
   "source": [
    "from deeppavlov.core.commands.utils import parse_config\n",
    "config_dict = parse_config(configs.ner.ner_ontonotes)\n",
    "print(config_dict['dataset_reader']['data_path'])"
   ]
  },
  {
   "cell_type": "code",
   "execution_count": 27,
   "metadata": {},
   "outputs": [
    {
     "name": "stdout",
     "output_type": "stream",
     "text": [
      "Writing 'raw_corpus' (list) to file 'mycorpus.txt'.\n"
     ]
    }
   ],
   "source": [
    "\n",
    "raw_corpus = [\"Human machine interface for lab abc computer applications\",\n",
    "             \"A survey of user opinion of computer system response time\",\n",
    "             \"The EPS user interface management system\",\n",
    "             \"System and human system engineering testing of EPS\",              \n",
    "             \"Relation of user perceived response time to error measurement\",\n",
    "             \"The generation of random binary unordered trees\",\n",
    "             \"The intersection graph of paths in trees\",\n",
    "             \"Graph minors IV Widths of trees and well quasi ordering\",\n",
    "             \"Graph minors A survey\"]\n",
    "\n",
    "%store raw_corpus > mycorpus.txt"
   ]
  },
  {
   "cell_type": "code",
   "execution_count": 28,
   "metadata": {},
   "outputs": [
    {
     "data": {
      "text/plain": [
       "[['human', 'interface', 'computer'],\n",
       " ['survey', 'user', 'computer', 'system', 'response', 'time'],\n",
       " ['eps', 'user', 'interface', 'system'],\n",
       " ['system', 'human', 'system', 'eps'],\n",
       " ['user', 'response', 'time'],\n",
       " ['trees'],\n",
       " ['graph', 'trees'],\n",
       " ['graph', 'minors', 'trees'],\n",
       " ['graph', 'minors', 'survey']]"
      ]
     },
     "execution_count": 28,
     "metadata": {},
     "output_type": "execute_result"
    }
   ],
   "source": [
    "# Create a set of frequent words\n",
    "stoplist = set('for a of the and to in'.split(' '))\n",
    "# Lowercase each document, split it by white space and filter out stopwords\n",
    "texts = [[word for word in document.lower().split() if word not in stoplist]\n",
    "         for document in raw_corpus]\n",
    "\n",
    "# Count word frequencies\n",
    "from collections import defaultdict\n",
    "frequency = defaultdict(int)\n",
    "for text in texts:\n",
    "    for token in text:\n",
    "        frequency[token] += 1\n",
    "\n",
    "# Only keep words that appear more than once\n",
    "processed_corpus = [[token for token in text if frequency[token] > 1] for text in texts]\n",
    "processed_corpus"
   ]
  },
  {
   "cell_type": "code",
   "execution_count": 30,
   "metadata": {},
   "outputs": [
    {
     "name": "stderr",
     "output_type": "stream",
     "text": [
      "2019-03-06 07:06:48.520 INFO in 'gensim.corpora.dictionary'['dictionary'] at line 202: adding document #0 to Dictionary(0 unique tokens: [])\n",
      "2019-03-06 07:06:48.523 INFO in 'gensim.corpora.dictionary'['dictionary'] at line 209: built Dictionary(12 unique tokens: ['computer', 'human', 'interface', 'response', 'survey']...) from 9 documents (total 29 corpus positions)\n",
      "2019-03-06 07:06:48.527 INFO in 'gensim.utils'['utils'] at line 542: saving Dictionary object under TEMP_FOLDER\\deerwester.dict, separately None\n",
      "2019-03-06 07:06:48.531 DEBUG in 'smart_open.smart_open_lib'['smart_open_lib'] at line 176: {'kw': {}, 'mode': 'wb', 'uri': 'TEMP_FOLDER\\\\deerwester.dict'}\n",
      "2019-03-06 07:06:48.576 INFO in 'gensim.utils'['utils'] at line 556: saved TEMP_FOLDER\\deerwester.dict\n"
     ]
    },
    {
     "name": "stdout",
     "output_type": "stream",
     "text": [
      "Dictionary(12 unique tokens: ['computer', 'human', 'interface', 'response', 'survey']...)\n"
     ]
    }
   ],
   "source": [
    "from gensim import corpora\n",
    "\n",
    "dictionary = corpora.Dictionary(processed_corpus)\n",
    "dictionary.save(os.path.join(\"TEMP_FOLDER\", 'deerwester.dict'))  # store the dictionary, for future reference\n",
    "\n",
    "print(dictionary)"
   ]
  },
  {
   "cell_type": "code",
   "execution_count": 31,
   "metadata": {},
   "outputs": [
    {
     "name": "stdout",
     "output_type": "stream",
     "text": [
      "{'computer': 0, 'human': 1, 'interface': 2, 'response': 3, 'survey': 4, 'system': 5, 'time': 6, 'user': 7, 'eps': 8, 'trees': 9, 'graph': 10, 'minors': 11}\n"
     ]
    }
   ],
   "source": [
    "print(dictionary.token2id)"
   ]
  },
  {
   "cell_type": "code",
   "execution_count": 32,
   "metadata": {},
   "outputs": [
    {
     "data": {
      "text/plain": [
       "[(0, 1), (1, 1)]"
      ]
     },
     "execution_count": 32,
     "metadata": {},
     "output_type": "execute_result"
    }
   ],
   "source": [
    "new_doc = \"Human computer interaction\"\n",
    "new_vec = dictionary.doc2bow(new_doc.lower().split())\n",
    "new_vec"
   ]
  },
  {
   "cell_type": "code",
   "execution_count": 34,
   "metadata": {},
   "outputs": [
    {
     "name": "stdout",
     "output_type": "stream",
     "text": [
      "[[(0, 1), (1, 1), (2, 1)], [(0, 1), (3, 1), (4, 1), (5, 1), (6, 1), (7, 1)], [(2, 1), (5, 1), (7, 1), (8, 1)], [(1, 1), (5, 2), (8, 1)], [(3, 1), (6, 1), (7, 1)], [(9, 1)], [(9, 1), (10, 1)], [(9, 1), (10, 1), (11, 1)], [(4, 1), (10, 1), (11, 1)]]\n",
      "\n",
      "------------------------------------------------\n",
      "\n",
      "\n"
     ]
    },
    {
     "name": "stderr",
     "output_type": "stream",
     "text": [
      "2019-03-06 07:08:53.457 INFO in 'gensim.corpora.mmcorpus'['mmcorpus'] at line 122: storing corpus in Matrix Market format to TEMP_FOLDER1\\deerwester.mm\n",
      "2019-03-06 07:08:53.460 DEBUG in 'smart_open.smart_open_lib'['smart_open_lib'] at line 176: {'kw': {}, 'mode': 'wb+', 'uri': 'TEMP_FOLDER1\\\\deerwester.mm'}\n",
      "2019-03-06 07:08:53.464 INFO in 'gensim.matutils'['matutils'] at line 1244: saving sparse matrix to TEMP_FOLDER1\\deerwester.mm\n",
      "2019-03-06 07:08:53.468 INFO in 'gensim.matutils'['matutils'] at line 1356: PROGRESS: saving document #0\n",
      "2019-03-06 07:08:53.472 INFO in 'gensim.matutils'['matutils'] at line 1376: saved 9x12 matrix, density=25.926% (28/108)\n",
      "2019-03-06 07:08:53.485 DEBUG in 'gensim.matutils'['matutils'] at line 1398: closing TEMP_FOLDER1\\deerwester.mm\n",
      "2019-03-06 07:08:53.489 DEBUG in 'gensim.matutils'['matutils'] at line 1398: closing TEMP_FOLDER1\\deerwester.mm\n",
      "2019-03-06 07:08:53.492 INFO in 'gensim.corpora.indexedcorpus'['indexedcorpus'] at line 135: saving MmCorpus index to TEMP_FOLDER1\\deerwester.mm.index\n",
      "2019-03-06 07:08:53.494 DEBUG in 'smart_open.smart_open_lib'['smart_open_lib'] at line 176: {'kw': {}, 'mode': 'wb', 'uri': 'TEMP_FOLDER1\\\\deerwester.mm.index'}\n"
     ]
    },
    {
     "name": "stdout",
     "output_type": "stream",
     "text": [
      "[(0, 1), (1, 1), (2, 1)]\n",
      "[(0, 1), (3, 1), (4, 1), (5, 1), (6, 1), (7, 1)]\n",
      "[(2, 1), (5, 1), (7, 1), (8, 1)]\n",
      "[(1, 1), (5, 2), (8, 1)]\n",
      "[(3, 1), (6, 1), (7, 1)]\n",
      "[(9, 1)]\n",
      "[(9, 1), (10, 1)]\n",
      "[(9, 1), (10, 1), (11, 1)]\n",
      "[(4, 1), (10, 1), (11, 1)]\n"
     ]
    }
   ],
   "source": [
    "bow_corpus = [dictionary.doc2bow(text) for text in processed_corpus]\n",
    "print(bow_corpus)\n",
    "print(\"\\n------------------------------------------------\\n\\n\")\n",
    "\n",
    "corpora.MmCorpus.serialize(os.path.join(\"TEMP_FOLDER1\", 'deerwester.mm'), bow_corpus)  # store to disk, for later use\n",
    "\n",
    "for c in bow_corpus:\n",
    "    print(c)"
   ]
  },
  {
   "cell_type": "code",
   "execution_count": 35,
   "metadata": {},
   "outputs": [
    {
     "name": "stderr",
     "output_type": "stream",
     "text": [
      "2019-03-06 07:09:13.449 INFO in 'gensim.models.tfidfmodel'['tfidfmodel'] at line 378: collecting document frequencies\n",
      "2019-03-06 07:09:13.457 INFO in 'gensim.models.tfidfmodel'['tfidfmodel'] at line 384: PROGRESS: processing document #0\n",
      "2019-03-06 07:09:13.460 INFO in 'gensim.models.tfidfmodel'['tfidfmodel'] at line 396: calculating IDF weights for 9 documents and 11 features (28 matrix non-zeros)\n"
     ]
    },
    {
     "data": {
      "text/plain": [
       "[(5, 0.5898341626740045), (11, 0.8075244024440723)]"
      ]
     },
     "execution_count": 35,
     "metadata": {},
     "output_type": "execute_result"
    }
   ],
   "source": [
    "from gensim import models\n",
    "# train the model\n",
    "tfidf = models.TfidfModel(bow_corpus)\n",
    "# transform the \"system minors\" string\n",
    "tfidf[dictionary.doc2bow(\"system minors\".lower().split())]"
   ]
  },
  {
   "cell_type": "code",
   "execution_count": 36,
   "metadata": {},
   "outputs": [],
   "source": [
    "import logging\n",
    "logging.basicConfig(format='%(asctime)s : %(levelname)s : %(message)s', level=logging.INFO)"
   ]
  },
  {
   "cell_type": "code",
   "execution_count": 37,
   "metadata": {},
   "outputs": [
    {
     "name": "stdout",
     "output_type": "stream",
     "text": [
      "Folder \"C:\\Users\\Home\\AppData\\Local\\Temp\" will be used to save temporary dictionary and corpus.\n"
     ]
    }
   ],
   "source": [
    "import os\n",
    "import tempfile\n",
    "TEMP_FOLDER = tempfile.gettempdir()\n",
    "print('Folder \"{}\" will be used to save temporary dictionary and corpus.'.format(TEMP_FOLDER))"
   ]
  },
  {
   "cell_type": "code",
   "execution_count": 38,
   "metadata": {},
   "outputs": [],
   "source": [
    "from smart_open import smart_open\n",
    "class MyCorpus(object):\n",
    "    def __iter__(self):\n",
    "        for line in smart_open('mycorpus.txt', 'rb'):\n",
    "            # assume there's one document per line, tokens separated by whitespace\n",
    "            yield dictionary.doc2bow(line.lower().split())"
   ]
  },
  {
   "cell_type": "code",
   "execution_count": 39,
   "metadata": {},
   "outputs": [
    {
     "name": "stdout",
     "output_type": "stream",
     "text": [
      "<__main__.MyCorpus object at 0x00000070C4313CC0>\n"
     ]
    }
   ],
   "source": [
    "\n",
    "corpus_memory_friendly = MyCorpus() # doesn't load the corpus into memory!\n",
    "print(corpus_memory_friendly)"
   ]
  },
  {
   "cell_type": "code",
   "execution_count": 40,
   "metadata": {},
   "outputs": [
    {
     "name": "stderr",
     "output_type": "stream",
     "text": [
      "2019-03-06 07:09:26.642 DEBUG in 'smart_open.smart_open_lib'['smart_open_lib'] at line 176: {'kw': {}, 'mode': 'rb', 'uri': 'mycorpus.txt'}\n"
     ]
    },
    {
     "name": "stdout",
     "output_type": "stream",
     "text": [
      "[(0, 1), (2, 1)]\n",
      "[(0, 1), (3, 1), (4, 1), (5, 1), (7, 1)]\n",
      "[(2, 1), (7, 1), (8, 1)]\n",
      "[(1, 1), (5, 1)]\n",
      "[(3, 1), (6, 1), (7, 1)]\n",
      "[]\n",
      "[(10, 1)]\n",
      "[(9, 1), (11, 1)]\n",
      "[(11, 1)]\n"
     ]
    }
   ],
   "source": [
    "for vector in corpus_memory_friendly:  # load one vector into memory at a time\n",
    "    print(vector)"
   ]
  },
  {
   "cell_type": "code",
   "execution_count": 41,
   "metadata": {},
   "outputs": [
    {
     "name": "stderr",
     "output_type": "stream",
     "text": [
      "2019-03-06 07:09:31.603 DEBUG in 'smart_open.smart_open_lib'['smart_open_lib'] at line 176: {'kw': {}, 'mode': 'rb', 'uri': 'mycorpus.txt'}\n",
      "2019-03-06 07:09:31.608 INFO in 'gensim.corpora.dictionary'['dictionary'] at line 202: adding document #0 to Dictionary(0 unique tokens: [])\n",
      "2019-03-06 07:09:31.612 INFO in 'gensim.corpora.dictionary'['dictionary'] at line 209: built Dictionary(51 unique tokens: [\"['human\", 'abc', \"applications',\", 'computer', 'for']...) from 9 documents (total 69 corpus positions)\n",
      "2019-03-06 07:09:31.616 DEBUG in 'gensim.corpora.dictionary'['dictionary'] at line 461: rebuilding dictionary, shrinking gaps\n"
     ]
    },
    {
     "name": "stdout",
     "output_type": "stream",
     "text": [
      "Dictionary(9 unique tokens: ['computer', 'interface', 'response', 'system', 'user']...)\n"
     ]
    }
   ],
   "source": [
    "from six import iteritems\n",
    "from smart_open import smart_open\n",
    "\n",
    "# collect statistics about all tokens\n",
    "dictionary = corpora.Dictionary(line.lower().split() for line in smart_open('mycorpus.txt', 'rb'))\n",
    "\n",
    "# remove stop words and words that appear only once\n",
    "stop_ids = [dictionary.token2id[stopword] for stopword in stoplist \n",
    "            if stopword in dictionary.token2id]\n",
    "once_ids = [tokenid for tokenid, docfreq in iteritems(dictionary.dfs) if docfreq == 1]\n",
    "\n",
    "# remove stop words and words that appear only once\n",
    "dictionary.filter_tokens(stop_ids + once_ids)\n",
    "print(dictionary)"
   ]
  },
  {
   "cell_type": "code",
   "execution_count": 42,
   "metadata": {},
   "outputs": [
    {
     "name": "stderr",
     "output_type": "stream",
     "text": [
      "2019-03-06 07:09:44.900 INFO in 'gensim.corpora.mmcorpus'['mmcorpus'] at line 122: storing corpus in Matrix Market format to C:\\Users\\Home\\AppData\\Local\\Temp\\corpus.mm\n",
      "2019-03-06 07:09:44.909 DEBUG in 'smart_open.smart_open_lib'['smart_open_lib'] at line 176: {'kw': {}, 'mode': 'wb+', 'uri': 'C:\\\\Users\\\\Home\\\\AppData\\\\Local\\\\Temp\\\\corpus.mm'}\n",
      "2019-03-06 07:09:45.202 INFO in 'gensim.matutils'['matutils'] at line 1244: saving sparse matrix to C:\\Users\\Home\\AppData\\Local\\Temp\\corpus.mm\n",
      "2019-03-06 07:09:45.205 INFO in 'gensim.matutils'['matutils'] at line 1356: PROGRESS: saving document #0\n",
      "2019-03-06 07:09:45.214 INFO in 'gensim.matutils'['matutils'] at line 1376: saved 2x2 matrix, density=25.000% (1/4)\n",
      "2019-03-06 07:09:45.280 DEBUG in 'gensim.matutils'['matutils'] at line 1398: closing C:\\Users\\Home\\AppData\\Local\\Temp\\corpus.mm\n",
      "2019-03-06 07:09:45.286 DEBUG in 'gensim.matutils'['matutils'] at line 1398: closing C:\\Users\\Home\\AppData\\Local\\Temp\\corpus.mm\n",
      "2019-03-06 07:09:45.384 INFO in 'gensim.corpora.indexedcorpus'['indexedcorpus'] at line 135: saving MmCorpus index to C:\\Users\\Home\\AppData\\Local\\Temp\\corpus.mm.index\n",
      "2019-03-06 07:09:45.395 DEBUG in 'smart_open.smart_open_lib'['smart_open_lib'] at line 176: {'kw': {}, 'mode': 'wb', 'uri': 'C:\\\\Users\\\\Home\\\\AppData\\\\Local\\\\Temp\\\\corpus.mm.index'}\n"
     ]
    }
   ],
   "source": [
    "# create a toy corpus of 2 documents, as a plain Python list\n",
    "corpus = [[(1, 0.5)], []]  # make one document empty, for the heck of it\n",
    "\n",
    "corpora.MmCorpus.serialize(os.path.join(TEMP_FOLDER, 'corpus.mm'), corpus)"
   ]
  },
  {
   "cell_type": "code",
   "execution_count": 44,
   "metadata": {},
   "outputs": [
    {
     "name": "stderr",
     "output_type": "stream",
     "text": [
      "2019-03-06 07:10:53.740 INFO in 'gensim.corpora.svmlightcorpus'['svmlightcorpus'] at line 112: converting corpus to SVMlight format: C:\\Users\\Home\\AppData\\Local\\Temp\\corpus.svmlight\n",
      "2019-03-06 07:10:53.747 DEBUG in 'smart_open.smart_open_lib'['smart_open_lib'] at line 176: {'kw': {}, 'mode': 'wb', 'uri': 'C:\\\\Users\\\\Home\\\\AppData\\\\Local\\\\Temp\\\\corpus.svmlight'}\n",
      "2019-03-06 07:10:53.752 INFO in 'gensim.corpora.indexedcorpus'['indexedcorpus'] at line 135: saving SvmLightCorpus index to C:\\Users\\Home\\AppData\\Local\\Temp\\corpus.svmlight.index\n",
      "2019-03-06 07:10:53.755 DEBUG in 'smart_open.smart_open_lib'['smart_open_lib'] at line 176: {'kw': {}, 'mode': 'wb', 'uri': 'C:\\\\Users\\\\Home\\\\AppData\\\\Local\\\\Temp\\\\corpus.svmlight.index'}\n",
      "2019-03-06 07:10:53.759 INFO in 'gensim.corpora.bleicorpus'['bleicorpus'] at line 143: no word id mapping provided; initializing from corpus\n",
      "2019-03-06 07:10:53.763 INFO in 'gensim.corpora.bleicorpus'['bleicorpus'] at line 151: storing corpus in Blei's LDA-C format into C:\\Users\\Home\\AppData\\Local\\Temp\\corpus.lda-c\n",
      "2019-03-06 07:10:53.766 DEBUG in 'smart_open.smart_open_lib'['smart_open_lib'] at line 176: {'kw': {}, 'mode': 'wb', 'uri': 'C:\\\\Users\\\\Home\\\\AppData\\\\Local\\\\Temp\\\\corpus.lda-c'}\n",
      "2019-03-06 07:10:53.770 INFO in 'gensim.corpora.bleicorpus'['bleicorpus'] at line 162: saving vocabulary of 2 words to C:\\Users\\Home\\AppData\\Local\\Temp\\corpus.lda-c.vocab\n",
      "2019-03-06 07:10:53.773 DEBUG in 'smart_open.smart_open_lib'['smart_open_lib'] at line 176: {'kw': {}, 'mode': 'wb', 'uri': 'C:\\\\Users\\\\Home\\\\AppData\\\\Local\\\\Temp\\\\corpus.lda-c.vocab'}\n",
      "2019-03-06 07:10:53.777 INFO in 'gensim.corpora.indexedcorpus'['indexedcorpus'] at line 135: saving BleiCorpus index to C:\\Users\\Home\\AppData\\Local\\Temp\\corpus.lda-c.index\n",
      "2019-03-06 07:10:53.779 DEBUG in 'smart_open.smart_open_lib'['smart_open_lib'] at line 176: {'kw': {}, 'mode': 'wb', 'uri': 'C:\\\\Users\\\\Home\\\\AppData\\\\Local\\\\Temp\\\\corpus.lda-c.index'}\n",
      "2019-03-06 07:10:53.782 INFO in 'gensim.corpora.lowcorpus'['lowcorpus'] at line 228: no word id mapping provided; initializing from corpus\n",
      "2019-03-06 07:10:53.784 INFO in 'gensim.corpora.lowcorpus'['lowcorpus'] at line 231: storing corpus in List-Of-Words format into C:\\Users\\Home\\AppData\\Local\\Temp\\corpus.low\n",
      "2019-03-06 07:10:53.786 DEBUG in 'smart_open.smart_open_lib'['smart_open_lib'] at line 176: {'kw': {}, 'mode': 'wb', 'uri': 'C:\\\\Users\\\\Home\\\\AppData\\\\Local\\\\Temp\\\\corpus.low'}\n",
      "2019-03-06 07:10:53.789 WARNING in 'gensim.corpora.lowcorpus'['lowcorpus'] at line 248: List-of-words format can only save vectors with integer elements; 1 float entries were truncated to integer value\n",
      "2019-03-06 07:10:53.790 INFO in 'gensim.corpora.indexedcorpus'['indexedcorpus'] at line 135: saving LowCorpus index to C:\\Users\\Home\\AppData\\Local\\Temp\\corpus.low.index\n",
      "2019-03-06 07:10:53.792 DEBUG in 'smart_open.smart_open_lib'['smart_open_lib'] at line 176: {'kw': {}, 'mode': 'wb', 'uri': 'C:\\\\Users\\\\Home\\\\AppData\\\\Local\\\\Temp\\\\corpus.low.index'}\n"
     ]
    }
   ],
   "source": [
    "corpora.SvmLightCorpus.serialize(os.path.join(TEMP_FOLDER, 'corpus.svmlight'), corpus)\n",
    "corpora.BleiCorpus.serialize(os.path.join(TEMP_FOLDER, 'corpus.lda-c'), corpus)\n",
    "corpora.LowCorpus.serialize(os.path.join(TEMP_FOLDER, 'corpus.low'), corpus)"
   ]
  },
  {
   "cell_type": "code",
   "execution_count": 45,
   "metadata": {},
   "outputs": [
    {
     "name": "stderr",
     "output_type": "stream",
     "text": [
      "2019-03-06 07:11:03.639 DEBUG in 'smart_open.smart_open_lib'['smart_open_lib'] at line 176: {'kw': {}, 'mode': 'rb', 'uri': 'C:\\\\Users\\\\Home\\\\AppData\\\\Local\\\\Temp\\\\corpus.mm.index'}\n",
      "2019-03-06 07:11:03.649 INFO in 'gensim.corpora.indexedcorpus'['indexedcorpus'] at line 67: loaded corpus index from C:\\Users\\Home\\AppData\\Local\\Temp\\corpus.mm.index\n",
      "2019-03-06 07:11:03.653 INFO in 'gensim.corpora._mmreader'['mmcorpus'] at line 66: initializing cython corpus reader from C:\\Users\\Home\\AppData\\Local\\Temp\\corpus.mm\n",
      "2019-03-06 07:11:03.657 DEBUG in 'smart_open.smart_open_lib'['smart_open_lib'] at line 176: {'kw': {}, 'mode': 'rb', 'uri': 'C:\\\\Users\\\\Home\\\\AppData\\\\Local\\\\Temp\\\\corpus.mm'}\n",
      "2019-03-06 07:11:03.660 INFO in 'gensim.corpora._mmreader'['mmcorpus'] at line 66: accepted corpus with 2 documents, 2 features, 1 non-zero entries\n"
     ]
    }
   ],
   "source": [
    "corpus = corpora.MmCorpus(os.path.join(TEMP_FOLDER, 'corpus.mm'))"
   ]
  },
  {
   "cell_type": "code",
   "execution_count": 46,
   "metadata": {},
   "outputs": [
    {
     "name": "stdout",
     "output_type": "stream",
     "text": [
      "MmCorpus(2 documents, 2 features, 1 non-zero entries)\n"
     ]
    }
   ],
   "source": [
    "print(corpus)"
   ]
  },
  {
   "cell_type": "code",
   "execution_count": 47,
   "metadata": {},
   "outputs": [
    {
     "name": "stderr",
     "output_type": "stream",
     "text": [
      "2019-03-06 07:11:05.503 DEBUG in 'smart_open.smart_open_lib'['smart_open_lib'] at line 176: {'kw': {}, 'mode': 'rb', 'uri': 'C:\\\\Users\\\\Home\\\\AppData\\\\Local\\\\Temp\\\\corpus.mm'}\n"
     ]
    },
    {
     "name": "stdout",
     "output_type": "stream",
     "text": [
      "[[(1, 0.5)], []]\n"
     ]
    }
   ],
   "source": [
    "# one way of printing a corpus: load it entirely into memory\n",
    "print(list(corpus))  # calling list() will convert any sequence to a plain Python list"
   ]
  },
  {
   "cell_type": "code",
   "execution_count": 48,
   "metadata": {},
   "outputs": [
    {
     "name": "stderr",
     "output_type": "stream",
     "text": [
      "2019-03-06 07:11:06.309 DEBUG in 'smart_open.smart_open_lib'['smart_open_lib'] at line 176: {'kw': {}, 'mode': 'rb', 'uri': 'C:\\\\Users\\\\Home\\\\AppData\\\\Local\\\\Temp\\\\corpus.mm'}\n"
     ]
    },
    {
     "name": "stdout",
     "output_type": "stream",
     "text": [
      "[(1, 0.5)]\n",
      "[]\n"
     ]
    }
   ],
   "source": [
    "# another way of doing it: print one document at a time, making use of the streaming interface\n",
    "for doc in corpus:\n",
    "    print(doc)"
   ]
  },
  {
   "cell_type": "code",
   "execution_count": 49,
   "metadata": {},
   "outputs": [
    {
     "name": "stderr",
     "output_type": "stream",
     "text": [
      "2019-03-06 07:11:18.874 INFO in 'gensim.corpora.bleicorpus'['bleicorpus'] at line 143: no word id mapping provided; initializing from corpus\n",
      "2019-03-06 07:11:18.883 DEBUG in 'smart_open.smart_open_lib'['smart_open_lib'] at line 176: {'kw': {}, 'mode': 'rb', 'uri': 'C:\\\\Users\\\\Home\\\\AppData\\\\Local\\\\Temp\\\\corpus.mm'}\n",
      "2019-03-06 07:11:18.886 INFO in 'gensim.corpora.bleicorpus'['bleicorpus'] at line 151: storing corpus in Blei's LDA-C format into C:\\Users\\Home\\AppData\\Local\\Temp\\corpus.lda-c\n",
      "2019-03-06 07:11:18.890 DEBUG in 'smart_open.smart_open_lib'['smart_open_lib'] at line 176: {'kw': {}, 'mode': 'wb', 'uri': 'C:\\\\Users\\\\Home\\\\AppData\\\\Local\\\\Temp\\\\corpus.lda-c'}\n",
      "2019-03-06 07:11:18.894 DEBUG in 'smart_open.smart_open_lib'['smart_open_lib'] at line 176: {'kw': {}, 'mode': 'rb', 'uri': 'C:\\\\Users\\\\Home\\\\AppData\\\\Local\\\\Temp\\\\corpus.mm'}\n",
      "2019-03-06 07:11:18.898 INFO in 'gensim.corpora.bleicorpus'['bleicorpus'] at line 162: saving vocabulary of 2 words to C:\\Users\\Home\\AppData\\Local\\Temp\\corpus.lda-c.vocab\n",
      "2019-03-06 07:11:18.903 DEBUG in 'smart_open.smart_open_lib'['smart_open_lib'] at line 176: {'kw': {}, 'mode': 'wb', 'uri': 'C:\\\\Users\\\\Home\\\\AppData\\\\Local\\\\Temp\\\\corpus.lda-c.vocab'}\n",
      "2019-03-06 07:11:18.909 INFO in 'gensim.corpora.indexedcorpus'['indexedcorpus'] at line 135: saving BleiCorpus index to C:\\Users\\Home\\AppData\\Local\\Temp\\corpus.lda-c.index\n",
      "2019-03-06 07:11:18.913 DEBUG in 'smart_open.smart_open_lib'['smart_open_lib'] at line 176: {'kw': {}, 'mode': 'wb', 'uri': 'C:\\\\Users\\\\Home\\\\AppData\\\\Local\\\\Temp\\\\corpus.lda-c.index'}\n"
     ]
    }
   ],
   "source": [
    "corpora.BleiCorpus.serialize(os.path.join(TEMP_FOLDER, 'corpus.lda-c'), corpus)"
   ]
  },
  {
   "cell_type": "markdown",
   "metadata": {},
   "source": [
    "Compatibility with NumPy and SciPy"
   ]
  },
  {
   "cell_type": "code",
   "execution_count": 50,
   "metadata": {},
   "outputs": [],
   "source": [
    "\n",
    "import gensim\n",
    "import numpy as np\n",
    "numpy_matrix = np.random.randint(10, size=[5,2])\n",
    "corpus = gensim.matutils.Dense2Corpus(numpy_matrix)\n",
    "numpy_matrix_dense = gensim.matutils.corpus2dense(corpus, num_terms=10)"
   ]
  },
  {
   "cell_type": "code",
   "execution_count": 51,
   "metadata": {},
   "outputs": [],
   "source": [
    "import scipy.sparse\n",
    "scipy_sparse_matrix = scipy.sparse.random(5,2)\n",
    "corpus = gensim.matutils.Sparse2Corpus(scipy_sparse_matrix)\n",
    "scipy_csc_matrix = gensim.matutils.corpus2csc(corpus)"
   ]
  },
  {
   "cell_type": "markdown",
   "metadata": {},
   "source": [
    "other"
   ]
  },
  {
   "cell_type": "code",
   "execution_count": 52,
   "metadata": {},
   "outputs": [
    {
     "name": "stderr",
     "output_type": "stream",
     "text": [
      "2019-03-06 07:11:31.591 INFO in 'gensim.utils'['utils'] at line 422: loading Dictionary object from C:\\Users\\Home\\AppData\\Local\\Temp\\deerwester.dict\n",
      "2019-03-06 07:11:31.599 DEBUG in 'smart_open.smart_open_lib'['smart_open_lib'] at line 176: {'kw': {}, 'mode': 'rb', 'uri': 'C:\\\\Users\\\\Home\\\\AppData\\\\Local\\\\Temp\\\\deerwester.dict'}\n",
      "2019-03-06 07:11:31.680 INFO in 'gensim.utils'['utils'] at line 428: loaded C:\\Users\\Home\\AppData\\Local\\Temp\\deerwester.dict\n",
      "2019-03-06 07:11:31.686 DEBUG in 'smart_open.smart_open_lib'['smart_open_lib'] at line 176: {'kw': {}, 'mode': 'rb', 'uri': 'C:\\\\Users\\\\Home\\\\AppData\\\\Local\\\\Temp\\\\deerwester.mm.index'}\n",
      "2019-03-06 07:11:31.811 INFO in 'gensim.corpora.indexedcorpus'['indexedcorpus'] at line 67: loaded corpus index from C:\\Users\\Home\\AppData\\Local\\Temp\\deerwester.mm.index\n",
      "2019-03-06 07:11:31.821 INFO in 'gensim.corpora._mmreader'['mmcorpus'] at line 66: initializing cython corpus reader from C:\\Users\\Home\\AppData\\Local\\Temp\\deerwester.mm\n",
      "2019-03-06 07:11:31.831 DEBUG in 'smart_open.smart_open_lib'['smart_open_lib'] at line 176: {'kw': {}, 'mode': 'rb', 'uri': 'C:\\\\Users\\\\Home\\\\AppData\\\\Local\\\\Temp\\\\deerwester.mm'}\n",
      "2019-03-06 07:11:31.934 INFO in 'gensim.corpora._mmreader'['mmcorpus'] at line 66: accepted corpus with 9 documents, 12 features, 28 non-zero entries\n"
     ]
    },
    {
     "name": "stdout",
     "output_type": "stream",
     "text": [
      "Used files generated from first tutorial\n"
     ]
    }
   ],
   "source": [
    "from gensim import corpora, models, similarities\n",
    "if os.path.isfile(os.path.join(TEMP_FOLDER, 'deerwester.dict')):\n",
    "    dictionary = corpora.Dictionary.load(os.path.join(TEMP_FOLDER, 'deerwester.dict'))\n",
    "    corpus = corpora.MmCorpus(os.path.join(TEMP_FOLDER, 'deerwester.mm'))\n",
    "    print(\"Used files generated from first tutorial\")\n",
    "else:\n",
    "    print(\"Please run first tutorial to generate data set\")"
   ]
  },
  {
   "cell_type": "code",
   "execution_count": 53,
   "metadata": {},
   "outputs": [
    {
     "name": "stdout",
     "output_type": "stream",
     "text": [
      "computer\n",
      "human\n",
      "interface\n"
     ]
    }
   ],
   "source": [
    "print(dictionary[0])\n",
    "print(dictionary[1])\n",
    "print(dictionary[2])"
   ]
  },
  {
   "cell_type": "code",
   "execution_count": 54,
   "metadata": {},
   "outputs": [
    {
     "name": "stdout",
     "output_type": "stream",
     "text": [
      "[(0, 0.7071067811865476), (1, 0.7071067811865476)]\n"
     ]
    }
   ],
   "source": [
    "doc_bow = [(0, 1), (1, 1)]\n",
    "print(tfidf[doc_bow])"
   ]
  },
  {
   "cell_type": "code",
   "execution_count": 55,
   "metadata": {},
   "outputs": [
    {
     "name": "stderr",
     "output_type": "stream",
     "text": [
      "2019-03-06 07:11:43.666 DEBUG in 'smart_open.smart_open_lib'['smart_open_lib'] at line 176: {'kw': {}, 'mode': 'rb', 'uri': 'C:\\\\Users\\\\Home\\\\AppData\\\\Local\\\\Temp\\\\deerwester.mm'}\n"
     ]
    },
    {
     "name": "stdout",
     "output_type": "stream",
     "text": [
      "[(0, 0.5773502691896257), (1, 0.5773502691896257), (2, 0.5773502691896257)]\n",
      "[(0, 0.44424552527467476), (3, 0.44424552527467476), (4, 0.44424552527467476), (5, 0.3244870206138555), (6, 0.44424552527467476), (7, 0.3244870206138555)]\n",
      "[(2, 0.5710059809418182), (5, 0.4170757362022777), (7, 0.4170757362022777), (8, 0.5710059809418182)]\n",
      "[(1, 0.49182558987264147), (5, 0.7184811607083769), (8, 0.49182558987264147)]\n",
      "[(3, 0.6282580468670046), (6, 0.6282580468670046), (7, 0.45889394536615247)]\n",
      "[(9, 1.0)]\n",
      "[(9, 0.7071067811865475), (10, 0.7071067811865475)]\n",
      "[(9, 0.5080429008916749), (10, 0.5080429008916749), (11, 0.695546419520037)]\n",
      "[(4, 0.6282580468670046), (10, 0.45889394536615247), (11, 0.6282580468670046)]\n"
     ]
    }
   ],
   "source": [
    "corpus_tfidf = tfidf[corpus]\n",
    "for doc in corpus_tfidf:\n",
    "    print(doc)"
   ]
  },
  {
   "cell_type": "code",
   "execution_count": 56,
   "metadata": {},
   "outputs": [
    {
     "name": "stderr",
     "output_type": "stream",
     "text": [
      "2019-03-06 07:12:05.939 INFO in 'gensim.models.lsimodel'['lsimodel'] at line 420: using serial LSI version on this node\n",
      "2019-03-06 07:12:05.947 INFO in 'gensim.models.lsimodel'['lsimodel'] at line 466: updating model with new documents\n",
      "2019-03-06 07:12:05.951 DEBUG in 'smart_open.smart_open_lib'['smart_open_lib'] at line 176: {'kw': {}, 'mode': 'rb', 'uri': 'C:\\\\Users\\\\Home\\\\AppData\\\\Local\\\\Temp\\\\deerwester.mm'}\n",
      "2019-03-06 07:12:05.956 INFO in 'gensim.models.lsimodel'['lsimodel'] at line 492: preparing a new chunk of documents\n",
      "2019-03-06 07:12:05.961 DEBUG in 'gensim.models.lsimodel'['lsimodel'] at line 496: converting corpus to csc format\n",
      "2019-03-06 07:12:05.968 INFO in 'gensim.models.lsimodel'['lsimodel'] at line 912: using 100 extra samples and 2 power iterations\n",
      "2019-03-06 07:12:05.972 INFO in 'gensim.models.lsimodel'['lsimodel'] at line 920: 1st phase: constructing (12, 102) action matrix\n",
      "2019-03-06 07:12:06.59 INFO in 'gensim.models.lsimodel'['lsimodel'] at line 935: orthonormalizing (12, 102) action matrix\n",
      "2019-03-06 07:12:06.64 DEBUG in 'gensim.matutils'['matutils'] at line 1176: computing QR of (12, 102) dense matrix\n",
      "2019-03-06 07:12:06.373 DEBUG in 'gensim.models.lsimodel'['lsimodel'] at line 939: running 2 power iterations\n",
      "2019-03-06 07:12:06.408 DEBUG in 'gensim.matutils'['matutils'] at line 1176: computing QR of (12, 12) dense matrix\n",
      "2019-03-06 07:12:06.419 DEBUG in 'gensim.matutils'['matutils'] at line 1176: computing QR of (12, 12) dense matrix\n",
      "2019-03-06 07:12:06.432 INFO in 'gensim.models.lsimodel'['lsimodel'] at line 987: 2nd phase: running dense svd on (12, 9) matrix\n",
      "2019-03-06 07:12:06.477 INFO in 'gensim.models.lsimodel'['lsimodel'] at line 1013: computing the final decomposition\n",
      "2019-03-06 07:12:06.506 INFO in 'gensim.models.lsimodel'['lsimodel'] at line 106: keeping 2 factors (discarding 47.565% of energy spectrum)\n",
      "2019-03-06 07:12:06.542 INFO in 'gensim.models.lsimodel'['lsimodel'] at line 517: processed documents up to #9\n",
      "2019-03-06 07:12:06.569 INFO in 'gensim.models.lsimodel'['lsimodel'] at line 704: topic #0(1.594): 0.703*\"trees\" + 0.538*\"graph\" + 0.402*\"minors\" + 0.187*\"survey\" + 0.061*\"system\" + 0.060*\"time\" + 0.060*\"response\" + 0.058*\"user\" + 0.049*\"computer\" + 0.035*\"interface\"\n",
      "2019-03-06 07:12:06.580 INFO in 'gensim.models.lsimodel'['lsimodel'] at line 704: topic #1(1.476): 0.460*\"system\" + 0.373*\"user\" + 0.332*\"eps\" + 0.328*\"interface\" + 0.320*\"time\" + 0.320*\"response\" + 0.293*\"computer\" + 0.280*\"human\" + 0.171*\"survey\" + -0.161*\"trees\"\n"
     ]
    }
   ],
   "source": [
    "lsi = models.LsiModel(corpus_tfidf, id2word=dictionary, num_topics=2) # initialize an LSI transformation\n",
    "corpus_lsi = lsi[corpus_tfidf] # create a double wrapper over the original corpus: bow->tfidf->fold-in-lsi"
   ]
  },
  {
   "cell_type": "code",
   "execution_count": 57,
   "metadata": {},
   "outputs": [
    {
     "name": "stderr",
     "output_type": "stream",
     "text": [
      "2019-03-06 07:12:15.701 INFO in 'gensim.models.lsimodel'['lsimodel'] at line 704: topic #0(1.594): 0.703*\"trees\" + 0.538*\"graph\" + 0.402*\"minors\" + 0.187*\"survey\" + 0.061*\"system\" + 0.060*\"time\" + 0.060*\"response\" + 0.058*\"user\" + 0.049*\"computer\" + 0.035*\"interface\"\n",
      "2019-03-06 07:12:15.706 INFO in 'gensim.models.lsimodel'['lsimodel'] at line 704: topic #1(1.476): 0.460*\"system\" + 0.373*\"user\" + 0.332*\"eps\" + 0.328*\"interface\" + 0.320*\"time\" + 0.320*\"response\" + 0.293*\"computer\" + 0.280*\"human\" + 0.171*\"survey\" + -0.161*\"trees\"\n"
     ]
    },
    {
     "data": {
      "text/plain": [
       "[(0,\n",
       "  '0.703*\"trees\" + 0.538*\"graph\" + 0.402*\"minors\" + 0.187*\"survey\" + 0.061*\"system\" + 0.060*\"time\" + 0.060*\"response\" + 0.058*\"user\" + 0.049*\"computer\" + 0.035*\"interface\"'),\n",
       " (1,\n",
       "  '0.460*\"system\" + 0.373*\"user\" + 0.332*\"eps\" + 0.328*\"interface\" + 0.320*\"time\" + 0.320*\"response\" + 0.293*\"computer\" + 0.280*\"human\" + 0.171*\"survey\" + -0.161*\"trees\"')]"
      ]
     },
     "execution_count": 57,
     "metadata": {},
     "output_type": "execute_result"
    }
   ],
   "source": [
    "lsi.print_topics(2)"
   ]
  },
  {
   "cell_type": "code",
   "execution_count": 58,
   "metadata": {},
   "outputs": [
    {
     "name": "stderr",
     "output_type": "stream",
     "text": [
      "2019-03-06 07:12:17.608 DEBUG in 'smart_open.smart_open_lib'['smart_open_lib'] at line 176: {'kw': {}, 'mode': 'rb', 'uri': 'C:\\\\Users\\\\Home\\\\AppData\\\\Local\\\\Temp\\\\deerwester.mm'}\n"
     ]
    },
    {
     "name": "stdout",
     "output_type": "stream",
     "text": [
      "[(0, 0.0660078339609049), (1, 0.5200703306361851)]\n",
      "[(0, 0.1966759285914263), (1, 0.7609563167700037)]\n",
      "[(0, 0.08992639972446606), (1, 0.7241860626752508)]\n",
      "[(0, 0.07585847652178314), (1, 0.6320551586003431)]\n",
      "[(0, 0.10150299184980194), (1, 0.5737308483002946)]\n",
      "[(0, 0.7032108939378305), (1, -0.16115180214025862)]\n",
      "[(0, 0.8774787673119825), (1, -0.16758906864659537)]\n",
      "[(0, 0.9098624686818572), (1, -0.14086553628719187)]\n",
      "[(0, 0.6165825350569278), (1, 0.053929075663892156)]\n"
     ]
    }
   ],
   "source": [
    "\n",
    "for doc in corpus_lsi: # both bow->tfidf and tfidf->lsi transformations are actually executed here, on the fly\n",
    "    print(doc)"
   ]
  },
  {
   "cell_type": "code",
   "execution_count": 59,
   "metadata": {},
   "outputs": [
    {
     "name": "stderr",
     "output_type": "stream",
     "text": [
      "2019-03-06 07:12:36.938 INFO in 'gensim.utils'['utils'] at line 542: saving Projection object under C:\\Users\\Home\\AppData\\Local\\Temp\\model.lsi.projection, separately None\n",
      "2019-03-06 07:12:36.947 DEBUG in 'smart_open.smart_open_lib'['smart_open_lib'] at line 176: {'kw': {}, 'mode': 'wb', 'uri': 'C:\\\\Users\\\\Home\\\\AppData\\\\Local\\\\Temp\\\\model.lsi.projection'}\n",
      "2019-03-06 07:12:37.0 INFO in 'gensim.utils'['utils'] at line 556: saved C:\\Users\\Home\\AppData\\Local\\Temp\\model.lsi.projection\n",
      "2019-03-06 07:12:37.5 INFO in 'gensim.utils'['utils'] at line 542: saving LsiModel object under C:\\Users\\Home\\AppData\\Local\\Temp\\model.lsi, separately None\n",
      "2019-03-06 07:12:37.11 INFO in 'gensim.utils'['utils'] at line 648: not storing attribute projection\n",
      "2019-03-06 07:12:37.17 INFO in 'gensim.utils'['utils'] at line 648: not storing attribute dispatcher\n",
      "2019-03-06 07:12:37.21 DEBUG in 'smart_open.smart_open_lib'['smart_open_lib'] at line 176: {'kw': {}, 'mode': 'wb', 'uri': 'C:\\\\Users\\\\Home\\\\AppData\\\\Local\\\\Temp\\\\model.lsi'}\n",
      "2019-03-06 07:12:37.27 INFO in 'gensim.utils'['utils'] at line 556: saved C:\\Users\\Home\\AppData\\Local\\Temp\\model.lsi\n"
     ]
    }
   ],
   "source": [
    "lsi.save(os.path.join(TEMP_FOLDER, 'model.lsi')) # same for tfidf, lda, ...\n",
    "#lsi = models.LsiModel.load(os.path.join(TEMP_FOLDER, 'model.lsi'))"
   ]
  },
  {
   "cell_type": "code",
   "execution_count": 60,
   "metadata": {},
   "outputs": [
    {
     "name": "stderr",
     "output_type": "stream",
     "text": [
      "2019-03-06 07:12:38.114 INFO in 'gensim.models.tfidfmodel'['tfidfmodel'] at line 378: collecting document frequencies\n",
      "2019-03-06 07:12:38.122 DEBUG in 'smart_open.smart_open_lib'['smart_open_lib'] at line 176: {'kw': {}, 'mode': 'rb', 'uri': 'C:\\\\Users\\\\Home\\\\AppData\\\\Local\\\\Temp\\\\deerwester.mm'}\n",
      "2019-03-06 07:12:38.127 INFO in 'gensim.models.tfidfmodel'['tfidfmodel'] at line 384: PROGRESS: processing document #0\n",
      "2019-03-06 07:12:38.132 INFO in 'gensim.models.tfidfmodel'['tfidfmodel'] at line 396: calculating IDF weights for 9 documents and 11 features (28 matrix non-zeros)\n"
     ]
    }
   ],
   "source": [
    "model = models.TfidfModel(corpus, normalize=True)"
   ]
  },
  {
   "cell_type": "code",
   "execution_count": 61,
   "metadata": {},
   "outputs": [
    {
     "name": "stderr",
     "output_type": "stream",
     "text": [
      "2019-03-06 07:12:47.193 INFO in 'gensim.models.lsimodel'['lsimodel'] at line 420: using serial LSI version on this node\n",
      "2019-03-06 07:12:47.202 INFO in 'gensim.models.lsimodel'['lsimodel'] at line 466: updating model with new documents\n",
      "2019-03-06 07:12:47.207 DEBUG in 'smart_open.smart_open_lib'['smart_open_lib'] at line 176: {'kw': {}, 'mode': 'rb', 'uri': 'C:\\\\Users\\\\Home\\\\AppData\\\\Local\\\\Temp\\\\deerwester.mm'}\n",
      "2019-03-06 07:12:47.211 INFO in 'gensim.models.lsimodel'['lsimodel'] at line 492: preparing a new chunk of documents\n",
      "2019-03-06 07:12:47.214 DEBUG in 'gensim.models.lsimodel'['lsimodel'] at line 496: converting corpus to csc format\n",
      "2019-03-06 07:12:47.218 INFO in 'gensim.models.lsimodel'['lsimodel'] at line 912: using 100 extra samples and 2 power iterations\n",
      "2019-03-06 07:12:47.222 INFO in 'gensim.models.lsimodel'['lsimodel'] at line 920: 1st phase: constructing (12, 400) action matrix\n",
      "2019-03-06 07:12:47.229 INFO in 'gensim.models.lsimodel'['lsimodel'] at line 935: orthonormalizing (12, 400) action matrix\n",
      "2019-03-06 07:12:47.234 DEBUG in 'gensim.matutils'['matutils'] at line 1176: computing QR of (12, 400) dense matrix\n",
      "2019-03-06 07:12:47.237 DEBUG in 'gensim.models.lsimodel'['lsimodel'] at line 939: running 2 power iterations\n",
      "2019-03-06 07:12:47.240 DEBUG in 'gensim.matutils'['matutils'] at line 1176: computing QR of (12, 12) dense matrix\n",
      "2019-03-06 07:12:47.243 DEBUG in 'gensim.matutils'['matutils'] at line 1176: computing QR of (12, 12) dense matrix\n",
      "2019-03-06 07:12:47.245 INFO in 'gensim.models.lsimodel'['lsimodel'] at line 987: 2nd phase: running dense svd on (12, 9) matrix\n",
      "2019-03-06 07:12:47.247 INFO in 'gensim.models.lsimodel'['lsimodel'] at line 1013: computing the final decomposition\n",
      "2019-03-06 07:12:47.248 INFO in 'gensim.models.lsimodel'['lsimodel'] at line 106: keeping 9 factors (discarding 0.000% of energy spectrum)\n",
      "2019-03-06 07:12:47.263 INFO in 'gensim.models.lsimodel'['lsimodel'] at line 517: processed documents up to #9\n",
      "2019-03-06 07:12:47.277 INFO in 'gensim.models.lsimodel'['lsimodel'] at line 704: topic #0(1.594): 0.703*\"trees\" + 0.538*\"graph\" + 0.402*\"minors\" + 0.187*\"survey\" + 0.061*\"system\" + 0.060*\"time\" + 0.060*\"response\" + 0.058*\"user\" + 0.049*\"computer\" + 0.035*\"interface\"\n",
      "2019-03-06 07:12:47.282 INFO in 'gensim.models.lsimodel'['lsimodel'] at line 704: topic #1(1.476): 0.460*\"system\" + 0.373*\"user\" + 0.332*\"eps\" + 0.328*\"interface\" + 0.320*\"time\" + 0.320*\"response\" + 0.293*\"computer\" + 0.280*\"human\" + 0.171*\"survey\" + -0.161*\"trees\"\n",
      "2019-03-06 07:12:47.285 INFO in 'gensim.models.lsimodel'['lsimodel'] at line 704: topic #2(1.191): 0.456*\"time\" + 0.456*\"response\" + -0.352*\"eps\" + -0.340*\"human\" + -0.318*\"interface\" + -0.277*\"system\" + 0.272*\"survey\" + 0.213*\"user\" + -0.183*\"trees\" + 0.114*\"minors\"\n",
      "2019-03-06 07:12:47.288 INFO in 'gensim.models.lsimodel'['lsimodel'] at line 704: topic #3(1.043): -0.583*\"trees\" + 0.556*\"minors\" + 0.399*\"survey\" + 0.256*\"graph\" + -0.211*\"response\" + -0.211*\"time\" + -0.160*\"user\" + 0.081*\"human\" + 0.038*\"interface\" + 0.035*\"system\"\n",
      "2019-03-06 07:12:47.291 INFO in 'gensim.models.lsimodel'['lsimodel'] at line 704: topic #4(0.884): -0.611*\"computer\" + 0.425*\"system\" + 0.420*\"eps\" + -0.354*\"interface\" + -0.339*\"human\" + 0.148*\"user\" + 0.058*\"minors\" + -0.047*\"trees\" + 0.034*\"graph\" + -0.027*\"survey\"\n"
     ]
    }
   ],
   "source": [
    "model = models.LsiModel(corpus_tfidf, id2word=dictionary, num_topics=300)"
   ]
  },
  {
   "cell_type": "code",
   "execution_count": 62,
   "metadata": {},
   "outputs": [
    {
     "name": "stderr",
     "output_type": "stream",
     "text": [
      "2019-03-06 07:12:57.291 INFO in 'gensim.models.lsimodel'['lsimodel'] at line 466: updating model with new documents\n",
      "2019-03-06 07:12:57.300 DEBUG in 'smart_open.smart_open_lib'['smart_open_lib'] at line 176: {'kw': {}, 'mode': 'rb', 'uri': 'C:\\\\Users\\\\Home\\\\AppData\\\\Local\\\\Temp\\\\deerwester.mm'}\n",
      "2019-03-06 07:12:57.304 INFO in 'gensim.models.lsimodel'['lsimodel'] at line 492: preparing a new chunk of documents\n",
      "2019-03-06 07:12:57.308 DEBUG in 'gensim.models.lsimodel'['lsimodel'] at line 496: converting corpus to csc format\n",
      "2019-03-06 07:12:57.312 INFO in 'gensim.models.lsimodel'['lsimodel'] at line 912: using 100 extra samples and 2 power iterations\n",
      "2019-03-06 07:12:57.315 INFO in 'gensim.models.lsimodel'['lsimodel'] at line 920: 1st phase: constructing (12, 400) action matrix\n",
      "2019-03-06 07:12:57.318 INFO in 'gensim.models.lsimodel'['lsimodel'] at line 935: orthonormalizing (12, 400) action matrix\n",
      "2019-03-06 07:12:57.322 DEBUG in 'gensim.matutils'['matutils'] at line 1176: computing QR of (12, 400) dense matrix\n",
      "2019-03-06 07:12:57.325 DEBUG in 'gensim.models.lsimodel'['lsimodel'] at line 939: running 2 power iterations\n",
      "2019-03-06 07:12:57.329 DEBUG in 'gensim.matutils'['matutils'] at line 1176: computing QR of (12, 12) dense matrix\n",
      "2019-03-06 07:12:57.332 DEBUG in 'gensim.matutils'['matutils'] at line 1176: computing QR of (12, 12) dense matrix\n",
      "2019-03-06 07:12:57.335 INFO in 'gensim.models.lsimodel'['lsimodel'] at line 987: 2nd phase: running dense svd on (12, 9) matrix\n",
      "2019-03-06 07:12:57.338 INFO in 'gensim.models.lsimodel'['lsimodel'] at line 1013: computing the final decomposition\n",
      "2019-03-06 07:12:57.340 INFO in 'gensim.models.lsimodel'['lsimodel'] at line 106: keeping 9 factors (discarding 0.000% of energy spectrum)\n",
      "2019-03-06 07:12:57.343 INFO in 'gensim.models.lsimodel'['lsimodel'] at line 261: merging projections: (12, 9) + (12, 9)\n",
      "2019-03-06 07:12:57.344 DEBUG in 'gensim.models.lsimodel'['lsimodel'] at line 269: constructing orthogonal component\n",
      "2019-03-06 07:12:57.349 DEBUG in 'gensim.models.lsimodel'['lsimodel'] at line 127: converting (12, 9) array self.u to FORTRAN order\n",
      "2019-03-06 07:12:57.352 DEBUG in 'gensim.models.lsimodel'['lsimodel'] at line 149: converting (12, 9) array self.u to C order\n",
      "2019-03-06 07:12:57.361 DEBUG in 'gensim.matutils'['matutils'] at line 1176: computing QR of (12, 9) dense matrix\n",
      "2019-03-06 07:12:57.373 DEBUG in 'gensim.models.lsimodel'['lsimodel'] at line 284: computing SVD of (18, 18) dense matrix\n",
      "2019-03-06 07:12:57.410 INFO in 'gensim.models.lsimodel'['lsimodel'] at line 106: keeping 9 factors (discarding 0.000% of energy spectrum)\n",
      "2019-03-06 07:12:57.415 DEBUG in 'gensim.models.lsimodel'['lsimodel'] at line 306: updating orthonormal basis U\n",
      "2019-03-06 07:12:57.420 DEBUG in 'gensim.models.lsimodel'['lsimodel'] at line 149: converting (12, 9) array q to C order\n",
      "2019-03-06 07:12:57.441 INFO in 'gensim.models.lsimodel'['lsimodel'] at line 517: processed documents up to #9\n",
      "2019-03-06 07:12:57.446 INFO in 'gensim.models.lsimodel'['lsimodel'] at line 704: topic #0(2.254): 0.703*\"trees\" + 0.538*\"graph\" + 0.402*\"minors\" + 0.187*\"survey\" + 0.061*\"system\" + 0.060*\"time\" + 0.060*\"response\" + 0.058*\"user\" + 0.049*\"computer\" + 0.035*\"interface\"\n",
      "2019-03-06 07:12:57.449 INFO in 'gensim.models.lsimodel'['lsimodel'] at line 704: topic #1(2.088): 0.460*\"system\" + 0.373*\"user\" + 0.332*\"eps\" + 0.328*\"interface\" + 0.320*\"time\" + 0.320*\"response\" + 0.293*\"computer\" + 0.280*\"human\" + 0.171*\"survey\" + -0.161*\"trees\"\n",
      "2019-03-06 07:12:57.452 INFO in 'gensim.models.lsimodel'['lsimodel'] at line 704: topic #2(1.685): 0.456*\"time\" + 0.456*\"response\" + -0.352*\"eps\" + -0.340*\"human\" + -0.318*\"interface\" + -0.277*\"system\" + 0.272*\"survey\" + 0.213*\"user\" + -0.183*\"trees\" + 0.114*\"minors\"\n",
      "2019-03-06 07:12:57.456 INFO in 'gensim.models.lsimodel'['lsimodel'] at line 704: topic #3(1.475): -0.583*\"trees\" + 0.556*\"minors\" + 0.399*\"survey\" + 0.256*\"graph\" + -0.211*\"response\" + -0.211*\"time\" + -0.160*\"user\" + 0.081*\"human\" + 0.038*\"interface\" + 0.035*\"system\"\n",
      "2019-03-06 07:12:57.460 INFO in 'gensim.models.lsimodel'['lsimodel'] at line 704: topic #4(1.250): 0.611*\"computer\" + -0.425*\"system\" + -0.420*\"eps\" + 0.354*\"interface\" + 0.339*\"human\" + -0.148*\"user\" + -0.058*\"minors\" + 0.047*\"trees\" + -0.034*\"graph\" + 0.027*\"survey\"\n",
      "2019-03-06 07:12:57.463 INFO in 'gensim.models.lsimodel'['lsimodel'] at line 466: updating model with new documents\n",
      "2019-03-06 07:12:57.467 DEBUG in 'smart_open.smart_open_lib'['smart_open_lib'] at line 176: {'kw': {}, 'mode': 'rb', 'uri': 'C:\\\\Users\\\\Home\\\\AppData\\\\Local\\\\Temp\\\\deerwester.mm'}\n",
      "2019-03-06 07:12:57.471 INFO in 'gensim.models.lsimodel'['lsimodel'] at line 492: preparing a new chunk of documents\n",
      "2019-03-06 07:12:57.475 DEBUG in 'gensim.models.lsimodel'['lsimodel'] at line 496: converting corpus to csc format\n",
      "2019-03-06 07:12:57.479 INFO in 'gensim.models.lsimodel'['lsimodel'] at line 912: using 100 extra samples and 2 power iterations\n",
      "2019-03-06 07:12:57.482 INFO in 'gensim.models.lsimodel'['lsimodel'] at line 920: 1st phase: constructing (12, 400) action matrix\n",
      "2019-03-06 07:12:57.487 INFO in 'gensim.models.lsimodel'['lsimodel'] at line 935: orthonormalizing (12, 400) action matrix\n",
      "2019-03-06 07:12:57.491 DEBUG in 'gensim.matutils'['matutils'] at line 1176: computing QR of (12, 400) dense matrix\n",
      "2019-03-06 07:12:57.495 DEBUG in 'gensim.models.lsimodel'['lsimodel'] at line 939: running 2 power iterations\n",
      "2019-03-06 07:12:57.499 DEBUG in 'gensim.matutils'['matutils'] at line 1176: computing QR of (12, 12) dense matrix\n",
      "2019-03-06 07:12:57.503 DEBUG in 'gensim.matutils'['matutils'] at line 1176: computing QR of (12, 12) dense matrix\n",
      "2019-03-06 07:12:57.515 INFO in 'gensim.models.lsimodel'['lsimodel'] at line 987: 2nd phase: running dense svd on (12, 9) matrix\n",
      "2019-03-06 07:12:57.528 INFO in 'gensim.models.lsimodel'['lsimodel'] at line 1013: computing the final decomposition\n",
      "2019-03-06 07:12:57.536 INFO in 'gensim.models.lsimodel'['lsimodel'] at line 106: keeping 9 factors (discarding 0.000% of energy spectrum)\n",
      "2019-03-06 07:12:57.539 INFO in 'gensim.models.lsimodel'['lsimodel'] at line 261: merging projections: (12, 9) + (12, 9)\n",
      "2019-03-06 07:12:57.543 DEBUG in 'gensim.models.lsimodel'['lsimodel'] at line 269: constructing orthogonal component\n",
      "2019-03-06 07:12:57.547 DEBUG in 'gensim.models.lsimodel'['lsimodel'] at line 127: converting (12, 9) array self.u to FORTRAN order\n",
      "2019-03-06 07:12:57.550 DEBUG in 'gensim.models.lsimodel'['lsimodel'] at line 149: converting (12, 9) array self.u to C order\n",
      "2019-03-06 07:12:57.553 DEBUG in 'gensim.matutils'['matutils'] at line 1176: computing QR of (12, 9) dense matrix\n",
      "2019-03-06 07:12:57.557 DEBUG in 'gensim.models.lsimodel'['lsimodel'] at line 284: computing SVD of (18, 18) dense matrix\n",
      "2019-03-06 07:12:57.565 INFO in 'gensim.models.lsimodel'['lsimodel'] at line 106: keeping 9 factors (discarding 0.000% of energy spectrum)\n",
      "2019-03-06 07:12:57.569 DEBUG in 'gensim.models.lsimodel'['lsimodel'] at line 306: updating orthonormal basis U\n",
      "2019-03-06 07:12:57.572 DEBUG in 'gensim.models.lsimodel'['lsimodel'] at line 149: converting (12, 9) array q to C order\n",
      "2019-03-06 07:12:57.576 INFO in 'gensim.models.lsimodel'['lsimodel'] at line 517: processed documents up to #9\n",
      "2019-03-06 07:12:57.584 INFO in 'gensim.models.lsimodel'['lsimodel'] at line 704: topic #0(2.760): 0.703*\"trees\" + 0.538*\"graph\" + 0.402*\"minors\" + 0.187*\"survey\" + 0.061*\"system\" + 0.060*\"time\" + 0.060*\"response\" + 0.058*\"user\" + 0.049*\"computer\" + 0.035*\"interface\"\n",
      "2019-03-06 07:12:57.591 INFO in 'gensim.models.lsimodel'['lsimodel'] at line 704: topic #1(2.557): 0.460*\"system\" + 0.373*\"user\" + 0.332*\"eps\" + 0.328*\"interface\" + 0.320*\"time\" + 0.320*\"response\" + 0.293*\"computer\" + 0.280*\"human\" + 0.171*\"survey\" + -0.161*\"trees\"\n",
      "2019-03-06 07:12:57.597 INFO in 'gensim.models.lsimodel'['lsimodel'] at line 704: topic #2(2.063): 0.456*\"response\" + 0.456*\"time\" + -0.352*\"eps\" + -0.340*\"human\" + -0.318*\"interface\" + -0.277*\"system\" + 0.272*\"survey\" + 0.213*\"user\" + -0.183*\"trees\" + 0.114*\"minors\"\n",
      "2019-03-06 07:12:57.600 INFO in 'gensim.models.lsimodel'['lsimodel'] at line 704: topic #3(1.806): -0.583*\"trees\" + 0.556*\"minors\" + 0.399*\"survey\" + 0.256*\"graph\" + -0.211*\"time\" + -0.211*\"response\" + -0.160*\"user\" + 0.081*\"human\" + 0.038*\"interface\" + 0.035*\"system\"\n",
      "2019-03-06 07:12:57.602 INFO in 'gensim.models.lsimodel'['lsimodel'] at line 704: topic #4(1.531): 0.611*\"computer\" + -0.425*\"system\" + -0.420*\"eps\" + 0.354*\"interface\" + 0.339*\"human\" + -0.148*\"user\" + -0.058*\"minors\" + 0.047*\"trees\" + -0.034*\"graph\" + 0.027*\"survey\"\n"
     ]
    }
   ],
   "source": [
    "another_tfidf_corpus = corpus_tfidf\n",
    "model.add_documents(another_tfidf_corpus) # now LSI has been trained on tfidf_corpus + another_tfidf_corpus lsi_vec = model[tfidf_vec] # convert some new document into the LSI space, without affecting the model\n",
    "\n",
    "more_documents = corpus_tfidf\n",
    "model.add_documents(more_documents) # tfidf_corpus + another_tfidf_corpus + more_documents lsi_vec = model[tfidf_vec]"
   ]
  },
  {
   "cell_type": "code",
   "execution_count": 63,
   "metadata": {},
   "outputs": [
    {
     "name": "stderr",
     "output_type": "stream",
     "text": [
      "2019-03-06 07:13:09.592 INFO in 'gensim.models.rpmodel'['rpmodel'] at line 84: no word id mapping provided; initializing from corpus, assuming identity\n",
      "2019-03-06 07:13:09.598 DEBUG in 'smart_open.smart_open_lib'['smart_open_lib'] at line 176: {'kw': {}, 'mode': 'rb', 'uri': 'C:\\\\Users\\\\Home\\\\AppData\\\\Local\\\\Temp\\\\deerwester.mm'}\n",
      "2019-03-06 07:13:09.603 INFO in 'gensim.models.rpmodel'['rpmodel'] at line 93: constructing (500, 12) random matrix\n"
     ]
    }
   ],
   "source": [
    "model = models.RpModel(corpus_tfidf, num_topics=500)"
   ]
  },
  {
   "cell_type": "code",
   "execution_count": 64,
   "metadata": {},
   "outputs": [
    {
     "name": "stderr",
     "output_type": "stream",
     "text": [
      "2019-03-06 07:13:13.660 INFO in 'gensim.models.ldamodel'['ldamodel'] at line 557: using symmetric alpha at 0.01\n",
      "2019-03-06 07:13:13.666 INFO in 'gensim.models.ldamodel'['ldamodel'] at line 557: using symmetric eta at 0.01\n",
      "2019-03-06 07:13:13.672 INFO in 'gensim.models.ldamodel'['ldamodel'] at line 481: using serial LDA version on this node\n",
      "2019-03-06 07:13:13.724 INFO in 'gensim.models.ldamodel'['ldamodel'] at line 919: running online (single-pass) LDA training, 100 topics, 1 passes over the supplied corpus of 9 documents, updating model once every 9 documents, evaluating perplexity every 9 documents, iterating 50x with a convergence threshold of 0.001000\n",
      "2019-03-06 07:13:13.727 WARNING in 'gensim.models.ldamodel'['ldamodel'] at line 924: too few updates, training might not converge; consider increasing the number of passes or iterations to improve accuracy\n",
      "2019-03-06 07:13:13.731 DEBUG in 'smart_open.smart_open_lib'['smart_open_lib'] at line 176: {'kw': {}, 'mode': 'rb', 'uri': 'C:\\\\Users\\\\Home\\\\AppData\\\\Local\\\\Temp\\\\deerwester.mm'}\n",
      "2019-03-06 07:13:13.735 DEBUG in 'gensim.models.ldamodel'['ldamodel'] at line 1073: bound: at document #0\n",
      "2019-03-06 07:13:14.201 INFO in 'gensim.models.ldamodel'['ldamodel'] at line 814: -172.966 per-word bound, 11691439211651269015953422753963797907737078086500352.0 perplexity estimate based on a held-out corpus of 9 documents with 29 words\n",
      "2019-03-06 07:13:14.210 INFO in 'gensim.models.ldamodel'['ldamodel'] at line 968: PROGRESS: pass 0, at document #9/9\n",
      "2019-03-06 07:13:14.217 DEBUG in 'gensim.models.ldamodel'['ldamodel'] at line 638: performing inference on a chunk of 9 documents\n",
      "2019-03-06 07:13:14.249 DEBUG in 'gensim.models.ldamodel'['ldamodel'] at line 700: 9/9 documents converged within 50 iterations\n",
      "2019-03-06 07:13:14.264 DEBUG in 'gensim.models.ldamodel'['ldamodel'] at line 1027: updating topics\n",
      "2019-03-06 07:13:14.307 INFO in 'gensim.models.ldamodel'['ldamodel'] at line 1159: topic #6 (0.010): 0.083*\"user\" + 0.083*\"system\" + 0.083*\"graph\" + 0.083*\"trees\" + 0.083*\"eps\" + 0.083*\"computer\" + 0.083*\"time\" + 0.083*\"interface\" + 0.083*\"response\" + 0.083*\"human\"\n",
      "2019-03-06 07:13:14.328 INFO in 'gensim.models.ldamodel'['ldamodel'] at line 1159: topic #69 (0.010): 0.083*\"user\" + 0.083*\"system\" + 0.083*\"graph\" + 0.083*\"trees\" + 0.083*\"eps\" + 0.083*\"computer\" + 0.083*\"time\" + 0.083*\"interface\" + 0.083*\"response\" + 0.083*\"human\"\n",
      "2019-03-06 07:13:14.342 INFO in 'gensim.models.ldamodel'['ldamodel'] at line 1159: topic #51 (0.010): 0.083*\"user\" + 0.083*\"system\" + 0.083*\"graph\" + 0.083*\"trees\" + 0.083*\"eps\" + 0.083*\"computer\" + 0.083*\"time\" + 0.083*\"interface\" + 0.083*\"response\" + 0.083*\"human\"\n",
      "2019-03-06 07:13:14.351 INFO in 'gensim.models.ldamodel'['ldamodel'] at line 1159: topic #2 (0.010): 0.083*\"user\" + 0.083*\"system\" + 0.083*\"graph\" + 0.083*\"trees\" + 0.083*\"eps\" + 0.083*\"computer\" + 0.083*\"time\" + 0.083*\"interface\" + 0.083*\"response\" + 0.083*\"human\"\n",
      "2019-03-06 07:13:14.359 INFO in 'gensim.models.ldamodel'['ldamodel'] at line 1159: topic #92 (0.010): 0.083*\"user\" + 0.083*\"system\" + 0.083*\"graph\" + 0.083*\"trees\" + 0.083*\"eps\" + 0.083*\"computer\" + 0.083*\"time\" + 0.083*\"interface\" + 0.083*\"response\" + 0.083*\"human\"\n",
      "2019-03-06 07:13:14.389 INFO in 'gensim.models.ldamodel'['ldamodel'] at line 1037: topic diff=88.044838, rho=1.000000\n"
     ]
    }
   ],
   "source": [
    "model = models.LdaModel(corpus, id2word=dictionary, num_topics=100)"
   ]
  },
  {
   "cell_type": "code",
   "execution_count": 70,
   "metadata": {},
   "outputs": [
    {
     "name": "stderr",
     "output_type": "stream",
     "text": [
      "2019-03-06 07:13:57.795 DEBUG in 'smart_open.smart_open_lib'['smart_open_lib'] at line 176: {'kw': {}, 'mode': 'rb', 'uri': 'C:\\\\Users\\\\Home\\\\AppData\\\\Local\\\\Temp\\\\deerwester.mm'}\n",
      "2019-03-06 07:13:57.819 INFO in 'gensim.models.hdpmodel'['hdpmodel'] at line 1062: (0, '0.366*computer + 0.142*user + 0.120*human + 0.104*survey + 0.064*trees + 0.056*system + 0.052*interface + 0.037*eps + 0.023*graph + 0.023*minors')\n",
      "2019-03-06 07:13:57.822 INFO in 'gensim.models.hdpmodel'['hdpmodel'] at line 1062: (1, '0.196*trees + 0.136*system + 0.134*graph + 0.118*time + 0.106*user + 0.097*human + 0.081*interface + 0.073*survey + 0.030*computer + 0.016*eps')\n",
      "2019-03-06 07:13:57.826 INFO in 'gensim.models.hdpmodel'['hdpmodel'] at line 1062: (2, '0.240*graph + 0.192*response + 0.112*user + 0.107*time + 0.091*computer + 0.074*interface + 0.069*human + 0.044*trees + 0.035*system + 0.015*survey')\n",
      "2019-03-06 07:13:57.829 INFO in 'gensim.models.hdpmodel'['hdpmodel'] at line 1062: (3, '0.222*minors + 0.168*trees + 0.139*interface + 0.113*survey + 0.103*time + 0.087*system + 0.068*response + 0.031*graph + 0.027*computer + 0.026*eps')\n",
      "2019-03-06 07:13:57.832 INFO in 'gensim.models.hdpmodel'['hdpmodel'] at line 1062: (4, '0.257*minors + 0.200*interface + 0.153*system + 0.138*survey + 0.086*time + 0.057*computer + 0.039*user + 0.029*response + 0.024*eps + 0.007*trees')\n",
      "2019-03-06 07:13:57.835 INFO in 'gensim.models.hdpmodel'['hdpmodel'] at line 1062: (5, '0.259*interface + 0.129*minors + 0.114*system + 0.106*computer + 0.106*graph + 0.090*eps + 0.071*response + 0.066*human + 0.031*time + 0.017*trees')\n",
      "2019-03-06 07:13:57.838 INFO in 'gensim.models.hdpmodel'['hdpmodel'] at line 1062: (6, '0.229*minors + 0.195*user + 0.168*graph + 0.086*time + 0.068*interface + 0.059*trees + 0.054*human + 0.048*response + 0.035*survey + 0.028*eps')\n",
      "2019-03-06 07:13:57.841 INFO in 'gensim.models.hdpmodel'['hdpmodel'] at line 1062: (7, '0.279*interface + 0.182*graph + 0.113*human + 0.098*eps + 0.097*minors + 0.096*system + 0.046*user + 0.034*time + 0.024*response + 0.013*trees')\n",
      "2019-03-06 07:13:57.845 INFO in 'gensim.models.hdpmodel'['hdpmodel'] at line 1062: (8, '0.422*time + 0.134*response + 0.125*trees + 0.070*minors + 0.061*human + 0.046*survey + 0.041*user + 0.035*eps + 0.034*graph + 0.016*computer')\n",
      "2019-03-06 07:13:57.848 INFO in 'gensim.models.hdpmodel'['hdpmodel'] at line 1062: (9, '0.307*minors + 0.134*human + 0.128*graph + 0.124*interface + 0.083*user + 0.074*time + 0.065*system + 0.039*trees + 0.031*response + 0.009*eps')\n",
      "2019-03-06 07:13:57.850 INFO in 'gensim.models.hdpmodel'['hdpmodel'] at line 1062: (10, '0.237*graph + 0.190*human + 0.176*user + 0.128*survey + 0.103*interface + 0.056*time + 0.043*response + 0.024*eps + 0.018*system + 0.013*computer')\n",
      "2019-03-06 07:13:57.852 INFO in 'gensim.models.hdpmodel'['hdpmodel'] at line 1062: (11, '0.216*response + 0.167*graph + 0.137*interface + 0.104*minors + 0.082*trees + 0.082*human + 0.068*survey + 0.049*time + 0.043*user + 0.039*computer')\n",
      "2019-03-06 07:13:57.854 INFO in 'gensim.models.hdpmodel'['hdpmodel'] at line 1062: (12, '0.284*survey + 0.172*response + 0.145*eps + 0.104*system + 0.080*interface + 0.068*user + 0.055*graph + 0.039*trees + 0.022*minors + 0.018*time')\n",
      "2019-03-06 07:13:57.856 INFO in 'gensim.models.hdpmodel'['hdpmodel'] at line 1062: (13, '0.215*computer + 0.195*eps + 0.115*time + 0.113*interface + 0.110*human + 0.091*user + 0.044*minors + 0.044*trees + 0.041*response + 0.016*system')\n",
      "2019-03-06 07:13:57.858 INFO in 'gensim.models.hdpmodel'['hdpmodel'] at line 1062: (14, '0.595*graph + 0.118*user + 0.078*trees + 0.049*time + 0.046*system + 0.026*response + 0.026*computer + 0.018*survey + 0.017*human + 0.010*minors')\n",
      "2019-03-06 07:13:57.860 INFO in 'gensim.models.hdpmodel'['hdpmodel'] at line 1062: (15, '0.380*response + 0.133*system + 0.127*computer + 0.101*time + 0.073*graph + 0.053*survey + 0.046*user + 0.043*human + 0.027*minors + 0.009*eps')\n",
      "2019-03-06 07:13:57.872 INFO in 'gensim.models.hdpmodel'['hdpmodel'] at line 1062: (16, '0.253*survey + 0.217*system + 0.146*time + 0.079*user + 0.057*graph + 0.054*interface + 0.053*response + 0.035*eps + 0.032*computer + 0.028*trees')\n",
      "2019-03-06 07:13:57.875 INFO in 'gensim.models.hdpmodel'['hdpmodel'] at line 1062: (17, '0.268*interface + 0.144*user + 0.133*minors + 0.109*time + 0.107*response + 0.068*computer + 0.059*system + 0.052*graph + 0.031*human + 0.015*eps')\n",
      "2019-03-06 07:13:57.878 INFO in 'gensim.models.hdpmodel'['hdpmodel'] at line 1062: (18, '0.336*survey + 0.228*minors + 0.136*graph + 0.097*system + 0.055*computer + 0.050*response + 0.038*time + 0.026*human + 0.011*eps + 0.008*user')\n",
      "2019-03-06 07:13:57.881 INFO in 'gensim.models.hdpmodel'['hdpmodel'] at line 1062: (19, '0.240*response + 0.234*graph + 0.153*user + 0.143*trees + 0.063*minors + 0.045*survey + 0.037*eps + 0.033*interface + 0.024*time + 0.017*computer')\n"
     ]
    }
   ],
   "source": [
    "model = models.HdpModel(corpus, id2word=dictionary)"
   ]
  },
  {
   "cell_type": "code",
   "execution_count": 71,
   "metadata": {},
   "outputs": [
    {
     "name": "stderr",
     "output_type": "stream",
     "text": [
      "2019-03-06 07:14:09.768 INFO in 'gensim.models.lsimodel'['lsimodel'] at line 420: using serial LSI version on this node\n",
      "2019-03-06 07:14:09.776 INFO in 'gensim.models.lsimodel'['lsimodel'] at line 466: updating model with new documents\n",
      "2019-03-06 07:14:09.779 INFO in 'gensim.models.lsimodel'['lsimodel'] at line 492: preparing a new chunk of documents\n",
      "2019-03-06 07:14:09.783 DEBUG in 'gensim.models.lsimodel'['lsimodel'] at line 496: converting corpus to csc format\n",
      "2019-03-06 07:14:09.787 INFO in 'gensim.models.lsimodel'['lsimodel'] at line 912: using 100 extra samples and 2 power iterations\n",
      "2019-03-06 07:14:09.790 INFO in 'gensim.models.lsimodel'['lsimodel'] at line 920: 1st phase: constructing (12, 300) action matrix\n",
      "2019-03-06 07:14:09.793 INFO in 'gensim.models.lsimodel'['lsimodel'] at line 935: orthonormalizing (12, 300) action matrix\n",
      "2019-03-06 07:14:09.798 DEBUG in 'gensim.matutils'['matutils'] at line 1176: computing QR of (12, 300) dense matrix\n",
      "2019-03-06 07:14:09.802 DEBUG in 'gensim.models.lsimodel'['lsimodel'] at line 939: running 2 power iterations\n",
      "2019-03-06 07:14:09.805 DEBUG in 'gensim.matutils'['matutils'] at line 1176: computing QR of (12, 12) dense matrix\n",
      "2019-03-06 07:14:09.808 DEBUG in 'gensim.matutils'['matutils'] at line 1176: computing QR of (12, 12) dense matrix\n",
      "2019-03-06 07:14:09.811 INFO in 'gensim.models.lsimodel'['lsimodel'] at line 987: 2nd phase: running dense svd on (12, 9) matrix\n",
      "2019-03-06 07:14:09.813 INFO in 'gensim.models.lsimodel'['lsimodel'] at line 1013: computing the final decomposition\n",
      "2019-03-06 07:14:09.815 INFO in 'gensim.models.lsimodel'['lsimodel'] at line 106: keeping 9 factors (discarding 0.000% of energy spectrum)\n",
      "2019-03-06 07:14:09.817 INFO in 'gensim.models.lsimodel'['lsimodel'] at line 517: processed documents up to #9\n",
      "2019-03-06 07:14:09.819 INFO in 'gensim.models.lsimodel'['lsimodel'] at line 704: topic #0(3.341): 0.644*\"system\" + 0.404*\"user\" + 0.301*\"eps\" + 0.265*\"response\" + 0.265*\"time\" + 0.240*\"computer\" + 0.221*\"human\" + 0.206*\"survey\" + 0.198*\"interface\" + 0.036*\"graph\"\n",
      "2019-03-06 07:14:09.821 INFO in 'gensim.models.lsimodel'['lsimodel'] at line 704: topic #1(2.542): -0.623*\"graph\" + -0.490*\"trees\" + -0.451*\"minors\" + -0.274*\"survey\" + 0.167*\"system\" + 0.141*\"eps\" + 0.113*\"human\" + -0.107*\"response\" + -0.107*\"time\" + 0.072*\"interface\"\n",
      "2019-03-06 07:14:09.825 INFO in 'gensim.models.lsimodel'['lsimodel'] at line 704: topic #2(2.354): -0.426*\"response\" + -0.426*\"time\" + 0.361*\"system\" + -0.338*\"user\" + 0.330*\"eps\" + 0.289*\"human\" + 0.231*\"trees\" + 0.223*\"graph\" + -0.178*\"survey\" + -0.164*\"computer\"\n",
      "2019-03-06 07:14:09.828 INFO in 'gensim.models.lsimodel'['lsimodel'] at line 704: topic #3(1.645): -0.595*\"computer\" + -0.552*\"interface\" + -0.415*\"human\" + 0.333*\"system\" + 0.188*\"eps\" + 0.099*\"user\" + 0.074*\"time\" + 0.074*\"response\" + -0.032*\"survey\" + 0.025*\"trees\"\n",
      "2019-03-06 07:14:09.831 INFO in 'gensim.models.lsimodel'['lsimodel'] at line 704: topic #4(1.505): -0.594*\"trees\" + 0.537*\"survey\" + -0.332*\"user\" + 0.300*\"minors\" + -0.282*\"interface\" + 0.159*\"system\" + -0.115*\"eps\" + 0.107*\"computer\" + 0.106*\"human\" + -0.080*\"response\"\n"
     ]
    }
   ],
   "source": [
    "from gensim.test.utils import common_dictionary, common_corpus\n",
    "from gensim.models import LsiModel\n",
    "model = LsiModel(common_corpus, id2word=common_dictionary)\n",
    "vectorized_corpus = model[common_corpus]  # vectorize input copus in BoW format"
   ]
  },
  {
   "cell_type": "code",
   "execution_count": 73,
   "metadata": {},
   "outputs": [
    {
     "name": "stderr",
     "output_type": "stream",
     "text": [
      "2019-03-06 07:14:42.379 INFO in 'gensim.models.lsimodel'['lsimodel'] at line 420: using serial LSI version on this node\n",
      "2019-03-06 07:14:42.389 INFO in 'gensim.models.lsimodel'['lsimodel'] at line 466: updating model with new documents\n",
      "2019-03-06 07:14:42.396 INFO in 'gensim.models.lsimodel'['lsimodel'] at line 492: preparing a new chunk of documents\n",
      "2019-03-06 07:14:42.400 DEBUG in 'gensim.models.lsimodel'['lsimodel'] at line 496: converting corpus to csc format\n",
      "2019-03-06 07:14:42.403 INFO in 'gensim.models.lsimodel'['lsimodel'] at line 912: using 100 extra samples and 2 power iterations\n",
      "2019-03-06 07:14:42.406 INFO in 'gensim.models.lsimodel'['lsimodel'] at line 920: 1st phase: constructing (12, 300) action matrix\n",
      "2019-03-06 07:14:42.410 INFO in 'gensim.models.lsimodel'['lsimodel'] at line 935: orthonormalizing (12, 300) action matrix\n",
      "2019-03-06 07:14:42.413 DEBUG in 'gensim.matutils'['matutils'] at line 1176: computing QR of (12, 300) dense matrix\n",
      "2019-03-06 07:14:42.416 DEBUG in 'gensim.models.lsimodel'['lsimodel'] at line 939: running 2 power iterations\n",
      "2019-03-06 07:14:42.420 DEBUG in 'gensim.matutils'['matutils'] at line 1176: computing QR of (12, 12) dense matrix\n",
      "2019-03-06 07:14:42.423 DEBUG in 'gensim.matutils'['matutils'] at line 1176: computing QR of (12, 12) dense matrix\n",
      "2019-03-06 07:14:42.425 INFO in 'gensim.models.lsimodel'['lsimodel'] at line 987: 2nd phase: running dense svd on (12, 3) matrix\n",
      "2019-03-06 07:14:42.427 INFO in 'gensim.models.lsimodel'['lsimodel'] at line 1013: computing the final decomposition\n",
      "2019-03-06 07:14:42.429 INFO in 'gensim.models.lsimodel'['lsimodel'] at line 106: keeping 3 factors (discarding 0.000% of energy spectrum)\n",
      "2019-03-06 07:14:42.431 INFO in 'gensim.models.lsimodel'['lsimodel'] at line 517: processed documents up to #3\n",
      "2019-03-06 07:14:42.433 INFO in 'gensim.models.lsimodel'['lsimodel'] at line 704: topic #0(2.765): 0.479*\"user\" + 0.479*\"system\" + 0.394*\"computer\" + 0.291*\"time\" + 0.291*\"response\" + 0.291*\"survey\" + 0.291*\"interface\" + 0.188*\"eps\" + 0.103*\"human\" + 0.000*\"trees\"\n",
      "2019-03-06 07:14:42.435 INFO in 'gensim.models.lsimodel'['lsimodel'] at line 704: topic #1(1.732): -0.667*\"interface\" + -0.333*\"eps\" + 0.333*\"response\" + 0.333*\"survey\" + 0.333*\"time\" + -0.333*\"human\" + 0.000*\"computer\" + -0.000*\"system\" + -0.000*\"user\" + 0.000*\"trees\"\n",
      "2019-03-06 07:14:42.464 INFO in 'gensim.models.lsimodel'['lsimodel'] at line 704: topic #2(1.534): -0.587*\"computer\" + -0.499*\"human\" + 0.410*\"eps\" + 0.322*\"user\" + 0.322*\"system\" + -0.088*\"interface\" + -0.088*\"time\" + -0.088*\"survey\" + -0.088*\"response\" + 0.000*\"trees\"\n",
      "2019-03-06 07:14:42.470 INFO in 'gensim.models.lsimodel'['lsimodel'] at line 466: updating model with new documents\n",
      "2019-03-06 07:14:42.474 INFO in 'gensim.models.lsimodel'['lsimodel'] at line 492: preparing a new chunk of documents\n",
      "2019-03-06 07:14:42.479 DEBUG in 'gensim.models.lsimodel'['lsimodel'] at line 496: converting corpus to csc format\n",
      "2019-03-06 07:14:42.482 INFO in 'gensim.models.lsimodel'['lsimodel'] at line 912: using 100 extra samples and 2 power iterations\n",
      "2019-03-06 07:14:42.486 INFO in 'gensim.models.lsimodel'['lsimodel'] at line 920: 1st phase: constructing (12, 300) action matrix\n",
      "2019-03-06 07:14:42.489 INFO in 'gensim.models.lsimodel'['lsimodel'] at line 935: orthonormalizing (12, 300) action matrix\n",
      "2019-03-06 07:14:42.492 DEBUG in 'gensim.matutils'['matutils'] at line 1176: computing QR of (12, 300) dense matrix\n",
      "2019-03-06 07:14:42.496 DEBUG in 'gensim.models.lsimodel'['lsimodel'] at line 939: running 2 power iterations\n",
      "2019-03-06 07:14:42.499 DEBUG in 'gensim.matutils'['matutils'] at line 1176: computing QR of (12, 12) dense matrix\n",
      "2019-03-06 07:14:42.503 DEBUG in 'gensim.matutils'['matutils'] at line 1176: computing QR of (12, 12) dense matrix\n",
      "2019-03-06 07:14:42.507 INFO in 'gensim.models.lsimodel'['lsimodel'] at line 987: 2nd phase: running dense svd on (12, 5) matrix\n",
      "2019-03-06 07:14:42.511 INFO in 'gensim.models.lsimodel'['lsimodel'] at line 1013: computing the final decomposition\n",
      "2019-03-06 07:14:42.514 INFO in 'gensim.models.lsimodel'['lsimodel'] at line 106: keeping 5 factors (discarding 0.000% of energy spectrum)\n",
      "2019-03-06 07:14:42.517 INFO in 'gensim.models.lsimodel'['lsimodel'] at line 261: merging projections: (12, 3) + (12, 5)\n",
      "2019-03-06 07:14:42.520 DEBUG in 'gensim.models.lsimodel'['lsimodel'] at line 269: constructing orthogonal component\n",
      "2019-03-06 07:14:42.523 DEBUG in 'gensim.models.lsimodel'['lsimodel'] at line 127: converting (12, 3) array self.u to FORTRAN order\n",
      "2019-03-06 07:14:42.526 DEBUG in 'gensim.models.lsimodel'['lsimodel'] at line 149: converting (12, 3) array self.u to C order\n",
      "2019-03-06 07:14:42.529 DEBUG in 'gensim.matutils'['matutils'] at line 1176: computing QR of (12, 5) dense matrix\n",
      "2019-03-06 07:14:42.532 DEBUG in 'gensim.models.lsimodel'['lsimodel'] at line 284: computing SVD of (8, 8) dense matrix\n",
      "2019-03-06 07:14:42.535 INFO in 'gensim.models.lsimodel'['lsimodel'] at line 106: keeping 8 factors (discarding 0.000% of energy spectrum)\n",
      "2019-03-06 07:14:42.539 DEBUG in 'gensim.models.lsimodel'['lsimodel'] at line 306: updating orthonormal basis U\n",
      "2019-03-06 07:14:42.541 DEBUG in 'gensim.models.lsimodel'['lsimodel'] at line 149: converting (12, 5) array q to C order\n",
      "2019-03-06 07:14:42.544 INFO in 'gensim.models.lsimodel'['lsimodel'] at line 517: processed documents up to #5\n",
      "2019-03-06 07:14:42.547 INFO in 'gensim.models.lsimodel'['lsimodel'] at line 704: topic #0(3.037): 0.529*\"user\" + 0.393*\"time\" + 0.393*\"response\" + 0.386*\"system\" + 0.313*\"computer\" + 0.300*\"survey\" + 0.197*\"interface\" + 0.135*\"eps\" + 0.083*\"graph\" + 0.070*\"minors\"\n",
      "2019-03-06 07:14:42.551 INFO in 'gensim.models.lsimodel'['lsimodel'] at line 704: topic #1(2.517): -0.656*\"graph\" + -0.534*\"trees\" + -0.468*\"minors\" + -0.182*\"survey\" + 0.103*\"user\" + 0.069*\"system\" + 0.065*\"interface\" + 0.059*\"response\" + 0.059*\"time\" + 0.045*\"computer\"\n",
      "2019-03-06 07:14:42.554 INFO in 'gensim.models.lsimodel'['lsimodel'] at line 704: topic #2(1.882): 0.659*\"interface\" + -0.339*\"response\" + -0.339*\"time\" + 0.334*\"human\" + 0.325*\"eps\" + 0.190*\"computer\" + -0.190*\"survey\" + 0.181*\"system\" + 0.111*\"trees\" + 0.034*\"graph\"\n",
      "2019-03-06 07:14:42.556 INFO in 'gensim.models.lsimodel'['lsimodel'] at line 704: topic #3(1.568): 0.544*\"computer\" + 0.400*\"human\" + -0.361*\"eps\" + 0.350*\"survey\" + -0.348*\"user\" + -0.319*\"trees\" + -0.217*\"system\" + 0.140*\"minors\" + 0.039*\"interface\" + 0.017*\"graph\"\n",
      "2019-03-06 07:14:42.559 INFO in 'gensim.models.lsimodel'['lsimodel'] at line 704: topic #4(1.433): 0.608*\"trees\" + -0.404*\"survey\" + -0.353*\"minors\" + 0.257*\"computer\" + -0.244*\"eps\" + 0.239*\"human\" + -0.226*\"system\" + 0.218*\"response\" + 0.218*\"time\" + -0.111*\"graph\"\n",
      "2019-03-06 07:14:42.561 INFO in 'gensim.utils'['utils'] at line 542: saving Projection object under C:\\Users\\Home\\AppData\\Local\\Temp\\lsi.model.projection, separately None\n",
      "2019-03-06 07:14:42.564 DEBUG in 'smart_open.smart_open_lib'['smart_open_lib'] at line 176: {'kw': {}, 'mode': 'wb', 'uri': 'C:\\\\Users\\\\Home\\\\AppData\\\\Local\\\\Temp\\\\lsi.model.projection'}\n",
      "2019-03-06 07:14:42.567 INFO in 'gensim.utils'['utils'] at line 556: saved C:\\Users\\Home\\AppData\\Local\\Temp\\lsi.model.projection\n",
      "2019-03-06 07:14:42.569 INFO in 'gensim.utils'['utils'] at line 542: saving LsiModel object under C:\\Users\\Home\\AppData\\Local\\Temp\\lsi.model, separately None\n",
      "2019-03-06 07:14:42.588 INFO in 'gensim.utils'['utils'] at line 648: not storing attribute projection\n",
      "2019-03-06 07:14:42.596 INFO in 'gensim.utils'['utils'] at line 648: not storing attribute dispatcher\n",
      "2019-03-06 07:14:42.598 DEBUG in 'smart_open.smart_open_lib'['smart_open_lib'] at line 176: {'kw': {}, 'mode': 'wb', 'uri': 'C:\\\\Users\\\\Home\\\\AppData\\\\Local\\\\Temp\\\\lsi.model'}\n",
      "2019-03-06 07:14:42.602 INFO in 'gensim.utils'['utils'] at line 556: saved C:\\Users\\Home\\AppData\\Local\\Temp\\lsi.model\n",
      "2019-03-06 07:14:42.604 INFO in 'gensim.utils'['utils'] at line 422: loading LsiModel object from C:\\Users\\Home\\AppData\\Local\\Temp\\lsi.model\n",
      "2019-03-06 07:14:42.606 DEBUG in 'smart_open.smart_open_lib'['smart_open_lib'] at line 176: {'kw': {}, 'mode': 'rb', 'uri': 'C:\\\\Users\\\\Home\\\\AppData\\\\Local\\\\Temp\\\\lsi.model'}\n",
      "2019-03-06 07:14:42.608 INFO in 'gensim.utils'['utils'] at line 456: loading id2word recursively from C:\\Users\\Home\\AppData\\Local\\Temp\\lsi.model.id2word.* with mmap=None\n",
      "2019-03-06 07:14:42.610 INFO in 'gensim.utils'['utils'] at line 494: setting ignored attribute projection to None\n",
      "2019-03-06 07:14:42.624 INFO in 'gensim.utils'['utils'] at line 494: setting ignored attribute dispatcher to None\n",
      "2019-03-06 07:14:42.627 INFO in 'gensim.utils'['utils'] at line 428: loaded C:\\Users\\Home\\AppData\\Local\\Temp\\lsi.model\n",
      "2019-03-06 07:14:42.635 INFO in 'gensim.utils'['utils'] at line 422: loading LsiModel object from C:\\Users\\Home\\AppData\\Local\\Temp\\lsi.model.projection\n",
      "2019-03-06 07:14:42.640 DEBUG in 'smart_open.smart_open_lib'['smart_open_lib'] at line 176: {'kw': {}, 'mode': 'rb', 'uri': 'C:\\\\Users\\\\Home\\\\AppData\\\\Local\\\\Temp\\\\lsi.model.projection'}\n",
      "2019-03-06 07:14:42.644 INFO in 'gensim.utils'['utils'] at line 428: loaded C:\\Users\\Home\\AppData\\Local\\Temp\\lsi.model.projection\n"
     ]
    }
   ],
   "source": [
    "from gensim.test.utils import common_corpus, common_dictionary, get_tmpfile\n",
    "from gensim.models import LsiModel\n",
    "model = LsiModel(common_corpus[:3], id2word=common_dictionary)  # train model\n",
    "vector = model[common_corpus[4]]  # apply model to BoW document\n",
    "model.add_documents(common_corpus[4:])  # update model with new documents\n",
    "tmp_fname = get_tmpfile(\"lsi.model\")\n",
    "model.save(tmp_fname)  # save model\n",
    "loaded_model = LsiModel.load(tmp_fname)  # load model"
   ]
  },
  {
   "cell_type": "code",
   "execution_count": 74,
   "metadata": {},
   "outputs": [
    {
     "name": "stderr",
     "output_type": "stream",
     "text": [
      "2019-03-06 07:14:56.19 INFO in 'gensim.corpora.dictionary'['dictionary'] at line 202: adding document #0 to Dictionary(0 unique tokens: [])\n",
      "2019-03-06 07:14:56.22 INFO in 'gensim.corpora.dictionary'['dictionary'] at line 209: built Dictionary(12 unique tokens: ['computer', 'human', 'interface', 'response', 'survey']...) from 9 documents (total 29 corpus positions)\n",
      "2019-03-06 07:14:56.26 INFO in 'gensim.models.rpmodel'['rpmodel'] at line 93: constructing (300, 12) random matrix\n",
      "2019-03-06 07:14:56.124 INFO in 'gensim.utils'['utils'] at line 542: saving RpModel object under C:\\Users\\Home\\AppData\\Local\\Temp\\tmpzeanjqzd\\model_file, separately None\n",
      "2019-03-06 07:14:56.133 DEBUG in 'smart_open.smart_open_lib'['smart_open_lib'] at line 176: {'kw': {}, 'mode': 'wb', 'uri': 'C:\\\\Users\\\\Home\\\\AppData\\\\Local\\\\Temp\\\\tmpzeanjqzd\\\\model_file'}\n",
      "2019-03-06 07:14:56.139 INFO in 'gensim.utils'['utils'] at line 556: saved C:\\Users\\Home\\AppData\\Local\\Temp\\tmpzeanjqzd\\model_file\n",
      "2019-03-06 07:14:56.149 INFO in 'gensim.utils'['utils'] at line 422: loading RpModel object from C:\\Users\\Home\\AppData\\Local\\Temp\\tmpzeanjqzd\\model_file\n",
      "2019-03-06 07:14:56.153 DEBUG in 'smart_open.smart_open_lib'['smart_open_lib'] at line 176: {'kw': {}, 'mode': 'rb', 'uri': 'C:\\\\Users\\\\Home\\\\AppData\\\\Local\\\\Temp\\\\tmpzeanjqzd\\\\model_file'}\n",
      "2019-03-06 07:14:56.157 INFO in 'gensim.utils'['utils'] at line 456: loading id2word recursively from C:\\Users\\Home\\AppData\\Local\\Temp\\tmpzeanjqzd\\model_file.id2word.* with mmap=None\n",
      "2019-03-06 07:14:56.164 INFO in 'gensim.utils'['utils'] at line 428: loaded C:\\Users\\Home\\AppData\\Local\\Temp\\tmpzeanjqzd\\model_file\n"
     ]
    }
   ],
   "source": [
    "from gensim.models import RpModel\n",
    "from gensim.corpora import Dictionary\n",
    "from gensim.test.utils import common_texts, temporary_file\n",
    "dictionary = Dictionary(common_texts)  # fit dictionary\n",
    "corpus = [dictionary.doc2bow(text) for text in common_texts]  # convert texts to BoW format\n",
    "model = RpModel(corpus, id2word=dictionary)  # fit model\n",
    "result = model[corpus[3]]  # apply model to document, result is vector in BoW format\n",
    "with temporary_file(\"model_file\") as fname:\n",
    "    model.save(fname)  # save model to file\n",
    "    loaded_model = RpModel.load(fname)  # load model"
   ]
  },
  {
   "cell_type": "code",
   "execution_count": 75,
   "metadata": {},
   "outputs": [
    {
     "name": "stderr",
     "output_type": "stream",
     "text": [
      "2019-03-06 07:15:03.602 INFO in 'gensim.corpora.dictionary'['dictionary'] at line 202: adding document #0 to Dictionary(0 unique tokens: [])\n",
      "2019-03-06 07:15:03.609 INFO in 'gensim.corpora.dictionary'['dictionary'] at line 209: built Dictionary(12 unique tokens: ['computer', 'human', 'interface', 'response', 'survey']...) from 9 documents (total 29 corpus positions)\n",
      "2019-03-06 07:15:03.612 INFO in 'gensim.models.rpmodel'['rpmodel'] at line 93: constructing (300, 12) random matrix\n"
     ]
    }
   ],
   "source": [
    "\n",
    "from gensim.models import RpModel\n",
    "from gensim.corpora import Dictionary\n",
    "from gensim.test.utils import common_texts\n",
    "dictionary = Dictionary(common_texts)  # fit dictionary\n",
    "corpus = [dictionary.doc2bow(text) for text in common_texts]  # convert texts to BoW format\n",
    "model = RpModel(corpus, id2word=dictionary)  # fit model\n",
    "# apply model to document, result is vector in BoW format, i.e. [(1, 0.3), ... ]\n",
    "result = model[corpus[0]]"
   ]
  },
  {
   "cell_type": "code",
   "execution_count": 76,
   "metadata": {},
   "outputs": [
    {
     "name": "stderr",
     "output_type": "stream",
     "text": [
      "2019-03-06 07:15:09.273 INFO in 'gensim.corpora.dictionary'['dictionary'] at line 202: adding document #0 to Dictionary(0 unique tokens: [])\n",
      "2019-03-06 07:15:09.280 INFO in 'gensim.corpora.dictionary'['dictionary'] at line 209: built Dictionary(12 unique tokens: ['computer', 'human', 'interface', 'response', 'survey']...) from 9 documents (total 29 corpus positions)\n",
      "2019-03-06 07:15:09.283 WARNING in 'gensim.models.ldamodel'['ldamodel'] at line 432: no word id mapping provided; initializing from corpus, assuming identity\n",
      "2019-03-06 07:15:09.285 INFO in 'gensim.models.ldamodel'['ldamodel'] at line 557: using symmetric alpha at 0.1\n",
      "2019-03-06 07:15:09.287 INFO in 'gensim.models.ldamodel'['ldamodel'] at line 557: using symmetric eta at 0.1\n",
      "2019-03-06 07:15:09.289 INFO in 'gensim.models.ldamodel'['ldamodel'] at line 481: using serial LDA version on this node\n",
      "2019-03-06 07:15:09.307 INFO in 'gensim.models.ldamodel'['ldamodel'] at line 919: running online (single-pass) LDA training, 10 topics, 1 passes over the supplied corpus of 9 documents, updating model once every 9 documents, evaluating perplexity every 9 documents, iterating 50x with a convergence threshold of 0.001000\n",
      "2019-03-06 07:15:09.310 WARNING in 'gensim.models.ldamodel'['ldamodel'] at line 924: too few updates, training might not converge; consider increasing the number of passes or iterations to improve accuracy\n",
      "2019-03-06 07:15:09.313 DEBUG in 'gensim.models.ldamodel'['ldamodel'] at line 1073: bound: at document #0\n",
      "2019-03-06 07:15:09.322 INFO in 'gensim.models.ldamodel'['ldamodel'] at line 814: -8.246 per-word bound, 303.5 perplexity estimate based on a held-out corpus of 9 documents with 29 words\n",
      "2019-03-06 07:15:09.325 INFO in 'gensim.models.ldamodel'['ldamodel'] at line 968: PROGRESS: pass 0, at document #9/9\n",
      "2019-03-06 07:15:09.326 DEBUG in 'gensim.models.ldamodel'['ldamodel'] at line 638: performing inference on a chunk of 9 documents\n",
      "2019-03-06 07:15:09.333 DEBUG in 'gensim.models.ldamodel'['ldamodel'] at line 700: 9/9 documents converged within 50 iterations\n",
      "2019-03-06 07:15:09.335 DEBUG in 'gensim.models.ldamodel'['ldamodel'] at line 1027: updating topics\n",
      "2019-03-06 07:15:09.336 INFO in 'gensim.models.ldamodel'['ldamodel'] at line 1159: topic #3 (0.100): 0.339*\"5\" + 0.177*\"8\" + 0.177*\"1\" + 0.177*\"9\" + 0.016*\"10\" + 0.016*\"7\" + 0.016*\"11\" + 0.016*\"2\" + 0.016*\"0\" + 0.016*\"6\"\n",
      "2019-03-06 07:15:09.338 INFO in 'gensim.models.ldamodel'['ldamodel'] at line 1159: topic #2 (0.100): 0.153*\"7\" + 0.153*\"4\" + 0.153*\"11\" + 0.153*\"3\" + 0.153*\"10\" + 0.153*\"6\" + 0.014*\"9\" + 0.014*\"5\" + 0.014*\"1\" + 0.014*\"8\"\n",
      "2019-03-06 07:15:09.363 INFO in 'gensim.models.ldamodel'['ldamodel'] at line 1159: topic #6 (0.100): 0.262*\"9\" + 0.262*\"11\" + 0.262*\"10\" + 0.024*\"5\" + 0.024*\"7\" + 0.024*\"1\" + 0.024*\"0\" + 0.024*\"6\" + 0.024*\"3\" + 0.024*\"2\"\n",
      "2019-03-06 07:15:09.368 INFO in 'gensim.models.ldamodel'['ldamodel'] at line 1159: topic #9 (0.100): 0.212*\"5\" + 0.212*\"2\" + 0.212*\"8\" + 0.212*\"7\" + 0.019*\"9\" + 0.019*\"10\" + 0.019*\"6\" + 0.019*\"1\" + 0.019*\"0\" + 0.019*\"11\"\n",
      "2019-03-06 07:15:09.371 INFO in 'gensim.models.ldamodel'['ldamodel'] at line 1159: topic #8 (0.100): 0.262*\"2\" + 0.262*\"1\" + 0.262*\"0\" + 0.024*\"9\" + 0.024*\"10\" + 0.024*\"7\" + 0.024*\"5\" + 0.024*\"3\" + 0.024*\"11\" + 0.024*\"8\"\n",
      "2019-03-06 07:15:09.374 INFO in 'gensim.models.ldamodel'['ldamodel'] at line 1037: topic diff=6.463061, rho=1.000000\n"
     ]
    }
   ],
   "source": [
    "#Train an LDA model using a Gensim corpus\n",
    "\n",
    "from gensim.test.utils import common_texts\n",
    "from gensim.corpora.dictionary import Dictionary\n",
    "from gensim.models import LdaModel\n",
    "\n",
    "# Create a corpus from a list of texts\n",
    "common_dictionary = Dictionary(common_texts)\n",
    "common_corpus = [common_dictionary.doc2bow(text) for text in common_texts]\n",
    "# Train the model on the corpus.\n",
    "lda = LdaModel(common_corpus, num_topics=10)"
   ]
  },
  {
   "cell_type": "code",
   "execution_count": 77,
   "metadata": {},
   "outputs": [
    {
     "name": "stderr",
     "output_type": "stream",
     "text": [
      "2019-03-06 07:15:19.207 INFO in 'gensim.utils'['utils'] at line 542: saving LdaState object under C:\\Users\\Home\\Anaconda2\\envs\\tensorflow\\lib\\site-packages\\gensim\\test\\test_data\\model.state, separately None\n",
      "2019-03-06 07:15:19.210 DEBUG in 'smart_open.smart_open_lib'['smart_open_lib'] at line 176: {'kw': {}, 'mode': 'wb', 'uri': 'C:\\\\Users\\\\Home\\\\Anaconda2\\\\envs\\\\tensorflow\\\\lib\\\\site-packages\\\\gensim\\\\test\\\\test_data\\\\model.state'}\n",
      "2019-03-06 07:15:19.231 INFO in 'gensim.utils'['utils'] at line 556: saved C:\\Users\\Home\\Anaconda2\\envs\\tensorflow\\lib\\site-packages\\gensim\\test\\test_data\\model.state\n",
      "2019-03-06 07:15:19.235 DEBUG in 'smart_open.smart_open_lib'['smart_open_lib'] at line 176: {'kw': {}, 'mode': 'wb', 'uri': 'C:\\\\Users\\\\Home\\\\Anaconda2\\\\envs\\\\tensorflow\\\\lib\\\\site-packages\\\\gensim\\\\test\\\\test_data\\\\model.id2word'}\n",
      "2019-03-06 07:15:19.239 INFO in 'gensim.utils'['utils'] at line 542: saving LdaModel object under C:\\Users\\Home\\Anaconda2\\envs\\tensorflow\\lib\\site-packages\\gensim\\test\\test_data\\model, separately ['expElogbeta', 'sstats']\n",
      "2019-03-06 07:15:19.253 INFO in 'gensim.utils'['utils'] at line 616: storing np array 'expElogbeta' to C:\\Users\\Home\\Anaconda2\\envs\\tensorflow\\lib\\site-packages\\gensim\\test\\test_data\\model.expElogbeta.npy\n",
      "2019-03-06 07:15:19.386 INFO in 'gensim.utils'['utils'] at line 648: not storing attribute dispatcher\n",
      "2019-03-06 07:15:19.390 INFO in 'gensim.utils'['utils'] at line 648: not storing attribute id2word\n",
      "2019-03-06 07:15:19.393 INFO in 'gensim.utils'['utils'] at line 648: not storing attribute state\n",
      "2019-03-06 07:15:19.397 DEBUG in 'smart_open.smart_open_lib'['smart_open_lib'] at line 176: {'kw': {}, 'mode': 'wb', 'uri': 'C:\\\\Users\\\\Home\\\\Anaconda2\\\\envs\\\\tensorflow\\\\lib\\\\site-packages\\\\gensim\\\\test\\\\test_data\\\\model'}\n",
      "2019-03-06 07:15:19.484 INFO in 'gensim.utils'['utils'] at line 556: saved C:\\Users\\Home\\Anaconda2\\envs\\tensorflow\\lib\\site-packages\\gensim\\test\\test_data\\model\n",
      "2019-03-06 07:15:19.490 INFO in 'gensim.utils'['utils'] at line 422: loading LdaModel object from C:\\Users\\Home\\Anaconda2\\envs\\tensorflow\\lib\\site-packages\\gensim\\test\\test_data\\model\n",
      "2019-03-06 07:15:19.494 DEBUG in 'smart_open.smart_open_lib'['smart_open_lib'] at line 176: {'kw': {}, 'mode': 'rb', 'uri': 'C:\\\\Users\\\\Home\\\\Anaconda2\\\\envs\\\\tensorflow\\\\lib\\\\site-packages\\\\gensim\\\\test\\\\test_data\\\\model'}\n",
      "2019-03-06 07:15:19.498 INFO in 'gensim.utils'['utils'] at line 461: loading expElogbeta from C:\\Users\\Home\\Anaconda2\\envs\\tensorflow\\lib\\site-packages\\gensim\\test\\test_data\\model.expElogbeta.npy with mmap=None\n",
      "2019-03-06 07:15:19.569 INFO in 'gensim.utils'['utils'] at line 494: setting ignored attribute dispatcher to None\n",
      "2019-03-06 07:15:19.574 INFO in 'gensim.utils'['utils'] at line 494: setting ignored attribute id2word to None\n",
      "2019-03-06 07:15:19.585 INFO in 'gensim.utils'['utils'] at line 494: setting ignored attribute state to None\n",
      "2019-03-06 07:15:19.590 INFO in 'gensim.utils'['utils'] at line 428: loaded C:\\Users\\Home\\Anaconda2\\envs\\tensorflow\\lib\\site-packages\\gensim\\test\\test_data\\model\n",
      "2019-03-06 07:15:19.594 INFO in 'gensim.utils'['utils'] at line 422: loading LdaState object from C:\\Users\\Home\\Anaconda2\\envs\\tensorflow\\lib\\site-packages\\gensim\\test\\test_data\\model.state\n",
      "2019-03-06 07:15:19.597 DEBUG in 'smart_open.smart_open_lib'['smart_open_lib'] at line 176: {'kw': {}, 'mode': 'rb', 'uri': 'C:\\\\Users\\\\Home\\\\Anaconda2\\\\envs\\\\tensorflow\\\\lib\\\\site-packages\\\\gensim\\\\test\\\\test_data\\\\model.state'}\n",
      "2019-03-06 07:15:19.603 INFO in 'gensim.utils'['utils'] at line 428: loaded C:\\Users\\Home\\Anaconda2\\envs\\tensorflow\\lib\\site-packages\\gensim\\test\\test_data\\model.state\n",
      "2019-03-06 07:15:19.606 DEBUG in 'smart_open.smart_open_lib'['smart_open_lib'] at line 176: {'kw': {}, 'mode': 'rb', 'uri': 'C:\\\\Users\\\\Home\\\\Anaconda2\\\\envs\\\\tensorflow\\\\lib\\\\site-packages\\\\gensim\\\\test\\\\test_data\\\\model.id2word'}\n"
     ]
    }
   ],
   "source": [
    "#Save a model to disk, or reload a pre-trained model\n",
    "from gensim.test.utils import datapath\n",
    "\n",
    "# Save model to disk.\n",
    "temp_file = datapath(\"model\")\n",
    "lda.save(temp_file)\n",
    "# Load a potentially pretrained model from disk.\n",
    "lda = LdaModel.load(temp_file)"
   ]
  },
  {
   "cell_type": "code",
   "execution_count": 78,
   "metadata": {},
   "outputs": [],
   "source": [
    "#Query, the model using new, unseen documents\n",
    "# Create a new corpus, made of previously unseen documents.\n",
    "other_texts = [\n",
    "    ['computer', 'time', 'graph'],\n",
    "    ['survey', 'response', 'eps'],\n",
    "    ['human', 'system', 'computer']\n",
    "]\n",
    "other_corpus = [common_dictionary.doc2bow(text) for text in other_texts]\n",
    "unseen_doc = other_corpus[0]\n",
    "vector = lda[unseen_doc]  # get topic probability distribution for a document"
   ]
  },
  {
   "cell_type": "code",
   "execution_count": 79,
   "metadata": {},
   "outputs": [
    {
     "name": "stderr",
     "output_type": "stream",
     "text": [
      "2019-03-06 07:15:32.891 INFO in 'gensim.models.ldamodel'['ldamodel'] at line 919: running online (single-pass) LDA training, 10 topics, 1 passes over the supplied corpus of 3 documents, updating model once every 3 documents, evaluating perplexity every 3 documents, iterating 50x with a convergence threshold of 0.001000\n",
      "2019-03-06 07:15:32.899 WARNING in 'gensim.models.ldamodel'['ldamodel'] at line 924: too few updates, training might not converge; consider increasing the number of passes or iterations to improve accuracy\n",
      "2019-03-06 07:15:32.905 DEBUG in 'gensim.models.ldamodel'['ldamodel'] at line 1073: bound: at document #0\n",
      "2019-03-06 07:15:32.911 INFO in 'gensim.models.ldamodel'['ldamodel'] at line 814: -7.827 per-word bound, 227.1 perplexity estimate based on a held-out corpus of 3 documents with 9 words\n",
      "2019-03-06 07:15:32.914 INFO in 'gensim.models.ldamodel'['ldamodel'] at line 968: PROGRESS: pass 0, at document #3/3\n",
      "2019-03-06 07:15:32.917 DEBUG in 'gensim.models.ldamodel'['ldamodel'] at line 638: performing inference on a chunk of 3 documents\n",
      "2019-03-06 07:15:32.921 DEBUG in 'gensim.models.ldamodel'['ldamodel'] at line 700: 3/3 documents converged within 50 iterations\n",
      "2019-03-06 07:15:32.925 DEBUG in 'gensim.models.ldamodel'['ldamodel'] at line 1027: updating topics\n",
      "2019-03-06 07:15:32.928 INFO in 'gensim.models.ldamodel'['ldamodel'] at line 230: merging changes from 3 documents into a model of 12 documents\n",
      "2019-03-06 07:15:32.931 INFO in 'gensim.models.ldamodel'['ldamodel'] at line 1159: topic #0 (0.100): 0.083*\"9\" + 0.083*\"10\" + 0.083*\"5\" + 0.083*\"2\" + 0.083*\"11\" + 0.083*\"0\" + 0.083*\"1\" + 0.083*\"7\" + 0.083*\"6\" + 0.083*\"3\"\n",
      "2019-03-06 07:15:32.934 INFO in 'gensim.models.ldamodel'['ldamodel'] at line 1159: topic #7 (0.100): 0.083*\"9\" + 0.083*\"10\" + 0.083*\"5\" + 0.083*\"7\" + 0.083*\"11\" + 0.083*\"8\" + 0.083*\"1\" + 0.083*\"6\" + 0.083*\"4\" + 0.083*\"0\"\n",
      "2019-03-06 07:15:32.936 INFO in 'gensim.models.ldamodel'['ldamodel'] at line 1159: topic #2 (0.100): 0.143*\"4\" + 0.143*\"3\" + 0.143*\"10\" + 0.143*\"6\" + 0.143*\"7\" + 0.143*\"11\" + 0.024*\"9\" + 0.024*\"5\" + 0.024*\"1\" + 0.024*\"8\"\n",
      "2019-03-06 07:15:32.939 INFO in 'gensim.models.ldamodel'['ldamodel'] at line 1159: topic #9 (0.100): 0.500*\"8\" + 0.115*\"5\" + 0.115*\"2\" + 0.115*\"7\" + 0.019*\"4\" + 0.019*\"3\" + 0.019*\"9\" + 0.019*\"10\" + 0.019*\"6\" + 0.019*\"1\"\n",
      "2019-03-06 07:15:32.941 INFO in 'gensim.models.ldamodel'['ldamodel'] at line 1159: topic #5 (0.100): 0.213*\"3\" + 0.213*\"4\" + 0.213*\"6\" + 0.213*\"0\" + 0.049*\"5\" + 0.049*\"7\" + 0.008*\"8\" + 0.008*\"10\" + 0.008*\"9\" + 0.008*\"11\"\n",
      "2019-03-06 07:15:32.943 INFO in 'gensim.models.ldamodel'['ldamodel'] at line 1037: topic diff=0.347597, rho=0.500000\n"
     ]
    }
   ],
   "source": [
    "#Update the model by incrementally training on the new corpus\n",
    "lda.update(other_corpus)\n",
    "vector = lda[unseen_doc]"
   ]
  },
  {
   "cell_type": "code",
   "execution_count": 80,
   "metadata": {},
   "outputs": [
    {
     "name": "stderr",
     "output_type": "stream",
     "text": [
      "2019-03-06 07:15:41.99 WARNING in 'gensim.models.ldamodel'['ldamodel'] at line 432: no word id mapping provided; initializing from corpus, assuming identity\n",
      "2019-03-06 07:15:41.108 INFO in 'gensim.models.ldamodel'['ldamodel'] at line 570: using autotuned alpha, starting with [0.02, 0.02, 0.02, 0.02, 0.02, 0.02, 0.02, 0.02, 0.02, 0.02, 0.02, 0.02, 0.02, 0.02, 0.02, 0.02, 0.02, 0.02, 0.02, 0.02, 0.02, 0.02, 0.02, 0.02, 0.02, 0.02, 0.02, 0.02, 0.02, 0.02, 0.02, 0.02, 0.02, 0.02, 0.02, 0.02, 0.02, 0.02, 0.02, 0.02, 0.02, 0.02, 0.02, 0.02, 0.02, 0.02, 0.02, 0.02, 0.02, 0.02]\n",
      "2019-03-06 07:15:41.114 INFO in 'gensim.models.ldamodel'['ldamodel'] at line 557: using symmetric eta at 0.02\n",
      "2019-03-06 07:15:41.117 INFO in 'gensim.models.ldamodel'['ldamodel'] at line 481: using serial LDA version on this node\n",
      "2019-03-06 07:15:41.121 INFO in 'gensim.models.ldamodel'['ldamodel'] at line 919: running online (single-pass) LDA training, 50 topics, 1 passes over the supplied corpus of 9 documents, updating model once every 9 documents, evaluating perplexity every 9 documents, iterating 50x with a convergence threshold of 0.001000\n",
      "2019-03-06 07:15:41.126 WARNING in 'gensim.models.ldamodel'['ldamodel'] at line 924: too few updates, training might not converge; consider increasing the number of passes or iterations to improve accuracy\n",
      "2019-03-06 07:15:41.130 DEBUG in 'gensim.models.ldamodel'['ldamodel'] at line 1073: bound: at document #0\n",
      "2019-03-06 07:15:41.138 INFO in 'gensim.models.ldamodel'['ldamodel'] at line 814: -53.465 per-word bound, 12431679330783190.0 perplexity estimate based on a held-out corpus of 9 documents with 29 words\n",
      "2019-03-06 07:15:41.141 INFO in 'gensim.models.ldamodel'['ldamodel'] at line 968: PROGRESS: pass 0, at document #9/9\n",
      "2019-03-06 07:15:41.144 DEBUG in 'gensim.models.ldamodel'['ldamodel'] at line 638: performing inference on a chunk of 9 documents\n",
      "2019-03-06 07:15:41.150 DEBUG in 'gensim.models.ldamodel'['ldamodel'] at line 700: 9/9 documents converged within 50 iterations\n",
      "2019-03-06 07:15:41.181 INFO in 'gensim.models.ldamodel'['ldamodel'] at line 759: optimized alpha [0.01930291, 0.01930291, 0.021589246, 0.01930291, 0.01930291, 0.01930291, 0.01930291, 0.01930291, 0.01930291, 0.01930291, 0.01930291, 0.01930291, 0.01930291, 0.021589246, 0.01930291, 0.01930291, 0.01930291, 0.01930291, 0.01930291, 0.01930291, 0.01930291, 0.021589246, 0.01930291, 0.01930291, 0.021603953, 0.01930291, 0.01930291, 0.021589246, 0.01930291, 0.01930291, 0.01930291, 0.021603953, 0.01930291, 0.01930291, 0.01930291, 0.01930291, 0.01930291, 0.01930291, 0.01930291, 0.021567257, 0.01930291, 0.01930291, 0.01930291, 0.01930291, 0.01930291, 0.02162385, 0.01930291, 0.01930291, 0.01930291, 0.01930291]\n",
      "2019-03-06 07:15:41.186 DEBUG in 'gensim.models.ldamodel'['ldamodel'] at line 1027: updating topics\n",
      "2019-03-06 07:15:41.189 INFO in 'gensim.models.ldamodel'['ldamodel'] at line 1159: topic #20 (0.019): 0.083*\"7\" + 0.083*\"5\" + 0.083*\"10\" + 0.083*\"9\" + 0.083*\"8\" + 0.083*\"0\" + 0.083*\"6\" + 0.083*\"2\" + 0.083*\"3\" + 0.083*\"1\"\n",
      "2019-03-06 07:15:41.193 INFO in 'gensim.models.ldamodel'['ldamodel'] at line 1159: topic #15 (0.019): 0.083*\"7\" + 0.083*\"5\" + 0.083*\"10\" + 0.083*\"9\" + 0.083*\"8\" + 0.083*\"0\" + 0.083*\"6\" + 0.083*\"2\" + 0.083*\"3\" + 0.083*\"1\"\n",
      "2019-03-06 07:15:41.196 INFO in 'gensim.models.ldamodel'['ldamodel'] at line 1159: topic #31 (0.022): 0.476*\"5\" + 0.241*\"8\" + 0.241*\"1\" + 0.005*\"7\" + 0.005*\"10\" + 0.005*\"9\" + 0.005*\"0\" + 0.005*\"2\" + 0.005*\"3\" + 0.005*\"6\"\n",
      "2019-03-06 07:15:41.199 INFO in 'gensim.models.ldamodel'['ldamodel'] at line 1159: topic #27 (0.022): 0.315*\"4\" + 0.315*\"10\" + 0.315*\"11\" + 0.006*\"7\" + 0.006*\"9\" + 0.006*\"8\" + 0.006*\"0\" + 0.006*\"2\" + 0.006*\"3\" + 0.006*\"6\"\n",
      "2019-03-06 07:15:41.202 INFO in 'gensim.models.ldamodel'['ldamodel'] at line 1159: topic #45 (0.022): 0.163*\"7\" + 0.163*\"6\" + 0.163*\"3\" + 0.163*\"5\" + 0.163*\"4\" + 0.163*\"0\" + 0.003*\"10\" + 0.003*\"8\" + 0.003*\"1\" + 0.003*\"9\"\n",
      "2019-03-06 07:15:41.205 INFO in 'gensim.models.ldamodel'['ldamodel'] at line 1037: topic diff=41.847485, rho=1.000000\n"
     ]
    }
   ],
   "source": [
    "#A lot of parameters can be tuned to optimize training for your specific type\n",
    "lda = LdaModel(common_corpus, num_topics=50, alpha='auto', eval_every=5)  # learn asymmetric alpha from data"
   ]
  },
  {
   "cell_type": "code",
   "execution_count": 81,
   "metadata": {},
   "outputs": [
    {
     "name": "stderr",
     "output_type": "stream",
     "text": [
      "2019-03-06 07:15:57.890 WARNING in 'gensim.models.ldamodel'['ldamodel'] at line 432: no word id mapping provided; initializing from corpus, assuming identity\n",
      "2019-03-06 07:15:57.899 INFO in 'gensim.models.ldamodel'['ldamodel'] at line 557: using symmetric alpha at 0.1\n",
      "2019-03-06 07:15:57.904 INFO in 'gensim.models.ldamodel'['ldamodel'] at line 557: using symmetric eta at 0.1\n",
      "2019-03-06 07:15:57.908 INFO in 'gensim.models.ldamodel'['ldamodel'] at line 481: using serial LDA version on this node\n",
      "2019-03-06 07:15:57.911 INFO in 'gensim.models.ldamodel'['ldamodel'] at line 919: running online (single-pass) LDA training, 10 topics, 1 passes over the supplied corpus of 9 documents, updating model once every 9 documents, evaluating perplexity every 9 documents, iterating 50x with a convergence threshold of 0.001000\n",
      "2019-03-06 07:15:57.915 WARNING in 'gensim.models.ldamodel'['ldamodel'] at line 924: too few updates, training might not converge; consider increasing the number of passes or iterations to improve accuracy\n",
      "2019-03-06 07:15:57.920 DEBUG in 'gensim.models.ldamodel'['ldamodel'] at line 1073: bound: at document #0\n",
      "2019-03-06 07:15:57.929 INFO in 'gensim.models.ldamodel'['ldamodel'] at line 814: -8.262 per-word bound, 306.9 perplexity estimate based on a held-out corpus of 9 documents with 29 words\n",
      "2019-03-06 07:15:57.932 INFO in 'gensim.models.ldamodel'['ldamodel'] at line 968: PROGRESS: pass 0, at document #9/9\n",
      "2019-03-06 07:15:57.935 DEBUG in 'gensim.models.ldamodel'['ldamodel'] at line 638: performing inference on a chunk of 9 documents\n",
      "2019-03-06 07:15:57.942 DEBUG in 'gensim.models.ldamodel'['ldamodel'] at line 700: 9/9 documents converged within 50 iterations\n",
      "2019-03-06 07:15:57.944 DEBUG in 'gensim.models.ldamodel'['ldamodel'] at line 1027: updating topics\n",
      "2019-03-06 07:15:57.946 INFO in 'gensim.models.ldamodel'['ldamodel'] at line 1159: topic #1 (0.100): 0.083*\"9\" + 0.083*\"10\" + 0.083*\"5\" + 0.083*\"11\" + 0.083*\"7\" + 0.083*\"2\" + 0.083*\"1\" + 0.083*\"8\" + 0.083*\"3\" + 0.083*\"6\"\n",
      "2019-03-06 07:15:57.948 INFO in 'gensim.models.ldamodel'['ldamodel'] at line 1159: topic #5 (0.100): 0.500*\"9\" + 0.045*\"10\" + 0.045*\"5\" + 0.045*\"7\" + 0.045*\"11\" + 0.045*\"1\" + 0.045*\"3\" + 0.045*\"2\" + 0.045*\"6\" + 0.045*\"8\"\n",
      "2019-03-06 07:15:57.950 INFO in 'gensim.models.ldamodel'['ldamodel'] at line 1159: topic #4 (0.100): 0.083*\"9\" + 0.083*\"10\" + 0.083*\"5\" + 0.083*\"2\" + 0.083*\"7\" + 0.083*\"11\" + 0.083*\"0\" + 0.083*\"1\" + 0.083*\"6\" + 0.083*\"3\"\n",
      "2019-03-06 07:15:57.952 INFO in 'gensim.models.ldamodel'['ldamodel'] at line 1159: topic #0 (0.100): 0.262*\"10\" + 0.262*\"4\" + 0.262*\"11\" + 0.024*\"9\" + 0.024*\"5\" + 0.024*\"1\" + 0.024*\"7\" + 0.024*\"2\" + 0.024*\"3\" + 0.024*\"0\"\n",
      "2019-03-06 07:15:57.954 INFO in 'gensim.models.ldamodel'['ldamodel'] at line 1159: topic #3 (0.100): 0.344*\"9\" + 0.344*\"10\" + 0.031*\"5\" + 0.031*\"11\" + 0.031*\"7\" + 0.031*\"1\" + 0.031*\"2\" + 0.031*\"3\" + 0.031*\"4\" + 0.031*\"8\"\n",
      "2019-03-06 07:15:57.958 INFO in 'gensim.models.ldamodel'['ldamodel'] at line 1037: topic diff=6.488442, rho=1.000000\n"
     ]
    }
   ],
   "source": [
    "#Initialize a model using a Gensim corpus\n",
    "from gensim.test.utils import common_corpus\n",
    "lda = LdaModel(common_corpus, num_topics=10)"
   ]
  },
  {
   "cell_type": "code",
   "execution_count": 82,
   "metadata": {},
   "outputs": [],
   "source": [
    "#You can then infer topic distributions on new, unseen documents.\n",
    "doc_bow = [(1, 0.3), (2, 0.1), (0, 0.09)]\n",
    "doc_lda = lda[doc_bow]"
   ]
  },
  {
   "cell_type": "code",
   "execution_count": 83,
   "metadata": {},
   "outputs": [
    {
     "name": "stderr",
     "output_type": "stream",
     "text": [
      "2019-03-06 07:16:08.17 INFO in 'gensim.models.ldamodel'['ldamodel'] at line 919: running online (single-pass) LDA training, 10 topics, 1 passes over the supplied corpus of 9 documents, updating model once every 9 documents, evaluating perplexity every 9 documents, iterating 50x with a convergence threshold of 0.001000\n",
      "2019-03-06 07:16:08.21 WARNING in 'gensim.models.ldamodel'['ldamodel'] at line 924: too few updates, training might not converge; consider increasing the number of passes or iterations to improve accuracy\n",
      "2019-03-06 07:16:08.24 DEBUG in 'gensim.models.ldamodel'['ldamodel'] at line 1073: bound: at document #0\n",
      "2019-03-06 07:16:08.31 INFO in 'gensim.models.ldamodel'['ldamodel'] at line 814: -4.152 per-word bound, 17.8 perplexity estimate based on a held-out corpus of 9 documents with 29 words\n",
      "2019-03-06 07:16:08.34 INFO in 'gensim.models.ldamodel'['ldamodel'] at line 968: PROGRESS: pass 0, at document #9/9\n",
      "2019-03-06 07:16:08.38 DEBUG in 'gensim.models.ldamodel'['ldamodel'] at line 638: performing inference on a chunk of 9 documents\n",
      "2019-03-06 07:16:08.43 DEBUG in 'gensim.models.ldamodel'['ldamodel'] at line 700: 9/9 documents converged within 50 iterations\n",
      "2019-03-06 07:16:08.46 DEBUG in 'gensim.models.ldamodel'['ldamodel'] at line 1027: updating topics\n",
      "2019-03-06 07:16:08.50 INFO in 'gensim.models.ldamodel'['ldamodel'] at line 230: merging changes from 9 documents into a model of 18 documents\n",
      "2019-03-06 07:16:08.53 INFO in 'gensim.models.ldamodel'['ldamodel'] at line 1159: topic #5 (0.100): 0.622*\"9\" + 0.034*\"10\" + 0.034*\"5\" + 0.034*\"7\" + 0.034*\"11\" + 0.034*\"1\" + 0.034*\"3\" + 0.034*\"2\" + 0.034*\"6\" + 0.034*\"8\"\n",
      "2019-03-06 07:16:08.56 INFO in 'gensim.models.ldamodel'['ldamodel'] at line 1159: topic #3 (0.100): 0.392*\"9\" + 0.392*\"10\" + 0.022*\"5\" + 0.022*\"11\" + 0.022*\"7\" + 0.022*\"1\" + 0.022*\"2\" + 0.022*\"3\" + 0.022*\"4\" + 0.022*\"8\"\n",
      "2019-03-06 07:16:08.58 INFO in 'gensim.models.ldamodel'['ldamodel'] at line 1159: topic #6 (0.100): 0.192*\"7\" + 0.192*\"5\" + 0.099*\"0\" + 0.099*\"6\" + 0.099*\"3\" + 0.099*\"4\" + 0.099*\"2\" + 0.099*\"8\" + 0.005*\"9\" + 0.005*\"10\"\n",
      "2019-03-06 07:16:08.60 INFO in 'gensim.models.ldamodel'['ldamodel'] at line 1159: topic #1 (0.100): 0.083*\"9\" + 0.083*\"10\" + 0.083*\"5\" + 0.083*\"11\" + 0.083*\"7\" + 0.083*\"2\" + 0.083*\"1\" + 0.083*\"8\" + 0.083*\"3\" + 0.083*\"6\"\n",
      "2019-03-06 07:16:08.61 INFO in 'gensim.models.ldamodel'['ldamodel'] at line 1159: topic #0 (0.100): 0.286*\"4\" + 0.286*\"10\" + 0.286*\"11\" + 0.016*\"9\" + 0.016*\"5\" + 0.016*\"1\" + 0.016*\"7\" + 0.016*\"2\" + 0.016*\"3\" + 0.016*\"0\"\n",
      "2019-03-06 07:16:08.63 INFO in 'gensim.models.ldamodel'['ldamodel'] at line 1037: topic diff=0.261656, rho=0.707107\n"
     ]
    }
   ],
   "source": [
    "#The model can be updated (trained) with new documents.\n",
    "# In practice (corpus =/= initial training corpus), but we use the same here for simplicity.\n",
    "other_corpus = common_corpus\n",
    "lda.update(other_corpus)"
   ]
  },
  {
   "cell_type": "code",
   "execution_count": 84,
   "metadata": {},
   "outputs": [
    {
     "name": "stderr",
     "output_type": "stream",
     "text": [
      "2019-03-06 07:16:17.311 INFO in 'gensim.utils'['utils'] at line 422: loading LdaMulticore object from C:\\Users\\Home\\Anaconda2\\envs\\tensorflow\\lib\\site-packages\\gensim\\test\\test_data\\lda_3_0_1_model\n",
      "2019-03-06 07:16:17.315 DEBUG in 'smart_open.smart_open_lib'['smart_open_lib'] at line 176: {'kw': {}, 'mode': 'rb', 'uri': 'C:\\\\Users\\\\Home\\\\Anaconda2\\\\envs\\\\tensorflow\\\\lib\\\\site-packages\\\\gensim\\\\test\\\\test_data\\\\lda_3_0_1_model'}\n",
      "2019-03-06 07:16:17.430 INFO in 'gensim.utils'['utils'] at line 461: loading expElogbeta from C:\\Users\\Home\\Anaconda2\\envs\\tensorflow\\lib\\site-packages\\gensim\\test\\test_data\\lda_3_0_1_model.expElogbeta.npy with mmap=None\n",
      "2019-03-06 07:16:17.451 INFO in 'gensim.utils'['utils'] at line 494: setting ignored attribute id2word to None\n",
      "2019-03-06 07:16:17.457 INFO in 'gensim.utils'['utils'] at line 494: setting ignored attribute state to None\n",
      "2019-03-06 07:16:17.461 INFO in 'gensim.utils'['utils'] at line 494: setting ignored attribute dispatcher to None\n",
      "2019-03-06 07:16:17.465 INFO in 'gensim.utils'['utils'] at line 428: loaded C:\\Users\\Home\\Anaconda2\\envs\\tensorflow\\lib\\site-packages\\gensim\\test\\test_data\\lda_3_0_1_model\n",
      "2019-03-06 07:16:17.468 INFO in 'root'['ldamodel'] at line 1639: dtype was not set in saved LdaModel file C:\\Users\\Home\\Anaconda2\\envs\\tensorflow\\lib\\site-packages\\gensim\\test\\test_data\\lda_3_0_1_model, assuming np.float64\n",
      "2019-03-06 07:16:17.472 INFO in 'gensim.utils'['utils'] at line 422: loading LdaState object from C:\\Users\\Home\\Anaconda2\\envs\\tensorflow\\lib\\site-packages\\gensim\\test\\test_data\\lda_3_0_1_model.state\n",
      "2019-03-06 07:16:17.475 DEBUG in 'smart_open.smart_open_lib'['smart_open_lib'] at line 176: {'kw': {}, 'mode': 'rb', 'uri': 'C:\\\\Users\\\\Home\\\\Anaconda2\\\\envs\\\\tensorflow\\\\lib\\\\site-packages\\\\gensim\\\\test\\\\test_data\\\\lda_3_0_1_model.state'}\n",
      "2019-03-06 07:16:17.503 INFO in 'gensim.utils'['utils'] at line 428: loaded C:\\Users\\Home\\Anaconda2\\envs\\tensorflow\\lib\\site-packages\\gensim\\test\\test_data\\lda_3_0_1_model.state\n",
      "2019-03-06 07:16:17.506 INFO in 'root'['ldamodel'] at line 308: dtype was not set in saved LdaState file C:\\Users\\Home\\Anaconda2\\envs\\tensorflow\\lib\\site-packages\\gensim\\test\\test_data\\lda_3_0_1_model.state, assuming np.float64\n",
      "2019-03-06 07:16:17.509 DEBUG in 'smart_open.smart_open_lib'['smart_open_lib'] at line 176: {'kw': {}, 'mode': 'rb', 'uri': 'C:\\\\Users\\\\Home\\\\Anaconda2\\\\envs\\\\tensorflow\\\\lib\\\\site-packages\\\\gensim\\\\test\\\\test_data\\\\lda_3_0_1_model.id2word'}\n",
      "2019-03-06 07:16:17.514 INFO in 'gensim.utils'['utils'] at line 422: loading LdaMulticore object from C:\\Users\\Home\\Anaconda2\\envs\\tensorflow\\lib\\site-packages\\gensim\\test\\test_data\\ldamodel_python_3_5\n",
      "2019-03-06 07:16:17.517 DEBUG in 'smart_open.smart_open_lib'['smart_open_lib'] at line 176: {'kw': {}, 'mode': 'rb', 'uri': 'C:\\\\Users\\\\Home\\\\Anaconda2\\\\envs\\\\tensorflow\\\\lib\\\\site-packages\\\\gensim\\\\test\\\\test_data\\\\ldamodel_python_3_5'}\n",
      "2019-03-06 07:16:17.553 INFO in 'gensim.utils'['utils'] at line 461: loading expElogbeta from C:\\Users\\Home\\Anaconda2\\envs\\tensorflow\\lib\\site-packages\\gensim\\test\\test_data\\ldamodel_python_3_5.expElogbeta.npy with mmap=None\n",
      "2019-03-06 07:16:17.564 INFO in 'gensim.utils'['utils'] at line 494: setting ignored attribute dispatcher to None\n",
      "2019-03-06 07:16:17.569 INFO in 'gensim.utils'['utils'] at line 494: setting ignored attribute state to None\n",
      "2019-03-06 07:16:17.573 INFO in 'gensim.utils'['utils'] at line 494: setting ignored attribute id2word to None\n",
      "2019-03-06 07:16:17.576 INFO in 'gensim.utils'['utils'] at line 428: loaded C:\\Users\\Home\\Anaconda2\\envs\\tensorflow\\lib\\site-packages\\gensim\\test\\test_data\\ldamodel_python_3_5\n",
      "2019-03-06 07:16:17.581 INFO in 'root'['ldamodel'] at line 1639: dtype was not set in saved LdaModel file C:\\Users\\Home\\Anaconda2\\envs\\tensorflow\\lib\\site-packages\\gensim\\test\\test_data\\ldamodel_python_3_5, assuming np.float64\n",
      "2019-03-06 07:16:17.585 INFO in 'gensim.utils'['utils'] at line 422: loading LdaState object from C:\\Users\\Home\\Anaconda2\\envs\\tensorflow\\lib\\site-packages\\gensim\\test\\test_data\\ldamodel_python_3_5.state\n",
      "2019-03-06 07:16:17.588 DEBUG in 'smart_open.smart_open_lib'['smart_open_lib'] at line 176: {'kw': {}, 'mode': 'rb', 'uri': 'C:\\\\Users\\\\Home\\\\Anaconda2\\\\envs\\\\tensorflow\\\\lib\\\\site-packages\\\\gensim\\\\test\\\\test_data\\\\ldamodel_python_3_5.state'}\n",
      "2019-03-06 07:16:17.605 INFO in 'gensim.utils'['utils'] at line 428: loaded C:\\Users\\Home\\Anaconda2\\envs\\tensorflow\\lib\\site-packages\\gensim\\test\\test_data\\ldamodel_python_3_5.state\n",
      "2019-03-06 07:16:17.614 INFO in 'root'['ldamodel'] at line 308: dtype was not set in saved LdaState file C:\\Users\\Home\\Anaconda2\\envs\\tensorflow\\lib\\site-packages\\gensim\\test\\test_data\\ldamodel_python_3_5.state, assuming np.float64\n",
      "2019-03-06 07:16:17.649 DEBUG in 'smart_open.smart_open_lib'['smart_open_lib'] at line 176: {'kw': {}, 'mode': 'rb', 'uri': 'C:\\\\Users\\\\Home\\\\Anaconda2\\\\envs\\\\tensorflow\\\\lib\\\\site-packages\\\\gensim\\\\test\\\\test_data\\\\ldamodel_python_3_5.id2word'}\n"
     ]
    }
   ],
   "source": [
    "from gensim.models.ldamulticore import LdaMulticore\n",
    "from gensim.test.utils import datapath\n",
    "m1 = LdaMulticore.load(datapath(\"lda_3_0_1_model\"))\n",
    "m2 = LdaMulticore.load(datapath(\"ldamodel_python_3_5\"))\n",
    "mdiff, annotation = m1.diff(m2)\n",
    "topic_diff = mdiff  # get matrix with difference for each topic pair from `m1` and `m2"
   ]
  },
  {
   "cell_type": "code",
   "execution_count": 85,
   "metadata": {},
   "outputs": [
    {
     "name": "stderr",
     "output_type": "stream",
     "text": [
      "2019-03-06 07:16:28.547 INFO in 'gensim.utils'['utils'] at line 422: loading LdaModel object from C:\\Users\\Home\\Anaconda2\\envs\\tensorflow\\lib\\site-packages\\gensim\\test\\test_data\\lda_3_0_1_model\n",
      "2019-03-06 07:16:28.551 DEBUG in 'smart_open.smart_open_lib'['smart_open_lib'] at line 176: {'kw': {}, 'mode': 'rb', 'uri': 'C:\\\\Users\\\\Home\\\\Anaconda2\\\\envs\\\\tensorflow\\\\lib\\\\site-packages\\\\gensim\\\\test\\\\test_data\\\\lda_3_0_1_model'}\n",
      "2019-03-06 07:16:28.558 INFO in 'gensim.utils'['utils'] at line 461: loading expElogbeta from C:\\Users\\Home\\Anaconda2\\envs\\tensorflow\\lib\\site-packages\\gensim\\test\\test_data\\lda_3_0_1_model.expElogbeta.npy with mmap=r\n",
      "2019-03-06 07:16:28.577 INFO in 'gensim.utils'['utils'] at line 494: setting ignored attribute id2word to None\n",
      "2019-03-06 07:16:28.581 INFO in 'gensim.utils'['utils'] at line 494: setting ignored attribute state to None\n",
      "2019-03-06 07:16:28.584 INFO in 'gensim.utils'['utils'] at line 494: setting ignored attribute dispatcher to None\n",
      "2019-03-06 07:16:28.587 INFO in 'gensim.utils'['utils'] at line 428: loaded C:\\Users\\Home\\Anaconda2\\envs\\tensorflow\\lib\\site-packages\\gensim\\test\\test_data\\lda_3_0_1_model\n",
      "2019-03-06 07:16:28.591 INFO in 'root'['ldamodel'] at line 1639: dtype was not set in saved LdaModel file C:\\Users\\Home\\Anaconda2\\envs\\tensorflow\\lib\\site-packages\\gensim\\test\\test_data\\lda_3_0_1_model, assuming np.float64\n",
      "2019-03-06 07:16:28.594 INFO in 'gensim.utils'['utils'] at line 422: loading LdaState object from C:\\Users\\Home\\Anaconda2\\envs\\tensorflow\\lib\\site-packages\\gensim\\test\\test_data\\lda_3_0_1_model.state\n",
      "2019-03-06 07:16:28.597 DEBUG in 'smart_open.smart_open_lib'['smart_open_lib'] at line 176: {'kw': {}, 'mode': 'rb', 'uri': 'C:\\\\Users\\\\Home\\\\Anaconda2\\\\envs\\\\tensorflow\\\\lib\\\\site-packages\\\\gensim\\\\test\\\\test_data\\\\lda_3_0_1_model.state'}\n",
      "2019-03-06 07:16:28.600 INFO in 'gensim.utils'['utils'] at line 428: loaded C:\\Users\\Home\\Anaconda2\\envs\\tensorflow\\lib\\site-packages\\gensim\\test\\test_data\\lda_3_0_1_model.state\n",
      "2019-03-06 07:16:28.603 INFO in 'root'['ldamodel'] at line 308: dtype was not set in saved LdaState file C:\\Users\\Home\\Anaconda2\\envs\\tensorflow\\lib\\site-packages\\gensim\\test\\test_data\\lda_3_0_1_model.state, assuming np.float64\n",
      "2019-03-06 07:16:28.604 DEBUG in 'smart_open.smart_open_lib'['smart_open_lib'] at line 176: {'kw': {}, 'mode': 'rb', 'uri': 'C:\\\\Users\\\\Home\\\\Anaconda2\\\\envs\\\\tensorflow\\\\lib\\\\site-packages\\\\gensim\\\\test\\\\test_data\\\\lda_3_0_1_model.id2word'}\n"
     ]
    }
   ],
   "source": [
    "#Large arrays can be memmap’ed back as read-only (shared memory) by setting mmap=’r’\n",
    "\n",
    "from gensim.test.utils import datapath\n",
    "fname = datapath(\"lda_3_0_1_model\")\n",
    "lda = LdaModel.load(fname, mmap='r')"
   ]
  },
  {
   "cell_type": "code",
   "execution_count": 86,
   "metadata": {},
   "outputs": [
    {
     "name": "stderr",
     "output_type": "stream",
     "text": [
      "2019-03-06 07:16:40.721 DEBUG in 'smart_open.smart_open_lib'['smart_open_lib'] at line 176: {'kw': {}, 'mode': 'rb', 'uri': 'android.mallet.index'}\n",
      "2019-03-06 07:16:40.730 INFO in 'gensim.corpora.lowcorpus'['lowcorpus'] at line 97: loading corpus from android.mallet\n",
      "2019-03-06 07:16:40.735 DEBUG in 'smart_open.smart_open_lib'['smart_open_lib'] at line 176: {'kw': {}, 'mode': 'rb', 'uri': 'android.mallet'}\n",
      "2019-03-06 07:16:40.983 INFO in 'gensim.corpora.lowcorpus'['lowcorpus'] at line 105: extracting vocabulary from the corpus\n",
      "2019-03-06 07:16:40.985 DEBUG in 'smart_open.smart_open_lib'['smart_open_lib'] at line 176: {'kw': {}, 'mode': 'rb', 'uri': 'android.mallet'}\n",
      "2019-03-06 07:16:41.575 INFO in 'gensim.corpora.lowcorpus'['lowcorpus'] at line 121: loaded corpus with 37622 documents and 16405 terms from android.mallet\n"
     ]
    }
   ],
   "source": [
    "corpus = gensim.corpora.MalletCorpus('android.mallet')"
   ]
  },
  {
   "cell_type": "code",
   "execution_count": 87,
   "metadata": {},
   "outputs": [
    {
     "name": "stderr",
     "output_type": "stream",
     "text": [
      "2019-03-06 07:16:42.962 DEBUG in 'smart_open.smart_open_lib'['smart_open_lib'] at line 176: {'kw': {}, 'mode': 'rb', 'uri': 'android.mallet'}\n"
     ]
    },
    {
     "data": {
      "text/plain": [
       "[(6936, 1), (15314, 1), (300, 1), (10981, 1)]"
      ]
     },
     "execution_count": 87,
     "metadata": {},
     "output_type": "execute_result"
    }
   ],
   "source": [
    "next(iter(corpus))"
   ]
  },
  {
   "cell_type": "code",
   "execution_count": 88,
   "metadata": {},
   "outputs": [
    {
     "name": "stderr",
     "output_type": "stream",
     "text": [
      "2019-03-06 07:16:51.832 DEBUG in 'smart_open.smart_open_lib'['smart_open_lib'] at line 176: {'kw': {}, 'mode': 'rb', 'uri': 'android.mallet'}\n"
     ]
    },
    {
     "name": "stdout",
     "output_type": "stream",
     "text": [
      "incorrect 1\n",
      "url 1\n",
      "address 1\n",
      "project 1\n"
     ]
    }
   ],
   "source": [
    "for word_id, freq in next(iter(corpus)):\n",
    "    print(corpus.id2word[word_id], freq)"
   ]
  },
  {
   "cell_type": "code",
   "execution_count": 89,
   "metadata": {},
   "outputs": [
    {
     "name": "stderr",
     "output_type": "stream",
     "text": [
      "2019-03-06 07:16:52.835 INFO in 'gensim.models.ldamodel'['ldamodel'] at line 570: using autotuned alpha, starting with [0.04, 0.04, 0.04, 0.04, 0.04, 0.04, 0.04, 0.04, 0.04, 0.04, 0.04, 0.04, 0.04, 0.04, 0.04, 0.04, 0.04, 0.04, 0.04, 0.04, 0.04, 0.04, 0.04, 0.04, 0.04]\n",
      "2019-03-06 07:16:52.846 INFO in 'gensim.models.ldamodel'['ldamodel'] at line 557: using symmetric eta at 0.04\n",
      "2019-03-06 07:16:52.853 INFO in 'gensim.models.ldamodel'['ldamodel'] at line 481: using serial LDA version on this node\n",
      "2019-03-06 07:16:52.914 INFO in 'gensim.models.ldamodel'['ldamodel'] at line 919: running online (single-pass) LDA training, 25 topics, 1 passes over the supplied corpus of 37622 documents, updating model once every 2000 documents, evaluating perplexity every 20000 documents, iterating 50x with a convergence threshold of 0.001000\n",
      "2019-03-06 07:16:52.917 DEBUG in 'smart_open.smart_open_lib'['smart_open_lib'] at line 176: {'kw': {}, 'mode': 'rb', 'uri': 'android.mallet'}\n",
      "2019-03-06 07:16:52.964 INFO in 'gensim.models.ldamodel'['ldamodel'] at line 968: PROGRESS: pass 0, at document #2000/37622\n",
      "2019-03-06 07:16:52.972 DEBUG in 'gensim.models.ldamodel'['ldamodel'] at line 638: performing inference on a chunk of 2000 documents\n",
      "2019-03-06 07:16:53.903 DEBUG in 'gensim.models.ldamodel'['ldamodel'] at line 700: 1999/2000 documents converged within 50 iterations\n",
      "2019-03-06 07:16:53.942 INFO in 'gensim.models.ldamodel'['ldamodel'] at line 759: optimized alpha [0.038135655, 0.03827998, 0.038306814, 0.03856098, 0.037783302, 0.03817066, 0.03776404, 0.03788102, 0.038365483, 0.03804557, 0.0378936, 0.03761789, 0.038048044, 0.037977252, 0.038156226, 0.037357196, 0.03714311, 0.038305398, 0.038088933, 0.03779317, 0.037743907, 0.038200162, 0.037592653, 0.037717044, 0.038042396]\n",
      "2019-03-06 07:16:53.949 DEBUG in 'gensim.models.ldamodel'['ldamodel'] at line 1027: updating topics\n",
      "2019-03-06 07:16:53.964 INFO in 'gensim.models.ldamodel'['ldamodel'] at line 230: merging changes from 2000 documents into a model of 37622 documents\n",
      "2019-03-06 07:16:54.37 INFO in 'gensim.models.ldamodel'['ldamodel'] at line 1159: topic #16 (0.037): 0.017*\"emulator\" + 0.014*\"feature\" + 0.014*\"app\" + 0.014*\"email\" + 0.010*\"emails\" + 0.010*\"text\" + 0.010*\"call\" + 0.010*\"account\" + 0.010*\"request\" + 0.007*\"native\"\n",
      "2019-03-06 07:16:54.44 INFO in 'gensim.models.ldamodel'['ldamodel'] at line 1159: topic #15 (0.037): 0.016*\"sync\" + 0.015*\"application\" + 0.013*\"email\" + 0.013*\"android\" + 0.012*\"fails\" + 0.009*\"search\" + 0.009*\"submission\" + 0.009*\"mediaplayer\" + 0.009*\"bug\" + 0.009*\"app\"\n",
      "2019-03-06 07:16:54.54 INFO in 'gensim.models.ldamodel'['ldamodel'] at line 1159: topic #2 (0.038): 0.016*\"doesn\" + 0.014*\"support\" + 0.012*\"error\" + 0.009*\"location\" + 0.009*\"files\" + 0.009*\"type\" + 0.009*\"button\" + 0.007*\"build\" + 0.007*\"issue\" + 0.007*\"application\"\n",
      "2019-03-06 07:16:54.63 INFO in 'gensim.models.ldamodel'['ldamodel'] at line 1159: topic #8 (0.038): 0.022*\"android\" + 0.016*\"feature\" + 0.014*\"google\" + 0.013*\"phone\" + 0.011*\"files\" + 0.011*\"request\" + 0.009*\"notification\" + 0.009*\"time\" + 0.009*\"database\" + 0.007*\"calendar\"\n",
      "2019-03-06 07:16:54.68 INFO in 'gensim.models.ldamodel'['ldamodel'] at line 1159: topic #3 (0.039): 0.026*\"android\" + 0.024*\"doesn\" + 0.016*\"application\" + 0.015*\"browser\" + 0.011*\"os\" + 0.011*\"support\" + 0.011*\"working\" + 0.008*\"view\" + 0.008*\"emulator\" + 0.007*\"battery\"\n",
      "2019-03-06 07:16:54.80 INFO in 'gensim.models.ldamodel'['ldamodel'] at line 1037: topic diff=23.880714, rho=1.000000\n",
      "2019-03-06 07:16:54.156 INFO in 'gensim.models.ldamodel'['ldamodel'] at line 968: PROGRESS: pass 0, at document #4000/37622\n",
      "2019-03-06 07:16:54.163 DEBUG in 'gensim.models.ldamodel'['ldamodel'] at line 638: performing inference on a chunk of 2000 documents\n",
      "2019-03-06 07:16:54.838 DEBUG in 'gensim.models.ldamodel'['ldamodel'] at line 700: 2000/2000 documents converged within 50 iterations\n",
      "2019-03-06 07:16:54.870 INFO in 'gensim.models.ldamodel'['ldamodel'] at line 759: optimized alpha [0.038696732, 0.03912748, 0.038511194, 0.03893809, 0.03775521, 0.038424544, 0.037903566, 0.038168985, 0.03846867, 0.03828546, 0.037997473, 0.038124472, 0.03781568, 0.038389362, 0.037539538, 0.037424564, 0.037054077, 0.038011037, 0.038376074, 0.037931625, 0.03779866, 0.03838753, 0.03756063, 0.0374044, 0.037794188]\n",
      "2019-03-06 07:16:54.875 DEBUG in 'gensim.models.ldamodel'['ldamodel'] at line 1027: updating topics\n",
      "2019-03-06 07:16:54.892 INFO in 'gensim.models.ldamodel'['ldamodel'] at line 230: merging changes from 2000 documents into a model of 37622 documents\n",
      "2019-03-06 07:16:54.978 INFO in 'gensim.models.ldamodel'['ldamodel'] at line 1159: topic #16 (0.037): 0.031*\"email\" + 0.029*\"app\" + 0.021*\"emails\" + 0.020*\"emulator\" + 0.018*\"call\" + 0.018*\"widgets\" + 0.016*\"interface\" + 0.014*\"time\" + 0.014*\"scrolling\" + 0.014*\"desktop\"\n",
      "2019-03-06 07:16:54.984 INFO in 'gensim.models.ldamodel'['ldamodel'] at line 1159: topic #23 (0.037): 0.016*\"attachment\" + 0.016*\"html\" + 0.016*\"recognize\" + 0.015*\"emulator\" + 0.015*\"android\" + 0.015*\"working\" + 0.013*\"behavior\" + 0.013*\"strange\" + 0.013*\"dialer\" + 0.012*\"bug\"\n",
      "2019-03-06 07:16:54.994 INFO in 'gensim.models.ldamodel'['ldamodel'] at line 1159: topic #0 (0.039): 0.043*\"android\" + 0.031*\"bluetooth\" + 0.030*\"app\" + 0.016*\"display\" + 0.016*\"audio\" + 0.016*\"problem\" + 0.012*\"emulator\" + 0.012*\"call\" + 0.011*\"email\" + 0.011*\"mail\"\n",
      "2019-03-06 07:16:55.6 INFO in 'gensim.models.ldamodel'['ldamodel'] at line 1159: topic #3 (0.039): 0.029*\"android\" + 0.023*\"doesn\" + 0.023*\"battery\" + 0.021*\"browser\" + 0.018*\"application\" + 0.013*\"called\" + 0.013*\"os\" + 0.012*\"card\" + 0.011*\"support\" + 0.011*\"sd\"\n",
      "2019-03-06 07:16:55.17 INFO in 'gensim.models.ldamodel'['ldamodel'] at line 1159: topic #1 (0.039): 0.023*\"sms\" + 0.021*\"phone\" + 0.017*\"landscape\" + 0.014*\"call\" + 0.012*\"contacts\" + 0.011*\"camera\" + 0.010*\"sound\" + 0.010*\"volume\" + 0.010*\"waiting\" + 0.010*\"entering\"\n",
      "2019-03-06 07:16:55.23 INFO in 'gensim.models.ldamodel'['ldamodel'] at line 1037: topic diff=0.128368, rho=0.707107\n",
      "2019-03-06 07:16:55.100 INFO in 'gensim.models.ldamodel'['ldamodel'] at line 968: PROGRESS: pass 0, at document #6000/37622\n",
      "2019-03-06 07:16:55.106 DEBUG in 'gensim.models.ldamodel'['ldamodel'] at line 638: performing inference on a chunk of 2000 documents\n",
      "2019-03-06 07:16:55.730 DEBUG in 'gensim.models.ldamodel'['ldamodel'] at line 700: 1998/2000 documents converged within 50 iterations\n",
      "2019-03-06 07:16:55.759 INFO in 'gensim.models.ldamodel'['ldamodel'] at line 759: optimized alpha [0.039755303, 0.039376445, 0.03873585, 0.039147392, 0.038143083, 0.03847697, 0.038080595, 0.038104806, 0.03902158, 0.038573164, 0.038659766, 0.03846401, 0.037914436, 0.039276816, 0.03778182, 0.038103227, 0.037377007, 0.037710268, 0.03900605, 0.037765265, 0.038381275, 0.038969208, 0.037548907, 0.037378207, 0.038046204]\n",
      "2019-03-06 07:16:55.770 DEBUG in 'gensim.models.ldamodel'['ldamodel'] at line 1027: updating topics\n",
      "2019-03-06 07:16:55.783 INFO in 'gensim.models.ldamodel'['ldamodel'] at line 230: merging changes from 2000 documents into a model of 37622 documents\n",
      "2019-03-06 07:16:55.867 INFO in 'gensim.models.ldamodel'['ldamodel'] at line 1159: topic #23 (0.037): 0.022*\"dialer\" + 0.021*\"buttons\" + 0.020*\"android\" + 0.020*\"working\" + 0.019*\"multiple\" + 0.018*\"html\" + 0.017*\"attachment\" + 0.017*\"stops\" + 0.014*\"bug\" + 0.013*\"typo\"\n",
      "2019-03-06 07:16:55.875 INFO in 'gensim.models.ldamodel'['ldamodel'] at line 1159: topic #16 (0.037): 0.072*\"email\" + 0.046*\"emails\" + 0.039*\"account\" + 0.035*\"app\" + 0.025*\"widgets\" + 0.024*\"send\" + 0.021*\"scrolling\" + 0.016*\"call\" + 0.016*\"mode\" + 0.015*\"native\"\n",
      "2019-03-06 07:16:55.890 INFO in 'gensim.models.ldamodel'['ldamodel'] at line 1159: topic #13 (0.039): 0.079*\"keyboard\" + 0.026*\"android\" + 0.026*\"pop\" + 0.025*\"mode\" + 0.025*\"video\" + 0.022*\"screen\" + 0.020*\"gallery\" + 0.019*\"ringtone\" + 0.017*\"create\" + 0.015*\"disappear\"\n",
      "2019-03-06 07:16:55.894 INFO in 'gensim.models.ldamodel'['ldamodel'] at line 1159: topic #1 (0.039): 0.036*\"landscape\" + 0.027*\"sms\" + 0.025*\"phone\" + 0.015*\"text\" + 0.015*\"security\" + 0.015*\"call\" + 0.014*\"sound\" + 0.013*\"reset\" + 0.013*\"contacts\" + 0.012*\"menu\"\n",
      "2019-03-06 07:16:55.898 INFO in 'gensim.models.ldamodel'['ldamodel'] at line 1159: topic #0 (0.040): 0.056*\"droid\" + 0.049*\"android\" + 0.039*\"bluetooth\" + 0.037*\"app\" + 0.025*\"display\" + 0.025*\"email\" + 0.021*\"audio\" + 0.021*\"mail\" + 0.019*\"phone\" + 0.018*\"unlock\"\n",
      "2019-03-06 07:16:55.903 INFO in 'gensim.models.ldamodel'['ldamodel'] at line 1037: topic diff=0.099302, rho=0.577350\n",
      "2019-03-06 07:16:55.968 INFO in 'gensim.models.ldamodel'['ldamodel'] at line 968: PROGRESS: pass 0, at document #8000/37622\n",
      "2019-03-06 07:16:55.973 DEBUG in 'gensim.models.ldamodel'['ldamodel'] at line 638: performing inference on a chunk of 2000 documents\n",
      "2019-03-06 07:16:56.632 DEBUG in 'gensim.models.ldamodel'['ldamodel'] at line 700: 2000/2000 documents converged within 50 iterations\n",
      "2019-03-06 07:16:56.659 INFO in 'gensim.models.ldamodel'['ldamodel'] at line 759: optimized alpha [0.040667016, 0.03982653, 0.03895102, 0.03979564, 0.038704094, 0.038945373, 0.038318668, 0.03844831, 0.039658654, 0.038553637, 0.039002012, 0.03903739, 0.038302444, 0.03976385, 0.038454678, 0.038755566, 0.03760151, 0.03777277, 0.039806914, 0.038086195, 0.038471233, 0.03952088, 0.037794862, 0.037417777, 0.038384285]\n",
      "2019-03-06 07:16:56.662 DEBUG in 'gensim.models.ldamodel'['ldamodel'] at line 1027: updating topics\n",
      "2019-03-06 07:16:56.677 INFO in 'gensim.models.ldamodel'['ldamodel'] at line 230: merging changes from 2000 documents into a model of 37622 documents\n",
      "2019-03-06 07:16:56.758 INFO in 'gensim.models.ldamodel'['ldamodel'] at line 1159: topic #23 (0.037): 0.031*\"android\" + 0.030*\"working\" + 0.026*\"screens\" + 0.022*\"dialer\" + 0.021*\"buttons\" + 0.017*\"automatic\" + 0.017*\"multiple\" + 0.016*\"html\" + 0.016*\"behavior\" + 0.016*\"cursor\"\n",
      "2019-03-06 07:16:56.765 INFO in 'gensim.models.ldamodel'['ldamodel'] at line 1159: topic #16 (0.038): 0.086*\"email\" + 0.047*\"account\" + 0.039*\"emails\" + 0.034*\"app\" + 0.031*\"send\" + 0.020*\"gmail\" + 0.019*\"read\" + 0.018*\"scrolling\" + 0.018*\"needed\" + 0.016*\"widgets\"\n",
      "2019-03-06 07:16:56.773 INFO in 'gensim.models.ldamodel'['ldamodel'] at line 1159: topic #3 (0.040): 0.037*\"android\" + 0.030*\"events\" + 0.029*\"input\" + 0.029*\"browser\" + 0.027*\"close\" + 0.026*\"touch\" + 0.021*\"battery\" + 0.021*\"application\" + 0.018*\"force\" + 0.018*\"doesn\"\n",
      "2019-03-06 07:16:56.779 INFO in 'gensim.models.ldamodel'['ldamodel'] at line 1159: topic #18 (0.040): 0.060*\"phone\" + 0.054*\"droid\" + 0.046*\"music\" + 0.041*\"call\" + 0.032*\"number\" + 0.031*\"issue\" + 0.030*\"player\" + 0.023*\"contact\" + 0.014*\"update\" + 0.013*\"numbers\"\n",
      "2019-03-06 07:16:56.787 INFO in 'gensim.models.ldamodel'['ldamodel'] at line 1159: topic #0 (0.041): 0.056*\"droid\" + 0.053*\"bluetooth\" + 0.046*\"android\" + 0.041*\"app\" + 0.027*\"email\" + 0.025*\"problem\" + 0.025*\"audio\" + 0.025*\"mail\" + 0.021*\"display\" + 0.019*\"unlock\"\n",
      "2019-03-06 07:16:56.799 INFO in 'gensim.models.ldamodel'['ldamodel'] at line 1037: topic diff=0.056023, rho=0.500000\n",
      "2019-03-06 07:16:56.856 INFO in 'gensim.models.ldamodel'['ldamodel'] at line 968: PROGRESS: pass 0, at document #10000/37622\n",
      "2019-03-06 07:16:56.866 DEBUG in 'gensim.models.ldamodel'['ldamodel'] at line 638: performing inference on a chunk of 2000 documents\n",
      "2019-03-06 07:16:57.420 DEBUG in 'gensim.models.ldamodel'['ldamodel'] at line 700: 1999/2000 documents converged within 50 iterations\n",
      "2019-03-06 07:16:57.448 INFO in 'gensim.models.ldamodel'['ldamodel'] at line 759: optimized alpha [0.041353043, 0.039762344, 0.039539516, 0.040638994, 0.038993623, 0.03973174, 0.03886333, 0.03914638, 0.040058676, 0.03892595, 0.039739635, 0.03957182, 0.03890921, 0.040085737, 0.03930187, 0.039604466, 0.037810773, 0.037970807, 0.040410418, 0.038262427, 0.03884019, 0.040036913, 0.03815247, 0.03762682, 0.038776428]\n",
      "2019-03-06 07:16:57.454 DEBUG in 'gensim.models.ldamodel'['ldamodel'] at line 1027: updating topics\n",
      "2019-03-06 07:16:57.465 INFO in 'gensim.models.ldamodel'['ldamodel'] at line 230: merging changes from 2000 documents into a model of 37622 documents\n",
      "2019-03-06 07:16:57.538 INFO in 'gensim.models.ldamodel'['ldamodel'] at line 1159: topic #23 (0.038): 0.040*\"android\" + 0.036*\"working\" + 0.027*\"cursor\" + 0.025*\"buttons\" + 0.024*\"browser\" + 0.024*\"html\" + 0.020*\"multiple\" + 0.019*\"dialer\" + 0.019*\"word\" + 0.017*\"screens\"\n",
      "2019-03-06 07:16:57.544 INFO in 'gensim.models.ldamodel'['ldamodel'] at line 1159: topic #16 (0.038): 0.095*\"email\" + 0.044*\"account\" + 0.042*\"app\" + 0.038*\"emails\" + 0.030*\"send\" + 0.025*\"native\" + 0.021*\"scrolling\" + 0.018*\"needed\" + 0.017*\"widgets\" + 0.016*\"desktop\"\n",
      "2019-03-06 07:16:57.549 INFO in 'gensim.models.ldamodel'['ldamodel'] at line 1159: topic #18 (0.040): 0.058*\"music\" + 0.057*\"phone\" + 0.044*\"call\" + 0.041*\"droid\" + 0.041*\"issue\" + 0.040*\"number\" + 0.037*\"player\" + 0.026*\"contact\" + 0.018*\"numbers\" + 0.013*\"incoming\"\n",
      "2019-03-06 07:16:57.559 INFO in 'gensim.models.ldamodel'['ldamodel'] at line 1159: topic #3 (0.041): 0.045*\"browser\" + 0.040*\"events\" + 0.035*\"battery\" + 0.033*\"android\" + 0.029*\"input\" + 0.028*\"touch\" + 0.025*\"close\" + 0.023*\"sd\" + 0.021*\"card\" + 0.020*\"doesn\"\n",
      "2019-03-06 07:16:57.571 INFO in 'gensim.models.ldamodel'['ldamodel'] at line 1159: topic #0 (0.041): 0.073*\"bluetooth\" + 0.049*\"droid\" + 0.045*\"android\" + 0.042*\"app\" + 0.032*\"mail\" + 0.028*\"audio\" + 0.026*\"problem\" + 0.023*\"unlock\" + 0.022*\"email\" + 0.020*\"phone\"\n",
      "2019-03-06 07:16:57.583 INFO in 'gensim.models.ldamodel'['ldamodel'] at line 1037: topic diff=0.058624, rho=0.447214\n",
      "2019-03-06 07:16:57.636 INFO in 'gensim.models.ldamodel'['ldamodel'] at line 968: PROGRESS: pass 0, at document #12000/37622\n",
      "2019-03-06 07:16:57.641 DEBUG in 'gensim.models.ldamodel'['ldamodel'] at line 638: performing inference on a chunk of 2000 documents\n",
      "2019-03-06 07:16:58.182 DEBUG in 'gensim.models.ldamodel'['ldamodel'] at line 700: 1999/2000 documents converged within 50 iterations\n",
      "2019-03-06 07:16:58.208 INFO in 'gensim.models.ldamodel'['ldamodel'] at line 759: optimized alpha [0.04234381, 0.040037014, 0.040133145, 0.041405067, 0.039302237, 0.040510885, 0.039530385, 0.039898816, 0.040526547, 0.039293133, 0.04020409, 0.040195685, 0.039579127, 0.04058295, 0.040298894, 0.04032256, 0.03804866, 0.03833744, 0.04104734, 0.038767535, 0.039295126, 0.04027789, 0.038390484, 0.038081955, 0.038940888]\n",
      "2019-03-06 07:16:58.214 DEBUG in 'gensim.models.ldamodel'['ldamodel'] at line 1027: updating topics\n",
      "2019-03-06 07:16:58.229 INFO in 'gensim.models.ldamodel'['ldamodel'] at line 230: merging changes from 2000 documents into a model of 37622 documents\n",
      "2019-03-06 07:16:58.299 INFO in 'gensim.models.ldamodel'['ldamodel'] at line 1159: topic #23 (0.038): 0.049*\"working\" + 0.045*\"android\" + 0.027*\"manager\" + 0.027*\"html\" + 0.027*\"buttons\" + 0.026*\"cursor\" + 0.022*\"browser\" + 0.020*\"multiple\" + 0.019*\"longer\" + 0.018*\"stops\"\n",
      "2019-03-06 07:16:58.304 INFO in 'gensim.models.ldamodel'['ldamodel'] at line 1159: topic #16 (0.038): 0.098*\"email\" + 0.052*\"account\" + 0.041*\"app\" + 0.038*\"emails\" + 0.036*\"send\" + 0.027*\"native\" + 0.024*\"deleting\" + 0.021*\"scrolling\" + 0.019*\"desktop\" + 0.019*\"read\"\n",
      "2019-03-06 07:16:58.310 INFO in 'gensim.models.ldamodel'['ldamodel'] at line 1159: topic #18 (0.041): 0.066*\"music\" + 0.065*\"phone\" + 0.051*\"issue\" + 0.045*\"call\" + 0.043*\"player\" + 0.042*\"number\" + 0.031*\"droid\" + 0.024*\"contact\" + 0.019*\"numbers\" + 0.018*\"edit\"\n",
      "2019-03-06 07:16:58.316 INFO in 'gensim.models.ldamodel'['ldamodel'] at line 1159: topic #3 (0.041): 0.056*\"browser\" + 0.039*\"events\" + 0.037*\"close\" + 0.036*\"android\" + 0.031*\"sd\" + 0.031*\"battery\" + 0.029*\"input\" + 0.028*\"touch\" + 0.027*\"force\" + 0.024*\"card\"\n",
      "2019-03-06 07:16:58.325 INFO in 'gensim.models.ldamodel'['ldamodel'] at line 1159: topic #0 (0.042): 0.075*\"bluetooth\" + 0.058*\"droid\" + 0.048*\"android\" + 0.036*\"app\" + 0.034*\"mail\" + 0.030*\"problem\" + 0.027*\"audio\" + 0.022*\"unlock\" + 0.019*\"email\" + 0.019*\"phone\"\n",
      "2019-03-06 07:16:58.334 INFO in 'gensim.models.ldamodel'['ldamodel'] at line 1037: topic diff=0.047829, rho=0.408248\n",
      "2019-03-06 07:16:58.383 INFO in 'gensim.models.ldamodel'['ldamodel'] at line 968: PROGRESS: pass 0, at document #14000/37622\n",
      "2019-03-06 07:16:58.388 DEBUG in 'gensim.models.ldamodel'['ldamodel'] at line 638: performing inference on a chunk of 2000 documents\n"
     ]
    },
    {
     "name": "stderr",
     "output_type": "stream",
     "text": [
      "2019-03-06 07:16:58.906 DEBUG in 'gensim.models.ldamodel'['ldamodel'] at line 700: 1999/2000 documents converged within 50 iterations\n",
      "2019-03-06 07:16:58.935 INFO in 'gensim.models.ldamodel'['ldamodel'] at line 759: optimized alpha [0.043068044, 0.040774483, 0.04073559, 0.042248018, 0.039673667, 0.041417763, 0.039941516, 0.04052188, 0.041213647, 0.03980672, 0.040612575, 0.040907774, 0.040277302, 0.041145094, 0.04091007, 0.041131712, 0.03836616, 0.038600326, 0.041759185, 0.039450943, 0.039997943, 0.04087076, 0.038579643, 0.038479313, 0.03920821]\n",
      "2019-03-06 07:16:58.938 DEBUG in 'gensim.models.ldamodel'['ldamodel'] at line 1027: updating topics\n",
      "2019-03-06 07:16:58.950 INFO in 'gensim.models.ldamodel'['ldamodel'] at line 230: merging changes from 2000 documents into a model of 37622 documents\n",
      "2019-03-06 07:16:59.21 INFO in 'gensim.models.ldamodel'['ldamodel'] at line 1159: topic #16 (0.038): 0.109*\"email\" + 0.057*\"account\" + 0.043*\"send\" + 0.040*\"app\" + 0.036*\"emails\" + 0.029*\"native\" + 0.026*\"deleting\" + 0.024*\"scrolling\" + 0.019*\"names\" + 0.019*\"desktop\"\n",
      "2019-03-06 07:16:59.27 INFO in 'gensim.models.ldamodel'['ldamodel'] at line 1159: topic #23 (0.038): 0.055*\"working\" + 0.037*\"android\" + 0.030*\"manager\" + 0.029*\"cursor\" + 0.029*\"html\" + 0.028*\"buttons\" + 0.025*\"longer\" + 0.021*\"multiple\" + 0.020*\"stops\" + 0.020*\"browser\"\n",
      "2019-03-06 07:16:59.33 INFO in 'gensim.models.ldamodel'['ldamodel'] at line 1159: topic #18 (0.042): 0.071*\"phone\" + 0.063*\"issue\" + 0.059*\"music\" + 0.048*\"call\" + 0.042*\"player\" + 0.039*\"number\" + 0.024*\"droid\" + 0.022*\"contact\" + 0.022*\"edit\" + 0.020*\"numbers\"\n",
      "2019-03-06 07:16:59.43 INFO in 'gensim.models.ldamodel'['ldamodel'] at line 1159: topic #3 (0.042): 0.057*\"browser\" + 0.042*\"events\" + 0.041*\"close\" + 0.036*\"android\" + 0.032*\"force\" + 0.030*\"input\" + 0.028*\"sd\" + 0.027*\"battery\" + 0.026*\"touch\" + 0.024*\"card\"\n",
      "2019-03-06 07:16:59.49 INFO in 'gensim.models.ldamodel'['ldamodel'] at line 1159: topic #0 (0.043): 0.065*\"bluetooth\" + 0.055*\"droid\" + 0.045*\"android\" + 0.038*\"problem\" + 0.036*\"app\" + 0.034*\"audio\" + 0.031*\"mail\" + 0.029*\"qvga\" + 0.024*\"gmail\" + 0.020*\"phone\"\n",
      "2019-03-06 07:16:59.61 INFO in 'gensim.models.ldamodel'['ldamodel'] at line 1037: topic diff=0.042074, rho=0.377964\n",
      "2019-03-06 07:16:59.108 INFO in 'gensim.models.ldamodel'['ldamodel'] at line 968: PROGRESS: pass 0, at document #16000/37622\n",
      "2019-03-06 07:16:59.111 DEBUG in 'gensim.models.ldamodel'['ldamodel'] at line 638: performing inference on a chunk of 2000 documents\n",
      "2019-03-06 07:16:59.607 DEBUG in 'gensim.models.ldamodel'['ldamodel'] at line 700: 2000/2000 documents converged within 50 iterations\n",
      "2019-03-06 07:16:59.636 INFO in 'gensim.models.ldamodel'['ldamodel'] at line 759: optimized alpha [0.043625873, 0.041193776, 0.04144933, 0.04315385, 0.04009021, 0.04245195, 0.0403879, 0.04132281, 0.041514654, 0.04018505, 0.040840983, 0.04131669, 0.040674042, 0.041533533, 0.041918285, 0.04177159, 0.038759273, 0.038902745, 0.042592507, 0.040079866, 0.040538102, 0.04138171, 0.03886552, 0.039064314, 0.039424527]\n",
      "2019-03-06 07:16:59.641 DEBUG in 'gensim.models.ldamodel'['ldamodel'] at line 1027: updating topics\n",
      "2019-03-06 07:16:59.650 INFO in 'gensim.models.ldamodel'['ldamodel'] at line 230: merging changes from 2000 documents into a model of 37622 documents\n",
      "2019-03-06 07:16:59.722 INFO in 'gensim.models.ldamodel'['ldamodel'] at line 1159: topic #16 (0.039): 0.111*\"email\" + 0.069*\"account\" + 0.047*\"app\" + 0.040*\"send\" + 0.035*\"scrolling\" + 0.030*\"native\" + 0.029*\"emails\" + 0.023*\"names\" + 0.020*\"deleting\" + 0.020*\"read\"\n",
      "2019-03-06 07:16:59.728 INFO in 'gensim.models.ldamodel'['ldamodel'] at line 1159: topic #22 (0.039): 0.057*\"camera\" + 0.040*\"network\" + 0.036*\"don\" + 0.035*\"gps\" + 0.035*\"car\" + 0.032*\"work\" + 0.032*\"location\" + 0.022*\"storage\" + 0.019*\"login\" + 0.018*\"wifi\"\n",
      "2019-03-06 07:16:59.735 INFO in 'gensim.models.ldamodel'['ldamodel'] at line 1159: topic #18 (0.043): 0.081*\"phone\" + 0.065*\"issue\" + 0.059*\"music\" + 0.048*\"number\" + 0.047*\"call\" + 0.042*\"player\" + 0.025*\"calls\" + 0.021*\"edit\" + 0.021*\"numbers\" + 0.020*\"contact\"\n",
      "2019-03-06 07:16:59.743 INFO in 'gensim.models.ldamodel'['ldamodel'] at line 1159: topic #3 (0.043): 0.059*\"browser\" + 0.053*\"close\" + 0.042*\"force\" + 0.040*\"events\" + 0.036*\"android\" + 0.032*\"battery\" + 0.029*\"input\" + 0.027*\"touch\" + 0.024*\"sd\" + 0.021*\"called\"\n",
      "2019-03-06 07:16:59.750 INFO in 'gensim.models.ldamodel'['ldamodel'] at line 1159: topic #0 (0.044): 0.070*\"bluetooth\" + 0.048*\"problem\" + 0.046*\"droid\" + 0.043*\"android\" + 0.038*\"app\" + 0.034*\"mail\" + 0.034*\"audio\" + 0.022*\"qvga\" + 0.021*\"running\" + 0.020*\"gmail\"\n",
      "2019-03-06 07:16:59.763 INFO in 'gensim.models.ldamodel'['ldamodel'] at line 1037: topic diff=0.049969, rho=0.353553\n",
      "2019-03-06 07:16:59.811 INFO in 'gensim.models.ldamodel'['ldamodel'] at line 968: PROGRESS: pass 0, at document #18000/37622\n",
      "2019-03-06 07:16:59.816 DEBUG in 'gensim.models.ldamodel'['ldamodel'] at line 638: performing inference on a chunk of 2000 documents\n",
      "2019-03-06 07:17:00.317 DEBUG in 'gensim.models.ldamodel'['ldamodel'] at line 700: 2000/2000 documents converged within 50 iterations\n",
      "2019-03-06 07:17:00.345 INFO in 'gensim.models.ldamodel'['ldamodel'] at line 759: optimized alpha [0.044202063, 0.041586373, 0.04239027, 0.0443407, 0.040491596, 0.043357275, 0.04097323, 0.04212949, 0.04177054, 0.04080933, 0.04134279, 0.041862816, 0.041187096, 0.042213056, 0.04310822, 0.04241198, 0.03913097, 0.03928793, 0.04335814, 0.040487595, 0.04102729, 0.04249235, 0.039240338, 0.039741743, 0.039581947]\n",
      "2019-03-06 07:17:00.348 DEBUG in 'gensim.models.ldamodel'['ldamodel'] at line 1027: updating topics\n",
      "2019-03-06 07:17:00.367 INFO in 'gensim.models.ldamodel'['ldamodel'] at line 230: merging changes from 2000 documents into a model of 37622 documents\n",
      "2019-03-06 07:17:00.438 INFO in 'gensim.models.ldamodel'['ldamodel'] at line 1159: topic #16 (0.039): 0.119*\"email\" + 0.080*\"account\" + 0.050*\"app\" + 0.037*\"native\" + 0.036*\"send\" + 0.035*\"scrolling\" + 0.027*\"emails\" + 0.025*\"read\" + 0.021*\"names\" + 0.020*\"gmail\"\n",
      "2019-03-06 07:17:00.445 INFO in 'gensim.models.ldamodel'['ldamodel'] at line 1159: topic #22 (0.039): 0.064*\"camera\" + 0.047*\"network\" + 0.034*\"location\" + 0.033*\"don\" + 0.032*\"work\" + 0.032*\"gps\" + 0.029*\"car\" + 0.019*\"login\" + 0.019*\"failure\" + 0.019*\"reply\"\n",
      "2019-03-06 07:17:00.450 INFO in 'gensim.models.ldamodel'['ldamodel'] at line 1159: topic #18 (0.043): 0.095*\"phone\" + 0.074*\"issue\" + 0.057*\"music\" + 0.056*\"number\" + 0.045*\"call\" + 0.040*\"player\" + 0.025*\"calls\" + 0.021*\"report\" + 0.020*\"edit\" + 0.019*\"numbers\"\n",
      "2019-03-06 07:17:00.458 INFO in 'gensim.models.ldamodel'['ldamodel'] at line 1159: topic #0 (0.044): 0.065*\"bluetooth\" + 0.063*\"problem\" + 0.047*\"droid\" + 0.043*\"android\" + 0.038*\"mail\" + 0.034*\"app\" + 0.034*\"audio\" + 0.022*\"running\" + 0.018*\"gmail\" + 0.018*\"stopped\"\n",
      "2019-03-06 07:17:00.466 INFO in 'gensim.models.ldamodel'['ldamodel'] at line 1159: topic #3 (0.044): 0.074*\"close\" + 0.065*\"force\" + 0.055*\"browser\" + 0.034*\"android\" + 0.033*\"battery\" + 0.031*\"events\" + 0.029*\"input\" + 0.027*\"sd\" + 0.025*\"card\" + 0.023*\"touch\"\n",
      "2019-03-06 07:17:00.474 INFO in 'gensim.models.ldamodel'['ldamodel'] at line 1037: topic diff=0.050759, rho=0.333333\n",
      "2019-03-06 07:17:00.549 DEBUG in 'gensim.models.ldamodel'['ldamodel'] at line 1073: bound: at document #0\n",
      "2019-03-06 07:17:01.258 INFO in 'gensim.models.ldamodel'['ldamodel'] at line 814: -14.793 per-word bound, 28388.0 perplexity estimate based on a held-out corpus of 2000 documents with 11948 words\n",
      "2019-03-06 07:17:01.263 INFO in 'gensim.models.ldamodel'['ldamodel'] at line 968: PROGRESS: pass 0, at document #20000/37622\n",
      "2019-03-06 07:17:01.269 DEBUG in 'gensim.models.ldamodel'['ldamodel'] at line 638: performing inference on a chunk of 2000 documents\n",
      "2019-03-06 07:17:01.739 DEBUG in 'gensim.models.ldamodel'['ldamodel'] at line 700: 2000/2000 documents converged within 50 iterations\n",
      "2019-03-06 07:17:01.766 INFO in 'gensim.models.ldamodel'['ldamodel'] at line 759: optimized alpha [0.044717245, 0.042169657, 0.04344537, 0.045303274, 0.040887143, 0.04461745, 0.04162915, 0.042864434, 0.042162996, 0.041476008, 0.041884463, 0.04249734, 0.041730363, 0.042866454, 0.044032764, 0.042852942, 0.03938709, 0.03970616, 0.044145323, 0.04120933, 0.041675005, 0.04329616, 0.039558228, 0.04036786, 0.039912414]\n",
      "2019-03-06 07:17:01.769 DEBUG in 'gensim.models.ldamodel'['ldamodel'] at line 1027: updating topics\n",
      "2019-03-06 07:17:01.785 INFO in 'gensim.models.ldamodel'['ldamodel'] at line 230: merging changes from 2000 documents into a model of 37622 documents\n",
      "2019-03-06 07:17:01.851 INFO in 'gensim.models.ldamodel'['ldamodel'] at line 1159: topic #16 (0.039): 0.119*\"email\" + 0.089*\"account\" + 0.050*\"app\" + 0.040*\"send\" + 0.031*\"native\" + 0.029*\"scrolling\" + 0.027*\"read\" + 0.024*\"emails\" + 0.021*\"gmail\" + 0.016*\"names\"\n",
      "2019-03-06 07:17:01.857 INFO in 'gensim.models.ldamodel'['ldamodel'] at line 1159: topic #22 (0.040): 0.061*\"network\" + 0.059*\"camera\" + 0.053*\"location\" + 0.032*\"don\" + 0.028*\"gps\" + 0.027*\"work\" + 0.024*\"car\" + 0.023*\"reply\" + 0.019*\"login\" + 0.019*\"storage\"\n",
      "2019-03-06 07:17:01.863 INFO in 'gensim.models.ldamodel'['ldamodel'] at line 1159: topic #5 (0.045): 0.155*\"google\" + 0.087*\"android\" + 0.083*\"maps\" + 0.045*\"error\" + 0.035*\"incorrect\" + 0.034*\"widget\" + 0.030*\"code\" + 0.027*\"ndk\" + 0.024*\"documentation\" + 0.023*\"mobile\"\n",
      "2019-03-06 07:17:01.868 INFO in 'gensim.models.ldamodel'['ldamodel'] at line 1159: topic #0 (0.045): 0.073*\"problem\" + 0.071*\"bluetooth\" + 0.048*\"droid\" + 0.046*\"android\" + 0.041*\"mail\" + 0.033*\"audio\" + 0.030*\"app\" + 0.022*\"unlock\" + 0.022*\"running\" + 0.020*\"phone\"\n",
      "2019-03-06 07:17:01.874 INFO in 'gensim.models.ldamodel'['ldamodel'] at line 1159: topic #3 (0.045): 0.078*\"close\" + 0.073*\"force\" + 0.056*\"browser\" + 0.036*\"battery\" + 0.036*\"android\" + 0.029*\"input\" + 0.028*\"sd\" + 0.027*\"events\" + 0.026*\"card\" + 0.026*\"touch\"\n",
      "2019-03-06 07:17:01.883 INFO in 'gensim.models.ldamodel'['ldamodel'] at line 1037: topic diff=0.038281, rho=0.316228\n",
      "2019-03-06 07:17:01.929 INFO in 'gensim.models.ldamodel'['ldamodel'] at line 968: PROGRESS: pass 0, at document #22000/37622\n",
      "2019-03-06 07:17:01.934 DEBUG in 'gensim.models.ldamodel'['ldamodel'] at line 638: performing inference on a chunk of 2000 documents\n",
      "2019-03-06 07:17:02.389 DEBUG in 'gensim.models.ldamodel'['ldamodel'] at line 700: 2000/2000 documents converged within 50 iterations\n",
      "2019-03-06 07:17:02.416 INFO in 'gensim.models.ldamodel'['ldamodel'] at line 759: optimized alpha [0.045096394, 0.042540267, 0.044459168, 0.04613716, 0.041190125, 0.04586378, 0.042295203, 0.044020556, 0.04251664, 0.0422087, 0.042372894, 0.042949587, 0.04221456, 0.04347656, 0.04504967, 0.043385535, 0.03958331, 0.04022515, 0.044917118, 0.04177645, 0.042493556, 0.044000797, 0.039533444, 0.041272093, 0.04009818]\n",
      "2019-03-06 07:17:02.419 DEBUG in 'gensim.models.ldamodel'['ldamodel'] at line 1027: updating topics\n",
      "2019-03-06 07:17:02.435 INFO in 'gensim.models.ldamodel'['ldamodel'] at line 230: merging changes from 2000 documents into a model of 37622 documents\n",
      "2019-03-06 07:17:02.504 INFO in 'gensim.models.ldamodel'['ldamodel'] at line 1159: topic #22 (0.040): 0.061*\"network\" + 0.060*\"camera\" + 0.053*\"location\" + 0.033*\"don\" + 0.030*\"gps\" + 0.027*\"work\" + 0.024*\"login\" + 0.023*\"reply\" + 0.021*\"storage\" + 0.020*\"car\"\n",
      "2019-03-06 07:17:02.510 INFO in 'gensim.models.ldamodel'['ldamodel'] at line 1159: topic #16 (0.040): 0.113*\"email\" + 0.096*\"account\" + 0.049*\"app\" + 0.037*\"send\" + 0.031*\"read\" + 0.030*\"native\" + 0.024*\"scrolling\" + 0.024*\"gmail\" + 0.022*\"emails\" + 0.020*\"hardware\"\n",
      "2019-03-06 07:17:02.516 INFO in 'gensim.models.ldamodel'['ldamodel'] at line 1159: topic #0 (0.045): 0.078*\"problem\" + 0.066*\"bluetooth\" + 0.051*\"droid\" + 0.044*\"android\" + 0.039*\"mail\" + 0.039*\"audio\" + 0.031*\"app\" + 0.025*\"running\" + 0.021*\"unlock\" + 0.020*\"accounts\"\n",
      "2019-03-06 07:17:02.521 INFO in 'gensim.models.ldamodel'['ldamodel'] at line 1159: topic #5 (0.046): 0.166*\"google\" + 0.089*\"maps\" + 0.088*\"android\" + 0.048*\"error\" + 0.033*\"widget\" + 0.033*\"incorrect\" + 0.027*\"code\" + 0.027*\"documentation\" + 0.023*\"ndk\" + 0.022*\"mobile\"\n",
      "2019-03-06 07:17:02.531 INFO in 'gensim.models.ldamodel'['ldamodel'] at line 1159: topic #3 (0.046): 0.086*\"close\" + 0.078*\"force\" + 0.054*\"browser\" + 0.036*\"android\" + 0.033*\"battery\" + 0.030*\"input\" + 0.028*\"card\" + 0.028*\"sd\" + 0.024*\"work\" + 0.023*\"touch\"\n",
      "2019-03-06 07:17:02.537 INFO in 'gensim.models.ldamodel'['ldamodel'] at line 1037: topic diff=0.049099, rho=0.301511\n",
      "2019-03-06 07:17:02.590 INFO in 'gensim.models.ldamodel'['ldamodel'] at line 968: PROGRESS: pass 0, at document #24000/37622\n",
      "2019-03-06 07:17:02.595 DEBUG in 'gensim.models.ldamodel'['ldamodel'] at line 638: performing inference on a chunk of 2000 documents\n",
      "2019-03-06 07:17:03.25 DEBUG in 'gensim.models.ldamodel'['ldamodel'] at line 700: 2000/2000 documents converged within 50 iterations\n",
      "2019-03-06 07:17:03.53 INFO in 'gensim.models.ldamodel'['ldamodel'] at line 759: optimized alpha [0.04555792, 0.042907357, 0.045862857, 0.04734286, 0.04149685, 0.047307253, 0.042718183, 0.044726994, 0.04313745, 0.04281025, 0.04289806, 0.04319199, 0.042630807, 0.044310834, 0.046413947, 0.043969925, 0.040094648, 0.04051505, 0.04573954, 0.042194776, 0.043337405, 0.044833884, 0.039653488, 0.04190948, 0.040303573]\n",
      "2019-03-06 07:17:03.59 DEBUG in 'gensim.models.ldamodel'['ldamodel'] at line 1027: updating topics\n",
      "2019-03-06 07:17:03.72 INFO in 'gensim.models.ldamodel'['ldamodel'] at line 230: merging changes from 2000 documents into a model of 37622 documents\n",
      "2019-03-06 07:17:03.142 INFO in 'gensim.models.ldamodel'['ldamodel'] at line 1159: topic #22 (0.040): 0.063*\"network\" + 0.059*\"camera\" + 0.057*\"location\" + 0.035*\"don\" + 0.032*\"gps\" + 0.030*\"work\" + 0.024*\"login\" + 0.023*\"storage\" + 0.021*\"tag\" + 0.020*\"wifi\"\n",
      "2019-03-06 07:17:03.148 INFO in 'gensim.models.ldamodel'['ldamodel'] at line 1159: topic #16 (0.040): 0.129*\"email\" + 0.098*\"account\" + 0.062*\"app\" + 0.043*\"send\" + 0.027*\"native\" + 0.027*\"gmail\" + 0.026*\"read\" + 0.025*\"service\" + 0.024*\"emails\" + 0.023*\"scrolling\"\n",
      "2019-03-06 07:17:03.153 INFO in 'gensim.models.ldamodel'['ldamodel'] at line 1159: topic #14 (0.046): 0.058*\"wifi\" + 0.056*\"exception\" + 0.051*\"navigation\" + 0.050*\"java\" + 0.035*\"bar\" + 0.033*\"notification\" + 0.030*\"keypad\" + 0.030*\"setting\" + 0.025*\"status\" + 0.025*\"window\"\n",
      "2019-03-06 07:17:03.159 INFO in 'gensim.models.ldamodel'['ldamodel'] at line 1159: topic #5 (0.047): 0.172*\"google\" + 0.112*\"maps\" + 0.077*\"android\" + 0.056*\"error\" + 0.046*\"widget\" + 0.033*\"incorrect\" + 0.027*\"code\" + 0.025*\"search\" + 0.020*\"documentation\" + 0.019*\"ndk\"\n",
      "2019-03-06 07:17:03.168 INFO in 'gensim.models.ldamodel'['ldamodel'] at line 1159: topic #3 (0.047): 0.110*\"close\" + 0.104*\"force\" + 0.045*\"browser\" + 0.039*\"battery\" + 0.035*\"android\" + 0.029*\"input\" + 0.027*\"touch\" + 0.024*\"work\" + 0.023*\"card\" + 0.022*\"sd\"\n",
      "2019-03-06 07:17:03.177 INFO in 'gensim.models.ldamodel'['ldamodel'] at line 1037: topic diff=0.046328, rho=0.288675\n",
      "2019-03-06 07:17:03.226 INFO in 'gensim.models.ldamodel'['ldamodel'] at line 968: PROGRESS: pass 0, at document #26000/37622\n",
      "2019-03-06 07:17:03.229 DEBUG in 'gensim.models.ldamodel'['ldamodel'] at line 638: performing inference on a chunk of 2000 documents\n",
      "2019-03-06 07:17:03.650 DEBUG in 'gensim.models.ldamodel'['ldamodel'] at line 700: 1999/2000 documents converged within 50 iterations\n",
      "2019-03-06 07:17:03.682 INFO in 'gensim.models.ldamodel'['ldamodel'] at line 759: optimized alpha [0.045980908, 0.043325014, 0.04725576, 0.04819727, 0.041824635, 0.048700366, 0.04299963, 0.04538904, 0.043470435, 0.043113463, 0.043398898, 0.04362694, 0.043192334, 0.045030676, 0.04734734, 0.04440683, 0.040718753, 0.04106125, 0.04650932, 0.042929832, 0.044318166, 0.045552067, 0.039855693, 0.042443074, 0.04058139]\n",
      "2019-03-06 07:17:03.685 DEBUG in 'gensim.models.ldamodel'['ldamodel'] at line 1027: updating topics\n",
      "2019-03-06 07:17:03.697 INFO in 'gensim.models.ldamodel'['ldamodel'] at line 230: merging changes from 2000 documents into a model of 37622 documents\n"
     ]
    },
    {
     "name": "stderr",
     "output_type": "stream",
     "text": [
      "2019-03-06 07:17:03.764 INFO in 'gensim.models.ldamodel'['ldamodel'] at line 1159: topic #22 (0.040): 0.068*\"camera\" + 0.067*\"network\" + 0.062*\"location\" + 0.032*\"gps\" + 0.030*\"don\" + 0.030*\"work\" + 0.025*\"reply\" + 0.024*\"login\" + 0.023*\"storage\" + 0.021*\"wifi\"\n",
      "2019-03-06 07:17:03.770 INFO in 'gensim.models.ldamodel'['ldamodel'] at line 1159: topic #24 (0.041): 0.105*\"voice\" + 0.066*\"view\" + 0.062*\"lock\" + 0.049*\"google\" + 0.043*\"screen\" + 0.035*\"reboot\" + 0.034*\"map\" + 0.032*\"options\" + 0.023*\"day\" + 0.020*\"calling\"\n",
      "2019-03-06 07:17:03.776 INFO in 'gensim.models.ldamodel'['ldamodel'] at line 1159: topic #14 (0.047): 0.064*\"exception\" + 0.056*\"wifi\" + 0.048*\"java\" + 0.048*\"navigation\" + 0.042*\"bar\" + 0.037*\"notification\" + 0.030*\"setting\" + 0.028*\"keypad\" + 0.023*\"window\" + 0.021*\"status\"\n",
      "2019-03-06 07:17:03.786 INFO in 'gensim.models.ldamodel'['ldamodel'] at line 1159: topic #3 (0.048): 0.133*\"close\" + 0.126*\"force\" + 0.041*\"browser\" + 0.033*\"battery\" + 0.032*\"android\" + 0.027*\"input\" + 0.025*\"touch\" + 0.021*\"work\" + 0.020*\"events\" + 0.020*\"background\"\n",
      "2019-03-06 07:17:03.793 INFO in 'gensim.models.ldamodel'['ldamodel'] at line 1159: topic #5 (0.049): 0.175*\"google\" + 0.109*\"maps\" + 0.068*\"android\" + 0.068*\"error\" + 0.048*\"widget\" + 0.041*\"incorrect\" + 0.028*\"code\" + 0.020*\"search\" + 0.019*\"ndk\" + 0.018*\"application\"\n",
      "2019-03-06 07:17:03.802 INFO in 'gensim.models.ldamodel'['ldamodel'] at line 1037: topic diff=0.041127, rho=0.277350\n",
      "2019-03-06 07:17:03.849 INFO in 'gensim.models.ldamodel'['ldamodel'] at line 968: PROGRESS: pass 0, at document #28000/37622\n",
      "2019-03-06 07:17:03.854 DEBUG in 'gensim.models.ldamodel'['ldamodel'] at line 638: performing inference on a chunk of 2000 documents\n",
      "2019-03-06 07:17:04.287 DEBUG in 'gensim.models.ldamodel'['ldamodel'] at line 700: 2000/2000 documents converged within 50 iterations\n",
      "2019-03-06 07:17:04.314 INFO in 'gensim.models.ldamodel'['ldamodel'] at line 759: optimized alpha [0.046565928, 0.043961834, 0.048198365, 0.049734216, 0.04209897, 0.050549373, 0.04353822, 0.04601079, 0.044137716, 0.04349195, 0.04391573, 0.044463925, 0.0442694, 0.046161946, 0.048091725, 0.04491848, 0.04096064, 0.041405987, 0.047264777, 0.043466505, 0.045406274, 0.046630833, 0.039884888, 0.0432124, 0.04081812]\n",
      "2019-03-06 07:17:04.319 DEBUG in 'gensim.models.ldamodel'['ldamodel'] at line 1027: updating topics\n",
      "2019-03-06 07:17:04.330 INFO in 'gensim.models.ldamodel'['ldamodel'] at line 230: merging changes from 2000 documents into a model of 37622 documents\n",
      "2019-03-06 07:17:04.399 INFO in 'gensim.models.ldamodel'['ldamodel'] at line 1159: topic #22 (0.040): 0.070*\"location\" + 0.068*\"camera\" + 0.059*\"network\" + 0.031*\"don\" + 0.029*\"work\" + 0.027*\"gps\" + 0.026*\"login\" + 0.024*\"visible\" + 0.023*\"reply\" + 0.022*\"storage\"\n",
      "2019-03-06 07:17:04.403 INFO in 'gensim.models.ldamodel'['ldamodel'] at line 1159: topic #24 (0.041): 0.114*\"voice\" + 0.068*\"view\" + 0.066*\"lock\" + 0.053*\"google\" + 0.052*\"options\" + 0.046*\"screen\" + 0.043*\"map\" + 0.028*\"reboot\" + 0.019*\"day\" + 0.018*\"enable\"\n",
      "2019-03-06 07:17:04.409 INFO in 'gensim.models.ldamodel'['ldamodel'] at line 1159: topic #2 (0.048): 0.140*\"ics\" + 0.059*\"support\" + 0.049*\"file\" + 0.039*\"key\" + 0.038*\"data\" + 0.033*\"android\" + 0.029*\"connection\" + 0.029*\"password\" + 0.028*\"build\" + 0.027*\"files\"\n",
      "2019-03-06 07:17:04.419 INFO in 'gensim.models.ldamodel'['ldamodel'] at line 1159: topic #3 (0.050): 0.183*\"close\" + 0.181*\"force\" + 0.034*\"browser\" + 0.029*\"input\" + 0.026*\"android\" + 0.025*\"battery\" + 0.022*\"icon\" + 0.020*\"touch\" + 0.018*\"photo\" + 0.018*\"events\"\n",
      "2019-03-06 07:17:04.425 INFO in 'gensim.models.ldamodel'['ldamodel'] at line 1159: topic #5 (0.051): 0.208*\"google\" + 0.108*\"maps\" + 0.069*\"error\" + 0.058*\"android\" + 0.045*\"widget\" + 0.039*\"incorrect\" + 0.028*\"displaying\" + 0.026*\"code\" + 0.024*\"search\" + 0.022*\"application\"\n",
      "2019-03-06 07:17:04.438 INFO in 'gensim.models.ldamodel'['ldamodel'] at line 1037: topic diff=0.058789, rho=0.267261\n",
      "2019-03-06 07:17:04.488 INFO in 'gensim.models.ldamodel'['ldamodel'] at line 968: PROGRESS: pass 0, at document #30000/37622\n",
      "2019-03-06 07:17:04.494 DEBUG in 'gensim.models.ldamodel'['ldamodel'] at line 638: performing inference on a chunk of 2000 documents\n",
      "2019-03-06 07:17:04.913 DEBUG in 'gensim.models.ldamodel'['ldamodel'] at line 700: 2000/2000 documents converged within 50 iterations\n",
      "2019-03-06 07:17:04.941 INFO in 'gensim.models.ldamodel'['ldamodel'] at line 759: optimized alpha [0.047808696, 0.044238675, 0.04914006, 0.051202267, 0.042100396, 0.052451063, 0.044229683, 0.046400763, 0.04476706, 0.043895748, 0.044347335, 0.044969566, 0.045159817, 0.047352523, 0.04916087, 0.045447387, 0.04121312, 0.041681238, 0.048212916, 0.04407532, 0.046092708, 0.047728717, 0.03998558, 0.043858018, 0.04115059]\n",
      "2019-03-06 07:17:04.948 DEBUG in 'gensim.models.ldamodel'['ldamodel'] at line 1027: updating topics\n",
      "2019-03-06 07:17:04.957 INFO in 'gensim.models.ldamodel'['ldamodel'] at line 230: merging changes from 2000 documents into a model of 37622 documents\n",
      "2019-03-06 07:17:05.25 INFO in 'gensim.models.ldamodel'['ldamodel'] at line 1159: topic #22 (0.040): 0.066*\"camera\" + 0.065*\"location\" + 0.059*\"network\" + 0.033*\"work\" + 0.033*\"don\" + 0.027*\"description\" + 0.026*\"tag\" + 0.024*\"gps\" + 0.024*\"login\" + 0.022*\"visible\"\n",
      "2019-03-06 07:17:05.31 INFO in 'gensim.models.ldamodel'['ldamodel'] at line 1159: topic #24 (0.041): 0.116*\"voice\" + 0.072*\"options\" + 0.067*\"lock\" + 0.062*\"view\" + 0.054*\"map\" + 0.051*\"google\" + 0.050*\"screen\" + 0.025*\"reboot\" + 0.021*\"date\" + 0.017*\"tutorial\"\n",
      "2019-03-06 07:17:05.37 INFO in 'gensim.models.ldamodel'['ldamodel'] at line 1159: topic #2 (0.049): 0.155*\"ics\" + 0.054*\"support\" + 0.053*\"file\" + 0.044*\"key\" + 0.036*\"data\" + 0.033*\"connection\" + 0.031*\"android\" + 0.029*\"password\" + 0.026*\"build\" + 0.025*\"files\"\n",
      "2019-03-06 07:17:05.42 INFO in 'gensim.models.ldamodel'['ldamodel'] at line 1159: topic #3 (0.051): 0.215*\"close\" + 0.214*\"force\" + 0.028*\"input\" + 0.028*\"browser\" + 0.023*\"android\" + 0.022*\"battery\" + 0.021*\"icon\" + 0.018*\"touch\" + 0.017*\"photo\" + 0.014*\"application\"\n",
      "2019-03-06 07:17:05.52 INFO in 'gensim.models.ldamodel'['ldamodel'] at line 1159: topic #5 (0.052): 0.211*\"google\" + 0.103*\"maps\" + 0.074*\"error\" + 0.060*\"android\" + 0.046*\"displaying\" + 0.042*\"widget\" + 0.038*\"incorrect\" + 0.026*\"code\" + 0.021*\"search\" + 0.020*\"application\"\n",
      "2019-03-06 07:17:05.59 INFO in 'gensim.models.ldamodel'['ldamodel'] at line 1037: topic diff=0.051279, rho=0.258199\n",
      "2019-03-06 07:17:05.112 INFO in 'gensim.models.ldamodel'['ldamodel'] at line 968: PROGRESS: pass 0, at document #32000/37622\n",
      "2019-03-06 07:17:05.118 DEBUG in 'gensim.models.ldamodel'['ldamodel'] at line 638: performing inference on a chunk of 2000 documents\n",
      "2019-03-06 07:17:05.541 DEBUG in 'gensim.models.ldamodel'['ldamodel'] at line 700: 2000/2000 documents converged within 50 iterations\n",
      "2019-03-06 07:17:05.570 INFO in 'gensim.models.ldamodel'['ldamodel'] at line 759: optimized alpha [0.04886622, 0.044967465, 0.049770743, 0.053114507, 0.04224448, 0.05431546, 0.044898055, 0.046807624, 0.045613647, 0.043995403, 0.044899292, 0.04563488, 0.047169868, 0.049345475, 0.05020453, 0.04617745, 0.04144919, 0.042144142, 0.048866708, 0.044606704, 0.046791483, 0.049590033, 0.04015186, 0.04440425, 0.04152217]\n",
      "2019-03-06 07:17:05.578 DEBUG in 'gensim.models.ldamodel'['ldamodel'] at line 1027: updating topics\n",
      "2019-03-06 07:17:05.591 INFO in 'gensim.models.ldamodel'['ldamodel'] at line 230: merging changes from 2000 documents into a model of 37622 documents\n",
      "2019-03-06 07:17:05.661 INFO in 'gensim.models.ldamodel'['ldamodel'] at line 1159: topic #22 (0.040): 0.075*\"location\" + 0.073*\"coming\" + 0.057*\"camera\" + 0.057*\"network\" + 0.034*\"work\" + 0.029*\"login\" + 0.028*\"don\" + 0.025*\"description\" + 0.024*\"visible\" + 0.022*\"gps\"\n",
      "2019-03-06 07:17:05.666 INFO in 'gensim.models.ldamodel'['ldamodel'] at line 1159: topic #16 (0.041): 0.160*\"account\" + 0.128*\"email\" + 0.055*\"app\" + 0.054*\"send\" + 0.025*\"native\" + 0.025*\"gmail\" + 0.024*\"read\" + 0.019*\"names\" + 0.019*\"airplane\" + 0.019*\"hang\"\n",
      "2019-03-06 07:17:05.672 INFO in 'gensim.models.ldamodel'['ldamodel'] at line 1159: topic #14 (0.050): 0.066*\"exception\" + 0.049*\"keypad\" + 0.047*\"bar\" + 0.046*\"navigation\" + 0.045*\"font\" + 0.045*\"wifi\" + 0.042*\"setting\" + 0.041*\"notification\" + 0.039*\"java\" + 0.034*\"window\"\n",
      "2019-03-06 07:17:05.677 INFO in 'gensim.models.ldamodel'['ldamodel'] at line 1159: topic #3 (0.053): 0.261*\"force\" + 0.260*\"close\" + 0.023*\"input\" + 0.021*\"photo\" + 0.020*\"browser\" + 0.020*\"icon\" + 0.018*\"battery\" + 0.017*\"android\" + 0.017*\"display\" + 0.013*\"touch\"\n",
      "2019-03-06 07:17:05.690 INFO in 'gensim.models.ldamodel'['ldamodel'] at line 1159: topic #5 (0.054): 0.226*\"google\" + 0.108*\"maps\" + 0.066*\"android\" + 0.064*\"error\" + 0.063*\"displaying\" + 0.036*\"widget\" + 0.033*\"incorrect\" + 0.031*\"crashed\" + 0.024*\"source\" + 0.022*\"code\"\n",
      "2019-03-06 07:17:05.697 INFO in 'gensim.models.ldamodel'['ldamodel'] at line 1037: topic diff=0.067486, rho=0.250000\n",
      "2019-03-06 07:17:05.746 INFO in 'gensim.models.ldamodel'['ldamodel'] at line 968: PROGRESS: pass 0, at document #34000/37622\n",
      "2019-03-06 07:17:05.751 DEBUG in 'gensim.models.ldamodel'['ldamodel'] at line 638: performing inference on a chunk of 2000 documents\n",
      "2019-03-06 07:17:06.145 DEBUG in 'gensim.models.ldamodel'['ldamodel'] at line 700: 2000/2000 documents converged within 50 iterations\n",
      "2019-03-06 07:17:06.170 INFO in 'gensim.models.ldamodel'['ldamodel'] at line 759: optimized alpha [0.04925232, 0.04549124, 0.050880097, 0.05417058, 0.042523336, 0.056407522, 0.045499228, 0.04726836, 0.04633499, 0.04440109, 0.04538731, 0.0460625, 0.04785627, 0.050749764, 0.051185947, 0.046721637, 0.04163541, 0.042589523, 0.049427442, 0.044832822, 0.04782526, 0.05053949, 0.040396683, 0.044865545, 0.041819677]\n",
      "2019-03-06 07:17:06.173 DEBUG in 'gensim.models.ldamodel'['ldamodel'] at line 1027: updating topics\n",
      "2019-03-06 07:17:06.188 INFO in 'gensim.models.ldamodel'['ldamodel'] at line 230: merging changes from 2000 documents into a model of 37622 documents\n",
      "2019-03-06 07:17:06.253 INFO in 'gensim.models.ldamodel'['ldamodel'] at line 1159: topic #22 (0.040): 0.081*\"location\" + 0.062*\"coming\" + 0.053*\"network\" + 0.052*\"camera\" + 0.044*\"work\" + 0.032*\"login\" + 0.031*\"don\" + 0.027*\"description\" + 0.026*\"visible\" + 0.021*\"failure\"\n",
      "2019-03-06 07:17:06.259 INFO in 'gensim.models.ldamodel'['ldamodel'] at line 1159: topic #16 (0.042): 0.155*\"account\" + 0.130*\"email\" + 0.057*\"app\" + 0.055*\"send\" + 0.025*\"gmail\" + 0.025*\"read\" + 0.023*\"native\" + 0.023*\"service\" + 0.019*\"names\" + 0.019*\"airplane\"\n",
      "2019-03-06 07:17:06.264 INFO in 'gensim.models.ldamodel'['ldamodel'] at line 1159: topic #14 (0.051): 0.060*\"keypad\" + 0.059*\"exception\" + 0.051*\"navigation\" + 0.049*\"java\" + 0.045*\"wifi\" + 0.043*\"font\" + 0.043*\"bar\" + 0.042*\"setting\" + 0.040*\"notification\" + 0.030*\"window\"\n",
      "2019-03-06 07:17:06.272 INFO in 'gensim.models.ldamodel'['ldamodel'] at line 1159: topic #3 (0.054): 0.257*\"force\" + 0.254*\"close\" + 0.024*\"input\" + 0.020*\"icon\" + 0.020*\"battery\" + 0.019*\"photo\" + 0.018*\"browser\" + 0.016*\"android\" + 0.015*\"display\" + 0.014*\"touch\"\n",
      "2019-03-06 07:17:06.277 INFO in 'gensim.models.ldamodel'['ldamodel'] at line 1159: topic #5 (0.056): 0.228*\"google\" + 0.136*\"maps\" + 0.068*\"error\" + 0.066*\"android\" + 0.051*\"displaying\" + 0.033*\"widget\" + 0.031*\"incorrect\" + 0.028*\"crashed\" + 0.026*\"code\" + 0.019*\"source\"\n",
      "2019-03-06 07:17:06.290 INFO in 'gensim.models.ldamodel'['ldamodel'] at line 1037: topic diff=0.037240, rho=0.242536\n",
      "2019-03-06 07:17:06.336 INFO in 'gensim.models.ldamodel'['ldamodel'] at line 968: PROGRESS: pass 0, at document #36000/37622\n",
      "2019-03-06 07:17:06.341 DEBUG in 'gensim.models.ldamodel'['ldamodel'] at line 638: performing inference on a chunk of 2000 documents\n",
      "2019-03-06 07:17:06.754 DEBUG in 'gensim.models.ldamodel'['ldamodel'] at line 700: 2000/2000 documents converged within 50 iterations\n",
      "2019-03-06 07:17:06.780 INFO in 'gensim.models.ldamodel'['ldamodel'] at line 759: optimized alpha [0.049545407, 0.045785733, 0.051910043, 0.05471164, 0.042759687, 0.058287725, 0.04607715, 0.04770774, 0.046769712, 0.044985466, 0.045995053, 0.046465773, 0.048415847, 0.05190262, 0.052160665, 0.04734848, 0.041908715, 0.043076716, 0.050244622, 0.045289636, 0.048460525, 0.05139027, 0.040837143, 0.045581948, 0.042228553]\n",
      "2019-03-06 07:17:06.785 DEBUG in 'gensim.models.ldamodel'['ldamodel'] at line 1027: updating topics\n",
      "2019-03-06 07:17:06.795 INFO in 'gensim.models.ldamodel'['ldamodel'] at line 230: merging changes from 2000 documents into a model of 37622 documents\n",
      "2019-03-06 07:17:06.864 INFO in 'gensim.models.ldamodel'['ldamodel'] at line 1159: topic #22 (0.041): 0.078*\"location\" + 0.060*\"camera\" + 0.053*\"network\" + 0.048*\"coming\" + 0.046*\"work\" + 0.031*\"don\" + 0.028*\"login\" + 0.027*\"description\" + 0.025*\"bt\" + 0.025*\"visible\"\n",
      "2019-03-06 07:17:06.870 INFO in 'gensim.models.ldamodel'['ldamodel'] at line 1159: topic #16 (0.042): 0.139*\"account\" + 0.137*\"email\" + 0.064*\"app\" + 0.052*\"send\" + 0.025*\"native\" + 0.023*\"read\" + 0.022*\"service\" + 0.022*\"gmail\" + 0.019*\"names\" + 0.019*\"run\"\n",
      "2019-03-06 07:17:06.875 INFO in 'gensim.models.ldamodel'['ldamodel'] at line 1159: topic #14 (0.052): 0.063*\"keypad\" + 0.055*\"navigation\" + 0.052*\"exception\" + 0.048*\"wifi\" + 0.046*\"java\" + 0.044*\"bar\" + 0.042*\"notification\" + 0.042*\"setting\" + 0.041*\"font\" + 0.032*\"window\"\n",
      "2019-03-06 07:17:06.879 INFO in 'gensim.models.ldamodel'['ldamodel'] at line 1159: topic #3 (0.055): 0.233*\"force\" + 0.232*\"close\" + 0.026*\"input\" + 0.024*\"battery\" + 0.022*\"icon\" + 0.020*\"photo\" + 0.017*\"touch\" + 0.016*\"browser\" + 0.016*\"android\" + 0.015*\"application\"\n",
      "2019-03-06 07:17:06.887 INFO in 'gensim.models.ldamodel'['ldamodel'] at line 1159: topic #5 (0.058): 0.228*\"google\" + 0.138*\"maps\" + 0.066*\"error\" + 0.063*\"android\" + 0.040*\"displaying\" + 0.033*\"widget\" + 0.033*\"incorrect\" + 0.030*\"code\" + 0.024*\"crashed\" + 0.018*\"source\"\n",
      "2019-03-06 07:17:06.898 INFO in 'gensim.models.ldamodel'['ldamodel'] at line 1037: topic diff=0.041122, rho=0.235702\n",
      "2019-03-06 07:17:06.966 DEBUG in 'gensim.models.ldamodel'['ldamodel'] at line 1073: bound: at document #0\n",
      "2019-03-06 07:17:07.481 INFO in 'gensim.models.ldamodel'['ldamodel'] at line 814: -15.328 per-word bound, 41122.3 perplexity estimate based on a held-out corpus of 1622 documents with 9598 words\n",
      "2019-03-06 07:17:07.484 INFO in 'gensim.models.ldamodel'['ldamodel'] at line 968: PROGRESS: pass 0, at document #37622/37622\n",
      "2019-03-06 07:17:07.496 DEBUG in 'gensim.models.ldamodel'['ldamodel'] at line 638: performing inference on a chunk of 1622 documents\n",
      "2019-03-06 07:17:07.819 DEBUG in 'gensim.models.ldamodel'['ldamodel'] at line 700: 1622/1622 documents converged within 50 iterations\n",
      "2019-03-06 07:17:07.844 INFO in 'gensim.models.ldamodel'['ldamodel'] at line 759: optimized alpha [0.049885206, 0.04607018, 0.052820247, 0.055311248, 0.04310429, 0.05959365, 0.04670179, 0.04833803, 0.046957288, 0.045418493, 0.046346325, 0.046972938, 0.04904066, 0.0524734, 0.0532935, 0.04778354, 0.042165324, 0.04374968, 0.051150188, 0.045964938, 0.048862576, 0.052116636, 0.04131367, 0.04620021, 0.042560607]\n",
      "2019-03-06 07:17:07.847 DEBUG in 'gensim.models.ldamodel'['ldamodel'] at line 1027: updating topics\n",
      "2019-03-06 07:17:07.864 INFO in 'gensim.models.ldamodel'['ldamodel'] at line 230: merging changes from 1622 documents into a model of 37622 documents\n",
      "2019-03-06 07:17:07.931 INFO in 'gensim.models.ldamodel'['ldamodel'] at line 1159: topic #22 (0.041): 0.068*\"location\" + 0.068*\"camera\" + 0.062*\"network\" + 0.051*\"work\" + 0.036*\"don\" + 0.036*\"coming\" + 0.026*\"visible\" + 0.025*\"gps\" + 0.025*\"login\" + 0.024*\"storage\"\n",
      "2019-03-06 07:17:07.936 INFO in 'gensim.models.ldamodel'['ldamodel'] at line 1159: topic #16 (0.042): 0.140*\"email\" + 0.132*\"account\" + 0.083*\"app\" + 0.047*\"send\" + 0.028*\"service\" + 0.024*\"read\" + 0.022*\"native\" + 0.021*\"run\" + 0.020*\"names\" + 0.019*\"gmail\"\n",
      "2019-03-06 07:17:07.942 INFO in 'gensim.models.ldamodel'['ldamodel'] at line 1159: topic #14 (0.053): 0.058*\"wifi\" + 0.055*\"java\" + 0.049*\"navigation\" + 0.048*\"keypad\" + 0.046*\"notification\" + 0.043*\"exception\" + 0.043*\"bar\" + 0.040*\"setting\" + 0.038*\"font\" + 0.032*\"window\"\n"
     ]
    },
    {
     "name": "stderr",
     "output_type": "stream",
     "text": [
      "2019-03-06 07:17:07.947 INFO in 'gensim.models.ldamodel'['ldamodel'] at line 1159: topic #3 (0.055): 0.208*\"force\" + 0.207*\"close\" + 0.031*\"battery\" + 0.027*\"input\" + 0.020*\"browser\" + 0.019*\"photo\" + 0.018*\"icon\" + 0.018*\"android\" + 0.018*\"touch\" + 0.016*\"background\"\n",
      "2019-03-06 07:17:07.959 INFO in 'gensim.models.ldamodel'['ldamodel'] at line 1159: topic #5 (0.060): 0.240*\"google\" + 0.120*\"maps\" + 0.070*\"android\" + 0.066*\"error\" + 0.034*\"incorrect\" + 0.033*\"displaying\" + 0.032*\"widget\" + 0.029*\"code\" + 0.020*\"crashed\" + 0.019*\"ndk\"\n",
      "2019-03-06 07:17:07.967 INFO in 'gensim.models.ldamodel'['ldamodel'] at line 1037: topic diff=0.043868, rho=0.229416\n",
      "2019-03-06 07:17:07.977 INFO in 'gensim.utils'['utils'] at line 542: saving LdaState object under android.lda.state, separately None\n",
      "2019-03-06 07:17:07.983 DEBUG in 'smart_open.smart_open_lib'['smart_open_lib'] at line 176: {'kw': {}, 'mode': 'wb', 'uri': 'android.lda.state'}\n",
      "2019-03-06 07:17:08.9 INFO in 'gensim.utils'['utils'] at line 556: saved android.lda.state\n",
      "2019-03-06 07:17:08.14 DEBUG in 'smart_open.smart_open_lib'['smart_open_lib'] at line 176: {'kw': {}, 'mode': 'wb', 'uri': 'android.lda.id2word'}\n",
      "2019-03-06 07:17:08.33 INFO in 'gensim.utils'['utils'] at line 542: saving LdaModel object under android.lda, separately ['expElogbeta', 'sstats']\n",
      "2019-03-06 07:17:08.41 INFO in 'gensim.utils'['utils'] at line 616: storing np array 'expElogbeta' to android.lda.expElogbeta.npy\n",
      "2019-03-06 07:17:08.50 INFO in 'gensim.utils'['utils'] at line 648: not storing attribute dispatcher\n",
      "2019-03-06 07:17:08.58 INFO in 'gensim.utils'['utils'] at line 648: not storing attribute id2word\n",
      "2019-03-06 07:17:08.63 INFO in 'gensim.utils'['utils'] at line 648: not storing attribute state\n",
      "2019-03-06 07:17:08.74 DEBUG in 'smart_open.smart_open_lib'['smart_open_lib'] at line 176: {'kw': {}, 'mode': 'wb', 'uri': 'android.lda'}\n",
      "2019-03-06 07:17:08.85 INFO in 'gensim.utils'['utils'] at line 556: saved android.lda\n"
     ]
    }
   ],
   "source": [
    "model = gensim.models.LdaModel(corpus, id2word=corpus.id2word, alpha='auto', num_topics=25)\n",
    "model.save('android.lda')\n",
    "#model = gensim.models.LdaModel.load('android.lda')"
   ]
  },
  {
   "cell_type": "code",
   "execution_count": 90,
   "metadata": {},
   "outputs": [
    {
     "data": {
      "text/plain": [
       "[(22, '0.068*\"location\" + 0.068*\"camera\" + 0.062*\"network\"'),\n",
       " (16, '0.140*\"email\" + 0.132*\"account\" + 0.083*\"app\"'),\n",
       " (14, '0.058*\"wifi\" + 0.055*\"java\" + 0.049*\"navigation\"'),\n",
       " (3, '0.208*\"force\" + 0.207*\"close\" + 0.031*\"battery\"'),\n",
       " (5, '0.240*\"google\" + 0.120*\"maps\" + 0.070*\"android\"')]"
      ]
     },
     "execution_count": 90,
     "metadata": {},
     "output_type": "execute_result"
    }
   ],
   "source": [
    "model.show_topics(num_topics=5, formatted=True, num_words = 3)"
   ]
  },
  {
   "cell_type": "code",
   "execution_count": 91,
   "metadata": {},
   "outputs": [
    {
     "data": {
      "text/plain": [
       "[('update', 0.10460339),\n",
       " ('settings', 0.0961843),\n",
       " ('store', 0.079363555),\n",
       " ('call', 0.06707138),\n",
       " ('displays', 0.039056607),\n",
       " ('android', 0.032985814),\n",
       " ('tab', 0.03022936),\n",
       " ('developer', 0.025293238),\n",
       " ('applications', 0.02174573),\n",
       " ('process', 0.02065673)]"
      ]
     },
     "execution_count": 91,
     "metadata": {},
     "output_type": "execute_result"
    }
   ],
   "source": [
    "model.show_topic(topicid = 6, topn = 10)"
   ]
  },
  {
   "cell_type": "code",
   "execution_count": null,
   "metadata": {},
   "outputs": [],
   "source": []
  },
  {
   "cell_type": "code",
   "execution_count": 93,
   "metadata": {},
   "outputs": [
    {
     "name": "stderr",
     "output_type": "stream",
     "text": [
      "2019-03-06 07:18:35.662 INFO in 'gensim.corpora.dictionary'['dictionary'] at line 202: adding document #0 to Dictionary(0 unique tokens: [])\n",
      "2019-03-06 07:18:35.672 INFO in 'gensim.corpora.dictionary'['dictionary'] at line 209: built Dictionary(32 unique tokens: ['brocolli', 'brother', 'eat', 'good', 'like']...) from 5 documents (total 46 corpus positions)\n",
      "2019-03-06 07:18:35.686 INFO in 'gensim.models.ldamodel'['ldamodel'] at line 557: using symmetric alpha at 0.5\n",
      "2019-03-06 07:18:35.700 INFO in 'gensim.models.ldamodel'['ldamodel'] at line 557: using symmetric eta at 0.5\n",
      "2019-03-06 07:18:35.706 INFO in 'gensim.models.ldamodel'['ldamodel'] at line 481: using serial LDA version on this node\n",
      "2019-03-06 07:18:35.711 INFO in 'gensim.models.ldamodel'['ldamodel'] at line 919: running online (multi-pass) LDA training, 2 topics, 20 passes over the supplied corpus of 5 documents, updating model once every 5 documents, evaluating perplexity every 5 documents, iterating 50x with a convergence threshold of 0.001000\n",
      "2019-03-06 07:18:35.719 DEBUG in 'gensim.models.ldamodel'['ldamodel'] at line 1073: bound: at document #0\n",
      "2019-03-06 07:18:35.736 INFO in 'gensim.models.ldamodel'['ldamodel'] at line 814: -4.338 per-word bound, 20.2 perplexity estimate based on a held-out corpus of 5 documents with 46 words\n",
      "2019-03-06 07:18:35.740 INFO in 'gensim.models.ldamodel'['ldamodel'] at line 968: PROGRESS: pass 0, at document #5/5\n",
      "2019-03-06 07:18:35.743 DEBUG in 'gensim.models.ldamodel'['ldamodel'] at line 638: performing inference on a chunk of 5 documents\n",
      "2019-03-06 07:18:35.756 DEBUG in 'gensim.models.ldamodel'['ldamodel'] at line 700: 1/5 documents converged within 50 iterations\n",
      "2019-03-06 07:18:35.772 DEBUG in 'gensim.models.ldamodel'['ldamodel'] at line 1027: updating topics\n",
      "2019-03-06 07:18:35.790 INFO in 'gensim.models.ldamodel'['ldamodel'] at line 1159: topic #0 (0.500): 0.069*\"good\" + 0.067*\"brocolli\" + 0.067*\"mother\" + 0.064*\"brother\" + 0.052*\"eat\" + 0.047*\"health\" + 0.047*\"drive\" + 0.032*\"pressur\" + 0.031*\"like\" + 0.029*\"around\"\n",
      "2019-03-06 07:18:35.797 INFO in 'gensim.models.ldamodel'['ldamodel'] at line 1159: topic #1 (0.500): 0.058*\"drive\" + 0.058*\"health\" + 0.048*\"pressur\" + 0.043*\"increas\" + 0.041*\"may\" + 0.041*\"expert\" + 0.041*\"caus\" + 0.041*\"suggest\" + 0.040*\"blood\" + 0.040*\"tension\"\n",
      "2019-03-06 07:18:35.806 INFO in 'gensim.models.ldamodel'['ldamodel'] at line 1037: topic diff=0.458591, rho=1.000000\n",
      "2019-03-06 07:18:35.813 DEBUG in 'gensim.models.ldamodel'['ldamodel'] at line 1073: bound: at document #0\n",
      "2019-03-06 07:18:35.821 INFO in 'gensim.models.ldamodel'['ldamodel'] at line 814: -3.999 per-word bound, 16.0 perplexity estimate based on a held-out corpus of 5 documents with 46 words\n",
      "2019-03-06 07:18:35.827 INFO in 'gensim.models.ldamodel'['ldamodel'] at line 968: PROGRESS: pass 1, at document #5/5\n",
      "2019-03-06 07:18:35.834 DEBUG in 'gensim.models.ldamodel'['ldamodel'] at line 638: performing inference on a chunk of 5 documents\n",
      "2019-03-06 07:18:35.842 DEBUG in 'gensim.models.ldamodel'['ldamodel'] at line 700: 5/5 documents converged within 50 iterations\n",
      "2019-03-06 07:18:35.856 DEBUG in 'gensim.models.ldamodel'['ldamodel'] at line 1027: updating topics\n",
      "2019-03-06 07:18:35.871 INFO in 'gensim.models.ldamodel'['ldamodel'] at line 1159: topic #0 (0.500): 0.068*\"good\" + 0.068*\"brocolli\" + 0.067*\"mother\" + 0.066*\"brother\" + 0.050*\"eat\" + 0.047*\"drive\" + 0.047*\"health\" + 0.030*\"pressur\" + 0.030*\"like\" + 0.029*\"around\"\n",
      "2019-03-06 07:18:35.877 INFO in 'gensim.models.ldamodel'['ldamodel'] at line 1159: topic #1 (0.500): 0.059*\"health\" + 0.058*\"drive\" + 0.053*\"pressur\" + 0.050*\"increas\" + 0.049*\"may\" + 0.049*\"expert\" + 0.049*\"caus\" + 0.049*\"suggest\" + 0.049*\"blood\" + 0.049*\"tension\"\n",
      "2019-03-06 07:18:35.885 INFO in 'gensim.models.ldamodel'['ldamodel'] at line 1037: topic diff=0.215057, rho=0.577350\n",
      "2019-03-06 07:18:35.889 DEBUG in 'gensim.models.ldamodel'['ldamodel'] at line 1073: bound: at document #0\n",
      "2019-03-06 07:18:35.895 INFO in 'gensim.models.ldamodel'['ldamodel'] at line 814: -3.943 per-word bound, 15.4 perplexity estimate based on a held-out corpus of 5 documents with 46 words\n",
      "2019-03-06 07:18:35.907 INFO in 'gensim.models.ldamodel'['ldamodel'] at line 968: PROGRESS: pass 2, at document #5/5\n",
      "2019-03-06 07:18:35.920 DEBUG in 'gensim.models.ldamodel'['ldamodel'] at line 638: performing inference on a chunk of 5 documents\n",
      "2019-03-06 07:18:35.935 DEBUG in 'gensim.models.ldamodel'['ldamodel'] at line 700: 5/5 documents converged within 50 iterations\n",
      "2019-03-06 07:18:35.940 DEBUG in 'gensim.models.ldamodel'['ldamodel'] at line 1027: updating topics\n",
      "2019-03-06 07:18:35.944 INFO in 'gensim.models.ldamodel'['ldamodel'] at line 1159: topic #0 (0.500): 0.068*\"good\" + 0.068*\"brocolli\" + 0.068*\"mother\" + 0.067*\"brother\" + 0.049*\"eat\" + 0.048*\"drive\" + 0.047*\"health\" + 0.029*\"like\" + 0.029*\"pressur\" + 0.029*\"around\"\n",
      "2019-03-06 07:18:35.947 INFO in 'gensim.models.ldamodel'['ldamodel'] at line 1159: topic #1 (0.500): 0.060*\"health\" + 0.058*\"drive\" + 0.055*\"pressur\" + 0.053*\"increas\" + 0.053*\"may\" + 0.053*\"expert\" + 0.053*\"caus\" + 0.053*\"suggest\" + 0.053*\"blood\" + 0.053*\"tension\"\n",
      "2019-03-06 07:18:35.950 INFO in 'gensim.models.ldamodel'['ldamodel'] at line 1037: topic diff=0.104008, rho=0.500000\n",
      "2019-03-06 07:18:35.953 DEBUG in 'gensim.models.ldamodel'['ldamodel'] at line 1073: bound: at document #0\n",
      "2019-03-06 07:18:35.959 INFO in 'gensim.models.ldamodel'['ldamodel'] at line 814: -3.930 per-word bound, 15.2 perplexity estimate based on a held-out corpus of 5 documents with 46 words\n",
      "2019-03-06 07:18:35.962 INFO in 'gensim.models.ldamodel'['ldamodel'] at line 968: PROGRESS: pass 3, at document #5/5\n",
      "2019-03-06 07:18:35.966 DEBUG in 'gensim.models.ldamodel'['ldamodel'] at line 638: performing inference on a chunk of 5 documents\n",
      "2019-03-06 07:18:35.971 DEBUG in 'gensim.models.ldamodel'['ldamodel'] at line 700: 5/5 documents converged within 50 iterations\n",
      "2019-03-06 07:18:35.975 DEBUG in 'gensim.models.ldamodel'['ldamodel'] at line 1027: updating topics\n",
      "2019-03-06 07:18:35.979 INFO in 'gensim.models.ldamodel'['ldamodel'] at line 1159: topic #0 (0.500): 0.068*\"good\" + 0.068*\"mother\" + 0.068*\"brocolli\" + 0.067*\"brother\" + 0.049*\"eat\" + 0.048*\"drive\" + 0.047*\"health\" + 0.029*\"like\" + 0.029*\"around\" + 0.029*\"pressur\"\n",
      "2019-03-06 07:18:35.982 INFO in 'gensim.models.ldamodel'['ldamodel'] at line 1159: topic #1 (0.500): 0.060*\"health\" + 0.058*\"drive\" + 0.057*\"pressur\" + 0.055*\"increas\" + 0.055*\"may\" + 0.055*\"expert\" + 0.055*\"caus\" + 0.055*\"suggest\" + 0.054*\"blood\" + 0.054*\"tension\"\n",
      "2019-03-06 07:18:35.985 INFO in 'gensim.models.ldamodel'['ldamodel'] at line 1037: topic diff=0.053858, rho=0.447214\n",
      "2019-03-06 07:18:35.988 DEBUG in 'gensim.models.ldamodel'['ldamodel'] at line 1073: bound: at document #0\n",
      "2019-03-06 07:18:35.994 INFO in 'gensim.models.ldamodel'['ldamodel'] at line 814: -3.926 per-word bound, 15.2 perplexity estimate based on a held-out corpus of 5 documents with 46 words\n",
      "2019-03-06 07:18:35.998 INFO in 'gensim.models.ldamodel'['ldamodel'] at line 968: PROGRESS: pass 4, at document #5/5\n",
      "2019-03-06 07:18:36.1 DEBUG in 'gensim.models.ldamodel'['ldamodel'] at line 638: performing inference on a chunk of 5 documents\n",
      "2019-03-06 07:18:36.6 DEBUG in 'gensim.models.ldamodel'['ldamodel'] at line 700: 5/5 documents converged within 50 iterations\n",
      "2019-03-06 07:18:36.10 DEBUG in 'gensim.models.ldamodel'['ldamodel'] at line 1027: updating topics\n",
      "2019-03-06 07:18:36.14 INFO in 'gensim.models.ldamodel'['ldamodel'] at line 1159: topic #0 (0.500): 0.068*\"good\" + 0.068*\"mother\" + 0.068*\"brocolli\" + 0.067*\"brother\" + 0.048*\"eat\" + 0.048*\"drive\" + 0.047*\"health\" + 0.029*\"like\" + 0.029*\"around\" + 0.029*\"lot\"\n",
      "2019-03-06 07:18:36.17 INFO in 'gensim.models.ldamodel'['ldamodel'] at line 1159: topic #1 (0.500): 0.060*\"health\" + 0.058*\"drive\" + 0.057*\"pressur\" + 0.056*\"increas\" + 0.056*\"may\" + 0.056*\"expert\" + 0.056*\"caus\" + 0.056*\"suggest\" + 0.056*\"blood\" + 0.056*\"tension\"\n",
      "2019-03-06 07:18:36.21 INFO in 'gensim.models.ldamodel'['ldamodel'] at line 1037: topic diff=0.029620, rho=0.408248\n",
      "2019-03-06 07:18:36.24 DEBUG in 'gensim.models.ldamodel'['ldamodel'] at line 1073: bound: at document #0\n",
      "2019-03-06 07:18:36.30 INFO in 'gensim.models.ldamodel'['ldamodel'] at line 814: -3.925 per-word bound, 15.2 perplexity estimate based on a held-out corpus of 5 documents with 46 words\n",
      "2019-03-06 07:18:36.43 INFO in 'gensim.models.ldamodel'['ldamodel'] at line 968: PROGRESS: pass 5, at document #5/5\n",
      "2019-03-06 07:18:36.53 DEBUG in 'gensim.models.ldamodel'['ldamodel'] at line 638: performing inference on a chunk of 5 documents\n",
      "2019-03-06 07:18:36.62 DEBUG in 'gensim.models.ldamodel'['ldamodel'] at line 700: 5/5 documents converged within 50 iterations\n",
      "2019-03-06 07:18:36.71 DEBUG in 'gensim.models.ldamodel'['ldamodel'] at line 1027: updating topics\n",
      "2019-03-06 07:18:36.77 INFO in 'gensim.models.ldamodel'['ldamodel'] at line 1159: topic #0 (0.500): 0.068*\"good\" + 0.068*\"mother\" + 0.068*\"brocolli\" + 0.067*\"brother\" + 0.048*\"eat\" + 0.048*\"drive\" + 0.047*\"health\" + 0.029*\"like\" + 0.029*\"around\" + 0.029*\"lot\"\n",
      "2019-03-06 07:18:36.88 INFO in 'gensim.models.ldamodel'['ldamodel'] at line 1159: topic #1 (0.500): 0.060*\"health\" + 0.058*\"drive\" + 0.058*\"pressur\" + 0.056*\"increas\" + 0.056*\"may\" + 0.056*\"expert\" + 0.056*\"caus\" + 0.056*\"suggest\" + 0.056*\"blood\" + 0.056*\"tension\"\n",
      "2019-03-06 07:18:36.95 INFO in 'gensim.models.ldamodel'['ldamodel'] at line 1037: topic diff=0.017145, rho=0.377964\n",
      "2019-03-06 07:18:36.103 DEBUG in 'gensim.models.ldamodel'['ldamodel'] at line 1073: bound: at document #0\n",
      "2019-03-06 07:18:36.109 INFO in 'gensim.models.ldamodel'['ldamodel'] at line 814: -3.925 per-word bound, 15.2 perplexity estimate based on a held-out corpus of 5 documents with 46 words\n",
      "2019-03-06 07:18:36.121 INFO in 'gensim.models.ldamodel'['ldamodel'] at line 968: PROGRESS: pass 6, at document #5/5\n",
      "2019-03-06 07:18:36.128 DEBUG in 'gensim.models.ldamodel'['ldamodel'] at line 638: performing inference on a chunk of 5 documents\n",
      "2019-03-06 07:18:36.137 DEBUG in 'gensim.models.ldamodel'['ldamodel'] at line 700: 5/5 documents converged within 50 iterations\n",
      "2019-03-06 07:18:36.145 DEBUG in 'gensim.models.ldamodel'['ldamodel'] at line 1027: updating topics\n",
      "2019-03-06 07:18:36.153 INFO in 'gensim.models.ldamodel'['ldamodel'] at line 1159: topic #0 (0.500): 0.068*\"good\" + 0.068*\"mother\" + 0.067*\"brocolli\" + 0.067*\"brother\" + 0.048*\"eat\" + 0.048*\"drive\" + 0.047*\"health\" + 0.029*\"like\" + 0.029*\"around\" + 0.029*\"lot\"\n",
      "2019-03-06 07:18:36.166 INFO in 'gensim.models.ldamodel'['ldamodel'] at line 1159: topic #1 (0.500): 0.060*\"health\" + 0.058*\"drive\" + 0.058*\"pressur\" + 0.057*\"increas\" + 0.056*\"may\" + 0.056*\"expert\" + 0.056*\"caus\" + 0.056*\"suggest\" + 0.056*\"blood\" + 0.056*\"tension\"\n",
      "2019-03-06 07:18:36.171 INFO in 'gensim.models.ldamodel'['ldamodel'] at line 1037: topic diff=0.010364, rho=0.353553\n",
      "2019-03-06 07:18:36.174 DEBUG in 'gensim.models.ldamodel'['ldamodel'] at line 1073: bound: at document #0\n",
      "2019-03-06 07:18:36.179 INFO in 'gensim.models.ldamodel'['ldamodel'] at line 814: -3.924 per-word bound, 15.2 perplexity estimate based on a held-out corpus of 5 documents with 46 words\n",
      "2019-03-06 07:18:36.184 INFO in 'gensim.models.ldamodel'['ldamodel'] at line 968: PROGRESS: pass 7, at document #5/5\n",
      "2019-03-06 07:18:36.187 DEBUG in 'gensim.models.ldamodel'['ldamodel'] at line 638: performing inference on a chunk of 5 documents\n",
      "2019-03-06 07:18:36.191 DEBUG in 'gensim.models.ldamodel'['ldamodel'] at line 700: 5/5 documents converged within 50 iterations\n",
      "2019-03-06 07:18:36.194 DEBUG in 'gensim.models.ldamodel'['ldamodel'] at line 1027: updating topics\n",
      "2019-03-06 07:18:36.201 INFO in 'gensim.models.ldamodel'['ldamodel'] at line 1159: topic #0 (0.500): 0.068*\"good\" + 0.068*\"mother\" + 0.067*\"brocolli\" + 0.067*\"brother\" + 0.048*\"eat\" + 0.048*\"drive\" + 0.047*\"health\" + 0.029*\"like\" + 0.029*\"around\" + 0.029*\"lot\"\n",
      "2019-03-06 07:18:36.205 INFO in 'gensim.models.ldamodel'['ldamodel'] at line 1159: topic #1 (0.500): 0.060*\"health\" + 0.058*\"drive\" + 0.058*\"pressur\" + 0.057*\"increas\" + 0.057*\"may\" + 0.057*\"expert\" + 0.057*\"caus\" + 0.057*\"suggest\" + 0.057*\"blood\" + 0.057*\"tension\"\n",
      "2019-03-06 07:18:36.208 INFO in 'gensim.models.ldamodel'['ldamodel'] at line 1037: topic diff=0.006501, rho=0.333333\n",
      "2019-03-06 07:18:36.211 DEBUG in 'gensim.models.ldamodel'['ldamodel'] at line 1073: bound: at document #0\n",
      "2019-03-06 07:18:36.216 INFO in 'gensim.models.ldamodel'['ldamodel'] at line 814: -3.924 per-word bound, 15.2 perplexity estimate based on a held-out corpus of 5 documents with 46 words\n",
      "2019-03-06 07:18:36.220 INFO in 'gensim.models.ldamodel'['ldamodel'] at line 968: PROGRESS: pass 8, at document #5/5\n",
      "2019-03-06 07:18:36.223 DEBUG in 'gensim.models.ldamodel'['ldamodel'] at line 638: performing inference on a chunk of 5 documents\n",
      "2019-03-06 07:18:36.228 DEBUG in 'gensim.models.ldamodel'['ldamodel'] at line 700: 5/5 documents converged within 50 iterations\n",
      "2019-03-06 07:18:36.232 DEBUG in 'gensim.models.ldamodel'['ldamodel'] at line 1027: updating topics\n",
      "2019-03-06 07:18:36.236 INFO in 'gensim.models.ldamodel'['ldamodel'] at line 1159: topic #0 (0.500): 0.068*\"mother\" + 0.068*\"good\" + 0.067*\"brocolli\" + 0.067*\"brother\" + 0.048*\"eat\" + 0.048*\"drive\" + 0.047*\"health\" + 0.029*\"like\" + 0.029*\"around\" + 0.029*\"lot\"\n",
      "2019-03-06 07:18:36.239 INFO in 'gensim.models.ldamodel'['ldamodel'] at line 1159: topic #1 (0.500): 0.060*\"health\" + 0.058*\"drive\" + 0.058*\"pressur\" + 0.057*\"increas\" + 0.057*\"may\" + 0.057*\"expert\" + 0.057*\"caus\" + 0.057*\"suggest\" + 0.057*\"blood\" + 0.057*\"tension\"\n",
      "2019-03-06 07:18:36.242 INFO in 'gensim.models.ldamodel'['ldamodel'] at line 1037: topic diff=0.004205, rho=0.316228\n",
      "2019-03-06 07:18:36.245 DEBUG in 'gensim.models.ldamodel'['ldamodel'] at line 1073: bound: at document #0\n",
      "2019-03-06 07:18:36.251 INFO in 'gensim.models.ldamodel'['ldamodel'] at line 814: -3.924 per-word bound, 15.2 perplexity estimate based on a held-out corpus of 5 documents with 46 words\n",
      "2019-03-06 07:18:36.254 INFO in 'gensim.models.ldamodel'['ldamodel'] at line 968: PROGRESS: pass 9, at document #5/5\n",
      "2019-03-06 07:18:36.258 DEBUG in 'gensim.models.ldamodel'['ldamodel'] at line 638: performing inference on a chunk of 5 documents\n",
      "2019-03-06 07:18:36.263 DEBUG in 'gensim.models.ldamodel'['ldamodel'] at line 700: 5/5 documents converged within 50 iterations\n",
      "2019-03-06 07:18:36.266 DEBUG in 'gensim.models.ldamodel'['ldamodel'] at line 1027: updating topics\n",
      "2019-03-06 07:18:36.270 INFO in 'gensim.models.ldamodel'['ldamodel'] at line 1159: topic #0 (0.500): 0.068*\"mother\" + 0.068*\"good\" + 0.067*\"brocolli\" + 0.067*\"brother\" + 0.048*\"eat\" + 0.048*\"drive\" + 0.047*\"health\" + 0.029*\"like\" + 0.029*\"around\" + 0.029*\"lot\"\n",
      "2019-03-06 07:18:36.273 INFO in 'gensim.models.ldamodel'['ldamodel'] at line 1159: topic #1 (0.500): 0.060*\"health\" + 0.058*\"drive\" + 0.058*\"pressur\" + 0.057*\"increas\" + 0.057*\"may\" + 0.057*\"expert\" + 0.057*\"caus\" + 0.057*\"suggest\" + 0.057*\"blood\" + 0.057*\"tension\"\n",
      "2019-03-06 07:18:36.277 INFO in 'gensim.models.ldamodel'['ldamodel'] at line 1037: topic diff=0.002792, rho=0.301511\n",
      "2019-03-06 07:18:36.280 DEBUG in 'gensim.models.ldamodel'['ldamodel'] at line 1073: bound: at document #0\n",
      "2019-03-06 07:18:36.286 INFO in 'gensim.models.ldamodel'['ldamodel'] at line 814: -3.924 per-word bound, 15.2 perplexity estimate based on a held-out corpus of 5 documents with 46 words\n",
      "2019-03-06 07:18:36.290 INFO in 'gensim.models.ldamodel'['ldamodel'] at line 968: PROGRESS: pass 10, at document #5/5\n",
      "2019-03-06 07:18:36.293 DEBUG in 'gensim.models.ldamodel'['ldamodel'] at line 638: performing inference on a chunk of 5 documents\n",
      "2019-03-06 07:18:36.298 DEBUG in 'gensim.models.ldamodel'['ldamodel'] at line 700: 5/5 documents converged within 50 iterations\n",
      "2019-03-06 07:18:36.302 DEBUG in 'gensim.models.ldamodel'['ldamodel'] at line 1027: updating topics\n",
      "2019-03-06 07:18:36.305 INFO in 'gensim.models.ldamodel'['ldamodel'] at line 1159: topic #0 (0.500): 0.068*\"mother\" + 0.067*\"good\" + 0.067*\"brother\" + 0.067*\"brocolli\" + 0.048*\"eat\" + 0.048*\"drive\" + 0.047*\"health\" + 0.029*\"like\" + 0.029*\"around\" + 0.029*\"never\"\n"
     ]
    },
    {
     "name": "stderr",
     "output_type": "stream",
     "text": [
      "2019-03-06 07:18:36.312 INFO in 'gensim.models.ldamodel'['ldamodel'] at line 1159: topic #1 (0.500): 0.060*\"health\" + 0.058*\"pressur\" + 0.058*\"drive\" + 0.057*\"increas\" + 0.057*\"may\" + 0.057*\"expert\" + 0.057*\"caus\" + 0.057*\"suggest\" + 0.057*\"blood\" + 0.057*\"tension\"\n",
      "2019-03-06 07:18:36.315 INFO in 'gensim.models.ldamodel'['ldamodel'] at line 1037: topic diff=0.001899, rho=0.288675\n",
      "2019-03-06 07:18:36.319 DEBUG in 'gensim.models.ldamodel'['ldamodel'] at line 1073: bound: at document #0\n",
      "2019-03-06 07:18:36.325 INFO in 'gensim.models.ldamodel'['ldamodel'] at line 814: -3.924 per-word bound, 15.2 perplexity estimate based on a held-out corpus of 5 documents with 46 words\n",
      "2019-03-06 07:18:36.328 INFO in 'gensim.models.ldamodel'['ldamodel'] at line 968: PROGRESS: pass 11, at document #5/5\n",
      "2019-03-06 07:18:36.331 DEBUG in 'gensim.models.ldamodel'['ldamodel'] at line 638: performing inference on a chunk of 5 documents\n",
      "2019-03-06 07:18:36.336 DEBUG in 'gensim.models.ldamodel'['ldamodel'] at line 700: 5/5 documents converged within 50 iterations\n",
      "2019-03-06 07:18:36.339 DEBUG in 'gensim.models.ldamodel'['ldamodel'] at line 1027: updating topics\n",
      "2019-03-06 07:18:36.343 INFO in 'gensim.models.ldamodel'['ldamodel'] at line 1159: topic #0 (0.500): 0.068*\"mother\" + 0.068*\"brother\" + 0.067*\"good\" + 0.067*\"brocolli\" + 0.048*\"eat\" + 0.048*\"drive\" + 0.047*\"health\" + 0.029*\"like\" + 0.029*\"around\" + 0.029*\"never\"\n",
      "2019-03-06 07:18:36.346 INFO in 'gensim.models.ldamodel'['ldamodel'] at line 1159: topic #1 (0.500): 0.060*\"health\" + 0.058*\"pressur\" + 0.058*\"drive\" + 0.057*\"increas\" + 0.057*\"may\" + 0.057*\"expert\" + 0.057*\"caus\" + 0.057*\"suggest\" + 0.057*\"blood\" + 0.057*\"tension\"\n",
      "2019-03-06 07:18:36.350 INFO in 'gensim.models.ldamodel'['ldamodel'] at line 1037: topic diff=0.001316, rho=0.277350\n",
      "2019-03-06 07:18:36.353 DEBUG in 'gensim.models.ldamodel'['ldamodel'] at line 1073: bound: at document #0\n",
      "2019-03-06 07:18:36.359 INFO in 'gensim.models.ldamodel'['ldamodel'] at line 814: -3.924 per-word bound, 15.2 perplexity estimate based on a held-out corpus of 5 documents with 46 words\n",
      "2019-03-06 07:18:36.362 INFO in 'gensim.models.ldamodel'['ldamodel'] at line 968: PROGRESS: pass 12, at document #5/5\n",
      "2019-03-06 07:18:36.366 DEBUG in 'gensim.models.ldamodel'['ldamodel'] at line 638: performing inference on a chunk of 5 documents\n",
      "2019-03-06 07:18:36.371 DEBUG in 'gensim.models.ldamodel'['ldamodel'] at line 700: 5/5 documents converged within 50 iterations\n",
      "2019-03-06 07:18:36.374 DEBUG in 'gensim.models.ldamodel'['ldamodel'] at line 1027: updating topics\n",
      "2019-03-06 07:18:36.378 INFO in 'gensim.models.ldamodel'['ldamodel'] at line 1159: topic #0 (0.500): 0.068*\"mother\" + 0.068*\"brother\" + 0.067*\"good\" + 0.067*\"brocolli\" + 0.048*\"eat\" + 0.048*\"drive\" + 0.047*\"health\" + 0.029*\"like\" + 0.029*\"never\" + 0.029*\"feel\"\n",
      "2019-03-06 07:18:36.382 INFO in 'gensim.models.ldamodel'['ldamodel'] at line 1159: topic #1 (0.500): 0.060*\"health\" + 0.058*\"pressur\" + 0.058*\"drive\" + 0.057*\"increas\" + 0.057*\"may\" + 0.057*\"expert\" + 0.057*\"caus\" + 0.057*\"suggest\" + 0.057*\"blood\" + 0.057*\"tension\"\n",
      "2019-03-06 07:18:36.385 INFO in 'gensim.models.ldamodel'['ldamodel'] at line 1037: topic diff=0.000927, rho=0.267261\n",
      "2019-03-06 07:18:36.388 DEBUG in 'gensim.models.ldamodel'['ldamodel'] at line 1073: bound: at document #0\n",
      "2019-03-06 07:18:36.394 INFO in 'gensim.models.ldamodel'['ldamodel'] at line 814: -3.924 per-word bound, 15.2 perplexity estimate based on a held-out corpus of 5 documents with 46 words\n",
      "2019-03-06 07:18:36.398 INFO in 'gensim.models.ldamodel'['ldamodel'] at line 968: PROGRESS: pass 13, at document #5/5\n",
      "2019-03-06 07:18:36.402 DEBUG in 'gensim.models.ldamodel'['ldamodel'] at line 638: performing inference on a chunk of 5 documents\n",
      "2019-03-06 07:18:36.407 DEBUG in 'gensim.models.ldamodel'['ldamodel'] at line 700: 5/5 documents converged within 50 iterations\n",
      "2019-03-06 07:18:36.410 DEBUG in 'gensim.models.ldamodel'['ldamodel'] at line 1027: updating topics\n",
      "2019-03-06 07:18:36.413 INFO in 'gensim.models.ldamodel'['ldamodel'] at line 1159: topic #0 (0.500): 0.068*\"mother\" + 0.068*\"brother\" + 0.067*\"good\" + 0.067*\"brocolli\" + 0.048*\"eat\" + 0.048*\"drive\" + 0.047*\"health\" + 0.029*\"like\" + 0.029*\"never\" + 0.029*\"feel\"\n",
      "2019-03-06 07:18:36.421 INFO in 'gensim.models.ldamodel'['ldamodel'] at line 1159: topic #1 (0.500): 0.060*\"health\" + 0.058*\"pressur\" + 0.058*\"drive\" + 0.057*\"increas\" + 0.057*\"may\" + 0.057*\"expert\" + 0.057*\"caus\" + 0.057*\"suggest\" + 0.057*\"blood\" + 0.057*\"tension\"\n",
      "2019-03-06 07:18:36.425 INFO in 'gensim.models.ldamodel'['ldamodel'] at line 1037: topic diff=0.000665, rho=0.258199\n",
      "2019-03-06 07:18:36.428 DEBUG in 'gensim.models.ldamodel'['ldamodel'] at line 1073: bound: at document #0\n",
      "2019-03-06 07:18:36.434 INFO in 'gensim.models.ldamodel'['ldamodel'] at line 814: -3.924 per-word bound, 15.2 perplexity estimate based on a held-out corpus of 5 documents with 46 words\n",
      "2019-03-06 07:18:36.438 INFO in 'gensim.models.ldamodel'['ldamodel'] at line 968: PROGRESS: pass 14, at document #5/5\n",
      "2019-03-06 07:18:36.441 DEBUG in 'gensim.models.ldamodel'['ldamodel'] at line 638: performing inference on a chunk of 5 documents\n",
      "2019-03-06 07:18:36.446 DEBUG in 'gensim.models.ldamodel'['ldamodel'] at line 700: 5/5 documents converged within 50 iterations\n",
      "2019-03-06 07:18:36.449 DEBUG in 'gensim.models.ldamodel'['ldamodel'] at line 1027: updating topics\n",
      "2019-03-06 07:18:36.453 INFO in 'gensim.models.ldamodel'['ldamodel'] at line 1159: topic #0 (0.500): 0.068*\"mother\" + 0.068*\"brother\" + 0.067*\"good\" + 0.067*\"brocolli\" + 0.048*\"eat\" + 0.048*\"drive\" + 0.047*\"health\" + 0.029*\"like\" + 0.029*\"never\" + 0.029*\"feel\"\n",
      "2019-03-06 07:18:36.457 INFO in 'gensim.models.ldamodel'['ldamodel'] at line 1159: topic #1 (0.500): 0.060*\"health\" + 0.058*\"pressur\" + 0.058*\"drive\" + 0.057*\"increas\" + 0.057*\"may\" + 0.057*\"expert\" + 0.057*\"caus\" + 0.057*\"suggest\" + 0.057*\"blood\" + 0.057*\"tension\"\n",
      "2019-03-06 07:18:36.460 INFO in 'gensim.models.ldamodel'['ldamodel'] at line 1037: topic diff=0.000482, rho=0.250000\n",
      "2019-03-06 07:18:36.463 DEBUG in 'gensim.models.ldamodel'['ldamodel'] at line 1073: bound: at document #0\n",
      "2019-03-06 07:18:36.469 INFO in 'gensim.models.ldamodel'['ldamodel'] at line 814: -3.924 per-word bound, 15.2 perplexity estimate based on a held-out corpus of 5 documents with 46 words\n",
      "2019-03-06 07:18:36.479 INFO in 'gensim.models.ldamodel'['ldamodel'] at line 968: PROGRESS: pass 15, at document #5/5\n",
      "2019-03-06 07:18:36.483 DEBUG in 'gensim.models.ldamodel'['ldamodel'] at line 638: performing inference on a chunk of 5 documents\n",
      "2019-03-06 07:18:36.488 DEBUG in 'gensim.models.ldamodel'['ldamodel'] at line 700: 5/5 documents converged within 50 iterations\n",
      "2019-03-06 07:18:36.494 DEBUG in 'gensim.models.ldamodel'['ldamodel'] at line 1027: updating topics\n",
      "2019-03-06 07:18:36.498 INFO in 'gensim.models.ldamodel'['ldamodel'] at line 1159: topic #0 (0.500): 0.068*\"mother\" + 0.068*\"brother\" + 0.067*\"good\" + 0.067*\"brocolli\" + 0.048*\"eat\" + 0.048*\"drive\" + 0.047*\"health\" + 0.029*\"like\" + 0.029*\"never\" + 0.029*\"feel\"\n",
      "2019-03-06 07:18:36.502 INFO in 'gensim.models.ldamodel'['ldamodel'] at line 1159: topic #1 (0.500): 0.060*\"health\" + 0.058*\"pressur\" + 0.058*\"drive\" + 0.057*\"increas\" + 0.057*\"may\" + 0.057*\"expert\" + 0.057*\"caus\" + 0.057*\"suggest\" + 0.057*\"blood\" + 0.057*\"tension\"\n",
      "2019-03-06 07:18:36.523 INFO in 'gensim.models.ldamodel'['ldamodel'] at line 1037: topic diff=0.000356, rho=0.242536\n",
      "2019-03-06 07:18:36.539 DEBUG in 'gensim.models.ldamodel'['ldamodel'] at line 1073: bound: at document #0\n",
      "2019-03-06 07:18:36.550 INFO in 'gensim.models.ldamodel'['ldamodel'] at line 814: -3.924 per-word bound, 15.2 perplexity estimate based on a held-out corpus of 5 documents with 46 words\n",
      "2019-03-06 07:18:36.559 INFO in 'gensim.models.ldamodel'['ldamodel'] at line 968: PROGRESS: pass 16, at document #5/5\n",
      "2019-03-06 07:18:36.565 DEBUG in 'gensim.models.ldamodel'['ldamodel'] at line 638: performing inference on a chunk of 5 documents\n",
      "2019-03-06 07:18:36.571 DEBUG in 'gensim.models.ldamodel'['ldamodel'] at line 700: 5/5 documents converged within 50 iterations\n",
      "2019-03-06 07:18:36.575 DEBUG in 'gensim.models.ldamodel'['ldamodel'] at line 1027: updating topics\n",
      "2019-03-06 07:18:36.600 INFO in 'gensim.models.ldamodel'['ldamodel'] at line 1159: topic #0 (0.500): 0.068*\"mother\" + 0.068*\"brother\" + 0.067*\"good\" + 0.067*\"brocolli\" + 0.048*\"eat\" + 0.048*\"drive\" + 0.047*\"health\" + 0.029*\"like\" + 0.029*\"never\" + 0.029*\"feel\"\n",
      "2019-03-06 07:18:36.604 INFO in 'gensim.models.ldamodel'['ldamodel'] at line 1159: topic #1 (0.500): 0.060*\"health\" + 0.058*\"pressur\" + 0.058*\"drive\" + 0.057*\"increas\" + 0.057*\"may\" + 0.057*\"expert\" + 0.057*\"caus\" + 0.057*\"suggest\" + 0.057*\"blood\" + 0.057*\"tension\"\n",
      "2019-03-06 07:18:36.608 INFO in 'gensim.models.ldamodel'['ldamodel'] at line 1037: topic diff=0.000264, rho=0.235702\n",
      "2019-03-06 07:18:36.612 DEBUG in 'gensim.models.ldamodel'['ldamodel'] at line 1073: bound: at document #0\n",
      "2019-03-06 07:18:36.618 INFO in 'gensim.models.ldamodel'['ldamodel'] at line 814: -3.924 per-word bound, 15.2 perplexity estimate based on a held-out corpus of 5 documents with 46 words\n",
      "2019-03-06 07:18:36.622 INFO in 'gensim.models.ldamodel'['ldamodel'] at line 968: PROGRESS: pass 17, at document #5/5\n",
      "2019-03-06 07:18:36.625 DEBUG in 'gensim.models.ldamodel'['ldamodel'] at line 638: performing inference on a chunk of 5 documents\n",
      "2019-03-06 07:18:36.631 DEBUG in 'gensim.models.ldamodel'['ldamodel'] at line 700: 5/5 documents converged within 50 iterations\n",
      "2019-03-06 07:18:36.635 DEBUG in 'gensim.models.ldamodel'['ldamodel'] at line 1027: updating topics\n",
      "2019-03-06 07:18:36.639 INFO in 'gensim.models.ldamodel'['ldamodel'] at line 1159: topic #0 (0.500): 0.068*\"mother\" + 0.068*\"brother\" + 0.067*\"good\" + 0.067*\"brocolli\" + 0.048*\"eat\" + 0.048*\"drive\" + 0.047*\"health\" + 0.029*\"like\" + 0.029*\"never\" + 0.029*\"feel\"\n",
      "2019-03-06 07:18:36.643 INFO in 'gensim.models.ldamodel'['ldamodel'] at line 1159: topic #1 (0.500): 0.060*\"health\" + 0.058*\"pressur\" + 0.058*\"drive\" + 0.057*\"increas\" + 0.057*\"may\" + 0.057*\"expert\" + 0.057*\"caus\" + 0.057*\"suggest\" + 0.057*\"blood\" + 0.057*\"tension\"\n",
      "2019-03-06 07:18:36.651 INFO in 'gensim.models.ldamodel'['ldamodel'] at line 1037: topic diff=0.000198, rho=0.229416\n",
      "2019-03-06 07:18:36.660 DEBUG in 'gensim.models.ldamodel'['ldamodel'] at line 1073: bound: at document #0\n",
      "2019-03-06 07:18:36.670 INFO in 'gensim.models.ldamodel'['ldamodel'] at line 814: -3.924 per-word bound, 15.2 perplexity estimate based on a held-out corpus of 5 documents with 46 words\n",
      "2019-03-06 07:18:36.676 INFO in 'gensim.models.ldamodel'['ldamodel'] at line 968: PROGRESS: pass 18, at document #5/5\n",
      "2019-03-06 07:18:36.679 DEBUG in 'gensim.models.ldamodel'['ldamodel'] at line 638: performing inference on a chunk of 5 documents\n",
      "2019-03-06 07:18:36.685 DEBUG in 'gensim.models.ldamodel'['ldamodel'] at line 700: 5/5 documents converged within 50 iterations\n",
      "2019-03-06 07:18:36.696 DEBUG in 'gensim.models.ldamodel'['ldamodel'] at line 1027: updating topics\n",
      "2019-03-06 07:18:36.704 INFO in 'gensim.models.ldamodel'['ldamodel'] at line 1159: topic #0 (0.500): 0.068*\"mother\" + 0.068*\"brother\" + 0.067*\"good\" + 0.067*\"brocolli\" + 0.048*\"eat\" + 0.048*\"drive\" + 0.047*\"health\" + 0.029*\"like\" + 0.029*\"never\" + 0.029*\"feel\"\n",
      "2019-03-06 07:18:36.734 INFO in 'gensim.models.ldamodel'['ldamodel'] at line 1159: topic #1 (0.500): 0.060*\"health\" + 0.058*\"pressur\" + 0.058*\"drive\" + 0.057*\"increas\" + 0.057*\"may\" + 0.057*\"expert\" + 0.057*\"caus\" + 0.057*\"suggest\" + 0.057*\"blood\" + 0.057*\"tension\"\n",
      "2019-03-06 07:18:36.741 INFO in 'gensim.models.ldamodel'['ldamodel'] at line 1037: topic diff=0.000150, rho=0.223607\n",
      "2019-03-06 07:18:36.749 DEBUG in 'gensim.models.ldamodel'['ldamodel'] at line 1073: bound: at document #0\n",
      "2019-03-06 07:18:36.757 INFO in 'gensim.models.ldamodel'['ldamodel'] at line 814: -3.924 per-word bound, 15.2 perplexity estimate based on a held-out corpus of 5 documents with 46 words\n",
      "2019-03-06 07:18:36.762 INFO in 'gensim.models.ldamodel'['ldamodel'] at line 968: PROGRESS: pass 19, at document #5/5\n",
      "2019-03-06 07:18:36.766 DEBUG in 'gensim.models.ldamodel'['ldamodel'] at line 638: performing inference on a chunk of 5 documents\n",
      "2019-03-06 07:18:36.771 DEBUG in 'gensim.models.ldamodel'['ldamodel'] at line 700: 5/5 documents converged within 50 iterations\n",
      "2019-03-06 07:18:36.774 DEBUG in 'gensim.models.ldamodel'['ldamodel'] at line 1027: updating topics\n",
      "2019-03-06 07:18:36.778 INFO in 'gensim.models.ldamodel'['ldamodel'] at line 1159: topic #0 (0.500): 0.068*\"mother\" + 0.068*\"brother\" + 0.067*\"good\" + 0.067*\"brocolli\" + 0.048*\"eat\" + 0.048*\"drive\" + 0.047*\"health\" + 0.029*\"like\" + 0.029*\"never\" + 0.029*\"feel\"\n",
      "2019-03-06 07:18:36.782 INFO in 'gensim.models.ldamodel'['ldamodel'] at line 1159: topic #1 (0.500): 0.060*\"health\" + 0.058*\"pressur\" + 0.058*\"drive\" + 0.057*\"increas\" + 0.057*\"may\" + 0.057*\"expert\" + 0.057*\"caus\" + 0.057*\"suggest\" + 0.057*\"blood\" + 0.057*\"tension\"\n",
      "2019-03-06 07:18:36.785 INFO in 'gensim.models.ldamodel'['ldamodel'] at line 1037: topic diff=0.000115, rho=0.218218\n"
     ]
    }
   ],
   "source": [
    "from nltk.tokenize import RegexpTokenizer\n",
    "from stop_words import get_stop_words\n",
    "from nltk.stem.porter import PorterStemmer\n",
    "from gensim import corpora, models\n",
    "import gensim\n",
    "\n",
    "tokenizer = RegexpTokenizer(r'\\w+')\n",
    "\n",
    "# create English stop words list\n",
    "en_stop = get_stop_words('en')\n",
    "\n",
    "# Create p_stemmer of class PorterStemmer\n",
    "p_stemmer = PorterStemmer()\n",
    "    \n",
    "# create sample documents\n",
    "doc_a = \"Brocolli is good to eat. My brother likes to eat good brocolli, but not my mother.\"\n",
    "doc_b = \"My mother spends a lot of time driving my brother around to baseball practice.\"\n",
    "doc_c = \"Some health experts suggest that driving may cause increased tension and blood pressure.\"\n",
    "doc_d = \"I often feel pressure to perform well at school, but my mother never seems to drive my brother to do better.\"\n",
    "doc_e = \"Health professionals say that brocolli is good for your health.\" \n",
    "\n",
    "# compile sample documents into a list\n",
    "doc_set = [doc_a, doc_b, doc_c, doc_d, doc_e]\n",
    "\n",
    "# list for tokenized documents in loop\n",
    "texts = []\n",
    "\n",
    "# loop through document list\n",
    "for i in doc_set:\n",
    "    \n",
    "    # clean and tokenize document string\n",
    "    raw = i.lower()\n",
    "    tokens = tokenizer.tokenize(raw)\n",
    "\n",
    "    # remove stop words from tokens\n",
    "    stopped_tokens = [i for i in tokens if not i in en_stop]\n",
    "    \n",
    "    # stem tokens\n",
    "    stemmed_tokens = [p_stemmer.stem(i) for i in stopped_tokens]\n",
    "    \n",
    "    # add tokens to list\n",
    "    texts.append(stemmed_tokens)\n",
    "\n",
    "# turn our tokenized documents into a id <-> term dictionary\n",
    "dictionary = corpora.Dictionary(texts)\n",
    "    \n",
    "# convert tokenized documents into a document-term matrix\n",
    "corpus = [dictionary.doc2bow(text) for text in texts]\n",
    "\n",
    "# generate LDA model\n",
    "ldamodel = gensim.models.ldamodel.LdaModel(corpus, num_topics=2, id2word = dictionary, passes=20)"
   ]
  },
  {
   "cell_type": "code",
   "execution_count": null,
   "metadata": {},
   "outputs": [],
   "source": []
  },
  {
   "cell_type": "code",
   "execution_count": 94,
   "metadata": {},
   "outputs": [
    {
     "name": "stderr",
     "output_type": "stream",
     "text": [
      "2019-03-06 07:19:04.505 DEBUG in 'smart_open.smart_open_lib'['smart_open_lib'] at line 176: {'kw': {}, 'mode': 'rb', 'uri': 'C:\\\\Users\\\\Home\\\\gensim-data\\\\text8\\\\text8.gz'}\n",
      "2019-03-06 07:19:04.574 INFO in 'gensim.corpora.dictionary'['dictionary'] at line 202: adding document #0 to Dictionary(0 unique tokens: [])\n",
      "2019-03-06 07:19:22.757 INFO in 'gensim.corpora.dictionary'['dictionary'] at line 209: built Dictionary(253854 unique tokens: ['a', 'abacus', 'abilities', 'ability', 'able']...) from 1701 documents (total 17005207 corpus positions)\n",
      "2019-03-06 07:19:22.763 DEBUG in 'smart_open.smart_open_lib'['smart_open_lib'] at line 176: {'kw': {}, 'mode': 'rb', 'uri': 'C:\\\\Users\\\\Home\\\\gensim-data\\\\text8\\\\text8.gz'}\n",
      "2019-03-06 07:19:37.951 INFO in 'gensim.models.tfidfmodel'['tfidfmodel'] at line 378: collecting document frequencies\n",
      "2019-03-06 07:19:37.954 INFO in 'gensim.models.tfidfmodel'['tfidfmodel'] at line 384: PROGRESS: processing document #0\n",
      "2019-03-06 07:19:39.383 INFO in 'gensim.models.tfidfmodel'['tfidfmodel'] at line 396: calculating IDF weights for 1701 documents and 253853 features (4318888 matrix non-zeros)\n"
     ]
    },
    {
     "name": "stdout",
     "output_type": "stream",
     "text": [
      "[(1, 0.006704047545684609), (2, 0.0030255603220721273), (3, 0.003156168449586299), (4, 0.0036673470201144674), (5, 0.004575122435127926), (6, 0.0028052608258295926), (7, 0.004064820137019515), (8, 0.00014963587508918375), (9, 0.0007492665180478759), (10, 0.004142807322609117), (11, 0.004149816941645728), (12, 0.0077498817493309525), (13, 0.00656024165742503), (14, 0.003891486499758776), (15, 0.005476877392392166), (16, 0.0018233938817994433), (17, 0.0032209070754237084), (18, 0.0017737283389229173), (19, 0.0023373507198140124), (20, 0.003725514968930464), (21, 0.00590342512385848), (22, 0.003072401062545206), (23, 0.0006668171096292247), (24, 0.0017594266221832493), (25, 0.004202080158963513), (26, 0.002967397324595724), (27, 0.004709756138185673), (28, 0.0014819657487289912), (29, 0.0031562459553171694), (30, 0.0031999829254611097), (31, 0.001215574949729317), (32, 0.003843126241898761), (33, 0.006499414537896336), (34, 0.004546489373863172), (35, 0.003855345600331923), (36, 0.004631358254286941), (37, 0.0033393576216394117), (38, 0.008862366517905295), (39, 0.005471809309284401), (40, 0.002420389691699831), (41, 0.0032450256679229764), (42, 0.0037466176880179758), (43, 0.005046439550933583), (44, 0.004575122435127926), (45, 0.0017993832406368628), (46, 0.0020574652728579546), (47, 0.009237638705224305), (48, 0.004459969548562313), (49, 0.018035534860263287), (50, 0.00903732020117277), (51, 0.008978913462318317), (52, 0.0023304759543738285), (53, 0.003682641329586604), (54, 0.004612379138391923), (55, 0.004556833486121144), (56, 0.0011939038031690697), (57, 2.6657621716188957e-05), (58, 0.0021615630847404772), (59, 0.0019039524360541717), (60, 0.0023941045596380275), (61, 0.008291338219166304), (62, 0.0032914545563888053), (63, 0.0077498817493309525), (64, 0.005291651332753796), (65, 0.008288039973755134), (66, 0.0020784214405569585), (67, 0.0021915903407992232), (68, 0.006359839657649205), (69, 0.016149368891044475), (70, 0.003120742674469207), (71, 0.009041815014928456), (72, 0.0032260698476640026), (73, 0.006143425087649577), (74, 0.010178233569371548), (75, 0.004730009057296232), (76, 0.005097590884003234), (77, 2.4851152829512927e-05), (78, 0.004026069503754151), (79, 0.00436905456109441), (80, 0.0016516920661684236), (81, 0.0012235475822093677), (82, 0.0024470951644187354), (83, 0.000513154038941833), (84, 0.002364414933857586), (85, 0.0005448633286620751), (86, 0.007314422153534317), (87, 0.0006618243983774284), (88, 8.522903221806888e-05), (89, 0.007474791370974179), (90, 0.002233878505007749), (91, 0.0010862875602653704), (92, 0.003529288231481582), (93, 0.0005022187295527164), (94, 0.0030792129017414354), (95, 0.0008746326541962667), (96, 0.004319764827769512), (97, 0.0036439372739091986), (98, 0.0007197428502658651), (99, 0.005205409585118467), (100, 0.0001065708197676177), (101, 0.005726810819983659), (102, 0.010178233569371548), (103, 0.0009158808294883222), (104, 0.0019183966563681338), (105, 3.904032576162575e-05), (106, 0.0064289571673278355), (107, 0.021414323874678808), (108, 0.09160410212434394), (109, 0.5427960527876164), (110, 0.3071551737479831), (111, 0.010178233569371548), (112, 0.024259695486236584), (113, 0.3956111284690035), (114, 0.19060282761110503), (115, 0.011224067773017892), (116, 0.07503634364088867), (117, 0.003163447972901711), (118, 0.0007064920768726969), (120, 0.008795715952977295), (121, 0.004173611015886935), (122, 0.0036047449452107903), (123, 0.011392826705006954), (124, 0.005658213342038267), (125, 0.005480499963475241), (126, 0.0013990173621148312), (127, 0.008288039973755134), (128, 0.00032509485652374055), (129, 0.0021727533942733942), (130, 0.0031706845326691306), (131, 0.004949062551139832), (132, 0.015792293472954355), (133, 0.009566459778266864), (134, 0.013204510649302276), (135, 0.005447337753413767), (136, 0.00015232071438021105), (137, 0.0048799442152677956), (138, 0.0032940022667188222), (139, 0.0018655592554384973), (140, 0.0021727533942733942), (141, 0.0027330174047964497), (142, 0.0017578040822413888), (143, 0.00656024165742503), (144, 0.001002984513633349), (145, 0.0018204266835586188), (146, 0.0030124400670575903), (147, 0.0027168065002897857), (148, 0.005707989755621536), (149, 0.0012745360368386117), (150, 0.0053215299292903575), (151, 0.005835028880753795), (152, 0.008086565162078861), (153, 0.00011985332655665936), (154, 0.0005659094750754488), (155, 0.002954771143640896), (156, 0.008726295979231696), (157, 0.00453198147856653), (158, 0.0028692280854457864), (159, 0.002905297209097752), (160, 0.003086055633738092), (161, 0.005447337753413767), (162, 0.006902582651824663), (163, 0.005021499812552176), (164, 0.0033152159895020543), (165, 0.0015700066072129155), (166, 0.0003083036077492477), (167, 0.006414794576773642), (168, 0.0010600483713598464), (169, 0.0011609968709728844), (170, 0.0016844560308771513), (172, 0.009566459778266864), (173, 0.007474791370974179), (174, 0.04851939097247317), (175, 0.011169195550715529), (176, 0.006567233027455108), (177, 0.003501937274338205), (178, 0.002967397324595724), (179, 0.003979202586837869), (180, 0.005549094494509803), (181, 0.00437072427177618), (182, 0.0032993335289622804), (184, 0.0021578513489960583), (185, 0.013011866280105444), (186, 0.0007150165053053836), (187, 0.0026365317359547612), (188, 0.0010663748321193022), (189, 0.002435144100725132), (190, 0.0036944041797413517), (191, 0.0037047033311246877), (192, 0.008795715952977295), (193, 0.006308187143608161), (194, 0.0005985268243689562), (195, 0.004719711699848922), (196, 0.0039161379593174945), (197, 0.06817091950792369), (198, 0.01312048331485006), (199, 0.007351930818993706), (200, 0.0017737283389229173), (201, 0.37297919366665255), (202, 0.29571070025416574), (203, 0.019132919556533727), (204, 0.011224067773017892), (205, 0.008520625574620522), (206, 0.012235475822093675), (207, 0.008520625574620522), (208, 0.011224067773017892), (209, 0.004556833486121144), (210, 0.0013119040040790013), (211, 0.0064289571673278355), (212, 0.002359855849924461), (213, 0.0031562459553171694), (214, 0.0017719023399977302), (215, 0.00590342512385848), (216, 0.00024192816829530063), (217, 0.009132399365725203), (218, 0.008288039973755134), (219, 0.00038954742251225545), (220, 0.001605303977016286), (221, 0.09560227751430855), (222, 0.005735605681201885), (223, 0.0035760046511191606), (224, 0.0024470951644187354), (225, 0.0025254331757030594), (226, 0.003174835346343899), (227, 0.003510999282474801), (228, 0.008770383650571511), (229, 0.003134843896913292), (230, 0.0009306011396053992), (231, 0.0005294635336269773), (232, 0.004013231528242067), (233, 0.0077498817493309525), (234, 9.762952897308651e-05), (235, 0.0003773972899254821), (236, 0.00018821715199780523), (237, 0.00040038987497627835), (238, 0.0019209594722839202), (239, 6.218278693860421e-05), (240, 0.0001654590196263831), (241, 0.00022227236987640823), (242, 0.0014422269111857814), (243, 0.0037466176880179758), (244, 0.014587151054395547), (245, 0.013616290715134267), (246, 0.02168644380017574), (247, 0.0008868641694614587), (248, 8.728759380202386e-05), (249, 0.005328090373645632), (250, 0.005796656104091995), (251, 0.003966048173113494), (252, 0.007739663683795608), (253, 0.0027359717951318916), (254, 0.0029236603544517833), (255, 0.0031706845326691306), (256, 0.0029422497454785128), (257, 0.0010203233593024685), (258, 0.01105252456094967), (259, 0.013372254409958777), (260, 0.015499763498661905), (261, 0.0022222273288165376), (262, 0.004275695725644014), (263, 0.0008589252637620388), (264, 0.001329155439958817), (265, 1.5994573029713374e-05), (266, 0.013562879769696456), (267, 0.001940702741053815), (268, 0.00210055166256963), (269, 0.004145669109583152), (270, 0.005291651332753796), (271, 0.0012116200906947597), (272, 0.00278827580797511), (273, 0.003106772020774026), (274, 0.003045575385394732), (275, 0.003653896516795931), (276, 0.006143425087649577), (277, 0.009132399365725203), (278, 0.005735605681201885), (279, 0.003624213858162274), (280, 0.004156842881113917), (281, 0.0022580337790522776), (282, 0.020390363536012937), (283, 0.028291066710191333), (284, 0.013408095091369218), (285, 0.004612379138391923), (286, 0.003510999282474801), (287, 0.009132399365725203), (288, 0.009566459778266864), (289, 0.0012709280658418278), (290, 0.0031795771162102084), (291, 0.004321653181573843), (292, 0.0022814043181450783), (293, 0.00021440073995388317), (294, 0.009805267325348007), (295, 0.005948467866320346), (296, 0.006863017579869494), (297, 0.010178233569371548), (298, 0.004156842881113917), (299, 0.003492929368065079), (300, 0.001544842338977366), (301, 0.0013856253823110868), (302, 0.002203006434246346), (303, 0.0018353213733140515), (304, 0.0033232203574480672), (305, 0.0006224557459454057), (306, 0.004593635794013783), (307, 0.003260343767199692), (308, 0.0008568290482275019), (309, 0.004949062551139832), (310, 0.0051238318900972005), (311, 0.0009306011396053992), (312, 7.55076698540194e-05), (314, 0.00011746677365012682), (315, 0.0019342958532138244), (316, 0.015212151722142747), (317, 0.0007018857821295965), (318, 0.0062838884771550035), (319, 0.0007981011911829036), (320, 0.0009688854393261934), (321, 0.0038341100116214533), (322, 0.0007207263316812906), (323, 0.0016390946358651687), (324, 0.0009029155955177102), (325, 0.054071174178161846), (326, 0.019341367146485496), (327, 0.017451550128669453), (328, 0.008086565162078861), (329, 0.0016338465616377782), (330, 0.007908851783515837), (331, 0.0021878040908344452), (332, 0.0011725293079006996), (333, 0.0016443610280152995), (334, 0.0021248503290227875), (335, 0.00557655161595022), (336, 0.0002949118362635956), (337, 0.0006909879535193662), (338, 0.0053215299292903575), (339, 0.004996965616390439), (340, 0.0015167527609571913), (341, 0.0007510626491478926), (342, 0.0013203924642690918), (343, 0.0033152159895020543), (344, 0.0022377823100812114), (345, 0.0043372887600351484), (346, 0.0004173004760718374), (347, 0.0010212810508337146), (348, 0.008795715952977295), (349, 0.002978887516717126), (350, 0.001989641727951152), (351, 0.0042908598715693195), (352, 0.047832298891334314), (353, 0.002047095336373661), (354, 0.00047572908925796293), (355, 0.0007657257365544594), (356, 0.0007613118285235538), (357, 0.010141417266689774), (358, 0.0006825978309589405), (359, 0.011780969341820213), (360, 0.001999622931842174), (361, 0.0033634992537767703), (362, 0.004709756138185673), (363, 0.002009670603729324), (364, 0.004321653181573843), (365, 0.0048799442152677956), (366, 0.0073540213472545034), (367, 0.0010064371920717892), (368, 0.01917629706767594), (369, 0.0025301704474728175), (370, 0.009856943277006798), (371, 0.006308187143608161), (372, 0.0011250483660610253), (373, 0.00413028893711584), (374, 0.0035855240506405977), (375, 0.020185758203734333), (376, 0.006244261784749965), (377, 0.0077498817493309525), (378, 0.0017794872001858687), (379, 0.0016578317216706774), (380, 0.00218025997602155), (381, 0.00407359236998065), (382, 0.008520625574620522), (383, 0.00022948422296110532), (384, 0.007024794507843711), (385, 0.009878866299788765), (386, 0.002505222952880402), (387, 0.002203006434246346), (388, 0.0028864714040054036), (389, 0.008101947599403206), (390, 0.0016926044925497396), (391, 0.0014491640260229988), (392, 0.0024391225319386842), (393, 0.0022574542943411026), (394, 0.00195684000524516), (395, 0.010829777529481508), (396, 0.0070407309584325185), (397, 0.0008725624527217905), (398, 0.006863017579869494), (399, 0.0071381079582262695), (400, 0.0014986379605661424), (401, 0.027397198097175612), (402, 0.008288039973755134), (403, 0.0035760046511191606), (404, 0.021414323874678808), (405, 0.0005530574397950452), (406, 0.009566459778266864), (407, 0.1192887580446873), (408, 0.002636706123362083), (409, 0.002664045186822816), (410, 0.005994896754786175), (411, 0.010410819170236934), (412, 0.005775843260942577), (413, 0.006143425087649577), (414, 0.003757280769989727), (415, 0.004131889837384435), (416, 0.00279391626246612), (417, 0.0031419442385775018), (418, 0.0071381079582262695), (419, 0.009132399365725203), (420, 0.006704047545684609), (421, 0.007908851783515837), (422, 0.0051238318900972005), (423, 0.0034235809416766345), (424, 0.006042799820036782), (425, 0.0027712507646221736), (426, 0.0018513567904171713), (427, 0.004118235266191549), (428, 0.006042799820036782), (429, 0.0014631346797181807), (430, 0.003222336220516769), (431, 0.0006964442902160434), (432, 0.0011344014403713164), (433, 0.0044346657598288985), (434, 0.010247663780194401), (435, 0.005262352939961816), (436, 0.009644544796796661), (437, 0.004750537534771031), (438, 0.01293140733922393), (439, 0.02998140674002475), (440, 0.014281550010642238), (441, 0.009132399365725203), (442, 0.02947339882919912), (443, 0.008288039973755134), (444, 0.008301357010039208), (445, 0.0024791126362027883), (446, 0.0071381079582262695), (447, 0.0005958913305649103), (448, 0.004902633662674003), (449, 0.00378972975866274), (450, 0.0028992254913701165), (451, 0.010178233569371548), (452, 0.007548368870848529), (453, 0.0026572856200201833), (454, 0.0008289158608353387), (455, 0.0020574652728579546), (456, 0.010178233569371548), (457, 0.005620956638774268), (458, 0.0009061464743094097), (459, 0.003177955967558057), (460, 0.004771349172576808), (461, 0.006869269158170225), (462, 0.0019342958532138244), (463, 0.00380532650374769), (464, 0.0038007030420786746), (465, 0.0023388119966785653), (466, 0.0035951038911987247), (467, 0.0034015943989598283), (468, 0.005084214436203641), (469, 0.010178233569371548), (470, 0.006308187143608161), (471, 0.017041251149241043), (472, 0.007133089869491159), (473, 0.005514407453778687), (474, 0.008367240892101717), (475, 0.0026796807652841215), (476, 0.005775843260942577), (477, 0.0020197856348135577), (478, 0.001508248310376597), (479, 0.002501967386721097), (480, 0.0042908598715693195), (481, 0.0033888315561825554), (482, 0.0027770577650778716), (483, 0.002415984375229623), (484, 0.002285433211911962), (485, 0.0017312235614315285), (486, 0.002993460795173276), (487, 0.0022145095635533493), (488, 0.0007543841638940695), (489, 0.004013231528242067), (490, 0.0068562996357358855), (491, 0.0049256695272139085), (492, 0.0030521481434346463), (493, 0.0015622281095032447), (494, 0.004775615212676279), (495, 0.0013679523273211003), (496, 0.003106772020774026), (497, 0.002670726318710158), (498, 0.002096110034931158), (499, 0.009566459778266864), (500, 0.0021652839739731877), (501, 0.0012660523597007565), (502, 0.0028811555769603947), (503, 0.0013992960139786253), (504, 0.001343985010354193), (505, 0.0027801523629306896), (506, 0.004949062551139832), (507, 0.003397237259366789), (508, 0.004593635794013783), (509, 0.009715181840424273), (510, 0.007242205770108791), (511, 0.004245817129107454), (512, 0.004417993547991748), (513, 0.00656024165742503), (514, 0.002081942608594248), (515, 0.005021499812552176), (516, 0.0012804909370527178), (517, 0.000196055241734018), (518, 0.0010520561498620997), (519, 0.003397237259366789), (520, 0.0005151453995223673), (521, 0.005714788287694291), (522, 0.0015034354839060385), (523, 0.0073540213472545034), (524, 0.0026462455567296842), (525, 0.0007063663169369755), (526, 0.0023721923599111824), (527, 0.010178233569371548), (528, 0.0070407309584325185), (529, 0.002006313939788303), (530, 0.009076680966216381), (531, 0.0012619523033212782), (532, 0.006092273754579926), (533, 0.01031994866775662), (534, 0.006241485348938414), (535, 0.01198979350957235), (536, 0.004347492078068996), (537, 0.011224067773017892), (538, 0.013759931557008828), (539, 0.003214848265598887), (540, 0.007242205770108791), (541, 0.0037360294353079855), (542, 0.005291651332753796), (543, 0.006367364132936699), (544, 0.019132919556533727), (545, 0.0064289571673278355), (546, 0.0039756656089058335), (547, 0.009132399365725203), (548, 0.005224737224923979), (549, 0.0023050820410268876), (550, 0.007623513433131588), (551, 0.000751541406688131), (552, 0.008026463056484134), (553, 0.005994896754786175), (554, 0.010178233569371548), (555, 0.00047070522227174314), (556, 0.0032520170379530546), (557, 0.0017007971994799141), (558, 0.001966605863411247), (559, 0.006143425087649577), (560, 0.0018145097355082747), (561, 0.003032163482804515), (562, 0.0022444411631614013), (563, 0.0005997857085548875), (564, 0.0021730658403751857), (565, 0.001205691517962174), (566, 0.0013504838853802624), (567, 0.003163447972901711), (568, 0.0014216049069904087), (569, 0.0005972085020315317), (570, 0.008288039973755134), (571, 0.005262352939961816), (572, 0.002706105605654185), (573, 0.006493171957060111), (574, 0.0012888040149372387), (575, 0.010042999625104352), (576, 0.00335809613749283), (577, 0.010092879101867167), (578, 0.001335363159355079), (579, 0.0016496458664102627), (580, 0.007735138963547792), (581, 0.002594025728447754), (582, 0.002695480070056606), (583, 0.0023296624617994578), (584, 0.0038682734292970994), (585, 0.0028663761014880587), (586, 0.0018115599402008028), (587, 0.005050866351406119), (588, 0.0034839749214911155), (589, 0.006932447790692348), (590, 0.0176060141990697), (591, 0.0073540213472545034), (592, 0.001983024086556747), (593, 0.0022145095635533493), (594, 0.0015672324916007035), (595, 0.006614507722322579), (596, 0.00234719435056701), (597, 0.0037466176880179758), (598, 0.004575122435127926), (599, 0.0009858386493612316), (600, 0.0035233799391534044), (601, 0.003257124328269543), (602, 0.0013267902964100677), (603, 0.007268086676005538), (604, 0.0020130347518770757), (605, 0.004159575381472124), (606, 0.005041421462198474), (607, 0.003252665278265571), (608, 0.0036946878112068377), (609, 0.0015522688666165122), (610, 0.0013396679263812578), (611, 0.0016364683169789198), (612, 0.0029737502595359147), (613, 0.004264814720971226), (614, 0.0008944524201235499), (615, 0.004839104771496004), (616, 0.0024018963259333963), (617, 0.013725367305383778), (618, 0.0022935234179930685), (619, 0.0074932353760359515), (620, 0.0020231724371765516), (621, 0.012827087176932043), (622, 0.007908851783515837), (623, 0.0161552214310098), (624, 0.019085396690307233), (625, 0.00040911978984734936), (626, 0.011224067773017892), (627, 0.003910389096079479), (628, 0.0016015594999051134), (629, 0.003086055633738092), (630, 0.006385209637467346), (631, 0.0030629029462178377), (632, 0.009542008520110406), (633, 0.008951129240324845), (634, 0.014484411540217582), (635, 0.011224067773017892), (636, 0.0023371364050386767), (637, 0.0027995778819391286), (638, 0.0052336126458701875), (639, 0.0007150165053053836), (640, 0.007514561539979454), (641, 0.0051238318900972005), (642, 0.0025609818741054355), (643, 0.004593635794013783), (644, 0.004670048061808618), (645, 0.005658213342038267), (646, 0.01937916913198603), (647, 0.025098668354484186), (648, 0.004321653181573843), (649, 0.0030998349059368087), (650, 0.0018716802367305548), (651, 0.005291651332753796), (652, 0.0014261632784913739), (653, 0.0073540213472545034), (654, 0.0026153552305347807), (655, 0.005817183376223151), (656, 0.001999622931842174), (657, 0.0052336126458701875), (658, 0.0043680546367026556), (659, 0.005896994911040377), (660, 0.0017514578346060755), (661, 0.0024232401813895194), (662, 0.0013989070690915166), (663, 0.0021504551586013668), (664, 0.003510999282474801), (665, 0.001116502632610584), (666, 0.0051777240410307785), (667, 0.0031244562190064894), (668, 0.005658213342038267), (669, 0.0031562459553171694), (670, 0.01031994866775662), (671, 0.002183528452478312), (672, 0.003510999282474801), (673, 0.005281569857076367), (674, 0.0048799442152677956), (675, 0.002043654468704102), (676, 0.030981857832312238), (677, 0.0025066314393351603), (678, 0.0004339035821999788), (679, 9.371672189069931e-05), (680, 0.0015747703248597206), (681, 0.003529288231481582), (682, 0.005817183376223151), (683, 0.011224067773017892), (684, 0.005948467866320346), (685, 0.00022923680338450222), (686, 0.00019416271132492792), (687, 0.0005919467013398399), (688, 0.0013701501715832796), (689, 0.0006068003492854081), (690, 0.0023429973525362123), (691, 0.0032120771067579807), (692, 0.009993931232780877), (693, 0.0021248503290227875), (694, 0.00458302454861152), (695, 0.0007909847577005248), (696, 0.010178233569371548), (697, 0.004670048061808618), (698, 0.016056036523477136), (699, 0.010178233569371548), (700, 0.00391506228909213), (701, 0.007616964817514637), (702, 0.0045032602908634594), (703, 0.004719711699848922), (704, 0.002802521921544784), (705, 0.0022614196575149463), (706, 0.0010844664136119367), (707, 0.00200296472682775), (708, 0.00290665631797858), (709, 0.004506998650631875), (710, 0.0006157706671351623), (711, 0.0011157288810941344), (712, 0.0013900761814653448), (713, 0.005620956638774268), (714, 0.008937146500264687), (715, 0.028162923833730074), (716, 0.017041251149241043), (717, 0.008795715952977295), (719, 0.000244012173901743), (720, 0.0027168065002897857), (721, 0.0011978228178897569), (722, 0.0016602714020078416), (723, 0.003966048173113494), (724, 0.003058868955523419), (725, 0.0008258460330842118), (726, 0.003268061532462881), (727, 0.0037047033311246877), (728, 0.00281669133367391), (729, 0.0017881669162748788), (730, 0.007242205770108791), (731, 0.0037360294353079855), (732, 0.005948467866320346), (733, 0.009993931232780877), (734, 0.023061895691959614), (735, 0.004173611015886935), (736, 0.00886431343092269), (737, 0.004131889837384435), (738, 0.0027995778819391286), (739, 0.004730009057296232), (740, 0.0027603855532407203), (741, 0.0020996727752386995), (742, 0.0015179202654140936), (743, 0.0001809481281374997), (744, 0.0016736594208072786), (745, 0.002534922639808213), (746, 0.002036796184990325), (747, 0.005798450982740233), (748, 0.012184547509159852), (749, 0.001211130064202293), (750, 0.005021499812552176), (751, 0.0007437841988580244), (752, 0.005696413352503477), (753, 0.0038878328320100797), (754, 0.0013182658679773806), (755, 0.0024561030706918615), (756, 0.004813853950068197), (757, 0.0011495519122848375), (758, 0.0015227795927035004), (759, 0.006433607237841931), (760, 0.004142807322609117), (761, 0.0060775913370250114), (762, 0.0024431062152081686), (763, 0.006662534831116611), (764, 0.0009029155955177102), (765, 0.008288039973755134), (766, 0.008795715952977295), (767, 0.0020784214405569585), (768, 0.00023362081175964418), (769, 0.004996965616390439), (770, 0.0073540213472545034), (771, 0.002782656360812052), (772, 0.0008463199557590024), (773, 0.0018839972016131469), (774, 0.005762311153920789), (775, 0.0015819695154010497), (776, 0.006241485348938414), (777, 0.003843126241898761), (778, 0.00656024165742503), (779, 0.006949259327504824), (780, 0.003715073267608982), (781, 0.009132399365725203), (782, 0.002680969350437986), (783, 0.0017350590736414917), (784, 0.0035385165160241707), (785, 0.0004318920472888697), (786, 0.0011495519122848375), (787, 0.001791625506094595), (788, 0.006269687793826584), (789, 0.0010907968789906383), (790, 0.001744643712568937), (791, 0.00557655161595022), (792, 0.0022299847742811565), (793, 0.0021878040908344452), (794, 0.0018204266835586188), (795, 0.002372624500056411), (796, 0.001148941182187929), (797, 0.003045247314094215), (798, 0.0031999829254611097), (799, 0.001496244907218826), (800, 0.002492682312377828), (801, 0.006863017579869494), (802, 0.009404531690739876), (803, 0.00812964027403903), (804, 0.0026485699760950086), (805, 0.005414888764740754), (806, 0.0008289158608353387), (807, 0.005168593282436694), (808, 0.00114575613715288), (809, 0.0027315153598488607), (810, 0.001343985010354193), (811, 0.0018233938817994433), (812, 0.0031706845326691306), (813, 0.001205691517962174), (814, 0.0030059224767105476), (815, 0.003106772020774026), (816, 0.0011101646959835753), (817, 0.002501967386721097), (818, 0.011224067773017892), (819, 0.002305740649272214), (820, 0.002241696241768022), (821, 0.0021248503290227875), (822, 0.0019503643737634872), (823, 0.003492929368065079), (824, 0.0026588691274783446), (825, 0.005934794649191448), (826, 0.002285433211911962), (827, 0.0036639219345393306), (828, 0.004949062551139832), (829, 0.003891486499758776), (830, 0.005447337753413767), (831, 0.005480499963475241), (832, 0.004813853950068197), (833, 0.0077498817493309525), (834, 0.0019471369504597633), (835, 0.003510999282474801), (836, 0.007246239760803211), (837, 0.00944723445516566), (838, 0.002381197363001422), (839, 0.0027770577650778716), (840, 0.0023683011412696277), (841, 0.007079567549773382), (842, 3.2102852112503136e-05), (843, 0.0017794872001858687), (844, 0.0015010348154295085), (845, 0.001050275831284815), (846, 0.005596677766315492), (847, 0.0004468282250729977), (848, 0.010178233569371548), (849, 0.005735605681201885), (850, 0.0021541487218147666), (851, 0.0029422497454785128), (852, 0.01868019224723447), (853, 0.0035855240506405977), (854, 0.0004963776808563228), (855, 0.0038228919687242143), (856, 0.003510999282474801), (857, 0.0017424416043287667), (858, 0.00790226282548819), (859, 0.001670972296643442), (860, 0.002936027799262756), (861, 0.0029994329190967768), (862, 0.001132545622824513), (863, 0.0031244562190064894), (864, 0.002081942608594248), (865, 0.001850364566911007), (866, 0.0008459124747826412), (867, 0.004163885217188496), (868, 0.0015950572835145439), (869, 0.0019073541138815713), (870, 0.0003520626089782968), (871, 0.027561814764082704), (872, 0.02668229701596056), (873, 0.03246585978530055), (874, 0.0018778261508054404), (875, 0.00279391626246612), (876, 0.005021499812552176), (877, 0.00378972975866274), (878, 0.0007850033036064577), (879, 0.0014443143417547414), (880, 0.0064289571673278355), (881, 0.007395495236485372), (882, 0.012286850175299154), (883, 0.005364500748824636), (884, 0.00959994877638333), (885, 0.001572253527246644), (886, 0.0025776080298744774), (887, 0.05321529929290358), (888, 0.04574108059878953), (889, 0.02294242272480754), (890, 0.0005649428903846178), (891, 0.0014102688670455186), (892, 0.0006064610397733464), (893, 0.0028205377340910372), (894, 0.003283451068422507), (895, 0.001676351339129167), (896, 0.0011629128329055066), (897, 0.009566459778266864), (898, 0.002757947408887842), (899, 0.0019215631209493805), (900, 0.0024336833443838334), (901, 0.003903228347493489), (902, 0.000631864897804858), (903, 0.0006770302238325548), (904, 0.003466223895346174), (905, 0.003653896516795931), (906, 4.4377058624130234e-05), (907, 1.1534641702298518e-05), (908, 0.0022068310746192277), (909, 0.006863017579869494), (910, 0.001969875246747211), (911, 0.0064289571673278355), (912, 0.0049256695272139085), (913, 0.0028798432185130076), (914, 0.0021504551586013668), (915, 0.0060909142709770344), (916, 0.0024651650788284573), (917, 0.0036170745538865222), (918, 0.0005089183175543436), (919, 0.007409149724841574), (920, 0.00025168674132049294), (921, 0.0010753935070234877), (923, 0.0029129223154597214), (924, 0.0009504543183985608), (925, 0.012734728265873399), (926, 0.0013273301457666531), (927, 0.0013396679263812578), (928, 0.0016182109831764729), (929, 0.0011240847136102022), (930, 0.011224067773017892), (931, 0.001632377132297874), (932, 0.0053215299292903575), (933, 0.003653896516795931), (934, 0.004163885217188496), (935, 0.001709034634785988), (936, 0.0057457104693935295), (937, 0.0004854067783123198), (938, 0.0015640428905715077), (939, 0.0032260698476640026), (940, 1.2421921833244558e-05), (941, 0.0011860961799555912), (942, 0.003152585677414119), (943, 0.003397237259366789), (944, 0.0030387956685125057), (945, 0.002608062313149588), (946, 0.0020041589487780906), (947, 0.002649309339964948), (948, 0.002534922639808213), (949, 0.008086565162078861), (950, 0.004972823984253081), (951, 0.0030280793958921983), (952, 0.004730009057296232), (953, 0.00152034797280703), (954, 0.0029356409186405185), (955, 3.282936484500347e-05), (956, 0.0039161379593174945), (957, 0.005046439550933583), (958, 0.004771349172576808), (959, 0.00031773201646045695), (960, 0.0036170745538865222), (961, 0.001695330455024185), (962, 0.0031490781517218864), (963, 0.0008399553198518054), (964, 0.0010550432369274107), (965, 0.0015572402708478599), (966, 0.0011860961799555912), (967, 0.004556833486121144), (968, 0.0025113099541510114), (969, 0.01198979350957235), (970, 0.013408095091369218), (971, 0.002936027799262756), (972, 0.0008275906455926072), (973, 0.005071798464152855), (974, 0.0004424898267429449), (975, 0.004145669109583152), (976, 0.0036439372739091986), (977, 0.004187778442223844), (978, 0.0033638918178011496), (979, 0.0007525225620041175), (980, 0.0021109838088819765), (981, 0.008086565162078861), (982, 0.01596458978787107), (983, 0.0013457359192456033), (984, 0.005021499812552176), (985, 0.003032163482804515), (986, 0.005735605681201885), (987, 0.009566459778266864), (988, 0.0025382561581000704), (989, 0.00046185583634932687), (990, 0.0011157288810941344), (991, 0.0010556231014505204), (992, 0.001709034634785988), (993, 0.019987862465561754), (994, 0.007474791370974179), (995, 0.003891486499758776), (996, 0.002583286389959613), (997, 0.0036375371452908637), (998, 0.031256218943824056), (999, 0.00459820764913935), (1000, 0.03790422135318528), (1001, 0.0013858892422083443), (1002, 0.006495851921919564), (1003, 0.006630431979004109), (1004, 0.003939012312896105), (1005, 0.0026828277609210814), (1006, 0.0017794872001858687), (1007, 0.0071381079582262695), (1008, 0.011224067773017892), (1009, 0.004575122435127926), (1010, 0.0003282880086772827), (1011, 0.00235053491346272), (1012, 0.005824156154498645), (1013, 0.009715181840424273), (1014, 0.001408011843708874), (1015, 0.001048497610903158), (1016, 0.0010483359267216478), (1017, 0.0033152159895020543), (1018, 0.004996965616390439), (1019, 0.007293719504711357), (1020, 0.001182207466928793), (1021, 0.011224067773017892), (1022, 0.008795715952977295), (1023, 0.0033072538611612894), (1024, 0.0073540213472545034), (1025, 0.0025931479925115812), (1026, 0.004835563962309083), (1027, 0.0009660832780884903), (1028, 9.260432626285108e-05), (1029, 0.004650579148857133), (1030, 0.013562879769696456), (1031, 0.0009881546944398177), (1032, 0.002643446644112259), (1033, 0.008467317676952269), (1034, 0.005514407453778687), (1035, 0.0009807326552525198), (1036, 0.0032298615219976718), (1037, 0.006367364132936699), (1038, 0.003222336220516769), (1039, 0.003120742674469207), (1040, 0.0039756656089058335), (1041, 0.00016809172686627384), (1042, 0.0002345870711024628), (1043, 0.00023465673340637466), (1044, 0.007242205770108791), (1045, 0.0005112926541053217), (1046, 0.0021541487218147666), (1047, 0.002424807908090264), (1048, 0.0024913251847820035), (1049, 0.0027714798666025092), (1050, 0.005656418196295046), (1051, 0.005205409585118467), (1052, 0.0012825649165121842), (1053, 0.005696413352503477), (1054, 0.0010093850226561417), (1055, 0.002923083273432278), (1056, 0.003835259413535188), (1057, 0.0030521481434346463), (1058, 0.0021865816354906665), (1059, 0.008808083397788269), (1060, 0.0005327192067369244), (1061, 0.006704047545684609), (1062, 0.002534922639808213), (1063, 0.004468573250132344), (1064, 0.005480499963475241), (1065, 0.009341223533477341), (1066, 0.0005376152849197345), (1067, 0.0012422327170691968), (1068, 0.0025816366092120758), (1069, 0.0007823659848513202), (1070, 0.0009980162706620455), (1071, 0.003372159344345404), (1072, 0.000307378943525547), (1073, 0.0020854720132894205), (1074, 0.0018839972016131469), (1075, 0.0018273452312368395), (1076, 0.00011620287593302767), (1077, 0.001951287764134531), (1078, 0.0038341100116214533), (1079, 0.0030261530758362077), (1080, 0.0014701688174895645), (1081, 0.00035318315846848776), (1082, 0.003492929368065079), (1083, 0.0038341100116214533), (1084, 0.0024292391001715413), (1085, 0.002834120531089753), (1086, 0.002695480070056606), (1087, 0.0014422734012459494), (1088, 0.002474281842633408), (1089, 0.00024248297857694636), (1090, 0.008086565162078861), (1091, 0.0018845450289449854), (1092, 0.0016001719318671191), (1093, 0.0017312235614315285), (1094, 0.006011844953421095), (1095, 0.006863017579869494), (1096, 0.008086565162078861), (1097, 0.011316426684076534), (1098, 0.0002386225588449493), (1099, 0.0064289571673278355), (1100, 0.003021786529345357), (1101, 0.021525516686190214), (1102, 0.0014631346797181807), (1103, 0.002121227710669831), (1104, 0.007451029937860928), (1105, 0.009577814456201018), (1106, 0.0006803766820513874), (1107, 0.00030899786866022007), (1108, 0.002226101066038559), (1109, 0.00834722203177387), (1110, 0.005735605681201885), (1111, 0.002618087730892987), (1112, 0.0017312235614315285), (1113, 0.006630431979004109), (1114, 0.0074932353760359515), (1115, 0.005735605681201885), (1116, 0.003079823101732504), (1117, 0.011169195550715529), (1118, 0.004575122435127926), (1119, 0.003192604818733673), (1120, 0.0012804909370527178), (1121, 0.0007354571714481927), (1122, 0.005447337753413767), (1123, 0.004401503549767425), (1124, 0.005620956638774268), (1125, 0.0032054715448973314), (1126, 0.0033152159895020543), (1127, 0.0018870922177121323), (1128, 0.0077498817493309525), (1130, 0.010451924764473347), (1131, 0.006949259327504824), (1132, 0.004612379138391923), (1133, 0.004104703159169762), (1134, 0.001436148136762366), (1135, 0.0012942050955477662), (1136, 0.0005788719243825136), (1137, 0.0003313193290907584), (1138, 0.0038228919687242143), (1139, 0.0017651310517349738), (1140, 0.0009943872264454054), (1141, 0.0009722608765710904), (1142, 0.0021652839739731877), (1143, 0.004202080158963513), (1144, 0.002224034290699431), (1145, 0.0013140216462781175), (1146, 0.00426068246924523), (1147, 0.009041815014928456), (1148, 0.0051505373628161055), (1149, 0.002573488824239349), (1150, 0.007121696746132938), (1151, 0.05304345583203287), (1152, 0.011224067773017892), (1153, 0.008288039973755134), (1154, 0.016062411488483554), (1155, 0.012115333739350804), (1156, 0.0077498817493309525), (1157, 0.0037466176880179758), (1158, 0.014484411540217582), (1159, 0.010301074725632211), (1160, 0.005658213342038267), (1161, 0.0006077874748646585), (1162, 0.003375145098183076), (1163, 0.004612379138391923), (1164, 0.004839104771496004), (1165, 0.0030255603220721273), (1166, 0.0015777186748790106), (1167, 0.019132919556533727), (1168, 0.010178233569371548), (1169, 0.006505330556531142), (1170, 0.003845412085585472), (1171, 0.0035291793755105835), (1172, 0.00448581709289855), (1173, 0.0029737502595359147), (1174, 0.002501967386721097), (1175, 0.005480499963475241), (1176, 0.004538763571711422), (1177, 0.009805267325348007), (1178, 0.0026836498486914988), (1179, 0.0007243552801250619), (1180, 0.0025239046066425565), (1181, 0.0021915903407992232), (1182, 0.012236574411738437), (1183, 0.004813853950068197), (1184, 0.004813853950068197), (1185, 0.004771349172576808), (1186, 0.03652959746290081), (1187, 0.0073540213472545034), (1188, 0.002301657237255638), (1189, 0.0027770577650778716), (1190, 0.0022183635115470427), (1191, 0.005216124626299176), (1192, 0.007690824171170944), (1193, 0.007133089869491159), (1194, 0.01538252681436262), (1195, 0.003260343767199692), (1196, 0.003821264993465387), (1197, 0.0022068310746192277), (1198, 0.007365282659173208), (1199, 0.005383122963681491), (1200, 0.0012537854643338133), (1201, 0.002751619988400413), (1202, 0.002992971154106106), (1203, 0.006863017579869494), (1204, 0.0011213136616314396), (1205, 0.0034750733038178844), (1206, 0.0018115599402008028), (1207, 0.014228261480562164), (1208, 0.004520907507464228), (1209, 0.00272218554277551), (1210, 1.3317036284073263e-05), (1211, 0.001396031077480026), (1212, 0.003134046551283626), (1213, 0.0017537436782927858), (1214, 0.0016156207339236698), (1215, 9.760081440406438e-05), (1216, 0.0028692280854457864), (1217, 0.0009688854393261934), (1218, 0.0017852681261052413), (1219, 0.0018350186907427927), (1220, 7.6328540833504e-05), (1221, 0.0011438618245133523), (1222, 0.0011841505706348138), (1223, 0.0022106654345460724), (1224, 5.8594959649922355e-05), (1225, 0.0008557093066409134), (1226, 0.006577444112061198), (1227, 0.01657607994751027), (1228, 0.009566459778266864), (1229, 0.00278827580797511), (1230, 0.002706105605654185), (1231, 0.0004977739268211459), (1232, 0.0035201160462797506), (1233, 0.0016156207339236698), (1234, 0.005696413352503477), (1235, 0.00657477102239767), (1236, 0.0023429973525362123), (1237, 0.005644878451301512), (1238, 0.0002481888404281614), (1239, 0.00448581709289855), (1240, 0.00761065300749538), (1241, 0.0034715166918000083), (1242, 0.005350056030576118), (1243, 0.010195181768006469), (1244, 0.0061008605509387135), (1245, 0.0035385165160241707), (1246, 0.006781439884848228), (1247, 0.0077498817493309525), (1248, 0.007474791370974179), (1249, 0.000946922851463364), (1250, 0.003074904372626539), (1251, 0.006308187143608161), (1252, 0.007209489890421581), (1253, 0.0006171053154479219), (1254, 0.030534700708114648), (1255, 0.002322185714730436), (1256, 0.002861366184587492), (1257, 0.0017998180924660894), (1258, 0.0020757441506111577), (1259, 0.002121227710669831), (1260, 0.001037788044238798), (1261, 0.0016707047064069666), (1262, 0.004011938054533396), (1263, 0.0010645775480244831), (1264, 4.2677363257457024e-05), (1265, 0.0031137411778257807), (1266, 0.011224067773017892), (1267, 0.025561876723861565), (1268, 0.06517985193097912), (1269, 0.0004696622543080474), (1270, 0.009559276856002146), (1271, 0.003903228347493489), (1272, 0.015423328447116571), (1273, 0.013809943423533828), (1274, 0.0070407309584325185), (1275, 0.008228286624760751), (1276, 0.003466223895346174), (1277, 0.010178233569371548), (1278, 0.0005788719243825136), (1279, 0.009566459778266864), (1280, 0.001937495896447698), (1281, 0.011224067773017892), (1282, 0.007532470033509091), (1283, 0.0019922055386935207), (1284, 0.00034684567671268017), (1285, 0.0006278252171609354), (1286, 0.0025301704474728175), (1287, 0.001514262604617963), (1288, 0.00018821715199780523), (1289, 0.0008060429647138454), (1290, 0.001793992114647715), (1291, 0.0010862875602653704), (1292, 0.0036408533671172375), (1293, 0.001376372117799036), (1294, 0.0009306011396053992), (1295, 0.0013657576799244303), (1296, 0.001838318037296504), (1297, 0.0006038116627639196), (1298, 0.0040059294536555), (1299, 0.009450967978082064), (1300, 0.0018052519661349426), (1301, 0.0021690140619525437), (1302, 0.0012456625923910017), (1303, 0.0011062245668573623), (1304, 0.0021981122761912425), (1305, 0.008086565162078861), (1306, 0.014069314432666628), (1307, 0.006092273754579926), (1308, 0.004013231528242067), (1309, 0.02113290153361221), (1310, 0.0021248503290227875), (1311, 0.004813853950068197), (1312, 0.0033312674155583054), (1313, 0.004389404039154542), (1314, 0.001966471930667706), (1315, 0.008520625574620522), (1316, 0.0025239046066425565), (1317, 0.00436905456109441), (1318, 0.00403880535775245), (1319, 0.00272218554277551), (1320, 0.011224067773017892), (1321, 0.031897834402848005), (1322, 0.009132399365725203), (1323, 0.016463373330098383), (1324, 0.0006337150988546728), (1325, 0.0023898192140005365), (1326, 0.006630431979004109), (1327, 0.0006669564296317629), (1328, 0.0018839972016131469), (1329, 0.0014016715270444378), (1330, 0.0003133586226182291), (1331, 0.005994896754786175), (1332, 0.0034486792811608134), (1333, 0.005071798464152855), (1334, 0.0034750733038178844), (1335, 8.018581135449052e-05), (1336, 0.003192604818733673), (1337, 0.001335194883219684), (1338, 0.005160264927819322), (1339, 0.0035760046511191606), (1340, 0.004835563962309083), (1341, 0.011224067773017892), (1342, 0.000300313989614857), (1343, 0.003878933379096666), (1344, 0.0009272394318376074), (1345, 0.005948467866320346), (1346, 0.00024622430282615507), (1347, 0.001203720492444524), (1348, 0.0025492696875523816), (1349, 0.0017537436782927858), (1350, 0.0049256695272139085), (1351, 0.0023514030557204454), (1352, 0.004080442860183497), (1353, 0.005735605681201885), (1354, 0.0014772359021622652), (1355, 0.0005251624973558728), (1356, 0.0006825978309589405), (1357, 0.008520625574620522), (1358, 0.004771349172576808), (1359, 0.010178233569371548), (1360, 0.007242205770108791), (1361, 0.0001461139027885246), (1362, 4.8283264274715554e-05), (1363, 0.005859688153714539), (1364, 0.0012076651216695942), (1365, 0.003192604818733673), (1366, 0.0031706845326691306), (1367, 0.00017074422151126944), (1368, 0.0018090603402342884), (1369, 0.004080442860183497), (1370, 0.001435321545268977), (1371, 0.0016286166783454122), (1372, 0.0009213013386123303), (1373, 0.0007481470543871337), (1374, 0.00025532026270842865), (1375, 0.0021237284239393277), (1376, 0.01759143190595459), (1377, 0.011224067773017892), (1378, 0.011224067773017892), (1379, 0.0008524956327696227), (1380, 0.017041251149241043), (1381, 0.0029262693594363613), (1382, 0.0006267172452364583), (1383, 0.003074904372626539), (1384, 0.012827087176932043), (1385, 0.004520907507464228), (1386, 0.004670048061808618), (1387, 0.00843303747263095), (1388, 0.005775843260942577), (1389, 0.001435321545268977), (1390, 0.008248116662970548), (1391, 0.00023643395619874592), (1392, 0.0014445357407398918), (1393, 0.004575122435127926), (1394, 0.004258310192097933), (1395, 0.019457432498793878), (1396, 0.004520907507464228), (1397, 0.014304018604476642), (1398, 0.016753793326073293), (1399, 0.0015874176731719494), (1400, 0.0009688854393261934), (1401, 0.004972823984253081), (1402, 0.002121227710669831), (1403, 0.0008996916203184314), (1404, 0.00723477565071232), (1405, 0.00011548231860026496), (1406, 0.011224067773017892), (1407, 0.007474791370974179), (1408, 0.011224067773017892), (1409, 0.010178233569371548), (1410, 0.004822766071848696), (1411, 0.0017016021605569744), (1412, 0.004308297443629533), (1413, 0.003664534508773356), (1414, 0.002834001119921222), (1415, 0.0051238318900972005), (1416, 0.0053215299292903575), (1417, 0.006493171957060111), (1418, 0.00315458265530076), (1419, 0.0017045132409753676), (1420, 0.004522839315029893), (1421, 0.009288742858921744), (1422, 0.0026485699760950086), (1423, 0.004468573250132344), (1424, 0.0021176137692553673), (1425, 0.00391506228909213), (1426, 0.0009604797361419601), (1427, 0.005620956638774268), (1428, 0.0038341100116214533), (1429, 0.002845652296112433), (1430, 0.001937495896447698), (1431, 0.0008459124747826412), (1432, 0.0010103887342360124), (1433, 0.004021734639299259), (1434, 0.01570795912242695), (1435, 0.011241913277548535), (1436, 0.006143425087649577), (1437, 0.008551391451288028), (1438, 0.005262352939961816), (1439, 0.0012772436544616166), (1440, 0.008520625574620522), (1441, 0.0026664307455458265), (1442, 0.0064289571673278355), (1443, 0.0011667520711581298), (1444, 0.009132399365725203), (1445, 0.0033312674155583054), (1446, 0.0030929295400200043), (1447, 0.0008490234445841334), (1448, 0.001734020262545861), (1449, 0.0011845567961818121), (1450, 0.003380472422229925), (1451, 0.0073540213472545034), (1452, 0.004080442860183497), (1453, 0.005262352939961816), (1454, 0.013726035159738989), (1455, 0.0035385165160241707), (1456, 0.0026558051367508257), (1457, 0.0020714036613045583), (1458, 1.863288274986684e-05), (1459, 0.00014928268161065817), (1460, 0.0015925064463572038), (1461, 0.004575122435127926), (1462, 0.002684928839511512), (1463, 0.0009875444944487492), (1464, 0.001505045124008235), (1465, 0.01598256093617568), (1466, 0.034252154980045836), (1467, 0.002285433211911962), (1468, 0.00023179325979356141), (1469, 0.0011590833389228832), (1470, 0.0095557878460321), (1471, 0.003634043338002769), (1472, 0.002072963860558099), (1473, 0.0014890884361618698), (1474, 0.0022471428066471112), (1475, 0.005584597775357764), (1476, 0.01382961256459725), (1477, 0.015212151722142747), (1478, 0.010178233569371548), (1479, 0.011224067773017892), (1480, 0.002896552609637088), (1481, 0.00400060534728724), (1482, 0.011224067773017892), (1483, 0.001706746530975249), (1484, 0.004996965616390439), (1485, 6.71100199624579e-05), (1486, 0.011224067773017892), (1487, 0.0007308445205286264), (1488, 0.0033393576216394117), (1489, 0.003387716004393066), (1490, 0.004798770396720607), (1491, 0.0022377823100812114), (1492, 0.004792451891664319), (1493, 0.000698015538740013), (1494, 0.0017396292646157622), (1495, 0.001036108404947905), (1496, 0.011224067773017892), (1497, 0.004129116353397108), (1498, 0.0010220727705330943), (1499, 0.0030261530758362077), (1500, 0.004631358254286941), (1501, 0.002664045186822816), (1502, 0.003811756716565794), (1503, 0.0014584634071969048), (1504, 0.0059988658381935536), (1505, 0.026387147858931887), (1506, 0.0062512437887648105), (1507, 0.006704047545684609), (1508, 0.003624213858162274), (1509, 0.013562879769696456), (1510, 0.0011101646959835753), (1511, 0.010178233569371548), (1512, 0.0048799442152677956), (1513, 0.011224067773017892), (1514, 0.000289528955708736), (1515, 0.003035840530828187), (1516, 5.323680785676239e-06), (1517, 0.013204510649302276), (1518, 0.0007221007864539771), (1519, 0.0034839749214911155), (1520, 0.006863017579869494), (1521, 0.006630431979004109), (1522, 0.008086565162078861), (1523, 5.678592838054655e-05), (1524, 8.54556387257751e-05), (1525, 0.020602149451264422), (1526, 0.0021809744573920847), (1527, 0.0026231255312967232), (1528, 0.007908851783515837), (1529, 0.006704047545684609), (1530, 0.013260863958008217), (1531, 0.0011783287506046051), (1532, 0.004767792425739471), (1533, 0.00026184341162104724), (1534, 0.0038007030420786746), (1535, 7.6328540833504e-05), (1536, 0.0008045303632646636), (1537, 0.0009824327341018994), (1538, 0.003560243291265951), (1539, 0.002136348519332288), (1540, 0.004149816941645728), (1541, 0.008086565162078861), (1542, 0.00011862752557996466), (1543, 0.007474791370974179), (1544, 0.0016390946358651687), (1545, 0.00024497548459098705), (1546, 0.0014557882705531484), (1547, 0.011224067773017892), (1548, 0.004104703159169762), (1549, 0.00403880535775245), (1550, 0.0027603855532407203), (1551, 0.0031144805416957197), (1552, 0.0052336126458701875), (1553, 0.0021615630847404772), (1554, 0.0014678204593202592), (1555, 0.002081942608594248), (1556, 0.0012315519501553808), (1557, 0.0013097893298446967), (1558, 0.0028070158012113177), (1559, 0.0012102715395094564), (1560, 0.0038682734292970994), (1562, 0.0032312414678473396), (1563, 0.0013679523273211003), (1564, 0.00035430454077145724), (1565, 0.006143425087649577), (1566, 0.0012136006985708162), (1567, 0.0004631021994979298), (1568, 0.0010133663423404237), (1569, 0.0062512437887648105), (1570, 0.0070407309584325185), (1571, 3.194208471405744e-05), (1572, 0.0002938337227349149), (1574, 0.004245817129107454), (1575, 0.0009175093453713964), (1576, 2.1313532894033883e-05), (1577, 0.004013231528242067), (1578, 0.0004648262892091666), (1579, 0.0022953056621571313), (1580, 0.004689771477555542), (1581, 0.001856424092401563), (1582, 0.0022068310746192277), (1583, 0.003106772020774026), (1584, 0.0021357706648900978), (1585, 0.010560348138839253), (1586, 0.006965981225837308), (1587, 0.009851339054427817), (1588, 0.0054336130005795714), (1589, 0.004546489373863172), (1590, 0.005383122963681491), (1591, 0.004321653181573843), (1592, 0.004857590920212137), (1593, 0.00013668134056232112), (1594, 0.00012862577607145831), (1595, 0.0027801523629306896), (1596, 0.00718244605681759), (1597, 0.0064289571673278355), (1598, 0.0031137411778257807), (1599, 0.005658213342038267), (1600, 0.0062838884771550035), (1601, 0.005817183376223151), (1602, 0.0037818659189727054), (1603, 0.004385191825285756), (1604, 0.00315458265530076), (1605, 0.004568338778110501), (1606, 0.0008789020411206944), (1607, 0.0004648262892091666), (1608, 0.004053133717797725), (1609, 0.0014445357407398918), (1610, 0.00020532422511996355), (1611, 0.002348741723345322), (1612, 0.00090130274681342), (1613, 2.1313532894033883e-05), (1614, 0.007474791370974179), (1615, 0.0073540213472545034), (1616, 0.004064820137019515), (1617, 0.006143425087649577), (1618, 0.0037360294353079855), (1619, 0.000946598854376685), (1620, 0.009627707900136393), (1621, 3.732067040266454e-05), (1622, 0.011224067773017892), (1623, 0.0037360294353079855), (1624, 0.00426068246924523), (1625, 0.006932447790692348), (1626, 0.004051756680356891), (1627, 0.0005283562058956749), (1628, 0.001728432034605284), (1629, 0.002583286389959613), (1630, 0.007474791370974179), (1631, 0.012502487577529621), (1632, 0.010042999625104352), (1633, 0.014949582741948358), (1634, 0.0025191291372668573), (1635, 0.001841320664793302), (1636, 0.0035417142600551346), (1637, 0.00281669133367391), (1638, 0.011224067773017892), (1639, 0.0025527030221681847), (1640, 0.0035996361849321788), (1641, 0.0051271039043579636), (1642, 0.004217274574742573), (1643, 0.011224067773017892), (1644, 0.0052462510625934464), (1645, 0.0001816175337387671), (1646, 0.0020333786980950923), (1647, 0.0024381407178447724), (1648, 0.006037971866746345), (1649, 0.0015625441739273702), (1650, 0.0020224455770904257), (1651, 0.001542374930710083), (1652, 0.002022762316880293), (1653, 0.0009756438820672655), (1654, 0.00656024165742503), (1655, 0.0007022478551734337), (1656, 0.011224067773017892), (1657, 0.0037047033311246877), (1658, 0.0032374245444455664), (1659, 0.028552431832905078), (1660, 0.006518260182820183), (1661, 0.006092273754579926), (1662, 0.010178233569371548), (1663, 0.003106772020774026), (1664, 0.009566459778266864), (1665, 0.0034486792811608134), (1666, 0.004131889837384435), (1667, 0.003811756716565794), (1668, 0.007242205770108791), (1669, 0.0036639219345393306), (1670, 0.003939012312896105), (1671, 0.004520907507464228), (1672, 0.001193303778004454), (1673, 0.0012718308464840832), (1674, 0.010643059858580715), (1675, 0.001902663251873845), (1676, 0.0044346657598288985), (1677, 0.011224067773017892), (1678, 0.0037466176880179758), (1679, 0.006296144574831426), (1680, 0.000713592418536906), (1681, 0.00213942841169769), (1682, 0.0052336126458701875), (1683, 0.00326433272310238), (1684, 0.006781439884848228), (1685, 0.0026485699760950086), (1686, 0.0026130666952470464), (1687, 0.0020784214405569585), (1688, 0.012520833047660804), (1689, 0.013679523273211003), (1690, 0.0037311185108769946), (1691, 0.007606075861071373), (1692, 0.003414807837599938), (1693, 0.002834001119921222), (1694, 0.004131889837384435), (1695, 0.007908851783515837), (1696, 0.007533929862453034), (1697, 0.0043372887600351484), (1698, 0.0004120335070110941), (1699, 0.0009554587004960197), (1700, 0.002451592395227201), (1701, 0.004948563685266816), (1702, 0.010178233569371548), (1703, 0.0015373510637238632), (1704, 0.0008000016360452296), (1705, 0.0012335596947220212), (1706, 0.008288039973755134), (1707, 0.0010423623739379943), (1708, 0.0032450256679229764), (1709, 0.0020441455410661886), (1710, 0.008288039973755134), (1711, 0.0035993584472883565), (1712, 0.004010139050851412), (1713, 0.0025686137963498437), (1714, 0.0021435591312180488), (1715, 0.0011064666063401397), (1716, 0.0009890224263159927), (1717, 0.0029029670070539393), (1718, 0.0034227390464860005), (1719, 0.0007207263316812906), (1720, 0.0024470951644187354), (1721, 0.005514407453778687), (1722, 0.0009881546944398177), (1723, 0.00315458265530076), (1724, 0.0024697165749471913), (1725, 0.0006574425688142895), (1726, 0.0010808307014450558), (1727, 0.012488311097449536), (1728, 0.022448135546035784), (1729, 0.008520625574620522), (1730, 0.007474791370974179), (1731, 0.011224067773017892), (1732, 0.0011422592267519586), (1733, 0.0007178687175331749), (1734, 0.0019042412043786593), (1735, 0.006367364132936699), (1736, 0.0035385165160241707), (1737, 0.003725514968930464), (1738, 0.0035665449347455796), (1739, 0.004556833486121144), (1740, 0.0029422497454785128), (1741, 0.0039756656089058335), (1742, 0.0055429597332050185), (1743, 0.007590511342418453), (1744, 0.001937495896447698), (1745, 0.004949062551139832), (1746, 0.005859688153714539), (1747, 0.004306177970846035), (1748, 0.005994896754786175), (1749, 0.003260343767199692), (1750, 0.0035201160462797506), (1751, 0.0009994185023927335), (1752, 0.0013745554880534878), (1753, 0.0033474914409019805), (1754, 0.003903228347493489), (1755, 0.00656024165742503), (1756, 0.0032298615219976718), (1757, 0.002992971154106106), (1758, 0.0018995361630463276), (1759, 0.0030124400670575903), (1760, 0.0008443593919700698), (1761, 0.0053215299292903575), (1762, 0.002863299512713201), (1763, 0.021726617310326376), (1764, 0.019132919556533727), (1765, 0.004612356558939808), (1766, 0.009850353205267521), (1767, 0.0039638479253759264), (1768, 0.0052336126458701875), (1769, 0.003909352934120833), (1770, 0.0035665449347455796), (1771, 0.003963348644023241), (1772, 0.0008350743176268006), (1773, 0.003560848373066469), (1774, 0.003529288231481582), (1775, 0.0026537107640977877), (1776, 0.008795715952977295), (1777, 0.002532104719401513), (1778, 0.0022357112482903297), (1779, 0.0011495519122848375), (1780, 0.007242205770108791), (1781, 0.003283616513727554), (1782, 0.0017565824746508), (1783, 0.011224067773017892), (1784, 0.0021357706648900978), (1785, 0.007548009063407723), (1786, 0.003466223895346174), (1787, 0.0018686166421365091), (1788, 0.003670642746628103), (1789, 0.008902191973787173), (1790, 0.002987711286695824), (1791, 0.025290342144672972), (1792, 0.0030521481434346463), (1793, 0.0026588691274783446), (1794, 0.003951131412744095), (1795, 0.009132399365725203), (1796, 0.0070407309584325185), (1797, 0.005514407453778687), (1798, 0.0034486792811608134), (1799, 0.11118814924007718), (1800, 0.006092273754579926), (1801, 0.0012096413103203953), (1802, 0.0007178687175331749), (1803, 0.00391506228909213), (1804, 0.004709756138185673), (1805, 0.009419512276371346), (1806, 0.002782656360812052), (1807, 0.0018655592554384973), (1808, 0.0069172219478166415), (1809, 0.0032622367970116598), (1810, 0.0037311185108769946), (1811, 0.008086565162078861), (1812, 0.014418979780843161), (1813, 0.0014748765274528934), (1814, 0.002911393459084841), (1815, 0.0033072538611612894), (1816, 0.005658213342038267), (1817, 0.006630431979004109), (1818, 0.0034227390464860005), (1819, 0.0008243134582249755), (1820, 0.0028992254913701165), (1821, 0.002706105605654185), (1822, 0.01767197419196699), (1823, 0.0042715413297801956), (1824, 0.00409129133913486), (1825, 0.004650579148857133), (1826, 0.010178233569371548), (1827, 0.006308187143608161), (1828, 0.003177955967558057), (1829, 0.004650579148857133), (1830, 0.005584597775357764), (1831, 0.0006345640395250176), (1832, 0.002322185714730436), (1833, 0.0009138073814015669), (1834, 0.005414888764740754), (1835, 0.0005814778314537593), (1836, 0.008209406318339524), (1837, 0.001902663251873845), (1838, 0.011224067773017892), (1839, 0.0030387956685125057), (1840, 0.002037168336481816), (1841, 0.0026692390639626385), (1842, 0.003557144157797354), (1843, 0.008086565162078861), (1844, 0.0033152159895020543), (1845, 0.0008428079061581016), (1846, 0.00207221680989581), (1847, 0.010064012084543631), (1848, 0.001202333859426136), (1849, 0.0022935234179930685), (1850, 0.0009104012235663304), (1851, 0.0007093282051874496), (1852, 0.007242205770108791), (1853, 0.005658213342038267), (1854, 0.004145669109583152), (1855, 0.001841320664793302), (1856, 0.0024697165749471913), (1857, 0.0010935942080513466), (1858, 0.0006632004311396449), (1859, 0.0016926044925497396), (1860, 0.009132399365725203), (1861, 0.00075984339062741), (1862, 0.0022839354855706613), (1863, 0.0036439372739091986), (1864, 0.00043018964814332686), (1865, 0.0013800173235130207), (1866, 0.0020130347518770757), (1867, 0.001068174259666144), (1868, 0.003283616513727554), (1869, 0.005775843260942577), (1870, 0.001605303977016286), (1871, 0.005414888764740754), (1872, 0.0029986191540877496), (1873, 0.0013945401486836193), (1874, 0.002420389691699831), (1875, 0.008288039973755134), (1876, 0.0008151505566684979), (1877, 0.008209406318339524), (1878, 0.004575122435127926), (1879, 0.005610521651659185), (1880, 0.0017537436782927858), (1881, 0.0033312674155583054), (1882, 0.004025964260506511), (1883, 0.0011000852041363602), (1884, 0.005520771106481441), (1885, 0.0019247362447670376), (1886, 0.0012929777930322222), (1887, 0.0043009103172027335), (1888, 0.0007805327230937456), (1889, 0.002563754469060437), (1890, 0.0021616614028901115), (1891, 0.004375990747438464), (1892, 0.011224067773017892), (1893, 0.004159575381472124), (1894, 0.0009142540694178613), (1895, 0.0007079094746464424), (1896, 0.007058576462963164), (1897, 0.0049394331498943825), (1898, 0.0071381079582262695), (1899, 0.019342255849236333), (1900, 0.010178233569371548), (1901, 0.002435144100725132), (1902, 0.00272218554277551), (1903, 0.003712749649872536), (1904, 0.0018115599402008028), (1905, 0.004468573250132344), (1906, 0.010467225291740375), (1907, 0.0026281802087852538), (1908, 0.010583302665507593), (1909, 0.0014073225392546508), (1910, 0.006941822331507283), (1911, 0.010478788104195237), (1912, 0.0074744665685460366), (1913, 0.003811756716565794), (1914, 0.003414190469401827), (1915, 0.0021689328272238733), (1916, 0.0030699936479652917), (1917, 0.0030059224767105476), (1918, 0.002738438696196083), (1919, 0.0030521481434346463), (1920, 0.002905297209097752), (1921, 0.002179872922487509), (1922, 0.002233878505007749), (1923, 0.0008060429647138454), (1924, 0.0021615630847404772), (1925, 0.0012784198045117294), (1926, 0.0010990975083258626), (1927, 0.0008709817089216852), (1928, 0.003725514968930464), (1929, 0.0006867870603577559), (1930, 0.0036439372739091986), (1931, 0.014899409959429075), (1932, 0.0048799442152677956), (1933, 0.015397889958136301), (1934, 0.008795715952977295), (1935, 0.008770383650571511), (1936, 0.005352012174492379), (1937, 0.011224067773017892), (1938, 0.004813853950068197), (1939, 0.0019104603766491382), (1940, 0.003611662382070841), (1941, 0.004275695725644014), (1942, 0.007451029937860928), (1943, 0.008520625574620522), (1944, 0.0018975797455181302), (1945, 0.0023429973525362123), (1946, 0.002270732385910313), (1947, 0.0039756656089058335), (1948, 0.002242627323262879), (1949, 0.006704047545684609), (1950, 0.0004010139050851412), (1951, 0.0021578513489960583), (1952, 0.00165494928072529), (1953, 0.0036639219345393306), (1954, 0.0019600882730642045), (1955, 0.001838318037296504), (1956, 0.011224067773017892), (1957, 0.03246585978530055), (1958, 0.005414888764740754), (1959, 0.0020679069741794376), (1960, 0.00812964027403903), (1961, 0.004857590920212137), (1962, 0.0077498817493309525), (1963, 0.0037360294353079855), (1964, 0.0022751291414357866), (1965, 0.0024292391001715413), (1966, 0.002608062313149588), (1967, 0.004948563685266816), (1968, 0.0039756656089058335), (1969, 0.0022106654345460724), (1970, 0.00567963092335964), (1971, 0.004110450514749839), (1972, 0.005113679218046918), (1974, 0.0006420408018991746), (1975, 0.002822439225650756), (1976, 0.0001291018055997077), (1977, 0.0027995778819391286), (1978, 0.005414888764740754), (1979, 0.004401503549767425), (1980, 0.009671127924618167), (1981, 0.0024637589121809106), (1982, 0.0007850033036064577), (1983, 0.0015672324916007035), (1984, 0.004619734652598756), (1985, 0.0023721923599111824), (1986, 0.0032758189779275005), (1987, 0.010704024348984757), (1988, 0.0025012167712251568), (1989, 0.004949062551139832), (1990, 0.007658109066504554), (1991, 0.0011061148795900905), (1992, 0.0011571722306000028), (1993, 0.002241696241768022), (1994, 0.005658213342038267), (1995, 0.00378972975866274), (1996, 0.00013236588340674433), (1997, 0.005994896754786175), (1998, 0.008086565162078861), (1999, 0.002983161679336216), (2000, 0.0027995778819391286), (2001, 0.00015461420595389594), (2002, 0.0021176137692553673), (2003, 0.004595169693214863), (2004, 0.009827456933782503), (2005, 0.006609180973678758), (2006, 0.0021284816660805486), (2007, 0.0024751664332483573), (2008, 0.0005898236725271912), (2009, 0.002782656360812052), (2010, 0.006196371566462448), (2011, 0.004131889837384435), (2012, 0.0035385165160241707), (2013, 0.00957590128296162), (2014, 0.004051756680356891), (2015, 0.0023639731998028753), (2016, 0.03215545055809649), (2017, 0.0006895863558159826), (2018, 0.010178233569371548), (2019, 0.00028738116912656997), (2020, 0.0011763931251701945), (2021, 0.0007833535291431086), (2022, 0.001564728225765742), (2023, 0.003177955967558057), (2024, 1.508376222608268e-05), (2025, 5.911860675428915e-05), (2026, 0.006042799820036782), (2027, 0.0013119040040790013), (2028, 0.0026796807652841215), (2029, 0.0028992254913701165), (2030, 0.0028714748701326996), (2031, 0.0029175144403768977), (2032, 0.0002671282500160104), (2033, 0.0014102688670455186), (2034, 0.002499784070522306), (2035, 0.005775843260942577), (2036, 0.000946598854376685), (2037, 0.0016156207339236698), (2038, 0.0009841347306943245), (2039, 0.009132399365725203), (2040, 0.004949062551139832), (2041, 0.0029356409186405185), (2042, 0.011224067773017892), (2043, 0.0011447535590602593), (2044, 0.0019535987154504332), (2045, 0.0009839677533657828), (2046, 0.0060775913370250114), (2047, 0.0015547525212006867), (2048, 0.0005441257107659579), (2049, 0.0001444628345062641), (2050, 0.006932447790692348), (2051, 0.0014745591813179783), (2052, 0.0015325454508695877), (2053, 0.0029737502595359147), (2054, 0.0038166702315253894), (2055, 0.009132399365725203), (2056, 0.009566459778266864), (2057, 0.011224067773017892), (2058, 0.006978975422097183), (2059, 1.77456026189208e-05), (2060, 0.00426068246924523), (2061, 0.014083166103402059), (2062, 0.006662534831116611), (2063, 0.0006867225116851569), (2064, 0.001710529387373918), (2065, 0.005383122963681491), (2066, 0.0016001719318671191), (2067, 0.0003758725057657438), (2068, 0.02116349536214379), (2069, 0.010560348138839253), (2070, 0.0024561030706918615), (2071, 0.0070407309584325185), (2072, 0.0036639219345393306), (2073, 0.0070415830517010294), (2074, 0.010375624291618086), (2075, 0.011224067773017892), (2076, 0.0014376198241888953), (2077, 0.0026231255312967232), (2078, 0.018374543176055132), (2079, 0.0003129673305546849), (2080, 0.003304590486839379), (2081, 0.0029269316462017963), (2082, 0.0010602948702244737), (2083, 0.0024510893935106716), (2084, 0.0013099259916671416), (2085, 0.0015925064463572038), (2086, 0.004876281435689545), (2087, 0.0004977739268211459), (2088, 0.014257558989600483), (2089, 0.0014261632784913739), (2090, 0.01151937287405203), (2091, 0.012813143539897019), (2092, 0.007037706488732997), (2093, 0.0011344257723752066), (2094, 0.0029867654681564344), (2095, 0.001170601103396496), (2096, 0.00774985916987884), (2097, 0.004538763571711422), (2098, 0.004495913881698428), (2099, 0.003951131412744095), (2100, 0.005656418196295046), (2101, 0.0034015943989598283), (2102, 0.004538763571711422), (2103, 0.0016522952434196896), (2104, 0.010178233569371548), (2105, 0.003712848184803126), (2106, 0.004231096818990376), (2107, 0.006949259327504824), (2108, 0.0012395990082656192), (2109, 0.003557144157797354), (2110, 0.008795715952977295), (2111, 0.011224067773017892), (2112, 0.002381197363001422), (2113, 0.005696413352503477), (2114, 0.008795715952977295), (2115, 0.006092273754579926), (2116, 0.0035951038911987247), (2117, 0.002905297209097752), (2118, 0.010178233569371548), (2119, 0.0020757441506111577), (2120, 0.0025929427159623528), (2121, 0.0011860961799555912), (2122, 0.01180685024771696), (2123, 0.00022409000194031673), (2124, 0.014484411540217582), (2125, 0.012857914334655671), (2126, 0.008039042295852365), (2127, 0.004094190672747322), (2128, 0.001969875246747211), (2129, 0.0064289571673278355), (2130, 0.0002709123804364504), (2131, 0.011224067773017892), (2132, 0.005046439550933583), (2133, 0.010178233569371548), (2134, 0.009132399365725203), (2135, 0.03874940874665476), (2136, 0.0064289571673278355), (2137, 0.0014748765274528934), (2138, 0.0014284476389870647), (2139, 0.004835563962309083), (2140, 0.0035855240506405977), (2141, 0.006725088725304066), (2142, 0.0026796807652841215), (2143, 0.008231686665049191), (2144, 0.006781439884848228), (2145, 0.0024561030706918615), (2146, 0.00718244605681759), (2147, 0.0027714798666025092), (2148, 0.0004916179826669265), (2149, 0.003084749861420166), (2150, 0.006704047545684609), (2151, 0.0014414526633625812), (2152, 0.009882006800156466), (2153, 0.006363683132009494), (2154, 0.003845412085585472), (2155, 0.011659286538879281), (2156, 0.008247332928320927), (2157, 0.0007050760093645373), (2158, 0.002359855849924461), (2159, 0.0012368822907767622), (2160, 0.00656024165742503), (2161, 0.009132399365725203), (2162, 0.005775843260942577), (2163, 0.0026153552305347807), (2164, 0.007021998564949602), (2165, 0.00426068246924523), (2166, 0.0008212529707269702), (2167, 0.0007423327126285353), (2168, 0.0019439164160050398), (2169, 0.00041659623878815356), (2170, 0.002954771143640896), (2171, 0.002581778921538323), (2172, 0.0024426112983574845), (2173, 0.0064289571673278355), (2174, 0.0006596492523776216), (2175, 0.006259052937723635), (2176, 0.0019863292791581716), (2177, 0.0018115599402008028), (2178, 0.0034574260872171168), (2179, 0.003845412085585472), (2180, 0.003951131412744095), (2181, 0.0029801300568601677), (2182, 0.006092273754579926), (2183, 0.005480499963475241), (2184, 0.0024788609654779973), (2185, 0.002738438696196083), (2186, 0.003963348644023241), (2187, 0.0022299847742811565), (2188, 0.006143425087649577), (2189, 0.01034603784348244), (2190, 0.006949259327504824), (2191, 0.011224067773017892), (2192, 0.07606075861071374), (2193, 0.037373956854870896), (2194, 0.032346260648315445), (2195, 0.007114288315594708), (2196, 0.009362228023407622), (2197, 0.001062337710253213), (2198, 0.0028515117979200965), (2199, 0.0005749714832120442), (2200, 0.0011605012093389153), (2201, 0.005994896754786175), (2202, 0.006863017579869494), (2203, 0.003903228347493489), (2204, 0.0051777240410307785), (2205, 0.0013645210418337256), (2206, 0.000765226870681443), (2207, 0.0016516920661684236), (2208, 0.0024045291058712275), (2209, 0.001973151729726829), (2210, 0.005696413352503477), (2211, 0.0018204266835586188), (2212, 0.003715073267608982), (2213, 0.008904404264154236), (2214, 0.01207594373349269), (2215, 0.005551093700733021), (2216, 0.009116387005537517), (2217, 0.0022534993253159373), (2218, 0.001408011843708874), (2219, 0.003058868955523419), (2220, 0.0033774375678802793), (2221, 0.004321653181573843), (2222, 0.003120742674469207), (2223, 0.002326325140699061), (2224, 0.004110450514749839), (2225, 0.011964251847374567), (2226, 0.010372591970046325), (2227, 0.005352012174492379), (2228, 0.004840779383399662), (2229, 0.0029737502595359147), (2230, 0.003376138358167714), (2231, 0.004976122229664249), (2232, 0.001244889096127422), (2233, 0.003134843896913292), (2234, 0.01031994866775662), (2235, 0.002520710731099237), (2236, 0.0019648654682037987), (2237, 0.00029755325050725767), (2238, 4.617932127040675e-05), (2239, 0.00018105839918645136), (2241, 0.003963348644023241), (2242, 0.00012077668639952534), (2243, 0.0005483545717687598), (2244, 0.0022653954696156857), (2245, 0.002060581598089469), (2246, 5.731001237088092e-05), (2247, 0.006784258972544839), (2248, 0.0015899599144123013), (2249, 0.00448581709289855), (2250, 0.017156681668369724), (2251, 0.004097766052544418), (2252, 6.662441457707595e-05), (2253, 0.001556682066358197), (2254, 0.00426068246924523), (2255, 0.00021217260625482808), (2256, 0.0003922140293546389), (2257, 0.003086055633738092), (2258, 0.004815911931048858), (2259, 0.004221796959850349), (2260, 0.001544842338977366), (2261, 0.007327843869078661), (2262, 0.0021578513489960583), (2263, 0.00028630842125401294), (2264, 3.3716644975949514e-05), (2265, 0.000537383653123761), (2266, 0.00037320887303941386), (2267, 0.004151152176955192), (2268, 0.006414794576773642), (2270, 0.0045032602908634594), (2271, 0.00015684762666483767), (2272, 0.0018544788636752148), (2273, 0.000371435493018075), (2274, 2.130725805451722e-05), (2275, 0.00028442019543012495), (2277, 0.0011629280043269307), (2278, 0.004173611015886935), (2279, 0.008520625574620522), (2280, 0.005775843260942577), (2281, 0.00036105039322698854), (2282, 0.03542055074315088), (2283, 0.0051238318900972005), (2284, 0.0026692390639626385), (2285, 0.004538763571711422), (2286, 0.001000486708490063), (2287, 0.0003232166456156688), (2288, 0.002588209134356426), (2289, 0.0016576079947510272), (2290, 0.000649496251377842), (2291, 0.011224067773017892), (2292, 0.0027548688384323315), (2293, 0.0013811876737614783), (2294, 0.0023729542731015744), (2295, 0.00409129133913486), (2296, 0.004612379138391923), (2297, 0.00409129133913486), (2298, 0.018264798731450406), (2299, 0.004636587630402429), (2300, 0.0023984906161394564), (2301, 0.0021471709085952194), (2302, 0.000588012357991435), (2303, 0.0017509102130108805), (2304, 0.0020299689343406674), (2305, 0.00354780159036744), (2306, 0.0028052608258295926), (2307, 0.004902633662674003), (2308, 0.0016260085189765273), (2309, 0.008520625574620522), (2310, 0.009132399365725203), (2311, 0.0061008605509387135), (2312, 0.0017766050220044127), (2313, 0.0036047449452107903), (2314, 0.005994896754786175), (2315, 0.0053215299292903575), (2316, 0.0014819657487289912), (2317, 0.017616166795576538), (2318, 0.011224067773017892), (2319, 0.0023206972613207355), (2320, 0.005013262878670321), (2321, 0.0017939812580334768), (2322, 0.036437867095829274), (2323, 0.002240074101117326), (2324, 0.0010808307014450558), (2325, 0.004762394726002844), (2326, 0.0021578513489960583), (2327, 0.0027623753475229567), (2329, 0.008194546079546583), (2330, 0.0028429930840178277), (2331, 0.004750537534771031), (2332, 0.0036961641724034713), (2333, 0.003372159344345404), (2334, 0.0015522688666165122), (2335, 0.003144507054493288), (2336, 0.004159575381472124), (2337, 0.002911393459084841), (2338, 0.005859688153714539), (2339, 2.1440073995388316e-05), (2340, 0.002322185714730436), (2341, 0.004750537534771031), (2342, 0.011224067773017892), (2343, 0.008130042594882637), (2344, 0.004117053666114236), (2345, 0.0017007971994799141), (2346, 0.004173611015886935), (2347, 0.004792451891664319), (2348, 0.009132399365725203), (2349, 0.008086565162078861), (2350, 0.007474791370974179), (2351, 0.0005814778314537593), (2352, 0.014276215916452539), (2353, 0.005775843260942577), (2354, 0.006582909112777611), (2355, 0.00812964027403903), (2356, 0.0005348858745638386), (2357, 0.006966557144191307), (2358, 0.0013967770947111414), (2359, 0.0012375832166241787), (2360, 0.0021327496642386044), (2361, 0.0038341100116214533), (2362, 0.008520625574620522), (2363, 0.008086565162078861), (2364, 0.0002684400798498316), (2365, 0.007234463602380589), (2366, 0.00757945951732548), (2367, 0.008795715952977295), (2368, 0.00010608630312741404), (2369, 0.005514407453778687), (2370, 0.0013016643672228796), (2371, 0.003222336220516769), (2372, 0.0051505373628161055), (2373, 0.003891486499758776), (2374, 0.006143425087649577), (2375, 0.0019219078243592404), (2376, 0.0008379428943508169), (2377, 0.0003255619576919255), (2378, 0.0012804909370527178), (2379, 0.0016977284252263464), (2380, 0.005817183376223151), (2381, 0.0008562889679181108), (2382, 0.001983024086556747), (2383, 0.00044454473975281646), (2384, 0.006630431979004109), (2385, 0.0033152159895020543), (2386, 0.005658213342038267), (2387, 0.005514407453778687), (2388, 0.02128611971716143), (2389, 0.008520625574620522), (2390, 0.009301158297714267), (2391, 0.0033072538611612894), (2392, 0.004792451891664319), (2393, 0.0018285081388357226), (2394, 0.0022935234179930685), (2395, 0.0019471369504597633), (2396, 0.0021321217639117137), (2397, 0.0025377374243479235), (2398, 0.00045008350342600644), (2399, 0.0034905183916926785), (2400, 0.0021727533942733942), (2401, 0.007474791370974179), (2402, 0.0051777240410307785), (2403, 0.008103513360713781), (2404, 0.00010101829087480402), (2405, 0.00563338266734782), (2406, 0.007759670647135131), (2407, 0.004893688062029495), (2408, 0.0019763093888796354), (2409, 0.0033152159895020543), (2410, 0.00732737875252334), (2411, 0.0029236603544517833), (2412, 0.028804513820011365), (2413, 0.012792730583470281), (2414, 0.004467757010015498), (2415, 0.0043372887600351484), (2416, 0.006666681986449614), (2417, 0.0070407309584325185), (2418, 0.0060511206441442545), (2419, 0.003174835346343899), (2420, 0.0033888315561825554), (2421, 0.009132399365725203), (2422, 0.006551637955855001), (2423, 0.010178233569371548), (2424, 0.0018293458414672496), (2425, 0.005726599025426402), (2426, 0.01483698662297862), (2427, 0.004857590920212137), (2428, 0.0064289571673278355), (2429, 0.003072401062545206), (2430, 0.003501820426021761), (2431, 0.0032914545563888053), (2432, 0.0027511256063952674), (2433, 0.024387824450437807), (2434, 0.0001118631047862154), (2435, 0.009196859515379702), (2436, 0.004156842881113917), (2437, 0.0005768141012505528), (2438, 0.002826451172680945), (2439, 0.003557144157797354), (2440, 0.004264243527823427), (2441, 0.00272218554277551), (2442, 0.0008521408420137505), (2443, 0.003185262615344033), (2444, 6.972172555981659e-05), (2445, 0.005291651332753796), (2446, 0.0007022478551734337), (2447, 0.00010669340814364257), (2448, 0.0015076360231559883), (2449, 0.0018649547005562847), (2450, 0.004595169693214863), (2451, 3.197029934105083e-05), (2452, 0.00013944345111963319), (2453, 0.0060775913370250114), (2454, 0.0005492230798682008), (2455, 0.00011548231860026496), (2456, 0.00012833530485200384), (2457, 0.004867366688767667), (2458, 0.004385191825285756), (2459, 0.0001138063020198854), (2460, 0.004857590920212137), (2461, 0.00041496303204247405), (2462, 0.0006853893577851853), (2463, 0.001040291270959186), (2464, 0.0015154964579543908), (2465, 0.009566459778266864), (2466, 0.002863299512713201), (2467, 0.0032993335289622804), (2468, 0.004857590920212137), (2469, 0.0006391596561542321), (2470, 0.007242205770108791), (2471, 0.0027081208953302193), (2472, 0.004520907507464228), (2473, 0.006120664290275245), (2474, 0.004677623993357131), (2475, 0.0032993335289622804), (2476, 7.541881113041338e-05), (2477, 0.0033072538611612894), (2478, 0.0017737314595609904), (2479, 0.0012862577607145832), (2480, 0.011224067773017892), (2481, 0.007474791370974179), (2482, 0.0017993832406368628), (2483, 0.008520625574620522), (2484, 0.002823308756636589), (2485, 0.0027471482414310236), (2486, 0.0012284115626066295), (2487, 0.0010881109077007934), (2488, 0.006678715243278823), (2489, 0.011224067773017892), (2490, 0.0251565559391193), (2491, 0.004205014581133313), (2492, 0.008520625574620522), (2493, 0.005071798464152855), (2494, 0.0009272394318376074), (2495, 0.01147121136240377), (2496, 0.00014259478316889314), (2497, 0.005291651332753796), (2498, 0.0016390946358651687), (2499, 0.0001963005498370964), (2500, 0.005554115530155743), (2501, 0.002821485226535485), (2502, 0.0033743345962563426), (2503, 0.0028714748701326996), (2504, 0.008795715952977295), (2505, 0.0044346657598288985), (2506, 0.003951131412744095), (2507, 0.00656024165742503), (2508, 0.019132919556533727), (2509, 0.0001018186274322224), (2510, 0.00012124148928847318), (2511, 0.0006144371983614986), (2512, 0.0013692014056843806), (2513, 0.0011194497703268449), (2514, 0.011224067773017892), (2515, 0.017041251149241043), (2516, 0.013408095091369218), (2517, 5.0574967463924274e-05), (2518, 0.008795715952977295), (2519, 0.0077498817493309525)]"
     ]
    },
    {
     "name": "stdout",
     "output_type": "stream",
     "text": [
      "\n"
     ]
    }
   ],
   "source": [
    "import gensim.downloader as api\n",
    "from gensim.models import TfidfModel\n",
    "from gensim.corpora import Dictionary\n",
    "dataset = api.load(\"text8\")\n",
    "dct = Dictionary(dataset)  # fit dictionary\n",
    "corpus = [dct.doc2bow(line) for line in dataset]  # convert corpus to BoW format\n",
    "model = TfidfModel(corpus)  # fit model\n",
    "vector = model[corpus[0]]\n",
    "print(vector)"
   ]
  },
  {
   "cell_type": "code",
   "execution_count": 95,
   "metadata": {},
   "outputs": [
    {
     "name": "stderr",
     "output_type": "stream",
     "text": [
      "2019-03-06 07:42:22.85 INFO in 'gensim.models.phrases'['phrases'] at line 475: collecting all words and their counts\n",
      "2019-03-06 07:42:22.91 DEBUG in 'smart_open.smart_open_lib'['smart_open_lib'] at line 176: {'kw': {}, 'mode': 'rb', 'uri': 'C:\\\\Users\\\\Home\\\\Anaconda2\\\\envs\\\\tensorflow\\\\lib\\\\site-packages\\\\gensim\\\\test\\\\test_data\\\\testcorpus.txt'}\n",
      "2019-03-06 07:42:22.119 INFO in 'gensim.models.phrases'['phrases'] at line 482: PROGRESS: at sentence #0, processed 0 words and 0 word types\n",
      "2019-03-06 07:42:22.145 INFO in 'gensim.models.phrases'['phrases'] at line 505: collected 37 word types from a corpus of 29 words (unigram + bigrams) and 1 sentences\n",
      "2019-03-06 07:42:22.150 INFO in 'gensim.models.phrases'['phrases'] at line 558: using 37 counts as vocab in Phrases<0 vocab, min_count=1, threshold=1, max_vocab_size=40000000>\n"
     ]
    },
    {
     "name": "stdout",
     "output_type": "stream",
     "text": [
      "['trees_graph', 'minors']\n"
     ]
    },
    {
     "name": "stderr",
     "output_type": "stream",
     "text": [
      "2019-03-06 07:42:22.156 INFO in 'gensim.models.phrases'['phrases'] at line 475: collecting all words and their counts\n",
      "2019-03-06 07:42:22.160 INFO in 'gensim.models.phrases'['phrases'] at line 482: PROGRESS: at sentence #0, processed 0 words and 0 word types\n",
      "2019-03-06 07:42:22.163 INFO in 'gensim.models.phrases'['phrases'] at line 505: collected 4 word types from a corpus of 3 words (unigram + bigrams) and 2 sentences\n",
      "2019-03-06 07:42:22.166 INFO in 'gensim.models.phrases'['phrases'] at line 548: merging 4 counts into Phrases<37 vocab, min_count=1, threshold=1, max_vocab_size=40000000>\n",
      "2019-03-06 07:42:22.170 INFO in 'gensim.models.phrases'['phrases'] at line 555: merged Phrases<41 vocab, min_count=1, threshold=1, max_vocab_size=40000000>\n",
      "2019-03-06 07:42:22.174 INFO in 'gensim.models.phrases'['phrases'] at line 816: source_vocab length 41\n",
      "2019-03-06 07:42:22.178 INFO in 'gensim.models.phrases'['phrases'] at line 825: Phraser built with 3 phrasegrams\n"
     ]
    },
    {
     "name": "stdout",
     "output_type": "stream",
     "text": [
      "['trees_graph', 'minors']\n"
     ]
    },
    {
     "name": "stderr",
     "output_type": "stream",
     "text": [
      "2019-03-06 07:42:22.184 DEBUG in 'smart_open.smart_open_lib'['smart_open_lib'] at line 176: {'kw': {}, 'mode': 'rb', 'uri': 'C:\\\\Users\\\\Home\\\\Anaconda2\\\\envs\\\\tensorflow\\\\lib\\\\site-packages\\\\gensim\\\\test\\\\test_data\\\\testcorpus.txt'}\n",
      "2019-03-06 07:42:22.187 DEBUG in 'smart_open.smart_open_lib'['smart_open_lib'] at line 176: {'kw': {}, 'mode': 'rb', 'uri': 'C:\\\\Users\\\\Home\\\\Anaconda2\\\\envs\\\\tensorflow\\\\lib\\\\site-packages\\\\gensim\\\\test\\\\test_data\\\\testcorpus.txt'}\n"
     ]
    }
   ],
   "source": [
    "from gensim.test.utils import datapath\n",
    "from gensim.models.word2vec import Text8Corpus\n",
    "from gensim.models.phrases import Phrases, Phraser\n",
    "sentences = Text8Corpus(datapath('testcorpus.txt'))\n",
    "phrases = Phrases(sentences, min_count=1, threshold=1)  # train model\n",
    "print(phrases[[u'trees', u'graph', u'minors']])  # apply model to sentence\n",
    "phrases.add_vocab([[\"hello\", \"world\"], [\"meow\"]])  # update model with new sentences\n",
    "bigram = Phraser(phrases)  # construct faster model (this is only an wrapper)\n",
    "print(bigram[[u'trees', u'graph', u'minors']])  # apply model to sentence\n",
    "for sent in bigram[sentences]:  # apply model to text corpus\n",
    "     pass"
   ]
  },
  {
   "cell_type": "code",
   "execution_count": 96,
   "metadata": {},
   "outputs": [
    {
     "name": "stderr",
     "output_type": "stream",
     "text": [
      "2019-03-06 07:42:31.561 INFO in 'gensim.models.phrases'['phrases'] at line 475: collecting all words and their counts\n",
      "2019-03-06 07:42:31.569 DEBUG in 'smart_open.smart_open_lib'['smart_open_lib'] at line 176: {'kw': {}, 'mode': 'rb', 'uri': 'C:\\\\Users\\\\Home\\\\Anaconda2\\\\envs\\\\tensorflow\\\\lib\\\\site-packages\\\\gensim\\\\test\\\\test_data\\\\testcorpus.txt'}\n",
      "2019-03-06 07:42:31.575 INFO in 'gensim.models.phrases'['phrases'] at line 482: PROGRESS: at sentence #0, processed 0 words and 0 word types\n",
      "2019-03-06 07:42:31.581 INFO in 'gensim.models.phrases'['phrases'] at line 505: collected 37 word types from a corpus of 29 words (unigram + bigrams) and 1 sentences\n",
      "2019-03-06 07:42:31.587 INFO in 'gensim.models.phrases'['phrases'] at line 558: using 37 counts as vocab in Phrases<0 vocab, min_count=5, threshold=10.0, max_vocab_size=40000000>\n",
      "2019-03-06 07:42:31.591 INFO in 'gensim.models.phrases'['phrases'] at line 475: collecting all words and their counts\n",
      "2019-03-06 07:42:31.594 INFO in 'gensim.models.phrases'['phrases'] at line 482: PROGRESS: at sentence #0, processed 0 words and 0 word types\n",
      "2019-03-06 07:42:31.597 INFO in 'gensim.models.phrases'['phrases'] at line 505: collected 23 word types from a corpus of 14 words (unigram + bigrams) and 2 sentences\n",
      "2019-03-06 07:42:31.601 INFO in 'gensim.models.phrases'['phrases'] at line 548: merging 23 counts into Phrases<37 vocab, min_count=5, threshold=10.0, max_vocab_size=40000000>\n",
      "2019-03-06 07:42:31.610 INFO in 'gensim.models.phrases'['phrases'] at line 555: merged Phrases<60 vocab, min_count=5, threshold=10.0, max_vocab_size=40000000>\n"
     ]
    }
   ],
   "source": [
    "phrases = Phrases(sentences)  # train model\n",
    "assert len(phrases.vocab) == 37\n",
    "more_sentences = [\n",
    "     [u'the', u'mayor', u'of', u'new', u'york', u'was', u'there'],\n",
    "     [u'machine', u'learning', u'can', u'be', u'new', u'york', u'sometimes']\n",
    "                 ]\n",
    "phrases.add_vocab(more_sentences)  # add new sentences to model\n",
    "assert len(phrases.vocab) == 60"
   ]
  },
  {
   "cell_type": "code",
   "execution_count": 97,
   "metadata": {},
   "outputs": [
    {
     "name": "stderr",
     "output_type": "stream",
     "text": [
      "2019-03-06 07:42:40.169 INFO in 'gensim.models.phrases'['phrases'] at line 475: collecting all words and their counts\n",
      "2019-03-06 07:42:40.179 DEBUG in 'smart_open.smart_open_lib'['smart_open_lib'] at line 176: {'kw': {}, 'mode': 'rb', 'uri': 'C:\\\\Users\\\\Home\\\\Anaconda2\\\\envs\\\\tensorflow\\\\lib\\\\site-packages\\\\gensim\\\\test\\\\test_data\\\\testcorpus.txt'}\n",
      "2019-03-06 07:42:40.183 INFO in 'gensim.models.phrases'['phrases'] at line 482: PROGRESS: at sentence #0, processed 0 words and 0 word types\n",
      "2019-03-06 07:42:40.186 INFO in 'gensim.models.phrases'['phrases'] at line 505: collected 37 word types from a corpus of 29 words (unigram + bigrams) and 1 sentences\n",
      "2019-03-06 07:42:40.189 INFO in 'gensim.models.phrases'['phrases'] at line 558: using 37 counts as vocab in Phrases<0 vocab, min_count=1, threshold=0.1, max_vocab_size=40000000>\n",
      "2019-03-06 07:42:40.194 DEBUG in 'smart_open.smart_open_lib'['smart_open_lib'] at line 176: {'kw': {}, 'mode': 'rb', 'uri': 'C:\\\\Users\\\\Home\\\\Anaconda2\\\\envs\\\\tensorflow\\\\lib\\\\site-packages\\\\gensim\\\\test\\\\test_data\\\\testcorpus.txt'}\n"
     ]
    }
   ],
   "source": [
    "phrases = Phrases(sentences, min_count=1, threshold=0.1)\n",
    "for phrase, score in phrases.export_phrases(sentences):\n",
    "     pass"
   ]
  },
  {
   "cell_type": "code",
   "execution_count": 98,
   "metadata": {},
   "outputs": [
    {
     "name": "stderr",
     "output_type": "stream",
     "text": [
      "2019-03-06 07:42:41.618 INFO in 'gensim.models.phrases'['phrases'] at line 475: collecting all words and their counts\n",
      "2019-03-06 07:42:41.626 DEBUG in 'smart_open.smart_open_lib'['smart_open_lib'] at line 176: {'kw': {}, 'mode': 'rb', 'uri': 'C:\\\\Users\\\\Home\\\\Anaconda2\\\\envs\\\\tensorflow\\\\lib\\\\site-packages\\\\gensim\\\\test\\\\test_data\\\\testcorpus.txt'}\n",
      "2019-03-06 07:42:41.633 INFO in 'gensim.models.phrases'['phrases'] at line 482: PROGRESS: at sentence #0, processed 0 words and 0 word types\n",
      "2019-03-06 07:42:41.638 INFO in 'gensim.models.phrases'['phrases'] at line 505: collected 37 word types from a corpus of 29 words (unigram + bigrams) and 1 sentences\n"
     ]
    },
    {
     "name": "stdout",
     "output_type": "stream",
     "text": [
      "1 29\n",
      "0\n",
      "0\n"
     ]
    }
   ],
   "source": [
    "pruned_words, counters, total_words = Phrases.learn_vocab(sentences, 100)\n",
    "print(pruned_words, total_words)\n",
    "print(counters['computer'])\n",
    "print(counters['response_time'])"
   ]
  },
  {
   "cell_type": "code",
   "execution_count": 1,
   "metadata": {},
   "outputs": [],
   "source": [
    "import nltk\n",
    "import csv\n",
    "import string\n",
    "from gensim.models import Phrases\n",
    "from gensim.models import Word2Vec\n",
    "from nltk.corpus import stopwords\n",
    "\n",
    "sentences = []\n",
    "bigram = Phrases()\n",
    "rows = [] \n",
    "\n",
    "with open(\"sentences.csv\", \"r\") as sentencesfile:\n",
    "    reader = csv.reader(sentencesfile, delimiter = \",\")\n",
    "    next(reader)\n",
    "    for row in reader: \n",
    "        rows.append(row) \n",
    "    \n",
    "    \n",
    "    for row in rows:\n",
    "        sentence = [word \n",
    "                    for word in nltk.word_tokenize(row[4].lower())\n",
    "                    if word not in string.punctuation]\n",
    "        sentences.append(sentence)\n",
    "        bigram.add_vocab([sentence])\n"
   ]
  },
  {
   "cell_type": "code",
   "execution_count": 2,
   "metadata": {},
   "outputs": [
    {
     "data": {
      "text/plain": [
       "[['pilot'],\n",
       " ['scene', 'one'],\n",
       " ['title', 'the', 'year', '2030'],\n",
       " ['narrator_kids',\n",
       "  'i',\n",
       "  \"'m\",\n",
       "  'going',\n",
       "  'to',\n",
       "  'tell',\n",
       "  'you',\n",
       "  'an',\n",
       "  'incredible',\n",
       "  'story',\n",
       "  'the',\n",
       "  'story',\n",
       "  'of',\n",
       "  'how',\n",
       "  'i',\n",
       "  'met_your',\n",
       "  'mother'],\n",
       " ['son', 'are', 'we', 'being', 'punished', 'for', 'something']]"
      ]
     },
     "execution_count": 2,
     "metadata": {},
     "output_type": "execute_result"
    }
   ],
   "source": [
    "list(bigram[sentences])[:5]"
   ]
  },
  {
   "cell_type": "code",
   "execution_count": 3,
   "metadata": {},
   "outputs": [
    {
     "name": "stdout",
     "output_type": "stream",
     "text": [
      "2\n",
      "14\n",
      "57\n",
      "21\n",
      "91\n",
      "38\n",
      "4607\n",
      "232\n",
      "827\n",
      "189\n",
      "247\n",
      "i_'m       4607\n",
      "going_to       827\n",
      "tell_you       247\n",
      "'m_going       232\n",
      "to_tell       189\n",
      "narrator_kids       91\n",
      "the_year       57\n",
      "kids_i       38\n",
      "year_2030       21\n",
      "title_the       14\n",
      "scene_one       2\n"
     ]
    }
   ],
   "source": [
    "#populate a Counter with our phrases and their counts and find out the more common phrases\n",
    "\n",
    "from collections import Counter\n",
    "i = 0\n",
    "bigram_counter = Counter()\n",
    "for key1 in list(bigram.vocab):\n",
    "    #key1 = key\n",
    "    #print(type(key1))\n",
    "    \n",
    "  \n",
    "    if key1 not in stopwords.words(\"english\"):\n",
    "        #print(type(key))\n",
    "        byte1 = \"_\".encode()\n",
    "        if len(key1.split(byte1)) > 1:\n",
    "            #print(\"ok\")\n",
    "            bigram_counter[key1] += bigram.vocab[key1]\n",
    "            print(bigram.vocab[key1])\n",
    "            i=i+1\n",
    "        if i > 10: \n",
    "            break;\n",
    "\n",
    "#print(i)\n",
    "for key10, counts in bigram_counter.most_common(20):\n",
    "    #print(key10)\n",
    "    print(\"{}       {}\".format(key10.decode(), counts))\n"
   ]
  },
  {
   "cell_type": "code",
   "execution_count": 4,
   "metadata": {},
   "outputs": [
    {
     "name": "stdout",
     "output_type": "stream",
     "text": [
      "do_n't       2459\n",
      "gon_na       1576\n",
      "ca_n't       1034\n",
      "did_n't       719\n",
      "come_on       587\n",
      "end_of       460\n",
      "'m_sorry       453\n",
      "my_god       442\n",
      "kind_of       398\n",
      "from_2030       394\n",
      "all_right       354\n",
      "they_'re       351\n",
      "does_n't       347\n",
      "end_flashback       328\n",
      "of_course       322\n",
      "right_now       314\n",
      "'ve_been       303\n",
      "new_york       300\n",
      "a_lot       297\n",
      "look_at       265\n"
     ]
    }
   ],
   "source": [
    "from collections import Counter\n",
    "\n",
    "model = Word2Vec(bigram[sentences], size=100)\n",
    "\n",
    "i = 0\n",
    "bigram_counter = Counter()\n",
    "for key1 in list(model.wv.vocab):\n",
    "#for key1 in model.wv.vocab.keys():    \n",
    "    #key = key1\n",
    "    #print(type(key1))\n",
    "    \n",
    "    if key1 not in stopwords.words(\"english\"):\n",
    "        #print(type(key))\n",
    "        #byte1 = \"_\".encode()\n",
    "        if len(key1.split(\"_\")) > 1:\n",
    "            #print(\"ok\")\n",
    "            bigram_counter[key1] += model.wv.vocab[key1].count\n",
    "            #print(model.wv.vocab[key].count)\n",
    "            #i=i+1\n",
    "        #if i > 10: \n",
    "            #break;\n",
    "\n",
    "#print(i)\n",
    "for key10, counts in bigram_counter.most_common(20):\n",
    "    #print(key10)\n",
    "    print(\"{}       {}\".format(key10, counts))\n"
   ]
  },
  {
   "cell_type": "code",
   "execution_count": 5,
   "metadata": {},
   "outputs": [
    {
     "name": "stderr",
     "output_type": "stream",
     "text": [
      "C:\\Users\\Home\\Anaconda2\\envs\\tensorflow\\lib\\site-packages\\ipykernel_launcher.py:1: DeprecationWarning: Call to deprecated `most_similar` (Method will be removed in 4.0.0, use self.wv.most_similar() instead).\n",
      "  \"\"\"Entry point for launching an IPython kernel.\n"
     ]
    },
    {
     "data": {
      "text/plain": [
       "[('robin', 0.859014093875885),\n",
       " ('barney', 0.8380885720252991),\n",
       " ('victoria', 0.81501305103302),\n",
       " ('zoey', 0.80119389295578),\n",
       " ('james', 0.7664534449577332),\n",
       " ('claudia', 0.7588191032409668),\n",
       " ('nora', 0.7587673664093018),\n",
       " ('don', 0.7442715167999268),\n",
       " ('brad', 0.7167814373970032),\n",
       " ('totally', 0.7081925272941589)]"
      ]
     },
     "execution_count": 5,
     "metadata": {},
     "output_type": "execute_result"
    }
   ],
   "source": [
    "model.most_similar(['marshall', 'lily'], ['ted'], topn=10)"
   ]
  },
  {
   "cell_type": "code",
   "execution_count": 6,
   "metadata": {},
   "outputs": [
    {
     "name": "stderr",
     "output_type": "stream",
     "text": [
      "C:\\Users\\Home\\Anaconda2\\envs\\tensorflow\\lib\\site-packages\\ipykernel_launcher.py:1: DeprecationWarning: Call to deprecated `similarity` (Method will be removed in 4.0.0, use self.wv.similarity() instead).\n",
      "  \"\"\"Entry point for launching an IPython kernel.\n"
     ]
    },
    {
     "data": {
      "text/plain": [
       "0.92367536"
      ]
     },
     "execution_count": 6,
     "metadata": {},
     "output_type": "execute_result"
    }
   ],
   "source": [
    "model.similarity(\"ted\", \"robin\")"
   ]
  },
  {
   "cell_type": "code",
   "execution_count": 7,
   "metadata": {},
   "outputs": [
    {
     "name": "stderr",
     "output_type": "stream",
     "text": [
      "C:\\Users\\Home\\Anaconda2\\envs\\tensorflow\\lib\\site-packages\\ipykernel_launcher.py:1: DeprecationWarning: Call to deprecated `similarity` (Method will be removed in 4.0.0, use self.wv.similarity() instead).\n",
      "  \"\"\"Entry point for launching an IPython kernel.\n"
     ]
    },
    {
     "data": {
      "text/plain": [
       "0.96717703"
      ]
     },
     "execution_count": 7,
     "metadata": {},
     "output_type": "execute_result"
    }
   ],
   "source": [
    "model.similarity(\"barney\", \"robin\")"
   ]
  },
  {
   "cell_type": "code",
   "execution_count": 8,
   "metadata": {},
   "outputs": [
    {
     "name": "stderr",
     "output_type": "stream",
     "text": [
      "C:\\Users\\Home\\Anaconda2\\envs\\tensorflow\\lib\\site-packages\\ipykernel_launcher.py:1: DeprecationWarning: Call to deprecated `most_similar` (Method will be removed in 4.0.0, use self.wv.most_similar() instead).\n",
      "  \"\"\"Entry point for launching an IPython kernel.\n"
     ]
    },
    {
     "data": {
      "text/plain": [
       "[('killing_me', 0.9587925672531128),\n",
       " ('having_fun', 0.9442540407180786),\n",
       " ('freaking_out', 0.9415212869644165),\n",
       " ('delightful', 0.9413829445838928),\n",
       " ('an_idiot', 0.9392070770263672),\n",
       " ('having_trouble', 0.9387280344963074),\n",
       " ('lucky', 0.9348148703575134),\n",
       " ('so_glad', 0.9323379993438721),\n",
       " ('scared', 0.9287667274475098),\n",
       " ('breaking_up', 0.9279994368553162)]"
      ]
     },
     "execution_count": 8,
     "metadata": {},
     "output_type": "execute_result"
    }
   ],
   "source": [
    "model.most_similar(positive=['getting_married'])"
   ]
  },
  {
   "cell_type": "code",
   "execution_count": 9,
   "metadata": {},
   "outputs": [
    {
     "name": "stderr",
     "output_type": "stream",
     "text": [
      "C:\\Users\\Home\\Anaconda2\\envs\\tensorflow\\lib\\site-packages\\ipykernel_launcher.py:1: DeprecationWarning: Call to deprecated `most_similar` (Method will be removed in 4.0.0, use self.wv.most_similar() instead).\n",
      "  \"\"\"Entry point for launching an IPython kernel.\n"
     ]
    },
    {
     "data": {
      "text/plain": [
       "[('your_mother', 0.9219773411750793),\n",
       " ('quinn', 0.917591392993927),\n",
       " ('our_relationship', 0.9173168540000916),\n",
       " ('mistakes', 0.9126814007759094),\n",
       " ('shy', 0.9087252020835876),\n",
       " ('devastating', 0.9079723358154297),\n",
       " ('his_name', 0.907180666923523),\n",
       " ('suspicious', 0.9052258133888245),\n",
       " ('polite', 0.9039556384086609),\n",
       " ('pissed', 0.9008902311325073)]"
      ]
     },
     "execution_count": 9,
     "metadata": {},
     "output_type": "execute_result"
    }
   ],
   "source": [
    "model.most_similar(positive=['my_dad'])"
   ]
  },
  {
   "cell_type": "code",
   "execution_count": 10,
   "metadata": {},
   "outputs": [],
   "source": [
    "import gensim"
   ]
  },
  {
   "cell_type": "code",
   "execution_count": 11,
   "metadata": {},
   "outputs": [
    {
     "data": {
      "text/plain": [
       "'3.7.0'"
      ]
     },
     "execution_count": 11,
     "metadata": {},
     "output_type": "execute_result"
    }
   ],
   "source": [
    "gensim.__version__"
   ]
  },
  {
   "cell_type": "code",
   "execution_count": 12,
   "metadata": {},
   "outputs": [
    {
     "name": "stdout",
     "output_type": "stream",
     "text": [
      "Counter({'red': 2, 'yellow': 1})\n"
     ]
    },
    {
     "data": {
      "text/plain": [
       "[('the', 993),\n",
       " ('and', 863),\n",
       " ('to', 685),\n",
       " ('of', 610),\n",
       " ('i', 574),\n",
       " ('you', 527),\n",
       " ('a', 511),\n",
       " ('my', 502),\n",
       " ('it', 419),\n",
       " ('in', 400)]"
      ]
     },
     "execution_count": 12,
     "metadata": {},
     "output_type": "execute_result"
    }
   ],
   "source": [
    "cnt = Counter()\n",
    "for word in ['red', 'red', 'yellow']:\n",
    "    cnt[word] += 1\n",
    "print(cnt)\n",
    "\n",
    "import re\n",
    "words = re.findall(r'\\w+', open('hamlet.txt').read().lower())\n",
    "Counter(words).most_common(10)"
   ]
  },
  {
   "cell_type": "code",
   "execution_count": 13,
   "metadata": {},
   "outputs": [],
   "source": [
    "c = Counter()\n",
    "c['sausage'] = 0                        # counter entry with a zero count\n",
    "del c['sausage']        "
   ]
  },
  {
   "cell_type": "code",
   "execution_count": 14,
   "metadata": {},
   "outputs": [],
   "source": [
    "sum(c.values())                 # total of all counts\n",
    "c.clear()                       # reset all counts\n",
    "list(c)                         # list unique elements\n",
    "set(c)                          # convert to a set\n",
    "dict(c)                         # convert to a regular dictionary\n",
    "c.items()                       # convert to a list of (elem, cnt) pairs\n",
    "list_of_pairs = {'a': 3, 'b': 0, 'c': -3, 'd': -6}\n",
    "Counter(dict(list_of_pairs))    # convert from a list of (elem, cnt) pairs\n",
    "n = 10\n",
    "c.most_common()[:-n-1:-1]       # n least common elements\n",
    "c += Counter()                  # remove zero and negative counts"
   ]
  },
  {
   "cell_type": "code",
   "execution_count": 15,
   "metadata": {},
   "outputs": [
    {
     "name": "stdout",
     "output_type": "stream",
     "text": [
      "Counter({'a': 4, 'b': 3})\n",
      "Counter({'a': 2})\n",
      "Counter({'a': 1, 'b': 1})\n",
      "Counter({'a': 3, 'b': 2})\n"
     ]
    }
   ],
   "source": [
    "c = Counter(a=3, b=1)\n",
    "d = Counter(a=1, b=2)\n",
    "print(c+d)\n",
    "print(c-d)\n",
    "print(c & d)                       # intersection:  min(c[x], d[x])\n",
    "print(c | d)                       # union:  max(c[x], d[x])"
   ]
  },
  {
   "cell_type": "code",
   "execution_count": 16,
   "metadata": {},
   "outputs": [
    {
     "name": "stdout",
     "output_type": "stream",
     "text": [
      "G\n",
      "H\n",
      "I\n"
     ]
    }
   ],
   "source": [
    "from collections import deque\n",
    "d = deque('ghi')                 # make a new deque with three items\n",
    "for elem in d:                   # iterate over the deque's elements\n",
    "    print(elem.upper())"
   ]
  },
  {
   "cell_type": "code",
   "execution_count": 17,
   "metadata": {},
   "outputs": [
    {
     "name": "stdout",
     "output_type": "stream",
     "text": [
      "deque(['g', 'h', 'i', 'j'])\n",
      "deque(['f', 'g', 'h', 'i', 'j'])\n"
     ]
    }
   ],
   "source": [
    "d.append('j')                    # add a new entry to the right side\n",
    "print(d)\n",
    "d.appendleft('f')                # add a new entry to the left side\n",
    "print(d)                                # show the representation of the deque"
   ]
  },
  {
   "cell_type": "code",
   "execution_count": 18,
   "metadata": {},
   "outputs": [
    {
     "name": "stdout",
     "output_type": "stream",
     "text": [
      "deque(['f', 'g', 'h', 'i'])\n",
      "deque(['g', 'h', 'i'])\n"
     ]
    }
   ],
   "source": [
    "d.pop()                          # return and remove the rightmost item\n",
    "print(d)\n",
    "d.popleft()                      # return and remove the leftmost item\n",
    "print(d)"
   ]
  },
  {
   "cell_type": "code",
   "execution_count": 19,
   "metadata": {},
   "outputs": [
    {
     "name": "stdout",
     "output_type": "stream",
     "text": [
      "g\n",
      "i\n"
     ]
    }
   ],
   "source": [
    "list(d)                          # list the contents of the deque\n",
    "print(d[0])                             # peek at leftmost item\n",
    "print(d[-1])                            # peek at rightmost item"
   ]
  },
  {
   "cell_type": "code",
   "execution_count": 20,
   "metadata": {},
   "outputs": [
    {
     "name": "stdout",
     "output_type": "stream",
     "text": [
      "True\n"
     ]
    }
   ],
   "source": [
    "list(reversed(d))                # list the contents of a deque in reverse\n",
    "print('h' in d)                         # search the deque"
   ]
  },
  {
   "cell_type": "code",
   "execution_count": 21,
   "metadata": {},
   "outputs": [
    {
     "name": "stdout",
     "output_type": "stream",
     "text": [
      "deque(['g', 'h', 'i', 'j', 'k', 'l'])\n"
     ]
    }
   ],
   "source": [
    "d.extend('jkl')                  # add multiple elements at once\n",
    "print(d)"
   ]
  },
  {
   "cell_type": "code",
   "execution_count": 22,
   "metadata": {},
   "outputs": [
    {
     "name": "stdout",
     "output_type": "stream",
     "text": [
      "deque(['l', 'g', 'h', 'i', 'j', 'k'])\n",
      "None\n",
      "deque(['g', 'h', 'i', 'j', 'k', 'l'])\n"
     ]
    }
   ],
   "source": [
    "d.rotate(1)                      # right rotation\n",
    "print(d)\n",
    "print(d.rotate(-1))                     # left rotation\n",
    "print(d)"
   ]
  },
  {
   "cell_type": "code",
   "execution_count": 23,
   "metadata": {},
   "outputs": [
    {
     "name": "stdout",
     "output_type": "stream",
     "text": [
      "deque(['l', 'k', 'j', 'i', 'h', 'g'])\n",
      "None\n",
      "deque(['c', 'b', 'a'])\n"
     ]
    }
   ],
   "source": [
    "print(deque(reversed(d)))               # make a new deque in reverse order\n",
    "print(d.clear())                        # empty the deque\n",
    "#print(d.pop())                          # cannot pop from an empty deque\n",
    "d.extendleft('abc')              # extendleft() reverses the input order\n",
    "print(d)"
   ]
  },
  {
   "cell_type": "code",
   "execution_count": 24,
   "metadata": {},
   "outputs": [
    {
     "name": "stdout",
     "output_type": "stream",
     "text": [
      "dict_items([('yellow', [1, 3]), ('red', [3, 6, 1])])\n"
     ]
    }
   ],
   "source": [
    "from collections import defaultdict\n",
    "s = [('yellow', 1), ('red', 3), ('yellow', 3), ('red', 6), ('red', 1)]\n",
    "d = defaultdict(list)\n",
    "for k, v in s:\n",
    "    d[k].append(v)\n",
    "print(d.items())"
   ]
  },
  {
   "cell_type": "code",
   "execution_count": 25,
   "metadata": {},
   "outputs": [
    {
     "name": "stdout",
     "output_type": "stream",
     "text": [
      "dict_items([('yellow', [1, 3]), ('red', [3, 6, 1])])\n"
     ]
    }
   ],
   "source": [
    "#This technique is simpler and faster than an equivalent technique using defaultdict.setdefault()\n",
    "d = {}\n",
    "for k, v in s:\n",
    "    d.setdefault(k, []).append(v)\n",
    "print(d.items())"
   ]
  },
  {
   "cell_type": "code",
   "execution_count": 26,
   "metadata": {},
   "outputs": [
    {
     "name": "stdout",
     "output_type": "stream",
     "text": [
      "dict_items([('m', 1), ('i', 4), ('s', 4), ('p', 2)])\n"
     ]
    }
   ],
   "source": [
    "s = 'mississippi'\n",
    "d = defaultdict(int)\n",
    "for k in s:\n",
    "    d[k] += 1\n",
    "print(d.items())"
   ]
  },
  {
   "cell_type": "code",
   "execution_count": 27,
   "metadata": {},
   "outputs": [
    {
     "name": "stdout",
     "output_type": "stream",
     "text": [
      "John ran to <missing>\n"
     ]
    }
   ],
   "source": [
    "import itertools\n",
    "\n",
    "def constant_factory(value):\n",
    "    return next(itertools.repeat(value))\n",
    "d = defaultdict(constant_factory(lambda:'<missing>'))\n",
    "d.update(name='John', action='ran')\n",
    "print('%(name)s %(action)s to %(object)s' % d)"
   ]
  },
  {
   "cell_type": "code",
   "execution_count": 28,
   "metadata": {},
   "outputs": [
    {
     "name": "stdout",
     "output_type": "stream",
     "text": [
      "dict_items([('red', {1, 3}), ('orange', {2, 4})])\n"
     ]
    }
   ],
   "source": [
    "#Setting the default_factory to set makes the defaultdict useful for building a dictionary of sets\n",
    "\n",
    "s = [('red', 1), ('orange', 2), ('red', 3), ('orange', 4), ('red', 1), ('orange', 4)]\n",
    "d = defaultdict(set)\n",
    "for k, v in s:\n",
    "    d[k].add(v)\n",
    "print(d.items())"
   ]
  },
  {
   "cell_type": "code",
   "execution_count": 29,
   "metadata": {},
   "outputs": [
    {
     "name": "stdout",
     "output_type": "stream",
     "text": [
      "OrderedDict([('apple', 4), ('banana', 3), ('orange', 2), ('pear', 1)])\n",
      "OrderedDict([('pear', 1), ('orange', 2), ('banana', 3), ('apple', 4)])\n",
      "OrderedDict([('pear', 1), ('apple', 4), ('banana', 3), ('orange', 2)])\n"
     ]
    }
   ],
   "source": [
    "from collections import OrderedDict\n",
    "\n",
    "# regular unsorted dictionary\n",
    "d = {'banana': 3, 'apple': 4, 'pear': 1, 'orange': 2}\n",
    "\n",
    "# dictionary sorted by key\n",
    "print(OrderedDict(sorted(d.items(), key=lambda t: t[0])))\n",
    "\n",
    "# dictionary sorted by value\n",
    "print(OrderedDict(sorted(d.items(), key=lambda t: t[1])))\n",
    "\n",
    "# dictionary sorted by length of the key string\n",
    "print(OrderedDict(sorted(d.items(), key=lambda t: len(t[0]))))"
   ]
  },
  {
   "cell_type": "code",
   "execution_count": null,
   "metadata": {},
   "outputs": [],
   "source": []
  }
 ],
 "metadata": {
  "kernelspec": {
   "display_name": "Python 3",
   "language": "python",
   "name": "python3"
  },
  "language_info": {
   "codemirror_mode": {
    "name": "ipython",
    "version": 3
   },
   "file_extension": ".py",
   "mimetype": "text/x-python",
   "name": "python",
   "nbconvert_exporter": "python",
   "pygments_lexer": "ipython3",
   "version": "3.6.6"
  }
 },
 "nbformat": 4,
 "nbformat_minor": 2
}
