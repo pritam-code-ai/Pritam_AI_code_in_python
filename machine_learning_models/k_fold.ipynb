{
 "cells": [
  {
   "cell_type": "code",
   "execution_count": 1,
   "metadata": {},
   "outputs": [],
   "source": [
    "import numpy as np\n",
    "from numpy import array\n",
    "from sklearn.model_selection import KFold\n",
    "from sklearn.linear_model import MultiTaskLassoCV"
   ]
  },
  {
   "cell_type": "code",
   "execution_count": 2,
   "metadata": {},
   "outputs": [],
   "source": [
    "data = array([[1, 3], [2, 6], [3, 1], [4, 1], [5, 6], [6, 3]])"
   ]
  },
  {
   "cell_type": "code",
   "execution_count": 12,
   "metadata": {},
   "outputs": [],
   "source": [
    "X = data[:3]\n",
    "y = data[3:]  "
   ]
  },
  {
   "cell_type": "code",
   "execution_count": 13,
   "metadata": {},
   "outputs": [
    {
     "data": {
      "text/plain": [
       "array([[1, 3],\n",
       "       [2, 6],\n",
       "       [3, 1]])"
      ]
     },
     "execution_count": 13,
     "metadata": {},
     "output_type": "execute_result"
    }
   ],
   "source": [
    "X"
   ]
  },
  {
   "cell_type": "code",
   "execution_count": 14,
   "metadata": {},
   "outputs": [
    {
     "data": {
      "text/plain": [
       "array([[4, 1],\n",
       "       [5, 6],\n",
       "       [6, 3]])"
      ]
     },
     "execution_count": 14,
     "metadata": {},
     "output_type": "execute_result"
    }
   ],
   "source": [
    "y"
   ]
  },
  {
   "cell_type": "code",
   "execution_count": 15,
   "metadata": {},
   "outputs": [],
   "source": [
    "k_fold_1 = 3"
   ]
  },
  {
   "cell_type": "code",
   "execution_count": 16,
   "metadata": {},
   "outputs": [],
   "source": [
    "kfold_1 = KFold(n_splits=k_fold_1, shuffle=True,  random_state=1)"
   ]
  },
  {
   "cell_type": "code",
   "execution_count": 17,
   "metadata": {},
   "outputs": [],
   "source": [
    "alphas = np.logspace(-4, -0.5, 30)"
   ]
  },
  {
   "cell_type": "code",
   "execution_count": 18,
   "metadata": {},
   "outputs": [],
   "source": [
    "MultiTasklasso_cv = MultiTaskLassoCV(alphas=alphas, cv=2, random_state=0)"
   ]
  },
  {
   "cell_type": "code",
   "execution_count": 37,
   "metadata": {},
   "outputs": [
    {
     "name": "stdout",
     "output_type": "stream",
     "text": [
      "----------------------------------------------------------\n",
      "----------------------------------------------------------\n",
      "----------------------------------------------------------\n",
      "MultiTaskLassoCV [[[[[fit]]]]] after kfold number 1 --- \n",
      "\n",
      "\n",
      " MultiTaskLassoCV(alphas=array([1.00000e-04, 1.32035e-04, 1.74333e-04, 2.30181e-04, 3.03920e-04,\n",
      "       4.01281e-04, 5.29832e-04, 6.99564e-04, 9.23671e-04, 1.21957e-03,\n",
      "       1.61026e-03, 2.12611e-03, 2.80722e-03, 3.70651e-03, 4.89390e-03,\n",
      "       6.46167e-03, 8.53168e-03, 1.12648e-02, 1.48735e-02, 1.96383e-02,\n",
      "       2.59294e-02, 3.42360e-02, 4.52035e-02, 5.96846e-02, 7.88046e-02,\n",
      "       1.04050e-01, 1.37382e-01, 1.81393e-01, 2.39503e-01, 3.16228e-01]),\n",
      "         copy_X=True, cv=2, eps=0.001, fit_intercept=True, max_iter=1000,\n",
      "         n_alphas=100, n_jobs=None, normalize=False, random_state=0,\n",
      "         selection='cyclic', tol=0.0001, verbose=False)\n",
      "\n",
      "----------------------------------------------------------\n",
      "MultiTaskLassoCV [[[[[score]]]]] after kfold number 1--- \n",
      "\n",
      "\n",
      " 0.9936\n",
      "\n",
      "----------------------------------------------------------\n",
      "MultiTaskLassoCV [[[[[alpha]]]]] after kfold number 1 --- \n",
      "\n",
      "\n",
      " 0.31622776601683794\n",
      "\n",
      "----------------------------------------------------------\n",
      "MultiTaskLassoCV [[[[[predict]]]]] after kfold number 1 --- \n",
      "\n",
      "\n",
      " [[5.592 4.224]\n",
      " [5.04  5.88 ]\n",
      " [5.96  3.12 ]]\n",
      "\n",
      "----------------------------------------------------------\n",
      "----------------------------------------------------------\n",
      "----------------------------------------------------------\n",
      "----------------------------------------------------------\n",
      "----------------------------------------------------------\n",
      "----------------------------------------------------------\n",
      "MultiTaskLassoCV [[[[[fit]]]]] after kfold number 2 --- \n",
      "\n",
      "\n",
      " MultiTaskLassoCV(alphas=array([1.00000e-04, 1.32035e-04, 1.74333e-04, 2.30181e-04, 3.03920e-04,\n",
      "       4.01281e-04, 5.29832e-04, 6.99564e-04, 9.23671e-04, 1.21957e-03,\n",
      "       1.61026e-03, 2.12611e-03, 2.80722e-03, 3.70651e-03, 4.89390e-03,\n",
      "       6.46167e-03, 8.53168e-03, 1.12648e-02, 1.48735e-02, 1.96383e-02,\n",
      "       2.59294e-02, 3.42360e-02, 4.52035e-02, 5.96846e-02, 7.88046e-02,\n",
      "       1.04050e-01, 1.37382e-01, 1.81393e-01, 2.39503e-01, 3.16228e-01]),\n",
      "         copy_X=True, cv=2, eps=0.001, fit_intercept=True, max_iter=1000,\n",
      "         n_alphas=100, n_jobs=None, normalize=False, random_state=0,\n",
      "         selection='cyclic', tol=0.0001, verbose=False)\n",
      "\n",
      "----------------------------------------------------------\n",
      "MultiTaskLassoCV [[[[[score]]]]] after kfold number 2--- \n",
      "\n",
      "\n",
      " 0.9931623931623932\n",
      "\n",
      "----------------------------------------------------------\n",
      "MultiTaskLassoCV [[[[[alpha]]]]] after kfold number 2 --- \n",
      "\n",
      "\n",
      " 0.31622776601683794\n",
      "\n",
      "----------------------------------------------------------\n",
      "MultiTaskLassoCV [[[[[predict]]]]] after kfold number 2 --- \n",
      "\n",
      "\n",
      " [[ 4.04134491  1.20672456]\n",
      " [ 4.95865509  5.79327544]\n",
      " [ 3.42980479 -1.85097603]]\n",
      "\n",
      "----------------------------------------------------------\n",
      "----------------------------------------------------------\n",
      "----------------------------------------------------------\n",
      "----------------------------------------------------------\n",
      "----------------------------------------------------------\n",
      "----------------------------------------------------------\n",
      "MultiTaskLassoCV [[[[[fit]]]]] after kfold number 3 --- \n",
      "\n",
      "\n",
      " MultiTaskLassoCV(alphas=array([1.00000e-04, 1.32035e-04, 1.74333e-04, 2.30181e-04, 3.03920e-04,\n",
      "       4.01281e-04, 5.29832e-04, 6.99564e-04, 9.23671e-04, 1.21957e-03,\n",
      "       1.61026e-03, 2.12611e-03, 2.80722e-03, 3.70651e-03, 4.89390e-03,\n",
      "       6.46167e-03, 8.53168e-03, 1.12648e-02, 1.48735e-02, 1.96383e-02,\n",
      "       2.59294e-02, 3.42360e-02, 4.52035e-02, 5.96846e-02, 7.88046e-02,\n",
      "       1.04050e-01, 1.37382e-01, 1.81393e-01, 2.39503e-01, 3.16228e-01]),\n",
      "         copy_X=True, cv=2, eps=0.001, fit_intercept=True, max_iter=1000,\n",
      "         n_alphas=100, n_jobs=None, normalize=False, random_state=0,\n",
      "         selection='cyclic', tol=0.0001, verbose=False)\n",
      "\n",
      "----------------------------------------------------------\n",
      "MultiTaskLassoCV [[[[[score]]]]] after kfold number 3--- \n",
      "\n",
      "\n",
      " 0.9500000000000001\n",
      "\n",
      "----------------------------------------------------------\n",
      "MultiTaskLassoCV [[[[[alpha]]]]] after kfold number 3 --- \n",
      "\n",
      "\n",
      " 0.31622776601683794\n",
      "\n",
      "----------------------------------------------------------\n",
      "MultiTaskLassoCV [[[[[predict]]]]] after kfold number 3 --- \n",
      "\n",
      "\n",
      " [[4.2236068 1.2236068]\n",
      " [5.        2.       ]\n",
      " [5.7763932 2.7763932]]\n",
      "\n",
      "----------------------------------------------------------\n",
      "----------------------------------------------------------\n",
      "----------------------------------------------------------\n"
     ]
    }
   ],
   "source": [
    "for k, (train, test) in enumerate(kfold_1.split(X, y)):\n",
    "    print(\"----------------------------------------------------------\")\n",
    "    print(\"----------------------------------------------------------\")\n",
    "    print(\"----------------------------------------------------------\")\n",
    "    print(\"MultiTaskLassoCV [[[[[fit]]]]] after kfold number {} --- \\n\\n\\n {}\".format((k+1),MultiTasklasso_cv.fit(X[train], y[train])))\n",
    "    print(\"\\n----------------------------------------------------------\")\n",
    "    print(\"MultiTaskLassoCV [[[[[score]]]]] after kfold number {}--- \\n\\n\\n {}\".format((k+1),MultiTasklasso_cv.score(X[train], y[train])))\n",
    "    print(\"\\n----------------------------------------------------------\")\n",
    "    print(\"MultiTaskLassoCV [[[[[alpha]]]]] after kfold number {} --- \\n\\n\\n {}\".format((k+1),MultiTasklasso_cv.alpha_))\n",
    "    print(\"\\n----------------------------------------------------------\")\n",
    "    print(\"MultiTaskLassoCV [[[[[predict]]]]] after kfold number {} --- \\n\\n\\n {}\".format((k+1),MultiTasklasso_cv.predict(X[:3,])))\n",
    "    print(\"\\n----------------------------------------------------------\")\n",
    "    print(\"----------------------------------------------------------\")\n",
    "    print(\"----------------------------------------------------------\")"
   ]
  },
  {
   "cell_type": "code",
   "execution_count": null,
   "metadata": {},
   "outputs": [],
   "source": []
  }
 ],
 "metadata": {
  "kernelspec": {
   "display_name": "Python 3",
   "language": "python",
   "name": "python3"
  },
  "language_info": {
   "codemirror_mode": {
    "name": "ipython",
    "version": 3
   },
   "file_extension": ".py",
   "mimetype": "text/x-python",
   "name": "python",
   "nbconvert_exporter": "python",
   "pygments_lexer": "ipython3",
   "version": "3.6.6"
  }
 },
 "nbformat": 4,
 "nbformat_minor": 2
}
