{
 "cells": [
  {
   "cell_type": "code",
   "execution_count": 1,
   "metadata": {},
   "outputs": [],
   "source": [
    "import matplotlib.pyplot as plt\n",
    "from matplotlib import style\n",
    "from sklearn.metrics import explained_variance_score, mean_squared_error\n",
    "from math import sqrt\n",
    "from sklearn import datasets\n",
    "from sklearn.linear_model import LinearRegression\n",
    "import numpy as np\n",
    "from sklearn.model_selection import train_test_split\n"
   ]
  },
  {
   "cell_type": "code",
   "execution_count": 2,
   "metadata": {},
   "outputs": [],
   "source": [
    "# load the boston dataset\n",
    "boston = datasets.load_boston(return_X_y=False)"
   ]
  },
  {
   "cell_type": "code",
   "execution_count": 3,
   "metadata": {},
   "outputs": [],
   "source": [
    "# defining feature matrix(X) and response vector(y)\n",
    "X = boston.data\n",
    "y = boston.target"
   ]
  },
  {
   "cell_type": "code",
   "execution_count": 4,
   "metadata": {},
   "outputs": [],
   "source": [
    "# splitting X and y into training and testing sets\n",
    "X_train, X_test, y_train, y_test = train_test_split(X, y, test_size=0.4, random_state=1)"
   ]
  },
  {
   "cell_type": "code",
   "execution_count": 5,
   "metadata": {},
   "outputs": [],
   "source": [
    "# create linear regression object\n",
    "reg = LinearRegression()"
   ]
  },
  {
   "cell_type": "code",
   "execution_count": 6,
   "metadata": {},
   "outputs": [
    {
     "data": {
      "text/plain": [
       "LinearRegression(copy_X=True, fit_intercept=True, n_jobs=None,\n",
       "         normalize=False)"
      ]
     },
     "execution_count": 6,
     "metadata": {},
     "output_type": "execute_result"
    }
   ],
   "source": [
    "# train the model using the training sets\n",
    "reg.fit(X_train, y_train)"
   ]
  },
  {
   "cell_type": "code",
   "execution_count": 7,
   "metadata": {},
   "outputs": [
    {
     "name": "stdout",
     "output_type": "stream",
     "text": [
      "Coefficients: \n",
      " [-8.95714048e-02  6.73132853e-02  5.04649248e-02  2.18579583e+00\n",
      " -1.72053975e+01  3.63606995e+00  2.05579939e-03 -1.36602886e+00\n",
      "  2.89576718e-01 -1.22700072e-02 -8.34881849e-01  9.40360790e-03\n",
      " -5.04008320e-01]\n"
     ]
    }
   ],
   "source": [
    "# regression coefficients\n",
    "print('Coefficients: \\n', reg.coef_)"
   ]
  },
  {
   "cell_type": "code",
   "execution_count": 8,
   "metadata": {},
   "outputs": [
    {
     "name": "stdout",
     "output_type": "stream",
     "text": [
      "Variance score: 0.7209056672661772\n"
     ]
    }
   ],
   "source": [
    "# variance score: 1 means perfect prediction\n",
    "print('Variance score: {}'.format(reg.score(X_test, y_test)))"
   ]
  },
  {
   "cell_type": "code",
   "execution_count": 9,
   "metadata": {},
   "outputs": [],
   "source": [
    "y_pred = reg.predict(X_test)\n",
    "n_errors = (y_pred != y_test).sum()"
   ]
  },
  {
   "cell_type": "code",
   "execution_count": 10,
   "metadata": {},
   "outputs": [
    {
     "name": "stdout",
     "output_type": "stream",
     "text": [
      "explained_variance_score: 0.7209062971833684\n"
     ]
    }
   ],
   "source": [
    "print('explained_variance_score: {}'.format(explained_variance_score(y_test, y_pred)))"
   ]
  },
  {
   "cell_type": "code",
   "execution_count": 11,
   "metadata": {},
   "outputs": [
    {
     "name": "stdout",
     "output_type": "stream",
     "text": [
      "explained_variance_score with uniform_average: 0.7209062971833684\n"
     ]
    }
   ],
   "source": [
    "print(\"explained_variance_score with uniform_average: {}\".format(explained_variance_score(y_test, y_pred, multioutput=\"uniform_average\")))"
   ]
  },
  {
   "cell_type": "code",
   "execution_count": 12,
   "metadata": {},
   "outputs": [],
   "source": [
    "rms = sqrt(mean_squared_error(y_test, y_pred))"
   ]
  },
  {
   "cell_type": "code",
   "execution_count": 13,
   "metadata": {},
   "outputs": [
    {
     "name": "stdout",
     "output_type": "stream",
     "text": [
      "mean squared error: 5.020535300380483\n"
     ]
    }
   ],
   "source": [
    "print(\"mean squared error: {}\".format(rms))"
   ]
  },
  {
   "cell_type": "code",
   "execution_count": 14,
   "metadata": {},
   "outputs": [],
   "source": [
    "intercept_gh = reg.intercept_"
   ]
  },
  {
   "cell_type": "code",
   "execution_count": 15,
   "metadata": {},
   "outputs": [
    {
     "name": "stdout",
     "output_type": "stream",
     "text": [
      "intercept value: 33.79211250936561\n"
     ]
    }
   ],
   "source": [
    "print(\"intercept value: {}\".format(intercept_gh))"
   ]
  },
  {
   "cell_type": "code",
   "execution_count": 16,
   "metadata": {},
   "outputs": [
    {
     "data": {
      "text/plain": [
       "[<matplotlib.lines.Line2D at 0x67ceb2bc18>]"
      ]
     },
     "execution_count": 16,
     "metadata": {},
     "output_type": "execute_result"
    },
    {
     "data": {
      "image/png": "[encoded data removed]",
      "text/plain": [
       "<Figure size 432x288 with 1 Axes>"
      ]
     },
     "metadata": {
      "needs_background": "light"
     },
     "output_type": "display_data"
    }
   ],
   "source": [
    "style.use(\"bmh\")\n",
    "\n",
    "\n",
    "plt.xlabel(\"y prediction\")\n",
    "plt.ylabel(\"y test\")\n",
    "plt.title(\"y predicted value and  y_test value\")\n",
    "plt.scatter(y_test, y_pred, color = \"red\", s = 19)\n",
    "plt.plot(np.unique(y_test), np.poly1d(np.polyfit(y_test, y_pred, 1))(np.unique(y_test)), color = \"pink\", linewidth=6)"
   ]
  },
  {
   "cell_type": "code",
   "execution_count": 17,
   "metadata": {},
   "outputs": [],
   "source": [
    "plt.show()"
   ]
  },
  {
   "cell_type": "code",
   "execution_count": 18,
   "metadata": {},
   "outputs": [
    {
     "name": "stdout",
     "output_type": "stream",
     "text": [
      "y prediction by predict function on X_test: [32.5767836  28.31584043 18.02490895 21.22723902 18.30706301 20.41855673\n",
      " 33.00388637 18.23492365 24.15996405 26.44388935 26.89587445 29.11404673\n",
      " 20.47403529 26.72290735 23.00917779 20.06036007 17.93614868 38.60918158\n",
      " 30.21848598  8.72510853 20.4218793  15.62926355 25.14572116 24.8208665\n",
      " 31.33254683 10.32111619 13.97300109 16.59941009 36.11111224 14.50980925\n",
      " 21.75924461 14.18085506 43.80568262 18.29067878 21.0769219  20.36535011\n",
      " 17.77192542 27.41157074  8.78516292 19.77211274 23.57601701 21.48478378\n",
      " 29.01124151 16.29101185 19.34443514 14.72102079 39.10168604 18.15651807\n",
      " 24.90906159 19.6083671  25.34392074 24.35100549 24.85160986 25.8996609\n",
      "  4.61421883 24.39859206 11.27077844 26.40774218 17.10969386 36.0904063\n",
      " 19.67664968 27.23937264 16.53365016 18.15907977 11.30355765 31.98198816\n",
      " 36.95839215 21.45909144 24.13250983 24.41496302 23.46245892  6.98544199\n",
      " 15.69004286 20.90901803 20.65100918 21.09179956 33.62584873 27.8598505\n",
      " 25.06231279 35.46695443 19.31464639 23.27640089 34.32534674 13.58758135\n",
      " 21.29042943 29.80515072 17.35561076 24.38496524 18.98886858 17.72392536\n",
      " 27.41848903 41.95804013 14.32450982 22.80526735 14.58973366 21.50406424\n",
      " 23.47838791 29.22720261 37.22516161 20.54563964 16.4155803  18.21326206\n",
      " 24.79190815 22.25545086  8.71421282 21.20296216 14.73006456 31.54715088\n",
      " 24.20086147 25.3096051  38.17624923 28.22033166 14.37458901 35.30227817\n",
      " 35.46142453 32.87020186 21.1279694  16.28659179 35.03740942 39.61343221\n",
      " 20.6454664  15.3793382  27.47891053 18.95323784 27.53056862 21.05405081\n",
      " 25.42966851 22.3802906  22.39038473 28.45198817 20.22140822 23.97529302\n",
      " 29.3329107  10.42025171 27.15016037 33.04900847 14.17365766 12.83532496\n",
      " 33.72427748 15.75277802 18.74314445 16.92420179 17.25379375 28.3965777\n",
      " 34.54366224 20.48365583 24.6039962  17.09621043 27.88327386 20.94139341\n",
      " 33.84747506 14.1550611  19.64551137 19.15713668 20.27286545 32.31111862\n",
      " 14.5293722  28.45970824 22.89421306 28.99015547 34.07565321 36.30114489\n",
      " 24.33596177 18.20586396 18.66196259 21.77461959 26.82240611 16.25068292\n",
      " 15.71220696 26.18366066 22.38663042 17.90882485 14.97788993 30.00806408\n",
      " 18.79394999 23.84446541 33.24922009 23.92154382 35.84412917 20.92896735\n",
      " 22.89134963 26.73756655 17.04759586 33.24629887 13.39552963 22.78231362\n",
      " 20.38562111 34.74095998 21.57933645 22.22992201 20.74941001 15.84277665\n",
      " 22.51506659 25.269853   22.36898011 18.63792899 32.47683751 21.31930513\n",
      " 34.81808291 25.36978941 18.81849169  2.52098402 24.88844846]\n"
     ]
    }
   ],
   "source": [
    "print(\"y prediction by predict function on X_test: {}\".format(y_pred))"
   ]
  },
  {
   "cell_type": "code",
   "execution_count": 19,
   "metadata": {},
   "outputs": [
    {
     "name": "stdout",
     "output_type": "stream",
     "text": [
      "linear regression number of  error: 203\n"
     ]
    }
   ],
   "source": [
    "print('{}: {}'.format(\"linear regression number of  error\", n_errors))"
   ]
  },
  {
   "cell_type": "code",
   "execution_count": 30,
   "metadata": {},
   "outputs": [
    {
     "data": {
      "image/png": "[encoded data removed]",
      "text/plain": [
       "<Figure size 432x288 with 1 Axes>"
      ]
     },
     "metadata": {},
     "output_type": "display_data"
    }
   ],
   "source": [
    "# plot for residual error\n",
    "\n",
    "## setting plot style\n",
    "plt.style.use('fivethirtyeight')\n",
    "\n",
    "## plotting residual errors in training data\n",
    "plt.scatter(reg.predict(X_train), reg.predict(X_train) - y_train,\n",
    "            color=\"red\", s=19, label='Train data')\n",
    "## plotting residual errors in test data\n",
    "plt.scatter(reg.predict(X_test), reg.predict(X_test) - y_test,\n",
    "            color=\"grey\", s=19, label='Test data')\n",
    "## plotting line for zero residual error\n",
    "plt.hlines(y=0, xmin=0, xmax=50, linewidth=6, color = \"yellow\")\n",
    "## plotting legend\n",
    "plt.legend(loc='upper right', prop={'size': 10})\n",
    "## plot title\n",
    "plt.title(\"Residual errors\", color = \"brown\")\n",
    "## function to show plot\n",
    "plt.show()"
   ]
  },
  {
   "cell_type": "code",
   "execution_count": null,
   "metadata": {},
   "outputs": [],
   "source": []
  }
 ],
 "metadata": {
  "kernelspec": {
   "display_name": "Python 3",
   "language": "python",
   "name": "python3"
  },
  "language_info": {
   "codemirror_mode": {
    "name": "ipython",
    "version": 3
   },
   "file_extension": ".py",
   "mimetype": "text/x-python",
   "name": "python",
   "nbconvert_exporter": "python",
   "pygments_lexer": "ipython3",
   "version": "3.6.6"
  }
 },
 "nbformat": 4,
 "nbformat_minor": 2
}
