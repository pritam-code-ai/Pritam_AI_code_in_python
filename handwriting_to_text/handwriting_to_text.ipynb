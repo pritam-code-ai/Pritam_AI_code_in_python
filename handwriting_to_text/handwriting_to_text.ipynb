{
 "cells": [
  {
   "cell_type": "code",
   "execution_count": 1,
   "metadata": {},
   "outputs": [],
   "source": [
    "# I suppose that you are using windows system \n",
    "# and have OpenCV python package installed in your computer. \n",
    "\n",
    "## for anaconda system, in command mode, execute:      \n",
    "# conda install opencv \n",
    "# OR you may use:  \n",
    "# pip install opencv\n",
    "\n",
    "# check this internet site link for tesseract for windows: \n",
    "#      https://github.com/UB-Mannheim/tesseract/wiki \n",
    "\n",
    "# install this tesseract exe file for windows by entering this internet site link in your browser\n",
    "# and then press enter and download the file and start this file by installing it:\n",
    "#      https://digi.bib.uni-mannheim.de/tesseract/tesseract-ocr-w32-setup-v4.0.0-beta.4.20180912.exe\n",
    "\n",
    "# add this to your windows system environment variable, name PATH. \n",
    "#      ;C:\\Program Files (x86)\\Tesseract-OCR \n",
    "\n",
    "# run these 2 command one after another in administrator command line:  \n",
    "#   pip install pytesseract\n",
    "#   pip install tesseract\n",
    "\n",
    "\n",
    "# import the necessary packages\n",
    "from PIL import Image\n",
    "import pytesseract\n",
    "import argparse\n",
    "import cv2\n",
    "import os \n"
   ]
  },
  {
   "cell_type": "code",
   "execution_count": 2,
   "metadata": {},
   "outputs": [],
   "source": [
    "pytesseract.pytesseract.tesseract_cmd = 'C:/Program Files (x86)/Tesseract-OCR/tesseract.exe'"
   ]
  },
  {
   "cell_type": "code",
   "execution_count": 3,
   "metadata": {},
   "outputs": [],
   "source": [
    "image = cv2.imread(\"scanned_or_fax_image_to_find_content_in_this_by_OCR.jpg\") \n",
    "#full form of OCR is optical character reading"
   ]
  },
  {
   "cell_type": "code",
   "execution_count": 4,
   "metadata": {},
   "outputs": [],
   "source": [
    "gray = cv2.cvtColor(image, cv2.COLOR_BGR2GRAY)\n",
    "\n",
    "gray = cv2.medianBlur(gray, 3)"
   ]
  },
  {
   "cell_type": "code",
   "execution_count": 5,
   "metadata": {},
   "outputs": [
    {
     "data": {
      "text/plain": [
       "True"
      ]
     },
     "execution_count": 5,
     "metadata": {},
     "output_type": "execute_result"
    }
   ],
   "source": [
    "# write the grayscale image to disk as a temporary file so we can\n",
    "# apply OCR to it\n",
    "filename = \"{}.png\".format(os.getpid())\n",
    "cv2.imwrite(filename, gray)"
   ]
  },
  {
   "cell_type": "code",
   "execution_count": 6,
   "metadata": {},
   "outputs": [
    {
     "name": "stdout",
     "output_type": "stream",
     "text": [
      "Mild Splendour of the various-vested Night!\n",
      "Mother of wildly-working visions! hail!\n",
      "I watch thy gliding, while with watery light\n",
      "Thy weak eye glimmers through a fleecy veil;\n",
      "And when thou lovest thy pale orb to shroud\n",
      "Behind the gather’d blackness lost on high;\n",
      "And when thou dartest from the wind-rent cloud\n",
      "Thy placid lightning o’er the awaken’d sky.\n"
     ]
    }
   ],
   "source": [
    "# load the image as a PIL/Pillow image, apply OCR, and then delete\n",
    "# the temporary file\n",
    "text = pytesseract.image_to_string(Image.open(filename))\n",
    "os.remove(filename)\n",
    "print(text)"
   ]
  },
  {
   "cell_type": "code",
   "execution_count": 7,
   "metadata": {},
   "outputs": [
    {
     "data": {
      "text/plain": [
       "-1"
      ]
     },
     "execution_count": 7,
     "metadata": {},
     "output_type": "execute_result"
    }
   ],
   "source": [
    "# show the output images\n",
    "cv2.imshow(\"Image\", image)\n",
    "cv2.imshow(\"Output\", gray)\n",
    "cv2.waitKey(0)"
   ]
  },
  {
   "cell_type": "code",
   "execution_count": null,
   "metadata": {},
   "outputs": [],
   "source": []
  }
 ],
 "metadata": {
  "kernelspec": {
   "display_name": "Python 3",
   "language": "python",
   "name": "python3"
  },
  "language_info": {
   "codemirror_mode": {
    "name": "ipython",
    "version": 3
   },
   "file_extension": ".py",
   "mimetype": "text/x-python",
   "name": "python",
   "nbconvert_exporter": "python",
   "pygments_lexer": "ipython3",
   "version": "3.6.6"
  }
 },
 "nbformat": 4,
 "nbformat_minor": 2
}
