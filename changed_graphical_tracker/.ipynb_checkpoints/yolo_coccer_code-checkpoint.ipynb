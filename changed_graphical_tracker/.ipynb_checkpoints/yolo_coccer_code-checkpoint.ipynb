{
 "cells": [
  {
   "cell_type": "code",
   "execution_count": 9,
   "metadata": {},
   "outputs": [],
   "source": [
    "import tensorflow \n",
    "# import the necessary packages\n",
    "import numpy as np\n",
    "import argparse\n",
    "import imutils\n",
    "import time\n",
    "import cv2\n",
    "import os"
   ]
  },
  {
   "cell_type": "code",
   "execution_count": 10,
   "metadata": {},
   "outputs": [
    {
     "data": {
      "text/plain": [
       "'1.5.0'"
      ]
     },
     "execution_count": 10,
     "metadata": {},
     "output_type": "execute_result"
    }
   ],
   "source": [
    "tensorflow.__version__"
   ]
  },
  {
   "cell_type": "code",
   "execution_count": 11,
   "metadata": {},
   "outputs": [
    {
     "data": {
      "text/plain": [
       "'0.5.2'"
      ]
     },
     "execution_count": 11,
     "metadata": {},
     "output_type": "execute_result"
    }
   ],
   "source": [
    "imutils.__version__"
   ]
  },
  {
   "cell_type": "code",
   "execution_count": 12,
   "metadata": {},
   "outputs": [
    {
     "data": {
      "text/plain": [
       "'3.4.4'"
      ]
     },
     "execution_count": 12,
     "metadata": {},
     "output_type": "execute_result"
    }
   ],
   "source": [
    "cv2.__version__"
   ]
  },
  {
   "cell_type": "code",
   "execution_count": null,
   "metadata": {},
   "outputs": [],
   "source": []
  },
  {
   "cell_type": "code",
   "execution_count": null,
   "metadata": {},
   "outputs": [],
   "source": [
    "# construct the argument parse and parse the arguments\n",
    "# construct the argument parse and parse the arguments\n",
    "ap = argparse.ArgumentParser()\n",
    "ap.add_argument(\"-i\", \"--input\", required=True,help=\"path to input video\")\n",
    "ap.add_argument(\"-o\", \"--output\", required=True,help=\"path to output video\")\n",
    "ap.add_argument(\"-y\", \"--yolo\", required=True,help=\"base path to YOLO directory\")\n",
    "ap.add_argument(\"-c\", \"--confidence\", type=float, default=0.5,help=\"minimum probability to filter weak detections\")\n",
    "ap.add_argument(\"-t\", \"--threshold\", type=float, default=0.3,help=\"threshold when applyong non-maxima suppression\")\n",
    "args = vars(ap.parse_args())"
   ]
  },
  {
   "cell_type": "code",
   "execution_count": null,
   "metadata": {},
   "outputs": [],
   "source": [
    "from darknet import Darknet"
   ]
  },
  {
   "cell_type": "code",
   "execution_count": 13,
   "metadata": {},
   "outputs": [
    {
     "name": "stdout",
     "output_type": "stream",
     "text": [
      "import os\n",
      "\n",
      "path_of_directory = os.getcwd()\n",
      "\n",
      "file = open(\"out.txt\",\"a\")\n",
      "\n",
      "file.write(path_of_directory)\n",
      "\n",
      "file.close()\n"
     ]
    }
   ],
   "source": [
    "gh = 'import os\\n\\n'+ 'path_of_directory = os.getcwd()'+'\\n\\nfile = open(' + '\"'+ 'out.txt' + '\"'+ ',' + '\"'+ 'a' + '\"'+ ')'+ '\\n\\nfile.write(path_of_directory)\\n\\nfile.close()'\n",
    "print(gh)\n",
    "\n",
    "file = open(\"directory_path_file.py\",\"a\")\n",
    "file.write(gh)\n",
    "file.close()"
   ]
  },
  {
   "cell_type": "code",
   "execution_count": 14,
   "metadata": {},
   "outputs": [],
   "source": [
    "!python directory_path_file.py"
   ]
  },
  {
   "cell_type": "code",
   "execution_count": null,
   "metadata": {},
   "outputs": [],
   "source": [
    "\"\"\"\n",
    "import os\n",
    "filename = \"out.txt\"\n",
    "base_file, ext = os.path.splitext(filename)\n",
    "if ext == \".txt\":\n",
    "    os.rename(filename, base_file + \".text\")\n",
    "\"\"\""
   ]
  },
  {
   "cell_type": "code",
   "execution_count": 15,
   "metadata": {},
   "outputs": [
    {
     "name": "stdout",
     "output_type": "stream",
     "text": [
      "C:\\Users\\Home\\upwork_project_list\\New folder\n"
     ]
    }
   ],
   "source": [
    "with open(\"out.txt\") as infile:\n",
    "    current_folder_path = infile.read()\n",
    "    print(current_folder_path)\n"
   ]
  },
  {
   "cell_type": "code",
   "execution_count": 16,
   "metadata": {
    "scrolled": true
   },
   "outputs": [
    {
     "name": "stdout",
     "output_type": "stream",
     "text": [
      "[INFO] loading YOLO from disk...\n"
     ]
    }
   ],
   "source": [
    "# load the COCO class labels our YOLO model was trained on\n",
    "\n",
    "labelsPath = current_folder_path + \"\\\\yolo-coco\\\\coco.names\"\n",
    " \n",
    "# initialize a list of colors to represent each possible class label\n",
    "np.random.seed(42)\n",
    "COLORS = np.random.randint(0, 255, size=(len(labelsPath), 3),dtype=\"uint8\")\n",
    "\n",
    " \n",
    "# load our YOLO object detector trained on COCO dataset (80 classes)\n",
    "# and determine only the *output* layer names that we need from YOLO\n",
    "print(\"[INFO] loading YOLO from disk...\")\n",
    "\n",
    "configurartion_file_path = current_folder_path + \"\\\\yolo-coco\\\\yolov3.cfg\"\n",
    "\n",
    "weights_file_path = current_folder_path + \"\\\\yolo-coco\\\\yolov3.weights\"\n",
    "\n",
    "net = cv2.dnn.readNetFromDarknet(configurartion_file_path, weights_file_path)\n",
    "\n",
    "ln = net.getLayerNames()\n",
    "ln = [ln[i[0] - 1] for i in net.getUnconnectedOutLayers()]\n",
    "\n"
   ]
  },
  {
   "cell_type": "code",
   "execution_count": 17,
   "metadata": {},
   "outputs": [
    {
     "name": "stdout",
     "output_type": "stream",
     "text": [
      "[INFO] 1487 total frames in video\n"
     ]
    }
   ],
   "source": [
    "# initialize the video stream, pointer to output video file, and\n",
    "# frame dimensions\n",
    "\n",
    "video_path = current_folder_path + \"\\\\videos\\\\[2k]+HD!+Football+Freestyle+-+First+Person+(POV).mp4\"\n",
    "\n",
    "vs = cv2.VideoCapture(video_path)\n",
    "writer = None\n",
    "(W, H) = (None, None)\n",
    " \n",
    "# try to determine the total number of frames in the video file\n",
    "try:\n",
    "    prop = cv2.cv.CV_CAP_PROP_FRAME_COUNT if imutils.is_cv2() \\\n",
    "          else cv2.CAP_PROP_FRAME_COUNT\n",
    "    total = int(vs.get(prop))\n",
    "    print(\"[INFO] {} total frames in video\".format(total))\n",
    " \n",
    "# an error occurred while trying to determine the total\n",
    "# number of frames in the video file\n",
    "except:\n",
    "    print(\"[INFO] could not determine # of frames in video\")\n",
    "    print(\"[INFO] no approx. completion time can be provided\")\n",
    "    total = -1"
   ]
  },
  {
   "cell_type": "code",
   "execution_count": 18,
   "metadata": {},
   "outputs": [
    {
     "name": "stdout",
     "output_type": "stream",
     "text": [
      "[INFO] single frame took 3.2971 seconds\n",
      "[INFO] estimated total time to finish: 4902.7172\n"
     ]
    },
    {
     "ename": "IndexError",
     "evalue": "string index out of range",
     "output_type": "error",
     "traceback": [
      "\u001b[1;31m---------------------------------------------------------------------------\u001b[0m",
      "\u001b[1;31mIndexError\u001b[0m                                Traceback (most recent call last)",
      "\u001b[1;32m<ipython-input-18-2385e366b7a9>\u001b[0m in \u001b[0;36m<module>\u001b[1;34m\u001b[0m\n\u001b[0;32m     86\u001b[0m \u001b[1;33m\u001b[0m\u001b[0m\n\u001b[0;32m     87\u001b[0m \u001b[1;33m\u001b[0m\u001b[0m\n\u001b[1;32m---> 88\u001b[1;33m                 \u001b[1;32mif\u001b[0m\u001b[1;33m(\u001b[0m\u001b[0mlabelsPath\u001b[0m\u001b[1;33m[\u001b[0m\u001b[0mclassIDs\u001b[0m\u001b[1;33m[\u001b[0m\u001b[0mi\u001b[0m\u001b[1;33m]\u001b[0m\u001b[1;33m]\u001b[0m \u001b[1;33m==\u001b[0m \u001b[1;34m'sports ball'\u001b[0m\u001b[1;33m)\u001b[0m\u001b[1;33m:\u001b[0m\u001b[1;33m\u001b[0m\u001b[0m\n\u001b[0m\u001b[0;32m     89\u001b[0m \u001b[1;33m\u001b[0m\u001b[0m\n\u001b[0;32m     90\u001b[0m                         \u001b[0mcv2\u001b[0m\u001b[1;33m.\u001b[0m\u001b[0mcircle\u001b[0m\u001b[1;33m(\u001b[0m\u001b[0mframe\u001b[0m\u001b[1;33m,\u001b[0m \u001b[1;33m(\u001b[0m\u001b[0mint\u001b[0m\u001b[1;33m(\u001b[0m\u001b[0mx\u001b[0m\u001b[1;33m+\u001b[0m\u001b[1;33m(\u001b[0m\u001b[0mw\u001b[0m\u001b[1;33m/\u001b[0m\u001b[1;36m2\u001b[0m\u001b[1;33m)\u001b[0m\u001b[1;33m)\u001b[0m\u001b[1;33m,\u001b[0m\u001b[0mint\u001b[0m\u001b[1;33m(\u001b[0m\u001b[0my\u001b[0m\u001b[1;33m+\u001b[0m\u001b[1;33m(\u001b[0m\u001b[0mh\u001b[0m\u001b[1;33m/\u001b[0m\u001b[1;36m2\u001b[0m\u001b[1;33m)\u001b[0m\u001b[1;33m)\u001b[0m\u001b[1;33m)\u001b[0m\u001b[1;33m,\u001b[0m \u001b[1;36m44\u001b[0m\u001b[1;33m,\u001b[0m \u001b[1;33m(\u001b[0m\u001b[1;36m0\u001b[0m\u001b[1;33m,\u001b[0m\u001b[1;36m255\u001b[0m\u001b[1;33m,\u001b[0m\u001b[1;36m0\u001b[0m\u001b[1;33m)\u001b[0m\u001b[1;33m,\u001b[0m \u001b[1;36m5\u001b[0m\u001b[1;33m)\u001b[0m\u001b[1;33m\u001b[0m\u001b[0m\n",
      "\u001b[1;31mIndexError\u001b[0m: string index out of range"
     ]
    }
   ],
   "source": [
    "\n",
    "confidencegh = 0.5\n",
    "\n",
    "thresholdgh = 0.3 \n",
    "\n",
    "output_video_path = current_folder_path + \"\\\\output\\\\output_video_new.avi\"\n",
    "\n",
    "# loop over frames from the video file stream\n",
    "while True:\n",
    "\t# read the next frame from the file\n",
    "\t(grabbed, frame) = vs.read()\n",
    "\n",
    "\t# if the frame was not grabbed, then we have reached the end\n",
    "\t# of the stream\n",
    "\tif not grabbed:\n",
    "\t\tbreak\n",
    "\n",
    "\t# if the frame dimensions are empty, grab them\n",
    "\tif W is None or H is None:\n",
    "\t\t(H, W) = frame.shape[:2]\n",
    "\n",
    "\t# construct a blob from the input frame and then perform a forward\n",
    "\t# pass of the YOLO object detector, giving us our bounding boxes\n",
    "\t# and associated probabilities\n",
    "\tblob = cv2.dnn.blobFromImage(frame, 1 / 255.0, (416, 416),\n",
    "\t\tswapRB=True, crop=False)\n",
    "\tnet.setInput(blob)\n",
    "\tstart = time.time()\n",
    "\tlayerOutputs = net.forward(ln)\n",
    "\tend = time.time()\n",
    "\n",
    "\t# initialize our lists of detected bounding boxes, confidences,\n",
    "\t# and class IDs, respectively\n",
    "\tboxes = []\n",
    "\tconfidences = []\n",
    "\tclassIDs = []\n",
    "\n",
    "\t# loop over each of the layer outputs\n",
    "\tfor output in layerOutputs:\n",
    "\t\t# loop over each of the detections\n",
    "\t\tfor detection in output:\n",
    "\t\t\t# extract the class ID and confidence (i.e., probability)\n",
    "\t\t\t# of the current object detection\n",
    "\t\t\tscores = detection[5:]\n",
    "\t\t\tclassID = np.argmax(scores)\n",
    "\t\t\tconfidence = scores[classID]\n",
    "\n",
    "\t\t\t# filter out weak predictions by ensuring the detected\n",
    "\t\t\t# probability is greater than the minimum probability\n",
    "\t\t\tif confidence > confidencegh:\n",
    "\t\t\t\t# scale the bounding box coordinates back relative to\n",
    "\t\t\t\t# the size of the image, keeping in mind that YOLO\n",
    "\t\t\t\t# actually returns the center (x, y)-coordinates of\n",
    "\t\t\t\t# the bounding box followed by the boxes' width and\n",
    "\t\t\t\t# height\n",
    "\t\t\t\tbox = detection[0:4] * np.array([W, H, W, H])\n",
    "\t\t\t\t(centerX, centerY, width, height) = box.astype(\"int\")\n",
    "\n",
    "\t\t\t\t# use the center (x, y)-coordinates to derive the top\n",
    "\t\t\t\t# and and left corner of the bounding box\n",
    "\t\t\t\tx = int(centerX - (width / 2))\n",
    "\t\t\t\ty = int(centerY - (height / 2))\n",
    "\n",
    "\t\t\t\t# update our list of bounding box coordinates,\n",
    "\t\t\t\t# confidences, and class IDs\n",
    "\t\t\t\tboxes.append([x, y, int(width), int(height)])\n",
    "\t\t\t\tconfidences.append(float(confidence))\n",
    "\t\t\t\tclassIDs.append(classID)\n",
    "\n",
    "\t# apply non-maxima suppression to suppress weak, overlapping\n",
    "\t# bounding boxes\n",
    "\tidxs = cv2.dnn.NMSBoxes(boxes, confidences, confidencegh,\n",
    "\t\tthresholdgh)\n",
    "\n",
    "\t# ensure at least one detection exists\n",
    "\tif len(idxs) > 0:\n",
    "\t\t# loop over the indexes we are keeping\n",
    "\t\tfor i in idxs.flatten():\n",
    "\t\t\t# extract the bounding box coordinates\n",
    "\t\t\t(x, y) = (boxes[i][0], boxes[i][1])\n",
    "\t\t\t(w, h) = (boxes[i][2], boxes[i][3])\n",
    "\n",
    "\n",
    "        \n",
    "            \n",
    "\n",
    "\n",
    "\t\tif(labelsPath[classIDs[i]] == 'sports ball'): \n",
    "    \n",
    "\t\t\tcv2.circle(frame, (int(x+(w/2)),int(y+(h/2))), 44, (0,255,0), 5)              \n",
    "\t\t\tcv2.circle(frame, (int(x+(w/2)),int(y+(h/2))), 42, (244, 244, 244), 5)\n",
    "\t\t\tcv2.circle(frame, (int(x+(w/2)),int(y+(h/2))), 40, (0,255,0), 3)\n",
    "            \n",
    "\t\telif(labelsPath[classIDs[i]] == 'person'):\n",
    "\t\t\tcv2.ellipse(frame, (int(x+(w/2)),int(y+(h/1.06))), (int(w/4.2),int(h/2.1)), 90,0,360, (255, 153, 153), 5)\n",
    "\t\t\tcv2.ellipse(frame, (int(x+(w/2)),int(y+(h/1.06))), (int(w/4.4),int(h/2.3)), 90,0,360, (244, 244, 244), 5)\n",
    "\t\t\tcv2.ellipse(frame, (int(x+(w/2)),int(y+(h/1.06))), (int(w/4.6),int(h/2.5)), 90,0,360, (255, 153, 153), 3) \n",
    "\n",
    "\n",
    "    \n",
    "    \n",
    "    \n",
    "\t# check if the video writer is None\n",
    "\tif writer is None:\n",
    "\t\t# initialize our video writer\n",
    "\t\tfourcc = cv2.VideoWriter_fourcc(*\"MJPG\")\n",
    "\t\twriter = cv2.VideoWriter(output_video_path, fourcc, 30,\n",
    "\t\t\t(frame.shape[1], frame.shape[0]), True)\n",
    "\n",
    "\t\t# some information on processing single frame\n",
    "\t\tif total > 0:\n",
    "\t\t\telap = (end - start)\n",
    "\t\t\tprint(\"[INFO] single frame took {:.4f} seconds\".format(elap))\n",
    "\t\t\tprint(\"[INFO] estimated total time to finish: {:.4f}\".format(\n",
    "\t\t\t\telap * total))\n",
    "\n",
    "\t# write the output frame to disk\n",
    "\twriter.write(frame)\n",
    "\n",
    "# release the file pointers\n",
    "print(\"[INFO] cleaning up...\")\n",
    "writer.release()\n",
    "vs.release()"
   ]
  },
  {
   "cell_type": "code",
   "execution_count": null,
   "metadata": {},
   "outputs": [],
   "source": []
  },
  {
   "cell_type": "code",
   "execution_count": null,
   "metadata": {},
   "outputs": [],
   "source": []
  }
 ],
 "metadata": {
  "kernelspec": {
   "display_name": "Python 3",
   "language": "python",
   "name": "python3"
  },
  "language_info": {
   "codemirror_mode": {
    "name": "ipython",
    "version": 3
   },
   "file_extension": ".py",
   "mimetype": "text/x-python",
   "name": "python",
   "nbconvert_exporter": "python",
   "pygments_lexer": "ipython3",
   "version": "3.6.6"
  }
 },
 "nbformat": 4,
 "nbformat_minor": 2
}
